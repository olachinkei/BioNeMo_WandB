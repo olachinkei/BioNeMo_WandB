{
 "cells": [
  {
   "cell_type": "markdown",
   "id": "a67ba19b",
   "metadata": {},
   "source": [
    "# Environment Setup\n",
    "Please check the [wandbのreport](https://api.wandb.ai/links/wandb-healthcare/jm7scchv) for details on setting up the environment."
   ]
  },
  {
   "cell_type": "markdown",
   "id": "dee7dc4b-464c-477c-aa41-723c5b24e7a8",
   "metadata": {},
   "source": [
    "## Weights and Biases setup\n",
    "The progress and charts of model training can be visualized through Weights and Biases (wandb). Please refer to the above report for instructions on setting up wandb. Below, you will set up the entity and project, which are the storage locations for wandb. Please enter any values you wish.\n"
   ]
  },
  {
   "cell_type": "code",
   "execution_count": null,
   "id": "4a678c55",
   "metadata": {},
   "outputs": [],
   "source": [
    "import os\n",
    "#os.environ[\"WANDB_ENTITY\"]=\"\"\n",
    "os.environ[\"WANDB_PROJECT\"]=\"BioNeMo_protein_LLM_pretraining\""
   ]
  },
  {
   "cell_type": "markdown",
   "id": "459b551d-2e18-4670-90ab-a277dc036bf3",
   "metadata": {
    "tags": []
   },
   "source": [
    "## Confirmation of GPU"
   ]
  },
  {
   "cell_type": "code",
   "execution_count": null,
   "id": "dccf18a8-cd3e-4407-a21c-b721f89b5337",
   "metadata": {
    "tags": []
   },
   "outputs": [],
   "source": [
    "!nvidia-smi"
   ]
  },
  {
   "cell_type": "markdown",
   "id": "ff9ab40b-b288-44f9-8a09-c1ee1679a0cc",
   "metadata": {},
   "source": [
    "# Data preprocessing"
   ]
  },
  {
   "cell_type": "markdown",
   "id": "2be07928-e27a-4445-a662-90ca671f1285",
   "metadata": {},
   "source": [
    "The training of DNABERT uses the human genome reference version GRCh38.p13, downloaded from the NIH, the same as the original DNABERT. The chromosomes are first divided into contiguous sections (e.g., sections cut by 'N'), and \"empty\" sequences that are sampled in training are removed. Then, slices of the genome are sampled at runtime and provided to the model for training. By default, chromosomes 1 through 19 are used for training, with chromosomes 20 and 21 reserved as holdout data. Chromosome 22 is also reserved for further evaluation.\n",
    "Next, you need to set the data path before running the code located at:"
   ]
  },
  {
   "cell_type": "markdown",
   "id": "ae4b3d46-4600-4ab9-a94c-6a7d4483aa6b",
   "metadata": {},
   "source": [
    "/workspace/bionemo/examples/dna/dnabert/pretrain.py"
   ]
  },
  {
   "cell_type": "markdown",
   "id": "a5e1846e-7a33-4cc8-9a54-5e53ba1f1ba5",
   "metadata": {},
   "source": [
    "To correctly set the data path, you can modify the following YAML configuration file, or update these parameters as part of the command when doing data preprocessing or model training"
   ]
  },
  {
   "cell_type": "markdown",
   "id": "da23cdf0-f7a0-4766-81d6-65b4bb36c079",
   "metadata": {
    "tags": []
   },
   "source": [
    "/workspace/bionemo/examples/dna/dnabert/conf/dnabert_base_config.yaml"
   ]
  },
  {
   "cell_type": "markdown",
   "id": "dd50bf62-de9e-4fe6-86d0-bc804bfc7d0d",
   "metadata": {},
   "source": [
    "By running the following optional command, you can download and preprocess the entire GRCh38.p13 data, but in this workshop, we will use a smaller dataset prepared in the BioNemo container for pretraining."
   ]
  },
  {
   "cell_type": "markdown",
   "id": "3ebd98e1-9c08-45ad-b8ec-e49ff1dd5182",
   "metadata": {},
   "source": [
    "## (Optional) Download and Preprocess the Entire Dataset"
   ]
  },
  {
   "cell_type": "code",
   "execution_count": null,
   "id": "c2a8d24e-e044-433a-8dfd-da782e1d4980",
   "metadata": {
    "tags": []
   },
   "outputs": [],
   "source": [
    "cd /workspace/bionemo "
   ]
  },
  {
   "cell_type": "code",
   "execution_count": null,
   "id": "8a1b9c64-f3b9-4cfe-aedc-9586f5daa00f",
   "metadata": {
    "scrolled": true,
    "tags": []
   },
   "outputs": [],
   "source": [
    "!python examples/dna/dnabert/pretrain.py\\\n",
    " --config-path=conf\\\n",
    " --config-name=dnabert_xsmall\\\n",
    " ++do_training=False\\\n",
    " ++model.data.dataset_path=/workspace/bionemo/examples/dna/dnabert/data"
   ]
  },
  {
   "cell_type": "markdown",
   "id": "d7eda664-e677-4c0c-ab54-d0b7c592d4e0",
   "metadata": {},
   "source": [
    "Parameters starting with -- are passed as command-line arguments to pretrain.py. For example, config-path and config-name specify the folder and YAML file name of the configuration file, respectively. These paths are relative to pretrain.py. conf refers to examples/dna/dnabert/conf, and dnabert_xsmall points to examples/dna/dnabert/conf/dnabert_xsmall.yaml.\n",
    "\n",
    "Parameters starting with ++ can be set in the YAML file. For instance, in dnabert_xsmall.yaml, which inherits from dnabert_base_config.yaml, you can find the following parameters:\n",
    "\n",
    "* `do_training`: Set to False to only perform data preprocessing and not training.\n",
    "* `model.data.dataset_path`: Specifies the path to the output directory of preprocessed GRCh38.p13 data. This folder will include splits for training, validation, and testing.\n",
    "\n",
    "\n",
    "Instead of overriding arguments through the command line, you can directly modify the YAML file. Once processing is complete, the preprocessed data will be located in /workspace/bionemo/examples/dna/dnabert/data.\n",
    "\n",
    "If you want to use your own data for pre-training, fine-tuning, or inference, specify the path as /workspace/bionemo/mydata/. However, you must ensure that the data structure and format conform to the sample data.\n"
   ]
  },
  {
   "cell_type": "markdown",
   "id": "6fbb2226-b289-4740-8c86-cfcbd85e086d",
   "metadata": {},
   "source": [
    "# Pretraining"
   ]
  },
  {
   "cell_type": "markdown",
   "id": "e75e97a3-18ac-4d36-ab14-405a78e219fa",
   "metadata": {
    "tags": []
   },
   "source": [
    "Since the preprocessing of the small Chr1 dataset is already complete, you can now start pre-training the DNABERT model. Please enter the following command in your terminal to initiate model pre-training."
   ]
  },
  {
   "cell_type": "code",
   "execution_count": null,
   "id": "0862fedc-3c75-4c6a-8f11-bab1fd675dd6",
   "metadata": {
    "tags": []
   },
   "outputs": [],
   "source": [
    "cd /workspace/bionemo "
   ]
  },
  {
   "cell_type": "code",
   "execution_count": null,
   "id": "885d452a-8223-4918-96cb-fa06f0fdb248",
   "metadata": {},
   "outputs": [],
   "source": [
    "!python examples/dna/dnabert/pretrain.py\\\n",
    " --config-path=conf\\\n",
    " --config-name=dnabert_xsmall\\\n",
    " ++do_training=True\\\n",
    " ++trainer.val_check_interval=100\\\n",
    " ++model.data.dataset_path=/workspace/bionemo/examples/dna/dnabert/data/small-example\\\n",
    " ++model.data.dataset.train=/workspace/bionemo/examples/dna/dnabert/data/small-example/train/chr1-trim-train.fna\\\n",
    " ++model.data.dataset.val=/workspace/bionemo/examples/dna/dnabert/data/small-example/val/chr1-trim-val.fna\\\n",
    " ++model.data.dataset.test=/workspace/bionemo/examples/dna/dnabert/data/small-example/test/chr1-trim-test.fna\\\n",
    " ++model.micro_batch_size=1\\\n",
    " ++trainer.max_steps=100"
   ]
  },
  {
   "cell_type": "markdown",
   "id": "04e70b74-e025-4793-aa50-9d70afb00637",
   "metadata": {},
   "source": [
    "Here is the explanation of the parameters for pre-training the DNABERT model:\n",
    "\n",
    "* `do_training`: Set this to True to train the model, assuming that the data has been preprocessed.\n",
    "* `model.data.dataset_path`: Specifies the path to the preprocessed GRCh38.p13 data folder that includes the training/validation/testing splits.\n",
    "* `trainer.devices`: Specifies the number of GPUs to use.\n",
    "* `model.micro_batch_size`: Sets the batch size. Increase this as much as possible as long as memory errors do not occur.\n",
    "* `trainer.max_steps`: Specifies the maximum number of training steps. It has been set to 100 for demonstration purposes. One step equals the processing of one batch. First, calculate total_batches = total number of samples / batch size. If you want to train for N epochs, set max_steps to N * total_batches.\n",
    "\n",
    "\n",
    "The results of the training will be saved in /workspace/bionemo/results/nemo_experiments/.\n"
   ]
  },
  {
   "cell_type": "markdown",
   "id": "20aaa7e0-22ba-44e1-89a8-7cc3a17cb0cd",
   "metadata": {
    "tags": []
   },
   "source": [
    "# Finetuning"
   ]
  },
  {
   "cell_type": "markdown",
   "id": "fbdd725a-6acc-4867-9052-a29c7886ec17",
   "metadata": {},
   "source": [
    "The BioNemo Framework offers a downstream task sample code for splice site prediction. Next, you will fine-tune the model for the splice site prediction task using the Ensemble's annotations of the GRCh38.p13 version 99. A sample of 10,000 donor sites, 10,000 acceptor sites, and 10,000 random negative sites from the gene body will be sampled and split into training (80%), validation (10%), and testing (10%).\n",
    "\n",
    "The command below can be used to download the entire dataset for the downstream task. However, in this workshop, we will use a pre-prepared dataset, so the following command is optional."
   ]
  },
  {
   "cell_type": "markdown",
   "id": "d21fdca9-8305-43ec-aca1-2740b739fc7a",
   "metadata": {},
   "source": [
    "## （Optional）Download dataset for downstream task "
   ]
  },
  {
   "cell_type": "code",
   "execution_count": null,
   "id": "44f97566-1b33-4165-be99-8c46704f9556",
   "metadata": {
    "tags": []
   },
   "outputs": [],
   "source": [
    "cd /workspace/bionemo"
   ]
  },
  {
   "cell_type": "code",
   "execution_count": null,
   "id": "40f80ffe-4674-43f4-bd71-053384b3c929",
   "metadata": {
    "scrolled": true,
    "tags": []
   },
   "outputs": [],
   "source": [
    "!python examples/dna/dnabert/downstream_splice_site.py\\\n",
    " --config-path=conf\\\n",
    " --config-name=dnabert_config_splice_site\\\n",
    " ++do_training=False\\\n",
    " ++model.data.dataset_path=/workspace/bionemo/examples/dna/dnabert/data"
   ]
  },
  {
   "cell_type": "markdown",
   "id": "48d83303-01c1-4630-9d6c-2efefbdf60e1",
   "metadata": {},
   "source": [
    "## Download pretrained model"
   ]
  },
  {
   "cell_type": "markdown",
   "id": "add7c5f6-e43c-4bfa-95a8-c3aa69ecd5cd",
   "metadata": {},
   "source": [
    "In the BioNeMo Framework, pretrained model checkpoints are provided, such as ESM-1nv, ESM-2nv (650m, 3b, 15b), ProtT5nv, and MegaMolBART. The weights for these models can be downloaded from NVIDIA's NGC.\n",
    "\n",
    "Next, you will download the pretrained model. To do this, you need to install ngc and set up ngc config. If you have already completed the ngc config setup in the 01_protein_LLM notebook, you can skip this step."
   ]
  },
  {
   "cell_type": "code",
   "execution_count": null,
   "id": "119634af-3177-4631-82e6-3e48dc4c0186",
   "metadata": {
    "scrolled": true,
    "tags": []
   },
   "outputs": [],
   "source": [
    "!wget -q -O /tmp/ngccli_linux.zip --content-disposition https://api.ngc.nvidia.com/v2/resources/nvidia/ngc-apps/ngc_cli/versions/3.38.0/files/ngccli_linux.zip && unzip -o /tmp/ngccli_linux.zip -d /tmp && chmod u+x /tmp/ngc-cli/ngc && rm /tmp/ngccli_linux.zip"
   ]
  },
  {
   "cell_type": "markdown",
   "id": "67851ebf-79fe-4b96-a24f-d9be76d9c5e7",
   "metadata": {},
   "source": [
    "Open the terminal and enter the following command to set up your ngc config:"
   ]
  },
  {
   "cell_type": "markdown",
   "id": "5ef7d63b-649c-4d00-ba01-be0e494bcb13",
   "metadata": {
    "tags": []
   },
   "source": [
    "/tmp/ngc-cli/ngc config set\n",
    "\n",
    "\n",
    "To complete the configuration of your NGC CLI, follow these steps, inputting the requested details:\n",
    "\n",
    "`API Key`: Enter your API key from the NVIDIA GPU Cloud (NGC). This key is critical for authentication and accessing the services.\n",
    "\n",
    "`CLI Output Format`: You can choose the desired output format for your CLI responses. If unsure, the default format is usually fine, so just press \"Enter\".\n",
    "\n",
    "`Organization (Org)`: Choose an organization other than 'no-org'. If you are part of an NVIDIA-approved organization, input its name; otherwise, consult NGC documentation or your NGC account settings for possible values.\n",
    "\n",
    "`Team`: If your NGC usage involves a specific team setup, enter the team name. If not, just press \"Enter\" to skip this step.\n",
    "\n",
    "`ACE`: This is typically for advanced configuration settings related to application, compute, and environment. Press \"Enter\" to accept default settings unless specific modifications are required."
   ]
  },
  {
   "cell_type": "code",
   "execution_count": null,
   "id": "7fd3e809-f04d-477d-9c28-9348bb55f670",
   "metadata": {
    "scrolled": true,
    "tags": []
   },
   "outputs": [],
   "source": [
    "!python download_models.py --download_dir /workspace/bionemo/models dnabert"
   ]
  },
  {
   "cell_type": "markdown",
   "id": "6e57672e-c394-419a-8b8b-a34950727c4c",
   "metadata": {},
   "source": [
    "The downloaded model will be saved as a .nemo file in the /workspace/bionemo/models directory. You should open the corresponding YAML file and set the parameters as needed to tailor the model's configuration to your specific requirements.\n",
    "\n",
    "To perform fine-tuning, you will execute the following command in the terminal. Note that you should adjust the folder name 2024-05-29_05-11-01 in the command below to match the actual folder name based on the date and time when you run the training:"
   ]
  },
  {
   "cell_type": "code",
   "execution_count": null,
   "id": "9fd6716e-f862-41b1-a823-d4ee55024314",
   "metadata": {
    "tags": []
   },
   "outputs": [],
   "source": [
    "cd /workspace/bionemo"
   ]
  },
  {
   "cell_type": "code",
   "execution_count": null,
   "id": "13026fab-abd6-4412-8f9c-763eccd8af45",
   "metadata": {
    "scrolled": true,
    "tags": []
   },
   "outputs": [],
   "source": [
    "!python examples/dna/dnabert/downstream_splice_site.py\\\n",
    " --config-path=conf\\\n",
    " --config-name=dnabert_config_splice_site_xsmall_finetune\\\n",
    " ++model.restore_encoder_path=/workspace/bionemo/results/nemo_experiments/dnabert/dnabert-xsmall/dnabert/2024-05-29_05-11-01/checkpoints/dnabert.nemo\\\n",
    " ++model.micro_batch_size=1\\\n",
    " ++model.data.dataset_path=/workspace/bionemo/examples/tests/test_data/dna/downstream\\\n",
    " ++model.data.train_file=/workspace/bionemo/examples/tests/test_data/dna/downstream/train.csv\\\n",
    " ++model.data.val_file=/workspace/bionemo/examples//tests/test_data/dna/downstream/val.csv\\\n",
    " ++model.data.predict_file=/workspace/bionemo/examples/tests/test_data/dna/downstream/test.csv\\\n",
    " ++model.data.fasta_directory=/workspace/bionemo/examples/tests/test_data/dna/downstream\\\n",
    " ++model.data.fasta_pattern=test-chr1.fa"
   ]
  },
  {
   "cell_type": "markdown",
   "id": "1c3a5657-a458-41e5-a31b-8b55af7471b5",
   "metadata": {
    "tags": []
   },
   "source": [
    "# Infererence"
   ]
  },
  {
   "cell_type": "markdown",
   "id": "504e28f4-36b0-4eca-bc85-9a3e76334587",
   "metadata": {},
   "source": [
    "Open the following yaml file\n",
    "\n",
    "/workspace/bionemo/examples/dna/dnabert/conf/infer.yaml"
   ]
  },
  {
   "cell_type": "markdown",
   "id": "db06b9c0-f089-4a61-a950-d220f936eef3",
   "metadata": {
    "tags": []
   },
   "source": [
    "When fine-tuning a model with the BioNeMo Framework, you have the option to use either a provided pretrained model or a model you have trained yourself. "
   ]
  },
  {
   "cell_type": "markdown",
   "id": "25ac58c7-20b1-4e6d-bf7a-d92e7720a327",
   "metadata": {
    "tags": []
   },
   "source": [
    "downstream_task:\n",
    "\n",
    " restore_from_path: \"${oc.env:BIONEMO_HOME}/models/dna/dnabert/dnabert-86M.nemo\" "
   ]
  },
  {
   "cell_type": "markdown",
   "id": "8520922b-8052-4c34-989b-9ce66608146d",
   "metadata": {
    "tags": []
   },
   "source": [
    "And then, perform inference using the following command.\""
   ]
  },
  {
   "cell_type": "markdown",
   "id": "ca9ca37c",
   "metadata": {},
   "source": []
  },
  {
   "cell_type": "code",
   "execution_count": null,
   "id": "32112c7d-8f6b-4f1c-9703-b027f903a6d6",
   "metadata": {
    "tags": []
   },
   "outputs": [],
   "source": [
    "import warnings\n",
    "\n",
    "warnings.filterwarnings('ignore')\n",
    "warnings.simplefilter('ignore')"
   ]
  },
  {
   "cell_type": "code",
   "execution_count": null,
   "id": "0870e3b1-5bda-44d7-a45d-30ae1d003682",
   "metadata": {
    "tags": []
   },
   "outputs": [],
   "source": [
    "from pathlib import Path\n",
    "import os\n",
    "\n",
    "try:\n",
    "    BIONEMO_HOME: Path = Path(os.environ['BIONEMO_HOME']).absolute()\n",
    "except KeyError:\n",
    "    print(\"Must have BIONEMO_HOME set in the environment! See docs for instructions.\")\n",
    "    raise\n",
    "\n",
    "config_path = BIONEMO_HOME / \"examples\" / \"dna\" / \"dnabert\" / \"conf\"\n",
    "print(f\"Using model configuration at: {config_path}\")\n",
    "assert config_path.is_dir()"
   ]
  },
  {
   "cell_type": "code",
   "execution_count": null,
   "id": "a9135f99-31f6-43b9-9d6f-b8f10e3f9f4b",
   "metadata": {
    "tags": []
   },
   "outputs": [],
   "source": [
    "seqs = [\n",
    "    'CACATGCTAGCGCGTCGGGGTGGAGGCGTGGCGCAGGCGCAGAGAGGCGCGCCGCGCCG', \n",
    "    'GCGCAGGCGCAGAGACACATGCTACCGCGTCCAGGGGTGGAGGCGTGGCGCAGGCGCAG',\n",
    "    'GCAAAGTCGCACGGCGCCGGGCTGGGGCGGGGGGAGGGTGGCGCCGTGCACGCGCAGAA',\n",
    "    'CGCAGAGACGGGTAGAACCTCAGTAATCCGAAAAGCCGGGATCGACCGCCCCTTGCTTG',\n",
    "]"
   ]
  },
  {
   "cell_type": "code",
   "execution_count": null,
   "id": "a8660fdb-5f49-4f48-b255-df44ec685907",
   "metadata": {
    "tags": []
   },
   "outputs": [],
   "source": [
    "from bionemo.utils.hydra import load_model_config\n",
    "\n",
    "cfg = load_model_config(config_name=\"infer.yaml\", config_path=config_path)"
   ]
  },
  {
   "cell_type": "code",
   "execution_count": null,
   "id": "cd1c65e4-c768-4134-acdb-5f2ffac3566b",
   "metadata": {
    "scrolled": true,
    "tags": []
   },
   "outputs": [],
   "source": [
    "from bionemo.triton.utils import load_model_for_inference\n",
    "from bionemo.model.dna.dnabert.infer import DNABERTInference\n",
    "\n",
    "inferer = load_model_for_inference(cfg, interactive=True)\n",
    "\n",
    "print(f\"Loaded a {type(inferer)}\")\n",
    "assert isinstance(inferer, DNABERTInference)"
   ]
  },
  {
   "cell_type": "code",
   "execution_count": null,
   "id": "08686ecf-532e-4364-a796-cffc888a1bb6",
   "metadata": {
    "tags": []
   },
   "outputs": [],
   "source": [
    "hidden_states, pad_masks = inferer.seq_to_hiddens(seqs)\n",
    "print(f\"{hidden_states.shape=}\")\n",
    "print(f\"{pad_masks.shape=}\")\n",
    "assert tuple(hidden_states.shape) == (4, 57, 256)\n",
    "assert tuple(pad_masks.shape) == (4, 57)"
   ]
  },
  {
   "cell_type": "code",
   "execution_count": null,
   "id": "9bb634d7-79a9-419e-bd86-b786205ddb75",
   "metadata": {
    "tags": []
   },
   "outputs": [],
   "source": [
    "embeddings = inferer.hiddens_to_embedding(hidden_states, pad_masks)\n",
    "print(f\"{embeddings.shape=}\")\n",
    "assert tuple(embeddings.shape) == (4, 256)"
   ]
  },
  {
   "cell_type": "code",
   "execution_count": null,
   "id": "87aa39dd-a47f-40c0-89a0-1f3efbf5a2c2",
   "metadata": {
    "tags": []
   },
   "outputs": [],
   "source": [
    "embeddings = inferer.seq_to_embeddings(seqs)\n",
    "print(f\"{embeddings.shape=}\")\n",
    "print(embeddings)\n",
    "assert tuple(embeddings.shape) == (4, 256)"
   ]
  }
 ],
 "metadata": {
  "kernelspec": {
   "display_name": "Python 3 (ipykernel)",
   "language": "python",
   "name": "python3"
  },
  "language_info": {
   "codemirror_mode": {
    "name": "ipython",
    "version": 3
   },
   "file_extension": ".py",
   "mimetype": "text/x-python",
   "name": "python",
   "nbconvert_exporter": "python",
   "pygments_lexer": "ipython3",
   "version": "3.10.12"
  },
  "vscode": {
   "interpreter": {
    "hash": "767d51c1340bd893661ea55ea3124f6de3c7a262a8b4abca0554b478b1e2ff90"
   }
  }
 },
 "nbformat": 4,
 "nbformat_minor": 5
}
