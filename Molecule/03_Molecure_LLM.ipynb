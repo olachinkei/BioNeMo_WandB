{
 "cells": [
  {
   "cell_type": "markdown",
   "id": "5accdbca",
   "metadata": {},
   "source": [
    "# 必要な計算環境"
   ]
  },
  {
   "cell_type": "markdown",
   "id": "dee7dc4b-464c-477c-aa41-723c5b24e7a8",
   "metadata": {},
   "source": [
    "* Linux OS\n",
    "* Pascal, Volta, Turing, 或いは NVIDIA Ampere 世代 GPU\n",
    "* Nvidia Driver\n",
    "* Docker"
   ]
  },
  {
   "cell_type": "markdown",
   "id": "cfa9496b-6536-4020-8e16-df49cb256938",
   "metadata": {},
   "source": [
    "# 事前準備"
   ]
  },
  {
   "cell_type": "markdown",
   "id": "f9e1442e-2308-43e8-be13-9fb6fe369f13",
   "metadata": {},
   "source": [
    "* [NGC](https://catalog.ngc.nvidia.com/?filters=&orderBy=weightPopularDESC&query=&page=&pageSize=)の登録と[APIキー](https://org.ngc.nvidia.com/setup/api-key)の取得は済みましたか？\n",
    "* [Weights and Biases]((https://docs.wandb.ai/quickstart)) の登録と[APIキー](https://docs.wandb.ai/guides/track/public-api-guide#authentication)の取得は済みましたか？"
   ]
  },
  {
   "cell_type": "markdown",
   "id": "27703414-26ac-4aab-bb3c-9135fa45a843",
   "metadata": {},
   "source": [
    "### NGC のセットアップ\n",
    "NGCからモデルをダウンロードしたい場合は、APIキーが必要になりますので、取得してください。\n",
    "### Weights and Biases のセットアップ\n",
    "モデルのトレーニング進行状況やチャートは、 [Weights and Biases](https://docs.wandb.ai/quickstart) を通じて可視化できます。ログを有効にするために、 [API キー](https://docs.wandb.ai/guides/track/public-api-guide#authentication)を設定してください。"
   ]
  },
  {
   "cell_type": "code",
   "execution_count": null,
   "id": "64217436-2c05-4c1a-be92-2e7a93a780fe",
   "metadata": {
    "tags": []
   },
   "outputs": [],
   "source": [
    "import os\n",
    "os.environ[\"WANDB_ENTITY\"]=\"wandb-healthcare\"\n",
    "os.environ[\"WANDB_PROJECT\"]=\"BioNeMo_Molecure_LLM\""
   ]
  },
  {
   "cell_type": "markdown",
   "id": "459b551d-2e18-4670-90ab-a277dc036bf3",
   "metadata": {
    "tags": []
   },
   "source": [
    "# GPUの確認"
   ]
  },
  {
   "cell_type": "code",
   "execution_count": null,
   "id": "dccf18a8-cd3e-4407-a21c-b721f89b5337",
   "metadata": {
    "tags": []
   },
   "outputs": [],
   "source": [
    "!nvidia-smi"
   ]
  },
  {
   "cell_type": "markdown",
   "id": "ff9ab40b-b288-44f9-8a09-c1ee1679a0cc",
   "metadata": {},
   "source": [
    "# データの前処理"
   ]
  },
  {
   "cell_type": "markdown",
   "id": "2be07928-e27a-4445-a662-90ca671f1285",
   "metadata": {},
   "source": [
    "BioNeMo Frameworkのモデルトレーニング機能を簡単に紹介するために、サンプルデータセットとして提供されている元のZINC15データセットの非常に小さなサブセットを使用します。このサブセットは、 ${BIONEMO_HOME}/examples/tests/test_data/molecule に位置しています。"
   ]
  },
  {
   "cell_type": "markdown",
   "id": "ae4b3d46-4600-4ab9-a94c-6a7d4483aa6b",
   "metadata": {},
   "source": [
    "このテスト実行のために、フォルダには/train、/val、/testの各フォルダが含まれており、それぞれのフォルダにはCSVファイル形式のタンパク質配列が含まれています。これらのディレクトリ内で、それぞれ何ファイルが作成されたかを確認し、以下の例のコマンドにおける TRAIN_FILE_RANGE、VAL_FILE_RANGE、TEST_FILE_RANGE のパラメータをそれに応じて修正してください。現在のコマンド設定では、train および test ディレクトリには 175 ファイル、val ディレクトリには 4 ファイルが扱われるように設定されています。"
   ]
  },
  {
   "cell_type": "code",
   "execution_count": null,
   "id": "ff8dc575-1cfe-426d-adaa-37b869863476",
   "metadata": {
    "tags": []
   },
   "outputs": [],
   "source": [
    "cd /workspace/bionemo"
   ]
  },
  {
   "cell_type": "code",
   "execution_count": null,
   "id": "19a0f8ee-60c3-4466-bc8c-3793a54bee32",
   "metadata": {
    "scrolled": true,
    "tags": []
   },
   "outputs": [],
   "source": [
    "!python examples/molecule/molmim/pretrain.py\\\n",
    " --config-path conf\\\n",
    " --config-name molmim_70m_24_3\\\n",
    " ++do_training=False\\\n",
    " ++trainer.devices=1 \\\n",
    " ++trainer.num_nodes=1 \\\n",
    " ++model.data.dataset_path=/workspace/bionemo/examples/molecule/molmim/data \\\n",
    " ++model.data.links_file=/workspace/bionemo/examples/molecule/megamolbart/dataset/ZINC-downloader-sample.txt \\\n",
    " ++exp_manager.create_wandb_logger=False"
   ]
  },
  {
   "cell_type": "code",
   "execution_count": null,
   "id": "a31a40bb-c39e-4884-aa2a-79a90c8ae944",
   "metadata": {
    "tags": []
   },
   "outputs": [],
   "source": [
    "\"\"\"\n",
    "import wandb\n",
    "with wandb.init(name=\"data_upload\") as run:\n",
    "    artifact = wandb.Artifact(\n",
    "        name=\"small_ZINC\",\n",
    "        type=\"dataset\",\n",
    "        description=\"subset of ZINC\",\n",
    "        metadata={\"path\":\"/workspace/bionemo/examples/tests/test_data/molecule\"},\n",
    "    )\n",
    "    artifact.add_dir(\"/workspace/bionemo/examples/molecule/molmim/data\")\n",
    "    run.log_artifact(artifact)\n",
    "\"\"\""
   ]
  },
  {
   "cell_type": "markdown",
   "id": "a5e1846e-7a33-4cc8-9a54-5e53ba1f1ba5",
   "metadata": {},
   "source": [
    "# モデルの事前学習"
   ]
  },
  {
   "cell_type": "markdown",
   "id": "6d37cb21-3b11-4c50-bf75-53c2f7b31eb1",
   "metadata": {},
   "source": [
    "このテスト実行では、${BIONEMO_HOME}/examples/molecule/molmim/conf フォルダにある pretrain_small_canonicalized_logv.yaml 設定ファイルに提供されている事前設定されたパラメータを使用します。これは、MolMIM-70M-24.3 チェックポイントをトレーニングするために使用された設定です。"
   ]
  },
  {
   "cell_type": "code",
   "execution_count": null,
   "id": "c2a8d24e-e044-433a-8dfd-da782e1d4980",
   "metadata": {
    "tags": []
   },
   "outputs": [],
   "source": [
    "cd /workspace/bionemo "
   ]
  },
  {
   "cell_type": "markdown",
   "id": "ff2a2aaa-27ec-418b-9727-862a33348854",
   "metadata": {},
   "source": [
    "データのサイズによって、TRAIN_FILE_RANGE、TEST_FILE_RANGE、VAL_FILE_RANGEを設定してください。"
   ]
  },
  {
   "cell_type": "code",
   "execution_count": null,
   "id": "53884acd-f6b8-4887-9d93-56c91ca76b8f",
   "metadata": {
    "tags": []
   },
   "outputs": [],
   "source": [
    "TRAIN_FILE_RANGE=\"x_OP_000..175_CL_\"\n",
    "TEST_FILE_RANGE=\"x_OP_000..004_CL_\"\n",
    "VAL_FILE_RANGE=\"x_OP_000..175_CL_\""
   ]
  },
  {
   "cell_type": "code",
   "execution_count": null,
   "id": "2a529756-d097-420e-aeb6-75cb517a1804",
   "metadata": {
    "tags": []
   },
   "outputs": [],
   "source": [
    "import os\n",
    "os.environ[\"HYDRA_FULL_ERROR\"]=\"1\""
   ]
  },
  {
   "cell_type": "code",
   "execution_count": null,
   "id": "8a1b9c64-f3b9-4cfe-aedc-9586f5daa00f",
   "metadata": {
    "scrolled": true,
    "tags": []
   },
   "outputs": [],
   "source": [
    "!python examples/molecule/molmim/pretrain.py\\\n",
    " --config-path conf\\\n",
    " --config-name molmim_70m_24_3\\\n",
    " ++trainer.devices=1 \\\n",
    " ++trainer.num_nodes=1 \\\n",
    " ++trainer.max_steps=100 \\\n",
    " ++trainer.accumulate_grad_batches=1 \\\n",
    " ++trainer.val_check_interval=5 \\\n",
    " ++trainer.limit_val_batches=1.0 \\\n",
    " ++trainer.precision=32 \\\n",
    " ++model.micro_batch_size=128 \\\n",
    "# ++model.global_batch_size=256 \\\n",
    " ++model.dwnstr_task_validation.enabled=False \\\n",
    " ++model.data.dataset_path=/examples/molecule/molmim/data \\\n",
    " ++model.data.dataset.train=$TRAIN_FILE_RANGE \\\n",
    " ++model.data.dataset.val=$VAL_FILE_RANGE \\\n",
    " ++model.data.dataset.test=$TEST_FILE_RANGE \\\n",
    " ++model.data.index_mapping_dir=/results/data_index/ \\\n",
    " ++model.seq_length=128 \\\n",
    " ++exp_manager.exp_dir=/results/logs/ \\\n",
    " ++exp_manager.create_wandb_logger=True"
   ]
  },
  {
   "cell_type": "markdown",
   "id": "8d982b08-4569-4fa2-927a-129966ef9d57",
   "metadata": {},
   "source": [
    "# CMA-ESを使用したMolMIMによる特性ガイド分子最適化"
   ]
  },
  {
   "cell_type": "markdown",
   "id": "33551259-5e74-4fa4-8d8e-052bb11990cc",
   "metadata": {},
   "source": [
    "このセッションは、BioNeMo Framework からMolMIMのチェックポイントをロードし、カスタムのユーザー定義スコアリング機能を使用して興味のあるいくつかの分子を最適化する方法を示します。CMA-ESを使用してMolMIMモデルの潜在空間をトラバースし、スコアリング機能によって測定されたパフォーマンスを向上させると期待される新しい関連分子を選択します。これらの分子をサンプリングするためには、以下のステップを完了する必要があります：\n",
    "\n",
    "1. 望むMolMIMチェックポイントをロードする。\n",
    "\n",
    "2. 開始分子をMolMIMの潜在空間にエンコードする。\n",
    "\n",
    "3. CMA-ESを実行し、以下を繰り返し実行する：\n",
    "\n",
    "    * 潜在表現をSMILES文字列にデコードする。\n",
    "    * これらのSMILES文字列にユーザー定義のスコアリング機能を適用し、SMILES/スコアのペアを生成する。\n",
    "    * 新しい潜在空間表現のセットをCMA-ESアルゴリズムに要求する。"
   ]
  },
  {
   "cell_type": "markdown",
   "id": "add7c5f6-e43c-4bfa-95a8-c3aa69ecd5cd",
   "metadata": {},
   "source": [
    "では、事前学習済みモデルをダウンロードします。モデルをダウンロードするため、ngc をインストールして、ngc config を設定する必要があります。"
   ]
  },
  {
   "cell_type": "code",
   "execution_count": 1,
   "id": "dad1edf9-d437-4572-b3ab-f6117ae1224f",
   "metadata": {
    "tags": []
   },
   "outputs": [],
   "source": [
    "#一度Kernelをrestartしてください\n",
    "import os\n",
    "os.environ[\"WANDB_ENTITY\"]=\"wandb-healthcare\"\n",
    "os.environ[\"WANDB_PROJECT\"]=\"BioNeMo_Molecure_optimization\""
   ]
  },
  {
   "cell_type": "code",
   "execution_count": 2,
   "id": "b2131397-298c-4949-9eef-aa0ba97bfeb0",
   "metadata": {
    "tags": []
   },
   "outputs": [],
   "source": [
    "!pip install optuna statsmodels -qqq"
   ]
  },
  {
   "cell_type": "code",
   "execution_count": 3,
   "id": "119634af-3177-4631-82e6-3e48dc4c0186",
   "metadata": {
    "scrolled": true,
    "tags": []
   },
   "outputs": [
    {
     "name": "stdout",
     "output_type": "stream",
     "text": [
      "Archive:  /tmp/ngccli_linux.zip\n",
      "  inflating: /tmp/ngc-cli/boto3/examples/s3.rst  \n",
      "  inflating: /tmp/ngc-cli/boto3/examples/cloudfront.rst  \n",
      "  inflating: /tmp/ngc-cli/boto3/data/dynamodb/2012-08-10/resources-1.json  \n",
      "  inflating: /tmp/ngc-cli/boto3/data/sqs/2012-11-05/resources-1.json  \n",
      "  inflating: /tmp/ngc-cli/boto3/data/opsworks/2013-02-18/resources-1.json  \n",
      "  inflating: /tmp/ngc-cli/boto3/data/iam/2010-05-08/resources-1.json  \n",
      "  inflating: /tmp/ngc-cli/boto3/data/ec2/2014-10-01/resources-1.json  \n",
      "  inflating: /tmp/ngc-cli/boto3/data/ec2/2015-10-01/resources-1.json  \n",
      "  inflating: /tmp/ngc-cli/boto3/data/ec2/2015-03-01/resources-1.json  \n",
      "  inflating: /tmp/ngc-cli/boto3/data/ec2/2016-09-15/resources-1.json  \n",
      "  inflating: /tmp/ngc-cli/boto3/data/ec2/2016-04-01/resources-1.json  \n",
      "  inflating: /tmp/ngc-cli/boto3/data/ec2/2015-04-15/resources-1.json  \n",
      "  inflating: /tmp/ngc-cli/boto3/data/ec2/2016-11-15/resources-1.json  \n",
      "  inflating: /tmp/ngc-cli/boto3/data/s3/2006-03-01/resources-1.json  \n",
      "  inflating: /tmp/ngc-cli/boto3/data/sns/2010-03-31/resources-1.json  \n",
      "  inflating: /tmp/ngc-cli/boto3/data/cloudformation/2010-05-15/resources-1.json  \n",
      "  inflating: /tmp/ngc-cli/boto3/data/cloudwatch/2010-08-01/resources-1.json  \n",
      "  inflating: /tmp/ngc-cli/boto3/data/glacier/2012-06-01/resources-1.json  \n",
      "  inflating: /tmp/ngc-cli/attrs-23.2.0.dist-info/RECORD  \n",
      "  inflating: /tmp/ngc-cli/attrs-23.2.0.dist-info/METADATA  \n",
      "  inflating: /tmp/ngc-cli/attrs-23.2.0.dist-info/WHEEL  \n",
      "  inflating: /tmp/ngc-cli/attrs-23.2.0.dist-info/licenses/LICENSE  \n",
      " extracting: /tmp/ngc-cli/attrs-23.2.0.dist-info/INSTALLER  \n",
      "  inflating: /tmp/ngc-cli/pycares/_cares.cpython-39-x86_64-linux-gnu.so  \n",
      "  inflating: /tmp/ngc-cli/zipp-3.17.0.dist-info/RECORD  \n",
      "  inflating: /tmp/ngc-cli/zipp-3.17.0.dist-info/LICENSE  \n",
      "  inflating: /tmp/ngc-cli/zipp-3.17.0.dist-info/METADATA  \n",
      " extracting: /tmp/ngc-cli/zipp-3.17.0.dist-info/WHEEL  \n",
      " extracting: /tmp/ngc-cli/zipp-3.17.0.dist-info/INSTALLER  \n",
      " extracting: /tmp/ngc-cli/zipp-3.17.0.dist-info/top_level.txt  \n",
      "  inflating: /tmp/ngc-cli/grpc/_cython/_credentials/roots.pem  \n",
      "  inflating: /tmp/ngc-cli/grpc/_cython/cygrpc.cpython-39-x86_64-linux-gnu.so  \n",
      "  inflating: /tmp/ngc-cli/libcrypto.so.10  \n",
      "  inflating: /tmp/ngc-cli/wrapt-1.16.0.dist-info/RECORD  \n",
      "  inflating: /tmp/ngc-cli/wrapt-1.16.0.dist-info/LICENSE  \n",
      "  inflating: /tmp/ngc-cli/wrapt-1.16.0.dist-info/METADATA  \n",
      "  inflating: /tmp/ngc-cli/wrapt-1.16.0.dist-info/WHEEL  \n",
      " extracting: /tmp/ngc-cli/wrapt-1.16.0.dist-info/INSTALLER  \n",
      " extracting: /tmp/ngc-cli/wrapt-1.16.0.dist-info/top_level.txt  \n",
      "  inflating: /tmp/ngc-cli/main.so    \n",
      "  inflating: /tmp/ngc-cli/opentelemetry_instrumentation-0.41b0.dist-info/RECORD  \n",
      "  inflating: /tmp/ngc-cli/opentelemetry_instrumentation-0.41b0.dist-info/entry_points.txt  \n",
      "  inflating: /tmp/ngc-cli/opentelemetry_instrumentation-0.41b0.dist-info/METADATA  \n",
      " extracting: /tmp/ngc-cli/opentelemetry_instrumentation-0.41b0.dist-info/WHEEL  \n",
      "  inflating: /tmp/ngc-cli/opentelemetry_instrumentation-0.41b0.dist-info/licenses/LICENSE  \n",
      " extracting: /tmp/ngc-cli/opentelemetry_instrumentation-0.41b0.dist-info/INSTALLER  \n",
      "  inflating: /tmp/ngc-cli/libkrb5support.so.0  \n",
      "  inflating: /tmp/ngc-cli/wrapt/_wrappers.cpython-39-x86_64-linux-gnu.so  \n",
      "  inflating: /tmp/ngc-cli/libcom_err.so.2  \n",
      "  inflating: /tmp/ngc-cli/cryptography/hazmat/bindings/_rust.abi3.so  \n",
      "  inflating: /tmp/ngc-cli/backoff-2.2.1.dist-info/RECORD  \n",
      "  inflating: /tmp/ngc-cli/backoff-2.2.1.dist-info/LICENSE  \n",
      "  inflating: /tmp/ngc-cli/backoff-2.2.1.dist-info/METADATA  \n",
      "  inflating: /tmp/ngc-cli/backoff-2.2.1.dist-info/WHEEL  \n",
      " extracting: /tmp/ngc-cli/backoff-2.2.1.dist-info/INSTALLER  \n",
      "  inflating: /tmp/ngc-cli/libpcre.so.1  \n",
      "  inflating: /tmp/ngc-cli/libgssapi_krb5.so.2  \n",
      "  inflating: /tmp/ngc-cli/grpcio-1.60.0.dist-info/RECORD  \n",
      "  inflating: /tmp/ngc-cli/grpcio-1.60.0.dist-info/LICENSE  \n",
      "  inflating: /tmp/ngc-cli/grpcio-1.60.0.dist-info/METADATA  \n",
      "  inflating: /tmp/ngc-cli/grpcio-1.60.0.dist-info/WHEEL  \n",
      " extracting: /tmp/ngc-cli/grpcio-1.60.0.dist-info/INSTALLER  \n",
      " extracting: /tmp/ngc-cli/grpcio-1.60.0.dist-info/top_level.txt  \n",
      "  inflating: /tmp/ngc-cli/opentelemetry_exporter_otlp_proto_grpc-1.22.0.dist-info/RECORD  \n",
      "  inflating: /tmp/ngc-cli/opentelemetry_exporter_otlp_proto_grpc-1.22.0.dist-info/entry_points.txt  \n",
      "  inflating: /tmp/ngc-cli/opentelemetry_exporter_otlp_proto_grpc-1.22.0.dist-info/METADATA  \n",
      " extracting: /tmp/ngc-cli/opentelemetry_exporter_otlp_proto_grpc-1.22.0.dist-info/WHEEL  \n",
      "  inflating: /tmp/ngc-cli/opentelemetry_exporter_otlp_proto_grpc-1.22.0.dist-info/licenses/LICENSE  \n",
      " extracting: /tmp/ngc-cli/opentelemetry_exporter_otlp_proto_grpc-1.22.0.dist-info/INSTALLER  \n",
      "  inflating: /tmp/ngc-cli/libgcc_s.so.1  \n",
      "  inflating: /tmp/ngc-cli/opentelemetry/context/__init__.py  \n",
      "  inflating: /tmp/ngc-cli/opentelemetry/context/context.py  \n",
      "  inflating: /tmp/ngc-cli/opentelemetry/context/__pycache__/context.cpython-39.pyc  \n",
      "  inflating: /tmp/ngc-cli/opentelemetry/context/__pycache__/__init__.cpython-39.pyc  \n",
      "  inflating: /tmp/ngc-cli/opentelemetry/context/contextvars_context.py  \n",
      "  inflating: /tmp/ngc-cli/opentelemetry/instrumentation/distro.py  \n",
      "  inflating: /tmp/ngc-cli/opentelemetry/instrumentation/utils.py  \n",
      "  inflating: /tmp/ngc-cli/opentelemetry/instrumentation/environment_variables.py  \n",
      "  inflating: /tmp/ngc-cli/opentelemetry/instrumentation/instrumentor.py  \n",
      "  inflating: /tmp/ngc-cli/opentelemetry/instrumentation/auto_instrumentation/__init__.py  \n",
      "  inflating: /tmp/ngc-cli/opentelemetry/instrumentation/auto_instrumentation/_load.py  \n",
      "  inflating: /tmp/ngc-cli/opentelemetry/instrumentation/auto_instrumentation/sitecustomize.py  \n",
      "  inflating: /tmp/ngc-cli/opentelemetry/instrumentation/bootstrap_gen.py  \n",
      "  inflating: /tmp/ngc-cli/opentelemetry/instrumentation/version.py  \n",
      "  inflating: /tmp/ngc-cli/opentelemetry/instrumentation/sqlcommenter_utils.py  \n",
      "  inflating: /tmp/ngc-cli/opentelemetry/instrumentation/bootstrap.py  \n",
      "  inflating: /tmp/ngc-cli/opentelemetry/instrumentation/propagators.py  \n",
      "  inflating: /tmp/ngc-cli/opentelemetry/instrumentation/dependencies.py  \n",
      " extracting: /tmp/ngc-cli/opentelemetry/instrumentation/py.typed  \n",
      "  inflating: /tmp/ngc-cli/opentelemetry/util/re.py  \n",
      "  inflating: /tmp/ngc-cli/opentelemetry/util/_importlib_metadata.py  \n",
      "  inflating: /tmp/ngc-cli/opentelemetry/util/types.py  \n",
      "  inflating: /tmp/ngc-cli/opentelemetry/util/_once.py  \n",
      "  inflating: /tmp/ngc-cli/opentelemetry/util/_providers.py  \n",
      "  inflating: /tmp/ngc-cli/opentelemetry/util/__pycache__/re.cpython-39.pyc  \n",
      "  inflating: /tmp/ngc-cli/opentelemetry/util/__pycache__/_once.cpython-39.pyc  \n",
      "  inflating: /tmp/ngc-cli/opentelemetry/util/__pycache__/types.cpython-39.pyc  \n",
      "  inflating: /tmp/ngc-cli/opentelemetry/util/__pycache__/_importlib_metadata.cpython-39.pyc  \n",
      "  inflating: /tmp/ngc-cli/opentelemetry/util/__pycache__/_providers.cpython-39.pyc  \n",
      "  inflating: /tmp/ngc-cli/opentelemetry/environment_variables.py  \n",
      "  inflating: /tmp/ngc-cli/opentelemetry/attributes/__init__.py  \n",
      "  inflating: /tmp/ngc-cli/opentelemetry/attributes/__pycache__/__init__.cpython-39.pyc  \n",
      " extracting: /tmp/ngc-cli/opentelemetry/proto/resource/__init__.py  \n",
      "  inflating: /tmp/ngc-cli/opentelemetry/proto/resource/v1/resource_pb2.pyi  \n",
      " extracting: /tmp/ngc-cli/opentelemetry/proto/resource/v1/__init__.py  \n",
      "  inflating: /tmp/ngc-cli/opentelemetry/proto/resource/v1/resource_pb2.py  \n",
      "  inflating: /tmp/ngc-cli/opentelemetry/proto/resource/v1/__pycache__/__init__.cpython-39.pyc  \n",
      "  inflating: /tmp/ngc-cli/opentelemetry/proto/resource/__pycache__/__init__.cpython-39.pyc  \n",
      "  inflating: /tmp/ngc-cli/opentelemetry/proto/logs/v1/logs_pb2.pyi  \n",
      "  inflating: /tmp/ngc-cli/opentelemetry/proto/logs/v1/logs_pb2.py  \n",
      " extracting: /tmp/ngc-cli/opentelemetry/proto/__init__.py  \n",
      "  inflating: /tmp/ngc-cli/opentelemetry/proto/collector/logs/v1/logs_service_pb2.pyi  \n",
      "  inflating: /tmp/ngc-cli/opentelemetry/proto/collector/logs/v1/logs_service_pb2.py  \n",
      "  inflating: /tmp/ngc-cli/opentelemetry/proto/collector/logs/v1/logs_service_pb2_grpc.py  \n",
      " extracting: /tmp/ngc-cli/opentelemetry/proto/collector/__init__.py  \n",
      " extracting: /tmp/ngc-cli/opentelemetry/proto/collector/metrics/__init__.py  \n",
      " extracting: /tmp/ngc-cli/opentelemetry/proto/collector/metrics/v1/__init__.py  \n",
      "  inflating: /tmp/ngc-cli/opentelemetry/proto/collector/metrics/v1/metrics_service_pb2.pyi  \n",
      "  inflating: /tmp/ngc-cli/opentelemetry/proto/collector/metrics/v1/metrics_service_pb2.py  \n",
      "  inflating: /tmp/ngc-cli/opentelemetry/proto/collector/metrics/v1/__pycache__/__init__.cpython-39.pyc  \n",
      "  inflating: /tmp/ngc-cli/opentelemetry/proto/collector/metrics/v1/metrics_service_pb2_grpc.py  \n",
      "  inflating: /tmp/ngc-cli/opentelemetry/proto/collector/metrics/__pycache__/__init__.cpython-39.pyc  \n",
      " extracting: /tmp/ngc-cli/opentelemetry/proto/collector/trace/__init__.py  \n",
      "  inflating: /tmp/ngc-cli/opentelemetry/proto/collector/trace/v1/trace_service_pb2.pyi  \n",
      " extracting: /tmp/ngc-cli/opentelemetry/proto/collector/trace/v1/__init__.py  \n",
      "  inflating: /tmp/ngc-cli/opentelemetry/proto/collector/trace/v1/trace_service_pb2_grpc.py  \n",
      "  inflating: /tmp/ngc-cli/opentelemetry/proto/collector/trace/v1/__pycache__/__init__.cpython-39.pyc  \n",
      "  inflating: /tmp/ngc-cli/opentelemetry/proto/collector/trace/v1/trace_service_pb2.py  \n",
      "  inflating: /tmp/ngc-cli/opentelemetry/proto/collector/trace/__pycache__/__init__.cpython-39.pyc  \n",
      "  inflating: /tmp/ngc-cli/opentelemetry/proto/collector/__pycache__/__init__.cpython-39.pyc  \n",
      "  inflating: /tmp/ngc-cli/opentelemetry/proto/version.py  \n",
      " extracting: /tmp/ngc-cli/opentelemetry/proto/metrics/__init__.py  \n",
      "  inflating: /tmp/ngc-cli/opentelemetry/proto/metrics/v1/metrics_pb2.pyi  \n",
      " extracting: /tmp/ngc-cli/opentelemetry/proto/metrics/v1/__init__.py  \n",
      "  inflating: /tmp/ngc-cli/opentelemetry/proto/metrics/v1/__pycache__/__init__.cpython-39.pyc  \n",
      "  inflating: /tmp/ngc-cli/opentelemetry/proto/metrics/v1/metrics_pb2.py  \n",
      "  inflating: /tmp/ngc-cli/opentelemetry/proto/metrics/__pycache__/__init__.cpython-39.pyc  \n",
      " extracting: /tmp/ngc-cli/opentelemetry/proto/trace/__init__.py  \n",
      "  inflating: /tmp/ngc-cli/opentelemetry/proto/trace/v1/trace_pb2.pyi  \n",
      "  inflating: /tmp/ngc-cli/opentelemetry/proto/trace/v1/trace_pb2.py  \n",
      " extracting: /tmp/ngc-cli/opentelemetry/proto/trace/v1/__init__.py  \n",
      "  inflating: /tmp/ngc-cli/opentelemetry/proto/trace/v1/__pycache__/__init__.cpython-39.pyc  \n",
      "  inflating: /tmp/ngc-cli/opentelemetry/proto/trace/__pycache__/__init__.cpython-39.pyc  \n",
      "  inflating: /tmp/ngc-cli/opentelemetry/proto/__pycache__/__init__.cpython-39.pyc  \n",
      " extracting: /tmp/ngc-cli/opentelemetry/proto/common/__init__.py  \n",
      "  inflating: /tmp/ngc-cli/opentelemetry/proto/common/v1/common_pb2.py  \n",
      " extracting: /tmp/ngc-cli/opentelemetry/proto/common/v1/__init__.py  \n",
      "  inflating: /tmp/ngc-cli/opentelemetry/proto/common/v1/common_pb2.pyi  \n",
      "  inflating: /tmp/ngc-cli/opentelemetry/proto/common/v1/__pycache__/__init__.cpython-39.pyc  \n",
      "  inflating: /tmp/ngc-cli/opentelemetry/proto/common/__pycache__/__init__.cpython-39.pyc  \n",
      "  inflating: /tmp/ngc-cli/opentelemetry/propagators/__pycache__/composite.cpython-39.pyc  \n",
      "  inflating: /tmp/ngc-cli/opentelemetry/propagators/__pycache__/textmap.cpython-39.pyc  \n",
      "  inflating: /tmp/ngc-cli/opentelemetry/propagators/composite.py  \n",
      "  inflating: /tmp/ngc-cli/opentelemetry/propagators/textmap.py  \n",
      "  inflating: /tmp/ngc-cli/opentelemetry/version.py  \n",
      "  inflating: /tmp/ngc-cli/opentelemetry/exporter/otlp/proto/grpc/__init__.py  \n",
      "  inflating: /tmp/ngc-cli/opentelemetry/exporter/otlp/proto/grpc/trace_exporter/__init__.py  \n",
      "  inflating: /tmp/ngc-cli/opentelemetry/exporter/otlp/proto/grpc/version.py  \n",
      " extracting: /tmp/ngc-cli/opentelemetry/exporter/otlp/proto/grpc/py.typed  \n",
      "  inflating: /tmp/ngc-cli/opentelemetry/exporter/otlp/proto/grpc/metric_exporter/__init__.py  \n",
      "  inflating: /tmp/ngc-cli/opentelemetry/exporter/otlp/proto/grpc/exporter.py  \n",
      "  inflating: /tmp/ngc-cli/opentelemetry/exporter/otlp/proto/grpc/_log_exporter/__init__.py  \n",
      "  inflating: /tmp/ngc-cli/opentelemetry/exporter/otlp/proto/common/_internal/trace_encoder/__init__.py  \n",
      "  inflating: /tmp/ngc-cli/opentelemetry/exporter/otlp/proto/common/_internal/__init__.py  \n",
      "  inflating: /tmp/ngc-cli/opentelemetry/exporter/otlp/proto/common/_internal/metrics_encoder/__init__.py  \n",
      "  inflating: /tmp/ngc-cli/opentelemetry/exporter/otlp/proto/common/_internal/_log_encoder/__init__.py  \n",
      "  inflating: /tmp/ngc-cli/opentelemetry/exporter/otlp/proto/common/__init__.py  \n",
      "  inflating: /tmp/ngc-cli/opentelemetry/exporter/otlp/proto/common/version.py  \n",
      "  inflating: /tmp/ngc-cli/opentelemetry/exporter/otlp/proto/common/trace_encoder.py  \n",
      "  inflating: /tmp/ngc-cli/opentelemetry/exporter/otlp/proto/common/_log_encoder.py  \n",
      " extracting: /tmp/ngc-cli/opentelemetry/exporter/otlp/proto/common/py.typed  \n",
      "  inflating: /tmp/ngc-cli/opentelemetry/exporter/otlp/proto/common/metrics_encoder.py  \n",
      "  inflating: /tmp/ngc-cli/opentelemetry/semconv/resource/__init__.py  \n",
      "  inflating: /tmp/ngc-cli/opentelemetry/semconv/resource/__pycache__/__init__.cpython-39.pyc  \n",
      " extracting: /tmp/ngc-cli/opentelemetry/semconv/__init__.py  \n",
      "  inflating: /tmp/ngc-cli/opentelemetry/semconv/version.py  \n",
      "  inflating: /tmp/ngc-cli/opentelemetry/semconv/metrics/__init__.py  \n",
      "  inflating: /tmp/ngc-cli/opentelemetry/semconv/metrics/__pycache__/__init__.cpython-39.pyc  \n",
      "  inflating: /tmp/ngc-cli/opentelemetry/semconv/trace/__init__.py  \n",
      "  inflating: /tmp/ngc-cli/opentelemetry/semconv/trace/__pycache__/__init__.cpython-39.pyc  \n",
      "  inflating: /tmp/ngc-cli/opentelemetry/semconv/__pycache__/__init__.cpython-39.pyc  \n",
      "  inflating: /tmp/ngc-cli/opentelemetry/baggage/__init__.py  \n",
      "  inflating: /tmp/ngc-cli/opentelemetry/baggage/propagation/__init__.py  \n",
      "  inflating: /tmp/ngc-cli/opentelemetry/baggage/propagation/__pycache__/__init__.cpython-39.pyc  \n",
      "  inflating: /tmp/ngc-cli/opentelemetry/baggage/__pycache__/__init__.cpython-39.pyc  \n",
      " extracting: /tmp/ngc-cli/opentelemetry/py.typed  \n",
      "  inflating: /tmp/ngc-cli/opentelemetry/propagate/__init__.py  \n",
      "  inflating: /tmp/ngc-cli/opentelemetry/propagate/__pycache__/__init__.cpython-39.pyc  \n",
      "  inflating: /tmp/ngc-cli/opentelemetry/metrics/_internal/__init__.py  \n",
      "  inflating: /tmp/ngc-cli/opentelemetry/metrics/_internal/instrument.py  \n",
      "  inflating: /tmp/ngc-cli/opentelemetry/metrics/_internal/__pycache__/observation.cpython-39.pyc  \n",
      "  inflating: /tmp/ngc-cli/opentelemetry/metrics/_internal/__pycache__/__init__.cpython-39.pyc  \n",
      "  inflating: /tmp/ngc-cli/opentelemetry/metrics/_internal/__pycache__/instrument.cpython-39.pyc  \n",
      "  inflating: /tmp/ngc-cli/opentelemetry/metrics/_internal/observation.py  \n",
      "  inflating: /tmp/ngc-cli/opentelemetry/metrics/__init__.py  \n",
      "  inflating: /tmp/ngc-cli/opentelemetry/metrics/__pycache__/__init__.cpython-39.pyc  \n",
      "  inflating: /tmp/ngc-cli/opentelemetry/trace/__init__.py  \n",
      "  inflating: /tmp/ngc-cli/opentelemetry/trace/propagation/__init__.py  \n",
      "  inflating: /tmp/ngc-cli/opentelemetry/trace/propagation/__pycache__/__init__.cpython-39.pyc  \n",
      "  inflating: /tmp/ngc-cli/opentelemetry/trace/propagation/__pycache__/tracecontext.cpython-39.pyc  \n",
      "  inflating: /tmp/ngc-cli/opentelemetry/trace/propagation/tracecontext.py  \n",
      "  inflating: /tmp/ngc-cli/opentelemetry/trace/status.py  \n",
      "  inflating: /tmp/ngc-cli/opentelemetry/trace/span.py  \n",
      "  inflating: /tmp/ngc-cli/opentelemetry/trace/__pycache__/__init__.cpython-39.pyc  \n",
      "  inflating: /tmp/ngc-cli/opentelemetry/trace/__pycache__/span.cpython-39.pyc  \n",
      "  inflating: /tmp/ngc-cli/opentelemetry/trace/__pycache__/status.cpython-39.pyc  \n",
      "  inflating: /tmp/ngc-cli/opentelemetry/__pycache__/environment_variables.cpython-39.pyc  \n",
      "  inflating: /tmp/ngc-cli/opentelemetry/sdk/__init__.pyi  \n",
      "  inflating: /tmp/ngc-cli/opentelemetry/sdk/util/__init__.pyi  \n",
      "  inflating: /tmp/ngc-cli/opentelemetry/sdk/util/__init__.py  \n",
      "  inflating: /tmp/ngc-cli/opentelemetry/sdk/util/instrumentation.py  \n",
      "  inflating: /tmp/ngc-cli/opentelemetry/sdk/environment_variables.py  \n",
      "  inflating: /tmp/ngc-cli/opentelemetry/sdk/_configuration/__init__.py  \n",
      "  inflating: /tmp/ngc-cli/opentelemetry/sdk/version.py  \n",
      " extracting: /tmp/ngc-cli/opentelemetry/sdk/py.typed  \n",
      "  inflating: /tmp/ngc-cli/opentelemetry/sdk/metrics/_internal/point.py  \n",
      "  inflating: /tmp/ngc-cli/opentelemetry/sdk/metrics/_internal/sdk_configuration.py  \n",
      "  inflating: /tmp/ngc-cli/opentelemetry/sdk/metrics/_internal/exponential_histogram/mapping/ieee_754.py  \n",
      "  inflating: /tmp/ngc-cli/opentelemetry/sdk/metrics/_internal/exponential_histogram/mapping/logarithm_mapping.py  \n",
      "  inflating: /tmp/ngc-cli/opentelemetry/sdk/metrics/_internal/exponential_histogram/mapping/exponent_mapping.py  \n",
      "  inflating: /tmp/ngc-cli/opentelemetry/sdk/metrics/_internal/exponential_histogram/mapping/__init__.py  \n",
      "  inflating: /tmp/ngc-cli/opentelemetry/sdk/metrics/_internal/exponential_histogram/mapping/errors.py  \n",
      "  inflating: /tmp/ngc-cli/opentelemetry/sdk/metrics/_internal/exponential_histogram/mapping/ieee_754.md  \n",
      "  inflating: /tmp/ngc-cli/opentelemetry/sdk/metrics/_internal/exponential_histogram/buckets.py  \n",
      "  inflating: /tmp/ngc-cli/opentelemetry/sdk/metrics/_internal/exceptions.py  \n",
      "  inflating: /tmp/ngc-cli/opentelemetry/sdk/metrics/_internal/measurement_consumer.py  \n",
      "  inflating: /tmp/ngc-cli/opentelemetry/sdk/metrics/_internal/export/__init__.py  \n",
      "  inflating: /tmp/ngc-cli/opentelemetry/sdk/metrics/_internal/__init__.py  \n",
      "  inflating: /tmp/ngc-cli/opentelemetry/sdk/metrics/_internal/metric_reader_storage.py  \n",
      "  inflating: /tmp/ngc-cli/opentelemetry/sdk/metrics/_internal/_view_instrument_match.py  \n",
      "  inflating: /tmp/ngc-cli/opentelemetry/sdk/metrics/_internal/aggregation.py  \n",
      "  inflating: /tmp/ngc-cli/opentelemetry/sdk/metrics/_internal/view.py  \n",
      "  inflating: /tmp/ngc-cli/opentelemetry/sdk/metrics/_internal/instrument.py  \n",
      "  inflating: /tmp/ngc-cli/opentelemetry/sdk/metrics/_internal/measurement.py  \n",
      "  inflating: /tmp/ngc-cli/opentelemetry/sdk/metrics/export/__init__.py  \n",
      "  inflating: /tmp/ngc-cli/opentelemetry/sdk/metrics/__init__.py  \n",
      "  inflating: /tmp/ngc-cli/opentelemetry/sdk/metrics/view/__init__.py  \n",
      "  inflating: /tmp/ngc-cli/opentelemetry/sdk/trace/export/__init__.py  \n",
      "  inflating: /tmp/ngc-cli/opentelemetry/sdk/trace/export/in_memory_span_exporter.py  \n",
      "  inflating: /tmp/ngc-cli/opentelemetry/sdk/trace/__init__.py  \n",
      "  inflating: /tmp/ngc-cli/opentelemetry/sdk/trace/id_generator.py  \n",
      "  inflating: /tmp/ngc-cli/opentelemetry/sdk/trace/sampling.py  \n",
      "  inflating: /tmp/ngc-cli/opentelemetry/sdk/resources/__init__.py  \n",
      "  inflating: /tmp/ngc-cli/opentelemetry/sdk/error_handler/__init__.py  \n",
      "  inflating: /tmp/ngc-cli/opentelemetry/sdk/_logs/_internal/export/in_memory_log_exporter.py  \n",
      "  inflating: /tmp/ngc-cli/opentelemetry/sdk/_logs/_internal/export/__init__.py  \n",
      "  inflating: /tmp/ngc-cli/opentelemetry/sdk/_logs/_internal/__init__.py  \n",
      "  inflating: /tmp/ngc-cli/opentelemetry/sdk/_logs/export/__init__.py  \n",
      "  inflating: /tmp/ngc-cli/opentelemetry/sdk/_logs/__init__.py  \n",
      "  inflating: /tmp/ngc-cli/opentelemetry/_logs/_internal/__init__.py  \n",
      "  inflating: /tmp/ngc-cli/opentelemetry/_logs/_internal/__pycache__/__init__.cpython-39.pyc  \n",
      "  inflating: /tmp/ngc-cli/opentelemetry/_logs/__init__.py  \n",
      "  inflating: /tmp/ngc-cli/opentelemetry/_logs/__pycache__/__init__.cpython-39.pyc  \n",
      "  inflating: /tmp/ngc-cli/opentelemetry/_logs/severity/__init__.py  \n",
      "  inflating: /tmp/ngc-cli/opentelemetry/_logs/severity/__pycache__/__init__.cpython-39.pyc  \n",
      "  inflating: /tmp/ngc-cli/libpython3.9.so.1.0  \n",
      " extracting: /tmp/ngc-cli/certifi/py.typed  \n",
      "  inflating: /tmp/ngc-cli/certifi/cacert.pem  \n",
      "  inflating: /tmp/ngc-cli/frozenlist/_frozenlist.cpython-39-x86_64-linux-gnu.so  \n",
      "  inflating: /tmp/ngc-cli/opentelemetry_api-1.22.0.dist-info/RECORD  \n",
      "  inflating: /tmp/ngc-cli/opentelemetry_api-1.22.0.dist-info/entry_points.txt  \n",
      "  inflating: /tmp/ngc-cli/opentelemetry_api-1.22.0.dist-info/METADATA  \n",
      " extracting: /tmp/ngc-cli/opentelemetry_api-1.22.0.dist-info/WHEEL  \n",
      "  inflating: /tmp/ngc-cli/opentelemetry_api-1.22.0.dist-info/licenses/LICENSE  \n",
      " extracting: /tmp/ngc-cli/opentelemetry_api-1.22.0.dist-info/INSTALLER  \n",
      "  inflating: /tmp/ngc-cli/opentelemetry_proto-1.22.0.dist-info/RECORD  \n",
      "  inflating: /tmp/ngc-cli/opentelemetry_proto-1.22.0.dist-info/METADATA  \n",
      " extracting: /tmp/ngc-cli/opentelemetry_proto-1.22.0.dist-info/WHEEL  \n",
      "  inflating: /tmp/ngc-cli/opentelemetry_proto-1.22.0.dist-info/licenses/LICENSE  \n",
      " extracting: /tmp/ngc-cli/opentelemetry_proto-1.22.0.dist-info/INSTALLER  \n",
      "  inflating: /tmp/ngc-cli/libfreebl3.so  \n",
      "  inflating: /tmp/ngc-cli/protobuf-3.20.3.dist-info/RECORD  \n",
      "  inflating: /tmp/ngc-cli/protobuf-3.20.3.dist-info/METADATA  \n",
      " extracting: /tmp/ngc-cli/protobuf-3.20.3.dist-info/namespace_packages.txt  \n",
      "  inflating: /tmp/ngc-cli/protobuf-3.20.3.dist-info/WHEEL  \n",
      " extracting: /tmp/ngc-cli/protobuf-3.20.3.dist-info/INSTALLER  \n",
      " extracting: /tmp/ngc-cli/protobuf-3.20.3.dist-info/top_level.txt  \n",
      "  inflating: /tmp/ngc-cli/multidict/_multidict.cpython-39-x86_64-linux-gnu.so  \n",
      "  inflating: /tmp/ngc-cli/libkrb5.so.3  \n",
      "  inflating: /tmp/ngc-cli/opentelemetry_exporter_otlp_proto_common-1.22.0.dist-info/RECORD  \n",
      "  inflating: /tmp/ngc-cli/opentelemetry_exporter_otlp_proto_common-1.22.0.dist-info/METADATA  \n",
      " extracting: /tmp/ngc-cli/opentelemetry_exporter_otlp_proto_common-1.22.0.dist-info/WHEEL  \n",
      "  inflating: /tmp/ngc-cli/opentelemetry_exporter_otlp_proto_common-1.22.0.dist-info/licenses/LICENSE  \n",
      " extracting: /tmp/ngc-cli/opentelemetry_exporter_otlp_proto_common-1.22.0.dist-info/INSTALLER  \n",
      "  inflating: /tmp/ngc-cli/yarl/_quoting_c.cpython-39-x86_64-linux-gnu.so  \n",
      "  inflating: /tmp/ngc-cli/cryptography-41.0.7.dist-info/RECORD  \n",
      "  inflating: /tmp/ngc-cli/cryptography-41.0.7.dist-info/LICENSE.BSD  \n",
      "  inflating: /tmp/ngc-cli/cryptography-41.0.7.dist-info/LICENSE  \n",
      "  inflating: /tmp/ngc-cli/cryptography-41.0.7.dist-info/METADATA  \n",
      "  inflating: /tmp/ngc-cli/cryptography-41.0.7.dist-info/LICENSE.APACHE  \n",
      "  inflating: /tmp/ngc-cli/cryptography-41.0.7.dist-info/WHEEL  \n",
      " extracting: /tmp/ngc-cli/cryptography-41.0.7.dist-info/INSTALLER  \n",
      " extracting: /tmp/ngc-cli/cryptography-41.0.7.dist-info/top_level.txt  \n",
      "  inflating: /tmp/ngc-cli/googleapis_common_protos-1.62.0.dist-info/RECORD  \n",
      "  inflating: /tmp/ngc-cli/googleapis_common_protos-1.62.0.dist-info/LICENSE  \n",
      "  inflating: /tmp/ngc-cli/googleapis_common_protos-1.62.0.dist-info/METADATA  \n",
      "  inflating: /tmp/ngc-cli/googleapis_common_protos-1.62.0.dist-info/WHEEL  \n",
      " extracting: /tmp/ngc-cli/googleapis_common_protos-1.62.0.dist-info/INSTALLER  \n",
      " extracting: /tmp/ngc-cli/googleapis_common_protos-1.62.0.dist-info/top_level.txt  \n",
      "  inflating: /tmp/ngc-cli/opentelemetry_semantic_conventions-0.43b0.dist-info/RECORD  \n",
      "  inflating: /tmp/ngc-cli/opentelemetry_semantic_conventions-0.43b0.dist-info/METADATA  \n",
      " extracting: /tmp/ngc-cli/opentelemetry_semantic_conventions-0.43b0.dist-info/WHEEL  \n",
      "  inflating: /tmp/ngc-cli/opentelemetry_semantic_conventions-0.43b0.dist-info/licenses/LICENSE  \n",
      " extracting: /tmp/ngc-cli/opentelemetry_semantic_conventions-0.43b0.dist-info/INSTALLER  \n",
      "  inflating: /tmp/ngc-cli/ngc        \n",
      "  inflating: /tmp/ngc-cli/libstdc++.so.6  \n",
      "  inflating: /tmp/ngc-cli/opentelemetry_sdk-1.22.0.dist-info/RECORD  \n",
      "  inflating: /tmp/ngc-cli/opentelemetry_sdk-1.22.0.dist-info/entry_points.txt  \n",
      "  inflating: /tmp/ngc-cli/opentelemetry_sdk-1.22.0.dist-info/METADATA  \n",
      " extracting: /tmp/ngc-cli/opentelemetry_sdk-1.22.0.dist-info/WHEEL  \n",
      "  inflating: /tmp/ngc-cli/opentelemetry_sdk-1.22.0.dist-info/licenses/LICENSE  \n",
      " extracting: /tmp/ngc-cli/opentelemetry_sdk-1.22.0.dist-info/INSTALLER  \n",
      "  inflating: /tmp/ngc-cli/libk5crypto.so.3  \n",
      "  inflating: /tmp/ngc-cli/lib-dynload/_codecs_tw.cpython-39-x86_64-linux-gnu.so  \n",
      "  inflating: /tmp/ngc-cli/lib-dynload/termios.cpython-39-x86_64-linux-gnu.so  \n",
      "  inflating: /tmp/ngc-cli/lib-dynload/_decimal.cpython-39-x86_64-linux-gnu.so  \n",
      "  inflating: /tmp/ngc-cli/lib-dynload/_datetime.cpython-39-x86_64-linux-gnu.so  \n",
      "  inflating: /tmp/ngc-cli/lib-dynload/grp.cpython-39-x86_64-linux-gnu.so  \n",
      "  inflating: /tmp/ngc-cli/lib-dynload/_bisect.cpython-39-x86_64-linux-gnu.so  \n",
      "  inflating: /tmp/ngc-cli/lib-dynload/_elementtree.cpython-39-x86_64-linux-gnu.so  \n",
      "  inflating: /tmp/ngc-cli/lib-dynload/_sha512.cpython-39-x86_64-linux-gnu.so  \n",
      "  inflating: /tmp/ngc-cli/lib-dynload/fcntl.cpython-39-x86_64-linux-gnu.so  \n",
      "  inflating: /tmp/ngc-cli/lib-dynload/_codecs_iso2022.cpython-39-x86_64-linux-gnu.so  \n",
      "  inflating: /tmp/ngc-cli/lib-dynload/_multibytecodec.cpython-39-x86_64-linux-gnu.so  \n",
      "  inflating: /tmp/ngc-cli/lib-dynload/binascii.cpython-39-x86_64-linux-gnu.so  \n",
      "  inflating: /tmp/ngc-cli/lib-dynload/_csv.cpython-39-x86_64-linux-gnu.so  \n",
      "  inflating: /tmp/ngc-cli/lib-dynload/_posixsubprocess.cpython-39-x86_64-linux-gnu.so  \n",
      "  inflating: /tmp/ngc-cli/lib-dynload/_sha256.cpython-39-x86_64-linux-gnu.so  \n",
      "  inflating: /tmp/ngc-cli/lib-dynload/_codecs_hk.cpython-39-x86_64-linux-gnu.so  \n",
      "  inflating: /tmp/ngc-cli/lib-dynload/_multiprocessing.cpython-39-x86_64-linux-gnu.so  \n",
      "  inflating: /tmp/ngc-cli/lib-dynload/select.cpython-39-x86_64-linux-gnu.so  \n",
      "  inflating: /tmp/ngc-cli/lib-dynload/_asyncio.cpython-39-x86_64-linux-gnu.so  \n",
      "  inflating: /tmp/ngc-cli/lib-dynload/unicodedata.cpython-39-x86_64-linux-gnu.so  \n",
      "  inflating: /tmp/ngc-cli/lib-dynload/_codecs_kr.cpython-39-x86_64-linux-gnu.so  \n",
      "  inflating: /tmp/ngc-cli/lib-dynload/_ctypes.cpython-39-x86_64-linux-gnu.so  \n",
      "  inflating: /tmp/ngc-cli/lib-dynload/_posixshmem.cpython-39-x86_64-linux-gnu.so  \n",
      "  inflating: /tmp/ngc-cli/lib-dynload/array.cpython-39-x86_64-linux-gnu.so  \n",
      "  inflating: /tmp/ngc-cli/lib-dynload/_blake2.cpython-39-x86_64-linux-gnu.so  \n",
      "  inflating: /tmp/ngc-cli/lib-dynload/resource.cpython-39-x86_64-linux-gnu.so  \n",
      "  inflating: /tmp/ngc-cli/lib-dynload/_ssl.cpython-39-x86_64-linux-gnu.so  \n",
      "  inflating: /tmp/ngc-cli/lib-dynload/pyexpat.cpython-39-x86_64-linux-gnu.so  \n",
      "  inflating: /tmp/ngc-cli/lib-dynload/_codecs_jp.cpython-39-x86_64-linux-gnu.so  \n",
      "  inflating: /tmp/ngc-cli/lib-dynload/_queue.cpython-39-x86_64-linux-gnu.so  \n",
      "  inflating: /tmp/ngc-cli/lib-dynload/_opcode.cpython-39-x86_64-linux-gnu.so  \n",
      "  inflating: /tmp/ngc-cli/lib-dynload/_socket.cpython-39-x86_64-linux-gnu.so  \n",
      "  inflating: /tmp/ngc-cli/lib-dynload/_pickle.cpython-39-x86_64-linux-gnu.so  \n",
      "  inflating: /tmp/ngc-cli/lib-dynload/math.cpython-39-x86_64-linux-gnu.so  \n",
      "  inflating: /tmp/ngc-cli/lib-dynload/_hashlib.cpython-39-x86_64-linux-gnu.so  \n",
      "  inflating: /tmp/ngc-cli/lib-dynload/_codecs_cn.cpython-39-x86_64-linux-gnu.so  \n",
      "  inflating: /tmp/ngc-cli/lib-dynload/_statistics.cpython-39-x86_64-linux-gnu.so  \n",
      "  inflating: /tmp/ngc-cli/lib-dynload/zlib.cpython-39-x86_64-linux-gnu.so  \n",
      "  inflating: /tmp/ngc-cli/lib-dynload/_sha1.cpython-39-x86_64-linux-gnu.so  \n",
      "  inflating: /tmp/ngc-cli/lib-dynload/_sha3.cpython-39-x86_64-linux-gnu.so  \n",
      "  inflating: /tmp/ngc-cli/lib-dynload/_struct.cpython-39-x86_64-linux-gnu.so  \n",
      "  inflating: /tmp/ngc-cli/lib-dynload/_md5.cpython-39-x86_64-linux-gnu.so  \n",
      "  inflating: /tmp/ngc-cli/lib-dynload/mmap.cpython-39-x86_64-linux-gnu.so  \n",
      "  inflating: /tmp/ngc-cli/lib-dynload/_contextvars.cpython-39-x86_64-linux-gnu.so  \n",
      "  inflating: /tmp/ngc-cli/lib-dynload/_heapq.cpython-39-x86_64-linux-gnu.so  \n",
      "  inflating: /tmp/ngc-cli/lib-dynload/_random.cpython-39-x86_64-linux-gnu.so  \n",
      "  inflating: /tmp/ngc-cli/lib-dynload/_json.cpython-39-x86_64-linux-gnu.so  \n",
      "  inflating: /tmp/ngc-cli/libssl.so.10  \n",
      "  inflating: /tmp/ngc-cli/libselinux.so.1  \n",
      " extracting: /tmp/ngc-cli/base_library.zip  \n",
      "  inflating: /tmp/ngc-cli/libz.so.1  \n",
      "  inflating: /tmp/ngc-cli/charset_normalizer/md__mypyc.cpython-39-x86_64-linux-gnu.so  \n",
      "  inflating: /tmp/ngc-cli/charset_normalizer/md.cpython-39-x86_64-linux-gnu.so  \n",
      "  inflating: /tmp/ngc-cli/google/protobuf/internal/_api_implementation.cpython-39-x86_64-linux-gnu.so  \n",
      "  inflating: /tmp/ngc-cli/google/protobuf/pyext/_message.cpython-39-x86_64-linux-gnu.so  \n",
      "  inflating: /tmp/ngc-cli/importlib_metadata-6.11.0.dist-info/RECORD  \n",
      "  inflating: /tmp/ngc-cli/importlib_metadata-6.11.0.dist-info/LICENSE  \n",
      "  inflating: /tmp/ngc-cli/importlib_metadata-6.11.0.dist-info/METADATA  \n",
      " extracting: /tmp/ngc-cli/importlib_metadata-6.11.0.dist-info/WHEEL  \n",
      " extracting: /tmp/ngc-cli/importlib_metadata-6.11.0.dist-info/INSTALLER  \n",
      " extracting: /tmp/ngc-cli/importlib_metadata-6.11.0.dist-info/top_level.txt  \n",
      "  inflating: /tmp/ngc-cli/botocore/data/b2bi/2022-06-23/paginators-1.json  \n",
      " extracting: /tmp/ngc-cli/botocore/data/b2bi/2022-06-23/endpoint-rule-set-1.json.gz  \n",
      " extracting: /tmp/ngc-cli/botocore/data/b2bi/2022-06-23/service-2.json.gz  \n",
      "  inflating: /tmp/ngc-cli/botocore/data/autoscaling/2011-01-01/paginators-1.json  \n",
      "  inflating: /tmp/ngc-cli/botocore/data/autoscaling/2011-01-01/paginators-1.sdk-extras.json  \n",
      " extracting: /tmp/ngc-cli/botocore/data/autoscaling/2011-01-01/endpoint-rule-set-1.json.gz  \n",
      "  inflating: /tmp/ngc-cli/botocore/data/autoscaling/2011-01-01/service-2.json.gz  \n",
      "  inflating: /tmp/ngc-cli/botocore/data/autoscaling/2011-01-01/examples-1.json  \n",
      "  inflating: /tmp/ngc-cli/botocore/data/apigatewayv2/2018-11-29/paginators-1.json  \n",
      " extracting: /tmp/ngc-cli/botocore/data/apigatewayv2/2018-11-29/endpoint-rule-set-1.json.gz  \n",
      "  inflating: /tmp/ngc-cli/botocore/data/apigatewayv2/2018-11-29/service-2.json.gz  \n",
      " extracting: /tmp/ngc-cli/botocore/data/synthetics/2017-10-11/paginators-1.json  \n",
      " extracting: /tmp/ngc-cli/botocore/data/synthetics/2017-10-11/endpoint-rule-set-1.json.gz  \n",
      " extracting: /tmp/ngc-cli/botocore/data/synthetics/2017-10-11/service-2.json.gz  \n",
      "  inflating: /tmp/ngc-cli/botocore/data/synthetics/2017-10-11/examples-1.json  \n",
      "  inflating: /tmp/ngc-cli/botocore/data/applicationcostprofiler/2020-09-10/paginators-1.json  \n",
      " extracting: /tmp/ngc-cli/botocore/data/applicationcostprofiler/2020-09-10/endpoint-rule-set-1.json.gz  \n",
      " extracting: /tmp/ngc-cli/botocore/data/applicationcostprofiler/2020-09-10/service-2.json.gz  \n",
      "  inflating: /tmp/ngc-cli/botocore/data/applicationcostprofiler/2020-09-10/examples-1.json  \n",
      "  inflating: /tmp/ngc-cli/botocore/data/datasync/2018-11-09/paginators-1.json  \n",
      " extracting: /tmp/ngc-cli/botocore/data/datasync/2018-11-09/endpoint-rule-set-1.json.gz  \n",
      "  inflating: /tmp/ngc-cli/botocore/data/datasync/2018-11-09/service-2.json.gz  \n",
      "  inflating: /tmp/ngc-cli/botocore/data/datasync/2018-11-09/examples-1.json  \n",
      " extracting: /tmp/ngc-cli/botocore/data/sso-oidc/2019-06-10/paginators-1.json  \n",
      " extracting: /tmp/ngc-cli/botocore/data/sso-oidc/2019-06-10/endpoint-rule-set-1.json.gz  \n",
      " extracting: /tmp/ngc-cli/botocore/data/sso-oidc/2019-06-10/service-2.json.gz  \n",
      "  inflating: /tmp/ngc-cli/botocore/data/sso-oidc/2019-06-10/examples-1.json  \n",
      " extracting: /tmp/ngc-cli/botocore/data/iotdeviceadvisor/2020-09-18/paginators-1.json  \n",
      " extracting: /tmp/ngc-cli/botocore/data/iotdeviceadvisor/2020-09-18/endpoint-rule-set-1.json.gz  \n",
      " extracting: /tmp/ngc-cli/botocore/data/iotdeviceadvisor/2020-09-18/service-2.json.gz  \n",
      "  inflating: /tmp/ngc-cli/botocore/data/iotdeviceadvisor/2020-09-18/examples-1.json  \n",
      "  inflating: /tmp/ngc-cli/botocore/data/medialive/2017-10-14/waiters-2.json  \n",
      "  inflating: /tmp/ngc-cli/botocore/data/medialive/2017-10-14/paginators-1.json  \n",
      " extracting: /tmp/ngc-cli/botocore/data/medialive/2017-10-14/endpoint-rule-set-1.json.gz  \n",
      "  inflating: /tmp/ngc-cli/botocore/data/medialive/2017-10-14/service-2.json.gz  \n",
      " extracting: /tmp/ngc-cli/botocore/data/marketplace-agreement/2020-03-01/paginators-1.json  \n",
      " extracting: /tmp/ngc-cli/botocore/data/marketplace-agreement/2020-03-01/endpoint-rule-set-1.json.gz  \n",
      " extracting: /tmp/ngc-cli/botocore/data/marketplace-agreement/2020-03-01/service-2.json.gz  \n",
      " extracting: /tmp/ngc-cli/botocore/data/wellarchitected/2020-03-31/paginators-1.json  \n",
      " extracting: /tmp/ngc-cli/botocore/data/wellarchitected/2020-03-31/endpoint-rule-set-1.json.gz  \n",
      " extracting: /tmp/ngc-cli/botocore/data/wellarchitected/2020-03-31/service-2.json.gz  \n",
      "  inflating: /tmp/ngc-cli/botocore/data/wellarchitected/2020-03-31/examples-1.json  \n",
      "  inflating: /tmp/ngc-cli/botocore/data/codeguru-security/2018-05-10/paginators-1.json  \n",
      " extracting: /tmp/ngc-cli/botocore/data/codeguru-security/2018-05-10/endpoint-rule-set-1.json.gz  \n",
      " extracting: /tmp/ngc-cli/botocore/data/codeguru-security/2018-05-10/service-2.json.gz  \n",
      " extracting: /tmp/ngc-cli/botocore/data/waf-regional/2016-11-28/paginators-1.json  \n",
      " extracting: /tmp/ngc-cli/botocore/data/waf-regional/2016-11-28/endpoint-rule-set-1.json.gz  \n",
      "  inflating: /tmp/ngc-cli/botocore/data/waf-regional/2016-11-28/service-2.json.gz  \n",
      "  inflating: /tmp/ngc-cli/botocore/data/waf-regional/2016-11-28/examples-1.json  \n",
      "  inflating: /tmp/ngc-cli/botocore/data/privatenetworks/2021-12-03/paginators-1.json  \n",
      " extracting: /tmp/ngc-cli/botocore/data/privatenetworks/2021-12-03/endpoint-rule-set-1.json.gz  \n",
      " extracting: /tmp/ngc-cli/botocore/data/privatenetworks/2021-12-03/service-2.json.gz  \n",
      "  inflating: /tmp/ngc-cli/botocore/data/route53domains/2014-05-15/paginators-1.json  \n",
      " extracting: /tmp/ngc-cli/botocore/data/route53domains/2014-05-15/endpoint-rule-set-1.json.gz  \n",
      "  inflating: /tmp/ngc-cli/botocore/data/route53domains/2014-05-15/service-2.json.gz  \n",
      "  inflating: /tmp/ngc-cli/botocore/data/route53domains/2014-05-15/examples-1.json  \n",
      " extracting: /tmp/ngc-cli/botocore/data/cognito-sync/2014-06-30/paginators-1.json  \n",
      " extracting: /tmp/ngc-cli/botocore/data/cognito-sync/2014-06-30/endpoint-rule-set-1.json.gz  \n",
      " extracting: /tmp/ngc-cli/botocore/data/cognito-sync/2014-06-30/service-2.json.gz  \n",
      "  inflating: /tmp/ngc-cli/botocore/data/cognito-sync/2014-06-30/examples-1.json  \n",
      "  inflating: /tmp/ngc-cli/botocore/data/autoscaling-plans/2018-01-06/paginators-1.json  \n",
      " extracting: /tmp/ngc-cli/botocore/data/autoscaling-plans/2018-01-06/endpoint-rule-set-1.json.gz  \n",
      " extracting: /tmp/ngc-cli/botocore/data/autoscaling-plans/2018-01-06/service-2.json.gz  \n",
      "  inflating: /tmp/ngc-cli/botocore/data/autoscaling-plans/2018-01-06/examples-1.json  \n",
      "  inflating: /tmp/ngc-cli/botocore/data/secretsmanager/2017-10-17/paginators-1.json  \n",
      "  inflating: /tmp/ngc-cli/botocore/data/secretsmanager/2017-10-17/service-2.sdk-extras.json  \n",
      " extracting: /tmp/ngc-cli/botocore/data/secretsmanager/2017-10-17/endpoint-rule-set-1.json.gz  \n",
      " extracting: /tmp/ngc-cli/botocore/data/secretsmanager/2017-10-17/service-2.json.gz  \n",
      "  inflating: /tmp/ngc-cli/botocore/data/secretsmanager/2017-10-17/examples-1.json  \n",
      "  inflating: /tmp/ngc-cli/botocore/data/cloud9/2017-09-23/paginators-1.json  \n",
      " extracting: /tmp/ngc-cli/botocore/data/cloud9/2017-09-23/endpoint-rule-set-1.json.gz  \n",
      " extracting: /tmp/ngc-cli/botocore/data/cloud9/2017-09-23/service-2.json.gz  \n",
      "  inflating: /tmp/ngc-cli/botocore/data/cloud9/2017-09-23/examples-1.json  \n",
      "  inflating: /tmp/ngc-cli/botocore/data/ses/2010-12-01/waiters-2.json  \n",
      "  inflating: /tmp/ngc-cli/botocore/data/ses/2010-12-01/paginators-1.json  \n",
      " extracting: /tmp/ngc-cli/botocore/data/ses/2010-12-01/endpoint-rule-set-1.json.gz  \n",
      "  inflating: /tmp/ngc-cli/botocore/data/ses/2010-12-01/service-2.json.gz  \n",
      "  inflating: /tmp/ngc-cli/botocore/data/ses/2010-12-01/examples-1.json  \n",
      " extracting: /tmp/ngc-cli/botocore/data/sagemaker-edge/2020-09-23/paginators-1.json  \n",
      " extracting: /tmp/ngc-cli/botocore/data/sagemaker-edge/2020-09-23/endpoint-rule-set-1.json.gz  \n",
      " extracting: /tmp/ngc-cli/botocore/data/sagemaker-edge/2020-09-23/service-2.json.gz  \n",
      "  inflating: /tmp/ngc-cli/botocore/data/sagemaker-edge/2020-09-23/examples-1.json  \n",
      " extracting: /tmp/ngc-cli/botocore/data/ce/2017-10-25/paginators-1.json  \n",
      " extracting: /tmp/ngc-cli/botocore/data/ce/2017-10-25/endpoint-rule-set-1.json.gz  \n",
      "  inflating: /tmp/ngc-cli/botocore/data/ce/2017-10-25/service-2.json.gz  \n",
      "  inflating: /tmp/ngc-cli/botocore/data/ce/2017-10-25/examples-1.json  \n",
      " extracting: /tmp/ngc-cli/botocore/data/workmailmessageflow/2019-05-01/paginators-1.json  \n",
      " extracting: /tmp/ngc-cli/botocore/data/workmailmessageflow/2019-05-01/endpoint-rule-set-1.json.gz  \n",
      " extracting: /tmp/ngc-cli/botocore/data/workmailmessageflow/2019-05-01/service-2.json.gz  \n",
      "  inflating: /tmp/ngc-cli/botocore/data/workmailmessageflow/2019-05-01/examples-1.json  \n",
      "  inflating: /tmp/ngc-cli/botocore/data/location/2020-11-19/paginators-1.json  \n",
      " extracting: /tmp/ngc-cli/botocore/data/location/2020-11-19/endpoint-rule-set-1.json.gz  \n",
      "  inflating: /tmp/ngc-cli/botocore/data/location/2020-11-19/service-2.json.gz  \n",
      "  inflating: /tmp/ngc-cli/botocore/data/location/2020-11-19/examples-1.json  \n",
      " extracting: /tmp/ngc-cli/botocore/data/healthlake/2017-07-01/paginators-1.json  \n",
      " extracting: /tmp/ngc-cli/botocore/data/healthlake/2017-07-01/endpoint-rule-set-1.json.gz  \n",
      " extracting: /tmp/ngc-cli/botocore/data/healthlake/2017-07-01/service-2.json.gz  \n",
      "  inflating: /tmp/ngc-cli/botocore/data/healthlake/2017-07-01/examples-1.json  \n",
      "  inflating: /tmp/ngc-cli/botocore/data/ssm-incidents/2018-05-10/waiters-2.json  \n",
      "  inflating: /tmp/ngc-cli/botocore/data/ssm-incidents/2018-05-10/paginators-1.json  \n",
      " extracting: /tmp/ngc-cli/botocore/data/ssm-incidents/2018-05-10/endpoint-rule-set-1.json.gz  \n",
      " extracting: /tmp/ngc-cli/botocore/data/ssm-incidents/2018-05-10/service-2.json.gz  \n",
      "  inflating: /tmp/ngc-cli/botocore/data/ssm-incidents/2018-05-10/examples-1.json  \n",
      "  inflating: /tmp/ngc-cli/botocore/data/license-manager-user-subscriptions/2018-05-10/paginators-1.json  \n",
      " extracting: /tmp/ngc-cli/botocore/data/license-manager-user-subscriptions/2018-05-10/endpoint-rule-set-1.json.gz  \n",
      " extracting: /tmp/ngc-cli/botocore/data/license-manager-user-subscriptions/2018-05-10/service-2.json.gz  \n",
      "  inflating: /tmp/ngc-cli/botocore/data/cloudhsmv2/2017-04-28/paginators-1.json  \n",
      " extracting: /tmp/ngc-cli/botocore/data/cloudhsmv2/2017-04-28/endpoint-rule-set-1.json.gz  \n",
      " extracting: /tmp/ngc-cli/botocore/data/cloudhsmv2/2017-04-28/service-2.json.gz  \n",
      "  inflating: /tmp/ngc-cli/botocore/data/cloudhsmv2/2017-04-28/examples-1.json  \n",
      "  inflating: /tmp/ngc-cli/botocore/data/workspaces/2015-04-08/paginators-1.json  \n",
      " extracting: /tmp/ngc-cli/botocore/data/workspaces/2015-04-08/endpoint-rule-set-1.json.gz  \n",
      " extracting: /tmp/ngc-cli/botocore/data/workspaces/2015-04-08/service-2.json.gz  \n",
      "  inflating: /tmp/ngc-cli/botocore/data/workspaces/2015-04-08/examples-1.json  \n",
      " extracting: /tmp/ngc-cli/botocore/data/frauddetector/2019-11-15/paginators-1.json  \n",
      " extracting: /tmp/ngc-cli/botocore/data/frauddetector/2019-11-15/endpoint-rule-set-1.json.gz  \n",
      " extracting: /tmp/ngc-cli/botocore/data/frauddetector/2019-11-15/service-2.json.gz  \n",
      "  inflating: /tmp/ngc-cli/botocore/data/frauddetector/2019-11-15/examples-1.json  \n",
      "  inflating: /tmp/ngc-cli/botocore/data/cloudfront-keyvaluestore/2022-07-26/paginators-1.json  \n",
      " extracting: /tmp/ngc-cli/botocore/data/cloudfront-keyvaluestore/2022-07-26/endpoint-rule-set-1.json.gz  \n",
      " extracting: /tmp/ngc-cli/botocore/data/cloudfront-keyvaluestore/2022-07-26/service-2.json.gz  \n",
      "  inflating: /tmp/ngc-cli/botocore/data/elb/2012-06-01/waiters-2.json  \n",
      "  inflating: /tmp/ngc-cli/botocore/data/elb/2012-06-01/paginators-1.json  \n",
      " extracting: /tmp/ngc-cli/botocore/data/elb/2012-06-01/endpoint-rule-set-1.json.gz  \n",
      " extracting: /tmp/ngc-cli/botocore/data/elb/2012-06-01/service-2.json.gz  \n",
      "  inflating: /tmp/ngc-cli/botocore/data/elb/2012-06-01/examples-1.json  \n",
      "  inflating: /tmp/ngc-cli/botocore/data/ecr-public/2020-10-30/paginators-1.json  \n",
      " extracting: /tmp/ngc-cli/botocore/data/ecr-public/2020-10-30/endpoint-rule-set-1.json.gz  \n",
      " extracting: /tmp/ngc-cli/botocore/data/ecr-public/2020-10-30/service-2.json.gz  \n",
      "  inflating: /tmp/ngc-cli/botocore/data/ecr-public/2020-10-30/examples-1.json  \n",
      "  inflating: /tmp/ngc-cli/botocore/data/lightsail/2016-11-28/paginators-1.json  \n",
      " extracting: /tmp/ngc-cli/botocore/data/lightsail/2016-11-28/endpoint-rule-set-1.json.gz  \n",
      "  inflating: /tmp/ngc-cli/botocore/data/lightsail/2016-11-28/service-2.json.gz  \n",
      "  inflating: /tmp/ngc-cli/botocore/data/lightsail/2016-11-28/examples-1.json  \n",
      " extracting: /tmp/ngc-cli/botocore/data/iotevents-data/2018-10-23/paginators-1.json  \n",
      " extracting: /tmp/ngc-cli/botocore/data/iotevents-data/2018-10-23/endpoint-rule-set-1.json.gz  \n",
      " extracting: /tmp/ngc-cli/botocore/data/iotevents-data/2018-10-23/service-2.json.gz  \n",
      "  inflating: /tmp/ngc-cli/botocore/data/iotevents-data/2018-10-23/examples-1.json  \n",
      "  inflating: /tmp/ngc-cli/botocore/data/migration-hub-refactor-spaces/2021-10-26/paginators-1.json  \n",
      " extracting: /tmp/ngc-cli/botocore/data/migration-hub-refactor-spaces/2021-10-26/endpoint-rule-set-1.json.gz  \n",
      " extracting: /tmp/ngc-cli/botocore/data/migration-hub-refactor-spaces/2021-10-26/service-2.json.gz  \n",
      "  inflating: /tmp/ngc-cli/botocore/data/migration-hub-refactor-spaces/2021-10-26/examples-1.json  \n",
      "  inflating: /tmp/ngc-cli/botocore/data/clouddirectory/2016-05-10/paginators-1.json  \n",
      " extracting: /tmp/ngc-cli/botocore/data/clouddirectory/2016-05-10/endpoint-rule-set-1.json.gz  \n",
      " extracting: /tmp/ngc-cli/botocore/data/clouddirectory/2016-05-10/service-2.json.gz  \n",
      "  inflating: /tmp/ngc-cli/botocore/data/clouddirectory/2016-05-10/examples-1.json  \n",
      "  inflating: /tmp/ngc-cli/botocore/data/clouddirectory/2017-01-11/paginators-1.json  \n",
      " extracting: /tmp/ngc-cli/botocore/data/clouddirectory/2017-01-11/endpoint-rule-set-1.json.gz  \n",
      " extracting: /tmp/ngc-cli/botocore/data/clouddirectory/2017-01-11/service-2.json.gz  \n",
      "  inflating: /tmp/ngc-cli/botocore/data/clouddirectory/2017-01-11/examples-1.json  \n",
      "  inflating: /tmp/ngc-cli/botocore/data/logs/2014-03-28/paginators-1.json  \n",
      " extracting: /tmp/ngc-cli/botocore/data/logs/2014-03-28/endpoint-rule-set-1.json.gz  \n",
      "  inflating: /tmp/ngc-cli/botocore/data/logs/2014-03-28/service-2.json.gz  \n",
      "  inflating: /tmp/ngc-cli/botocore/data/logs/2014-03-28/examples-1.json  \n",
      " extracting: /tmp/ngc-cli/botocore/data/inspector-scan/2023-08-08/paginators-1.json  \n",
      " extracting: /tmp/ngc-cli/botocore/data/inspector-scan/2023-08-08/endpoint-rule-set-1.json.gz  \n",
      " extracting: /tmp/ngc-cli/botocore/data/inspector-scan/2023-08-08/service-2.json.gz  \n",
      "  inflating: /tmp/ngc-cli/botocore/data/bedrock-agent/2023-06-05/paginators-1.json  \n",
      " extracting: /tmp/ngc-cli/botocore/data/bedrock-agent/2023-06-05/endpoint-rule-set-1.json.gz  \n",
      " extracting: /tmp/ngc-cli/botocore/data/bedrock-agent/2023-06-05/service-2.json.gz  \n",
      "  inflating: /tmp/ngc-cli/botocore/data/qbusiness/2023-11-27/paginators-1.json  \n",
      "  inflating: /tmp/ngc-cli/botocore/data/qbusiness/2023-11-27/paginators-1.sdk-extras.json  \n",
      " extracting: /tmp/ngc-cli/botocore/data/qbusiness/2023-11-27/endpoint-rule-set-1.json.gz  \n",
      " extracting: /tmp/ngc-cli/botocore/data/qbusiness/2023-11-27/service-2.json.gz  \n",
      "  inflating: /tmp/ngc-cli/botocore/data/ecs/2014-11-13/waiters-2.json  \n",
      "  inflating: /tmp/ngc-cli/botocore/data/ecs/2014-11-13/paginators-1.json  \n",
      " extracting: /tmp/ngc-cli/botocore/data/ecs/2014-11-13/endpoint-rule-set-1.json.gz  \n",
      "  inflating: /tmp/ngc-cli/botocore/data/ecs/2014-11-13/service-2.json.gz  \n",
      "  inflating: /tmp/ngc-cli/botocore/data/ecs/2014-11-13/examples-1.json  \n",
      "  inflating: /tmp/ngc-cli/botocore/data/cur/2017-01-06/paginators-1.json  \n",
      " extracting: /tmp/ngc-cli/botocore/data/cur/2017-01-06/endpoint-rule-set-1.json.gz  \n",
      " extracting: /tmp/ngc-cli/botocore/data/cur/2017-01-06/service-2.json.gz  \n",
      "  inflating: /tmp/ngc-cli/botocore/data/cur/2017-01-06/examples-1.json  \n",
      "  inflating: /tmp/ngc-cli/botocore/data/tnb/2008-10-21/paginators-1.json  \n",
      " extracting: /tmp/ngc-cli/botocore/data/tnb/2008-10-21/endpoint-rule-set-1.json.gz  \n",
      " extracting: /tmp/ngc-cli/botocore/data/tnb/2008-10-21/service-2.json.gz  \n",
      "  inflating: /tmp/ngc-cli/botocore/data/m2/2021-04-28/paginators-1.json  \n",
      " extracting: /tmp/ngc-cli/botocore/data/m2/2021-04-28/endpoint-rule-set-1.json.gz  \n",
      " extracting: /tmp/ngc-cli/botocore/data/m2/2021-04-28/service-2.json.gz  \n",
      " extracting: /tmp/ngc-cli/botocore/data/savingsplans/2019-06-28/paginators-1.json  \n",
      " extracting: /tmp/ngc-cli/botocore/data/savingsplans/2019-06-28/endpoint-rule-set-1.json.gz  \n",
      " extracting: /tmp/ngc-cli/botocore/data/savingsplans/2019-06-28/service-2.json.gz  \n",
      "  inflating: /tmp/ngc-cli/botocore/data/savingsplans/2019-06-28/examples-1.json  \n",
      "  inflating: /tmp/ngc-cli/botocore/data/codeartifact/2018-09-22/paginators-1.json  \n",
      "  inflating: /tmp/ngc-cli/botocore/data/codeartifact/2018-09-22/paginators-1.sdk-extras.json  \n",
      " extracting: /tmp/ngc-cli/botocore/data/codeartifact/2018-09-22/endpoint-rule-set-1.json.gz  \n",
      " extracting: /tmp/ngc-cli/botocore/data/codeartifact/2018-09-22/service-2.json.gz  \n",
      "  inflating: /tmp/ngc-cli/botocore/data/codeartifact/2018-09-22/examples-1.json  \n",
      "  inflating: /tmp/ngc-cli/botocore/data/devops-guru/2020-12-01/paginators-1.json  \n",
      " extracting: /tmp/ngc-cli/botocore/data/devops-guru/2020-12-01/endpoint-rule-set-1.json.gz  \n",
      " extracting: /tmp/ngc-cli/botocore/data/devops-guru/2020-12-01/service-2.json.gz  \n",
      "  inflating: /tmp/ngc-cli/botocore/data/devops-guru/2020-12-01/examples-1.json  \n",
      "  inflating: /tmp/ngc-cli/botocore/data/sagemaker/2017-07-24/waiters-2.json  \n",
      "  inflating: /tmp/ngc-cli/botocore/data/sagemaker/2017-07-24/paginators-1.json  \n",
      " extracting: /tmp/ngc-cli/botocore/data/sagemaker/2017-07-24/endpoint-rule-set-1.json.gz  \n",
      "  inflating: /tmp/ngc-cli/botocore/data/sagemaker/2017-07-24/service-2.json.gz  \n",
      "  inflating: /tmp/ngc-cli/botocore/data/sagemaker/2017-07-24/examples-1.json  \n",
      "  inflating: /tmp/ngc-cli/botocore/data/amplify/2017-07-25/paginators-1.json  \n",
      " extracting: /tmp/ngc-cli/botocore/data/amplify/2017-07-25/endpoint-rule-set-1.json.gz  \n",
      " extracting: /tmp/ngc-cli/botocore/data/amplify/2017-07-25/service-2.json.gz  \n",
      "  inflating: /tmp/ngc-cli/botocore/data/amplify/2017-07-25/examples-1.json  \n",
      "  inflating: /tmp/ngc-cli/botocore/data/finspace-data/2020-07-13/paginators-1.json  \n",
      " extracting: /tmp/ngc-cli/botocore/data/finspace-data/2020-07-13/endpoint-rule-set-1.json.gz  \n",
      " extracting: /tmp/ngc-cli/botocore/data/finspace-data/2020-07-13/service-2.json.gz  \n",
      "  inflating: /tmp/ngc-cli/botocore/data/finspace-data/2020-07-13/examples-1.json  \n",
      "  inflating: /tmp/ngc-cli/botocore/data/textract/2018-06-27/paginators-1.json  \n",
      " extracting: /tmp/ngc-cli/botocore/data/textract/2018-06-27/endpoint-rule-set-1.json.gz  \n",
      " extracting: /tmp/ngc-cli/botocore/data/textract/2018-06-27/service-2.json.gz  \n",
      "  inflating: /tmp/ngc-cli/botocore/data/textract/2018-06-27/examples-1.json  \n",
      "  inflating: /tmp/ngc-cli/botocore/data/cloudhsm/2014-05-30/paginators-1.json  \n",
      " extracting: /tmp/ngc-cli/botocore/data/cloudhsm/2014-05-30/endpoint-rule-set-1.json.gz  \n",
      " extracting: /tmp/ngc-cli/botocore/data/cloudhsm/2014-05-30/service-2.json.gz  \n",
      "  inflating: /tmp/ngc-cli/botocore/data/cloudhsm/2014-05-30/examples-1.json  \n",
      " extracting: /tmp/ngc-cli/botocore/data/chime-sdk-media-pipelines/2021-07-15/paginators-1.json  \n",
      " extracting: /tmp/ngc-cli/botocore/data/chime-sdk-media-pipelines/2021-07-15/endpoint-rule-set-1.json.gz  \n",
      " extracting: /tmp/ngc-cli/botocore/data/chime-sdk-media-pipelines/2021-07-15/service-2.json.gz  \n",
      " extracting: /tmp/ngc-cli/botocore/data/kendra-ranking/2022-10-19/paginators-1.json  \n",
      " extracting: /tmp/ngc-cli/botocore/data/kendra-ranking/2022-10-19/endpoint-rule-set-1.json.gz  \n",
      " extracting: /tmp/ngc-cli/botocore/data/kendra-ranking/2022-10-19/service-2.json.gz  \n",
      "  inflating: /tmp/ngc-cli/botocore/data/timestream-query/2018-11-01/paginators-1.json  \n",
      " extracting: /tmp/ngc-cli/botocore/data/timestream-query/2018-11-01/endpoint-rule-set-1.json.gz  \n",
      " extracting: /tmp/ngc-cli/botocore/data/timestream-query/2018-11-01/service-2.json.gz  \n",
      "  inflating: /tmp/ngc-cli/botocore/data/timestream-query/2018-11-01/examples-1.json  \n",
      "  inflating: /tmp/ngc-cli/botocore/data/config/2014-11-12/paginators-1.json  \n",
      " extracting: /tmp/ngc-cli/botocore/data/config/2014-11-12/endpoint-rule-set-1.json.gz  \n",
      "  inflating: /tmp/ngc-cli/botocore/data/config/2014-11-12/service-2.json.gz  \n",
      "  inflating: /tmp/ngc-cli/botocore/data/config/2014-11-12/examples-1.json  \n",
      "  inflating: /tmp/ngc-cli/botocore/data/opsworkscm/2016-11-01/waiters-2.json  \n",
      "  inflating: /tmp/ngc-cli/botocore/data/opsworkscm/2016-11-01/paginators-1.json  \n",
      " extracting: /tmp/ngc-cli/botocore/data/opsworkscm/2016-11-01/endpoint-rule-set-1.json.gz  \n",
      " extracting: /tmp/ngc-cli/botocore/data/opsworkscm/2016-11-01/service-2.json.gz  \n",
      "  inflating: /tmp/ngc-cli/botocore/data/opsworkscm/2016-11-01/examples-1.json  \n",
      "  inflating: /tmp/ngc-cli/botocore/data/kafka/2018-11-14/paginators-1.json  \n",
      " extracting: /tmp/ngc-cli/botocore/data/kafka/2018-11-14/endpoint-rule-set-1.json.gz  \n",
      " extracting: /tmp/ngc-cli/botocore/data/kafka/2018-11-14/service-2.json.gz  \n",
      "  inflating: /tmp/ngc-cli/botocore/data/lambda/2015-03-31/waiters-2.json  \n",
      "  inflating: /tmp/ngc-cli/botocore/data/lambda/2015-03-31/paginators-1.json  \n",
      " extracting: /tmp/ngc-cli/botocore/data/lambda/2015-03-31/endpoint-rule-set-1.json.gz  \n",
      "  inflating: /tmp/ngc-cli/botocore/data/lambda/2015-03-31/service-2.json.gz  \n",
      "  inflating: /tmp/ngc-cli/botocore/data/lambda/2015-03-31/examples-1.json  \n",
      " extracting: /tmp/ngc-cli/botocore/data/lambda/2014-11-11/endpoint-rule-set-1.json.gz  \n",
      " extracting: /tmp/ngc-cli/botocore/data/lambda/2014-11-11/service-2.json.gz  \n",
      "  inflating: /tmp/ngc-cli/botocore/data/license-manager-linux-subscriptions/2018-05-10/paginators-1.json  \n",
      " extracting: /tmp/ngc-cli/botocore/data/license-manager-linux-subscriptions/2018-05-10/endpoint-rule-set-1.json.gz  \n",
      " extracting: /tmp/ngc-cli/botocore/data/license-manager-linux-subscriptions/2018-05-10/service-2.json.gz  \n",
      "  inflating: /tmp/ngc-cli/botocore/data/servicecatalog/2015-12-10/paginators-1.json  \n",
      " extracting: /tmp/ngc-cli/botocore/data/servicecatalog/2015-12-10/endpoint-rule-set-1.json.gz  \n",
      "  inflating: /tmp/ngc-cli/botocore/data/servicecatalog/2015-12-10/service-2.json.gz  \n",
      "  inflating: /tmp/ngc-cli/botocore/data/servicecatalog/2015-12-10/examples-1.json  \n",
      "  inflating: /tmp/ngc-cli/botocore/data/emr-serverless/2021-07-13/paginators-1.json  \n",
      " extracting: /tmp/ngc-cli/botocore/data/emr-serverless/2021-07-13/endpoint-rule-set-1.json.gz  \n",
      " extracting: /tmp/ngc-cli/botocore/data/emr-serverless/2021-07-13/service-2.json.gz  \n",
      " extracting: /tmp/ngc-cli/botocore/data/ec2-instance-connect/2018-04-02/paginators-1.json  \n",
      " extracting: /tmp/ngc-cli/botocore/data/ec2-instance-connect/2018-04-02/endpoint-rule-set-1.json.gz  \n",
      " extracting: /tmp/ngc-cli/botocore/data/ec2-instance-connect/2018-04-02/service-2.json.gz  \n",
      "  inflating: /tmp/ngc-cli/botocore/data/ec2-instance-connect/2018-04-02/examples-1.json  \n",
      "  inflating: /tmp/ngc-cli/botocore/data/ssm-sap/2018-05-10/paginators-1.json  \n",
      " extracting: /tmp/ngc-cli/botocore/data/ssm-sap/2018-05-10/endpoint-rule-set-1.json.gz  \n",
      " extracting: /tmp/ngc-cli/botocore/data/ssm-sap/2018-05-10/service-2.json.gz  \n",
      "  inflating: /tmp/ngc-cli/botocore/data/devicefarm/2015-06-23/paginators-1.json  \n",
      " extracting: /tmp/ngc-cli/botocore/data/devicefarm/2015-06-23/endpoint-rule-set-1.json.gz  \n",
      "  inflating: /tmp/ngc-cli/botocore/data/devicefarm/2015-06-23/service-2.json.gz  \n",
      "  inflating: /tmp/ngc-cli/botocore/data/devicefarm/2015-06-23/examples-1.json  \n",
      "  inflating: /tmp/ngc-cli/botocore/data/iotthingsgraph/2018-09-06/paginators-1.json  \n",
      " extracting: /tmp/ngc-cli/botocore/data/iotthingsgraph/2018-09-06/endpoint-rule-set-1.json.gz  \n",
      " extracting: /tmp/ngc-cli/botocore/data/iotthingsgraph/2018-09-06/service-2.json.gz  \n",
      "  inflating: /tmp/ngc-cli/botocore/data/iotthingsgraph/2018-09-06/examples-1.json  \n",
      "  inflating: /tmp/ngc-cli/botocore/data/appsync/2017-07-25/paginators-1.json  \n",
      " extracting: /tmp/ngc-cli/botocore/data/appsync/2017-07-25/endpoint-rule-set-1.json.gz  \n",
      " extracting: /tmp/ngc-cli/botocore/data/appsync/2017-07-25/service-2.json.gz  \n",
      "  inflating: /tmp/ngc-cli/botocore/data/appsync/2017-07-25/examples-1.json  \n",
      "  inflating: /tmp/ngc-cli/botocore/data/rolesanywhere/2018-05-10/paginators-1.json  \n",
      " extracting: /tmp/ngc-cli/botocore/data/rolesanywhere/2018-05-10/endpoint-rule-set-1.json.gz  \n",
      " extracting: /tmp/ngc-cli/botocore/data/rolesanywhere/2018-05-10/service-2.json.gz  \n",
      "  inflating: /tmp/ngc-cli/botocore/data/appconfig/2019-10-09/paginators-1.json  \n",
      " extracting: /tmp/ngc-cli/botocore/data/appconfig/2019-10-09/endpoint-rule-set-1.json.gz  \n",
      " extracting: /tmp/ngc-cli/botocore/data/appconfig/2019-10-09/service-2.json.gz  \n",
      "  inflating: /tmp/ngc-cli/botocore/data/appconfig/2019-10-09/examples-1.json  \n",
      "  inflating: /tmp/ngc-cli/botocore/data/redshift/2012-12-01/waiters-2.json  \n",
      "  inflating: /tmp/ngc-cli/botocore/data/redshift/2012-12-01/paginators-1.json  \n",
      " extracting: /tmp/ngc-cli/botocore/data/redshift/2012-12-01/endpoint-rule-set-1.json.gz  \n",
      "  inflating: /tmp/ngc-cli/botocore/data/redshift/2012-12-01/service-2.json.gz  \n",
      "  inflating: /tmp/ngc-cli/botocore/data/redshift/2012-12-01/examples-1.json  \n",
      "  inflating: /tmp/ngc-cli/botocore/data/events/2015-10-07/paginators-1.json  \n",
      " extracting: /tmp/ngc-cli/botocore/data/events/2015-10-07/endpoint-rule-set-1.json.gz  \n",
      "  inflating: /tmp/ngc-cli/botocore/data/events/2015-10-07/service-2.json.gz  \n",
      "  inflating: /tmp/ngc-cli/botocore/data/events/2015-10-07/examples-1.json  \n",
      " extracting: /tmp/ngc-cli/botocore/data/events/2014-02-03/endpoint-rule-set-1.json.gz  \n",
      " extracting: /tmp/ngc-cli/botocore/data/events/2014-02-03/service-2.json.gz  \n",
      "  inflating: /tmp/ngc-cli/botocore/data/keyspaces/2022-02-10/waiters-2.json  \n",
      "  inflating: /tmp/ngc-cli/botocore/data/keyspaces/2022-02-10/paginators-1.json  \n",
      " extracting: /tmp/ngc-cli/botocore/data/keyspaces/2022-02-10/endpoint-rule-set-1.json.gz  \n",
      " extracting: /tmp/ngc-cli/botocore/data/keyspaces/2022-02-10/service-2.json.gz  \n",
      "  inflating: /tmp/ngc-cli/botocore/data/keyspaces/2022-02-10/examples-1.json  \n",
      "  inflating: /tmp/ngc-cli/botocore/data/billingconductor/2021-07-30/waiters-2.json  \n",
      "  inflating: /tmp/ngc-cli/botocore/data/billingconductor/2021-07-30/paginators-1.json  \n",
      " extracting: /tmp/ngc-cli/botocore/data/billingconductor/2021-07-30/endpoint-rule-set-1.json.gz  \n",
      " extracting: /tmp/ngc-cli/botocore/data/billingconductor/2021-07-30/service-2.json.gz  \n",
      "  inflating: /tmp/ngc-cli/botocore/data/billingconductor/2021-07-30/examples-1.json  \n",
      " extracting: /tmp/ngc-cli/botocore/data/firehose/2015-08-04/paginators-1.json  \n",
      " extracting: /tmp/ngc-cli/botocore/data/firehose/2015-08-04/endpoint-rule-set-1.json.gz  \n",
      " extracting: /tmp/ngc-cli/botocore/data/firehose/2015-08-04/service-2.json.gz  \n",
      "  inflating: /tmp/ngc-cli/botocore/data/firehose/2015-08-04/examples-1.json  \n",
      "  inflating: /tmp/ngc-cli/botocore/data/_retry.json  \n",
      "  inflating: /tmp/ngc-cli/botocore/data/lexv2-models/2020-08-07/waiters-2.json  \n",
      " extracting: /tmp/ngc-cli/botocore/data/lexv2-models/2020-08-07/paginators-1.json  \n",
      " extracting: /tmp/ngc-cli/botocore/data/lexv2-models/2020-08-07/endpoint-rule-set-1.json.gz  \n",
      "  inflating: /tmp/ngc-cli/botocore/data/lexv2-models/2020-08-07/service-2.json.gz  \n",
      "  inflating: /tmp/ngc-cli/botocore/data/lexv2-models/2020-08-07/examples-1.json  \n",
      " extracting: /tmp/ngc-cli/botocore/data/iot-jobs-data/2017-09-29/paginators-1.json  \n",
      " extracting: /tmp/ngc-cli/botocore/data/iot-jobs-data/2017-09-29/endpoint-rule-set-1.json.gz  \n",
      " extracting: /tmp/ngc-cli/botocore/data/iot-jobs-data/2017-09-29/service-2.json.gz  \n",
      "  inflating: /tmp/ngc-cli/botocore/data/iot-jobs-data/2017-09-29/examples-1.json  \n",
      " extracting: /tmp/ngc-cli/botocore/data/neptunedata/2023-08-01/paginators-1.json  \n",
      " extracting: /tmp/ngc-cli/botocore/data/neptunedata/2023-08-01/endpoint-rule-set-1.json.gz  \n",
      " extracting: /tmp/ngc-cli/botocore/data/neptunedata/2023-08-01/service-2.json.gz  \n",
      " extracting: /tmp/ngc-cli/botocore/data/lookoutequipment/2020-12-15/paginators-1.json  \n",
      " extracting: /tmp/ngc-cli/botocore/data/lookoutequipment/2020-12-15/endpoint-rule-set-1.json.gz  \n",
      " extracting: /tmp/ngc-cli/botocore/data/lookoutequipment/2020-12-15/service-2.json.gz  \n",
      "  inflating: /tmp/ngc-cli/botocore/data/lookoutequipment/2020-12-15/examples-1.json  \n",
      " extracting: /tmp/ngc-cli/botocore/data/rds-data/2018-08-01/paginators-1.json  \n",
      " extracting: /tmp/ngc-cli/botocore/data/rds-data/2018-08-01/endpoint-rule-set-1.json.gz  \n",
      " extracting: /tmp/ngc-cli/botocore/data/rds-data/2018-08-01/service-2.json.gz  \n",
      "  inflating: /tmp/ngc-cli/botocore/data/rds-data/2018-08-01/examples-1.json  \n",
      " extracting: /tmp/ngc-cli/botocore/data/appconfigdata/2021-11-11/paginators-1.json  \n",
      " extracting: /tmp/ngc-cli/botocore/data/appconfigdata/2021-11-11/endpoint-rule-set-1.json.gz  \n",
      " extracting: /tmp/ngc-cli/botocore/data/appconfigdata/2021-11-11/service-2.json.gz  \n",
      "  inflating: /tmp/ngc-cli/botocore/data/appconfigdata/2021-11-11/examples-1.json  \n",
      " extracting: /tmp/ngc-cli/botocore/data/forecastquery/2018-06-26/paginators-1.json  \n",
      " extracting: /tmp/ngc-cli/botocore/data/forecastquery/2018-06-26/endpoint-rule-set-1.json.gz  \n",
      " extracting: /tmp/ngc-cli/botocore/data/forecastquery/2018-06-26/service-2.json.gz  \n",
      "  inflating: /tmp/ngc-cli/botocore/data/forecastquery/2018-06-26/examples-1.json  \n",
      "  inflating: /tmp/ngc-cli/botocore/data/signer/2017-08-25/waiters-2.json  \n",
      "  inflating: /tmp/ngc-cli/botocore/data/signer/2017-08-25/paginators-1.json  \n",
      " extracting: /tmp/ngc-cli/botocore/data/signer/2017-08-25/endpoint-rule-set-1.json.gz  \n",
      " extracting: /tmp/ngc-cli/botocore/data/signer/2017-08-25/service-2.json.gz  \n",
      "  inflating: /tmp/ngc-cli/botocore/data/signer/2017-08-25/examples-1.json  \n",
      " extracting: /tmp/ngc-cli/botocore/data/kinesis-video-media/2017-09-30/paginators-1.json  \n",
      " extracting: /tmp/ngc-cli/botocore/data/kinesis-video-media/2017-09-30/endpoint-rule-set-1.json.gz  \n",
      " extracting: /tmp/ngc-cli/botocore/data/kinesis-video-media/2017-09-30/service-2.json.gz  \n",
      "  inflating: /tmp/ngc-cli/botocore/data/kinesis-video-media/2017-09-30/examples-1.json  \n",
      "  inflating: /tmp/ngc-cli/botocore/data/es/2015-01-01/paginators-1.json  \n",
      " extracting: /tmp/ngc-cli/botocore/data/es/2015-01-01/endpoint-rule-set-1.json.gz  \n",
      " extracting: /tmp/ngc-cli/botocore/data/es/2015-01-01/service-2.json.gz  \n",
      "  inflating: /tmp/ngc-cli/botocore/data/es/2015-01-01/examples-1.json  \n",
      "  inflating: /tmp/ngc-cli/botocore/data/scheduler/2021-06-30/paginators-1.json  \n",
      " extracting: /tmp/ngc-cli/botocore/data/scheduler/2021-06-30/endpoint-rule-set-1.json.gz  \n",
      " extracting: /tmp/ngc-cli/botocore/data/scheduler/2021-06-30/service-2.json.gz  \n",
      "  inflating: /tmp/ngc-cli/botocore/data/resourcegroupstaggingapi/2017-01-26/paginators-1.json  \n",
      " extracting: /tmp/ngc-cli/botocore/data/resourcegroupstaggingapi/2017-01-26/endpoint-rule-set-1.json.gz  \n",
      " extracting: /tmp/ngc-cli/botocore/data/resourcegroupstaggingapi/2017-01-26/service-2.json.gz  \n",
      "  inflating: /tmp/ngc-cli/botocore/data/resourcegroupstaggingapi/2017-01-26/examples-1.json  \n",
      " extracting: /tmp/ngc-cli/botocore/data/chime-sdk-messaging/2021-05-15/paginators-1.json  \n",
      " extracting: /tmp/ngc-cli/botocore/data/chime-sdk-messaging/2021-05-15/endpoint-rule-set-1.json.gz  \n",
      " extracting: /tmp/ngc-cli/botocore/data/chime-sdk-messaging/2021-05-15/service-2.json.gz  \n",
      "  inflating: /tmp/ngc-cli/botocore/data/chime-sdk-messaging/2021-05-15/examples-1.json  \n",
      "  inflating: /tmp/ngc-cli/botocore/data/evidently/2021-02-01/paginators-1.json  \n",
      " extracting: /tmp/ngc-cli/botocore/data/evidently/2021-02-01/endpoint-rule-set-1.json.gz  \n",
      " extracting: /tmp/ngc-cli/botocore/data/evidently/2021-02-01/service-2.json.gz  \n",
      "  inflating: /tmp/ngc-cli/botocore/data/evidently/2021-02-01/examples-1.json  \n",
      " extracting: /tmp/ngc-cli/botocore/data/pi/2018-02-27/paginators-1.json  \n",
      " extracting: /tmp/ngc-cli/botocore/data/pi/2018-02-27/endpoint-rule-set-1.json.gz  \n",
      " extracting: /tmp/ngc-cli/botocore/data/pi/2018-02-27/service-2.json.gz  \n",
      "  inflating: /tmp/ngc-cli/botocore/data/pi/2018-02-27/examples-1.json  \n",
      " extracting: /tmp/ngc-cli/botocore/data/fis/2020-12-01/paginators-1.json  \n",
      " extracting: /tmp/ngc-cli/botocore/data/fis/2020-12-01/endpoint-rule-set-1.json.gz  \n",
      " extracting: /tmp/ngc-cli/botocore/data/fis/2020-12-01/service-2.json.gz  \n",
      "  inflating: /tmp/ngc-cli/botocore/data/fis/2020-12-01/examples-1.json  \n",
      "  inflating: /tmp/ngc-cli/botocore/data/vpc-lattice/2022-11-30/paginators-1.json  \n",
      " extracting: /tmp/ngc-cli/botocore/data/vpc-lattice/2022-11-30/endpoint-rule-set-1.json.gz  \n",
      " extracting: /tmp/ngc-cli/botocore/data/vpc-lattice/2022-11-30/service-2.json.gz  \n",
      "  inflating: /tmp/ngc-cli/botocore/data/iot-data/2015-05-28/paginators-1.json  \n",
      " extracting: /tmp/ngc-cli/botocore/data/iot-data/2015-05-28/endpoint-rule-set-1.json.gz  \n",
      " extracting: /tmp/ngc-cli/botocore/data/iot-data/2015-05-28/service-2.json.gz  \n",
      "  inflating: /tmp/ngc-cli/botocore/data/iot-data/2015-05-28/examples-1.json  \n",
      "  inflating: /tmp/ngc-cli/botocore/data/connectcampaigns/2021-01-30/paginators-1.json  \n",
      " extracting: /tmp/ngc-cli/botocore/data/connectcampaigns/2021-01-30/endpoint-rule-set-1.json.gz  \n",
      " extracting: /tmp/ngc-cli/botocore/data/connectcampaigns/2021-01-30/service-2.json.gz  \n",
      " extracting: /tmp/ngc-cli/botocore/data/appflow/2020-08-23/paginators-1.json  \n",
      " extracting: /tmp/ngc-cli/botocore/data/appflow/2020-08-23/endpoint-rule-set-1.json.gz  \n",
      " extracting: /tmp/ngc-cli/botocore/data/appflow/2020-08-23/service-2.json.gz  \n",
      "  inflating: /tmp/ngc-cli/botocore/data/appflow/2020-08-23/examples-1.json  \n",
      "  inflating: /tmp/ngc-cli/botocore/data/greengrassv2/2020-11-30/paginators-1.json  \n",
      " extracting: /tmp/ngc-cli/botocore/data/greengrassv2/2020-11-30/endpoint-rule-set-1.json.gz  \n",
      " extracting: /tmp/ngc-cli/botocore/data/greengrassv2/2020-11-30/service-2.json.gz  \n",
      "  inflating: /tmp/ngc-cli/botocore/data/greengrassv2/2020-11-30/examples-1.json  \n",
      "  inflating: /tmp/ngc-cli/botocore/data/eks-auth/2023-11-26/waiters-2.json  \n",
      " extracting: /tmp/ngc-cli/botocore/data/eks-auth/2023-11-26/paginators-1.json  \n",
      " extracting: /tmp/ngc-cli/botocore/data/eks-auth/2023-11-26/endpoint-rule-set-1.json.gz  \n",
      " extracting: /tmp/ngc-cli/botocore/data/eks-auth/2023-11-26/service-2.json.gz  \n",
      "  inflating: /tmp/ngc-cli/botocore/data/pinpoint-sms-voice-v2/2022-03-31/waiters-2.json  \n",
      "  inflating: /tmp/ngc-cli/botocore/data/pinpoint-sms-voice-v2/2022-03-31/paginators-1.json  \n",
      "  inflating: /tmp/ngc-cli/botocore/data/pinpoint-sms-voice-v2/2022-03-31/paginators-1.sdk-extras.json  \n",
      " extracting: /tmp/ngc-cli/botocore/data/pinpoint-sms-voice-v2/2022-03-31/endpoint-rule-set-1.json.gz  \n",
      "  inflating: /tmp/ngc-cli/botocore/data/pinpoint-sms-voice-v2/2022-03-31/service-2.json.gz  \n",
      "  inflating: /tmp/ngc-cli/botocore/data/pinpoint-sms-voice-v2/2022-03-31/examples-1.json  \n",
      "  inflating: /tmp/ngc-cli/botocore/data/qconnect/2020-10-19/paginators-1.json  \n",
      " extracting: /tmp/ngc-cli/botocore/data/qconnect/2020-10-19/endpoint-rule-set-1.json.gz  \n",
      " extracting: /tmp/ngc-cli/botocore/data/qconnect/2020-10-19/service-2.json.gz  \n",
      "  inflating: /tmp/ngc-cli/botocore/data/managedblockchain/2018-09-24/paginators-1.json  \n",
      " extracting: /tmp/ngc-cli/botocore/data/managedblockchain/2018-09-24/endpoint-rule-set-1.json.gz  \n",
      " extracting: /tmp/ngc-cli/botocore/data/managedblockchain/2018-09-24/service-2.json.gz  \n",
      "  inflating: /tmp/ngc-cli/botocore/data/managedblockchain/2018-09-24/examples-1.json  \n",
      "  inflating: /tmp/ngc-cli/botocore/data/route53resolver/2018-04-01/paginators-1.json  \n",
      "  inflating: /tmp/ngc-cli/botocore/data/route53resolver/2018-04-01/paginators-1.sdk-extras.json  \n",
      " extracting: /tmp/ngc-cli/botocore/data/route53resolver/2018-04-01/endpoint-rule-set-1.json.gz  \n",
      "  inflating: /tmp/ngc-cli/botocore/data/route53resolver/2018-04-01/service-2.json.gz  \n",
      "  inflating: /tmp/ngc-cli/botocore/data/route53resolver/2018-04-01/examples-1.json  \n",
      "  inflating: /tmp/ngc-cli/botocore/data/cognito-identity/2014-06-30/paginators-1.json  \n",
      " extracting: /tmp/ngc-cli/botocore/data/cognito-identity/2014-06-30/endpoint-rule-set-1.json.gz  \n",
      " extracting: /tmp/ngc-cli/botocore/data/cognito-identity/2014-06-30/service-2.json.gz  \n",
      "  inflating: /tmp/ngc-cli/botocore/data/cognito-identity/2014-06-30/examples-1.json  \n",
      "  inflating: /tmp/ngc-cli/botocore/data/transfer/2018-11-05/waiters-2.json  \n",
      "  inflating: /tmp/ngc-cli/botocore/data/transfer/2018-11-05/paginators-1.json  \n",
      " extracting: /tmp/ngc-cli/botocore/data/transfer/2018-11-05/endpoint-rule-set-1.json.gz  \n",
      "  inflating: /tmp/ngc-cli/botocore/data/transfer/2018-11-05/service-2.json.gz  \n",
      "  inflating: /tmp/ngc-cli/botocore/data/transfer/2018-11-05/examples-1.json  \n",
      "  inflating: /tmp/ngc-cli/botocore/data/bedrock/2023-04-20/waiters-2.json  \n",
      "  inflating: /tmp/ngc-cli/botocore/data/bedrock/2023-04-20/paginators-1.json  \n",
      " extracting: /tmp/ngc-cli/botocore/data/bedrock/2023-04-20/endpoint-rule-set-1.json.gz  \n",
      " extracting: /tmp/ngc-cli/botocore/data/bedrock/2023-04-20/service-2.json.gz  \n",
      "  inflating: /tmp/ngc-cli/botocore/data/servicediscovery/2017-03-14/paginators-1.json  \n",
      " extracting: /tmp/ngc-cli/botocore/data/servicediscovery/2017-03-14/endpoint-rule-set-1.json.gz  \n",
      " extracting: /tmp/ngc-cli/botocore/data/servicediscovery/2017-03-14/service-2.json.gz  \n",
      "  inflating: /tmp/ngc-cli/botocore/data/servicediscovery/2017-03-14/examples-1.json  \n",
      " extracting: /tmp/ngc-cli/botocore/data/auditmanager/2017-07-25/paginators-1.json  \n",
      " extracting: /tmp/ngc-cli/botocore/data/auditmanager/2017-07-25/endpoint-rule-set-1.json.gz  \n",
      " extracting: /tmp/ngc-cli/botocore/data/auditmanager/2017-07-25/service-2.json.gz  \n",
      "  inflating: /tmp/ngc-cli/botocore/data/auditmanager/2017-07-25/examples-1.json  \n",
      "  inflating: /tmp/ngc-cli/botocore/data/migrationhubstrategy/2020-02-19/paginators-1.json  \n",
      "  inflating: /tmp/ngc-cli/botocore/data/migrationhubstrategy/2020-02-19/paginators-1.sdk-extras.json  \n",
      " extracting: /tmp/ngc-cli/botocore/data/migrationhubstrategy/2020-02-19/endpoint-rule-set-1.json.gz  \n",
      " extracting: /tmp/ngc-cli/botocore/data/migrationhubstrategy/2020-02-19/service-2.json.gz  \n",
      "  inflating: /tmp/ngc-cli/botocore/data/migrationhubstrategy/2020-02-19/examples-1.json  \n",
      "  inflating: /tmp/ngc-cli/botocore/data/elastictranscoder/2012-09-25/waiters-2.json  \n",
      "  inflating: /tmp/ngc-cli/botocore/data/elastictranscoder/2012-09-25/paginators-1.json  \n",
      " extracting: /tmp/ngc-cli/botocore/data/elastictranscoder/2012-09-25/endpoint-rule-set-1.json.gz  \n",
      "  inflating: /tmp/ngc-cli/botocore/data/elastictranscoder/2012-09-25/service-2.json.gz  \n",
      "  inflating: /tmp/ngc-cli/botocore/data/elastictranscoder/2012-09-25/examples-1.json  \n",
      "  inflating: /tmp/ngc-cli/botocore/data/s3outposts/2017-07-25/paginators-1.json  \n",
      " extracting: /tmp/ngc-cli/botocore/data/s3outposts/2017-07-25/endpoint-rule-set-1.json.gz  \n",
      " extracting: /tmp/ngc-cli/botocore/data/s3outposts/2017-07-25/service-2.json.gz  \n",
      "  inflating: /tmp/ngc-cli/botocore/data/s3outposts/2017-07-25/examples-1.json  \n",
      "  inflating: /tmp/ngc-cli/botocore/data/drs/2020-02-26/paginators-1.json  \n",
      " extracting: /tmp/ngc-cli/botocore/data/drs/2020-02-26/endpoint-rule-set-1.json.gz  \n",
      " extracting: /tmp/ngc-cli/botocore/data/drs/2020-02-26/service-2.json.gz  \n",
      "  inflating: /tmp/ngc-cli/botocore/data/drs/2020-02-26/examples-1.json  \n",
      " extracting: /tmp/ngc-cli/botocore/data/cloudsearchdomain/2013-01-01/endpoint-rule-set-1.json.gz  \n",
      " extracting: /tmp/ngc-cli/botocore/data/cloudsearchdomain/2013-01-01/service-2.json.gz  \n",
      "  inflating: /tmp/ngc-cli/botocore/data/cloudsearchdomain/2013-01-01/examples-1.json  \n",
      "  inflating: /tmp/ngc-cli/botocore/data/mgh/2017-05-31/paginators-1.json  \n",
      " extracting: /tmp/ngc-cli/botocore/data/mgh/2017-05-31/endpoint-rule-set-1.json.gz  \n",
      " extracting: /tmp/ngc-cli/botocore/data/mgh/2017-05-31/service-2.json.gz  \n",
      "  inflating: /tmp/ngc-cli/botocore/data/mgh/2017-05-31/examples-1.json  \n",
      "  inflating: /tmp/ngc-cli/botocore/data/ivs/2020-07-14/paginators-1.json  \n",
      " extracting: /tmp/ngc-cli/botocore/data/ivs/2020-07-14/endpoint-rule-set-1.json.gz  \n",
      " extracting: /tmp/ngc-cli/botocore/data/ivs/2020-07-14/service-2.json.gz  \n",
      "  inflating: /tmp/ngc-cli/botocore/data/ivs/2020-07-14/examples-1.json  \n",
      " extracting: /tmp/ngc-cli/botocore/data/worklink/2018-09-25/paginators-1.json  \n",
      " extracting: /tmp/ngc-cli/botocore/data/worklink/2018-09-25/endpoint-rule-set-1.json.gz  \n",
      " extracting: /tmp/ngc-cli/botocore/data/worklink/2018-09-25/service-2.json.gz  \n",
      "  inflating: /tmp/ngc-cli/botocore/data/worklink/2018-09-25/examples-1.json  \n",
      "  inflating: /tmp/ngc-cli/botocore/data/grafana/2020-08-18/paginators-1.json  \n",
      " extracting: /tmp/ngc-cli/botocore/data/grafana/2020-08-18/endpoint-rule-set-1.json.gz  \n",
      " extracting: /tmp/ngc-cli/botocore/data/grafana/2020-08-18/service-2.json.gz  \n",
      "  inflating: /tmp/ngc-cli/botocore/data/grafana/2020-08-18/examples-1.json  \n",
      "  inflating: /tmp/ngc-cli/botocore/data/bedrock-agent-runtime/2023-07-26/paginators-1.json  \n",
      " extracting: /tmp/ngc-cli/botocore/data/bedrock-agent-runtime/2023-07-26/endpoint-rule-set-1.json.gz  \n",
      " extracting: /tmp/ngc-cli/botocore/data/bedrock-agent-runtime/2023-07-26/service-2.json.gz  \n",
      "  inflating: /tmp/ngc-cli/botocore/data/support/2013-04-15/paginators-1.json  \n",
      " extracting: /tmp/ngc-cli/botocore/data/support/2013-04-15/endpoint-rule-set-1.json.gz  \n",
      " extracting: /tmp/ngc-cli/botocore/data/support/2013-04-15/service-2.json.gz  \n",
      "  inflating: /tmp/ngc-cli/botocore/data/support/2013-04-15/examples-1.json  \n",
      "  inflating: /tmp/ngc-cli/botocore/data/proton/2020-07-20/waiters-2.json  \n",
      "  inflating: /tmp/ngc-cli/botocore/data/proton/2020-07-20/paginators-1.json  \n",
      " extracting: /tmp/ngc-cli/botocore/data/proton/2020-07-20/endpoint-rule-set-1.json.gz  \n",
      " extracting: /tmp/ngc-cli/botocore/data/proton/2020-07-20/service-2.json.gz  \n",
      "  inflating: /tmp/ngc-cli/botocore/data/proton/2020-07-20/examples-1.json  \n",
      " extracting: /tmp/ngc-cli/botocore/data/iotsecuretunneling/2018-10-05/paginators-1.json  \n",
      " extracting: /tmp/ngc-cli/botocore/data/iotsecuretunneling/2018-10-05/endpoint-rule-set-1.json.gz  \n",
      " extracting: /tmp/ngc-cli/botocore/data/iotsecuretunneling/2018-10-05/service-2.json.gz  \n",
      "  inflating: /tmp/ngc-cli/botocore/data/iotsecuretunneling/2018-10-05/examples-1.json  \n",
      " extracting: /tmp/ngc-cli/botocore/data/sts/2011-06-15/paginators-1.json  \n",
      " extracting: /tmp/ngc-cli/botocore/data/sts/2011-06-15/endpoint-rule-set-1.json.gz  \n",
      " extracting: /tmp/ngc-cli/botocore/data/sts/2011-06-15/service-2.json.gz  \n",
      "  inflating: /tmp/ngc-cli/botocore/data/sts/2011-06-15/examples-1.json  \n",
      " extracting: /tmp/ngc-cli/botocore/data/kendra/2019-02-03/paginators-1.json  \n",
      " extracting: /tmp/ngc-cli/botocore/data/kendra/2019-02-03/endpoint-rule-set-1.json.gz  \n",
      "  inflating: /tmp/ngc-cli/botocore/data/kendra/2019-02-03/service-2.json.gz  \n",
      "  inflating: /tmp/ngc-cli/botocore/data/kendra/2019-02-03/examples-1.json  \n",
      "  inflating: /tmp/ngc-cli/botocore/data/storagegateway/2013-06-30/paginators-1.json  \n",
      " extracting: /tmp/ngc-cli/botocore/data/storagegateway/2013-06-30/endpoint-rule-set-1.json.gz  \n",
      "  inflating: /tmp/ngc-cli/botocore/data/storagegateway/2013-06-30/service-2.json.gz  \n",
      "  inflating: /tmp/ngc-cli/botocore/data/storagegateway/2013-06-30/examples-1.json  \n",
      "  inflating: /tmp/ngc-cli/botocore/data/mediapackagev2/2022-12-25/waiters-2.json  \n",
      "  inflating: /tmp/ngc-cli/botocore/data/mediapackagev2/2022-12-25/paginators-1.json  \n",
      " extracting: /tmp/ngc-cli/botocore/data/mediapackagev2/2022-12-25/endpoint-rule-set-1.json.gz  \n",
      " extracting: /tmp/ngc-cli/botocore/data/mediapackagev2/2022-12-25/service-2.json.gz  \n",
      " extracting: /tmp/ngc-cli/botocore/data/opensearch/2021-01-01/paginators-1.json  \n",
      " extracting: /tmp/ngc-cli/botocore/data/opensearch/2021-01-01/endpoint-rule-set-1.json.gz  \n",
      "  inflating: /tmp/ngc-cli/botocore/data/opensearch/2021-01-01/service-2.json.gz  \n",
      "  inflating: /tmp/ngc-cli/botocore/data/opensearch/2021-01-01/examples-1.json  \n",
      "  inflating: /tmp/ngc-cli/botocore/data/mturk/2017-01-17/paginators-1.json  \n",
      " extracting: /tmp/ngc-cli/botocore/data/mturk/2017-01-17/endpoint-rule-set-1.json.gz  \n",
      " extracting: /tmp/ngc-cli/botocore/data/mturk/2017-01-17/service-2.json.gz  \n",
      "  inflating: /tmp/ngc-cli/botocore/data/mturk/2017-01-17/examples-1.json  \n",
      "  inflating: /tmp/ngc-cli/botocore/data/gamelift/2015-10-01/paginators-1.json  \n",
      " extracting: /tmp/ngc-cli/botocore/data/gamelift/2015-10-01/endpoint-rule-set-1.json.gz  \n",
      "  inflating: /tmp/ngc-cli/botocore/data/gamelift/2015-10-01/service-2.json.gz  \n",
      "  inflating: /tmp/ngc-cli/botocore/data/gamelift/2015-10-01/examples-1.json  \n",
      "  inflating: /tmp/ngc-cli/botocore/data/account/2021-02-01/paginators-1.json  \n",
      " extracting: /tmp/ngc-cli/botocore/data/account/2021-02-01/endpoint-rule-set-1.json.gz  \n",
      " extracting: /tmp/ngc-cli/botocore/data/account/2021-02-01/service-2.json.gz  \n",
      "  inflating: /tmp/ngc-cli/botocore/data/account/2021-02-01/examples-1.json  \n",
      "  inflating: /tmp/ngc-cli/botocore/data/quicksight/2018-04-01/paginators-1.json  \n",
      "  inflating: /tmp/ngc-cli/botocore/data/quicksight/2018-04-01/paginators-1.sdk-extras.json  \n",
      " extracting: /tmp/ngc-cli/botocore/data/quicksight/2018-04-01/endpoint-rule-set-1.json.gz  \n",
      "  inflating: /tmp/ngc-cli/botocore/data/quicksight/2018-04-01/service-2.json.gz  \n",
      "  inflating: /tmp/ngc-cli/botocore/data/quicksight/2018-04-01/examples-1.json  \n",
      "  inflating: /tmp/ngc-cli/botocore/data/marketplace-entitlement/2017-01-11/paginators-1.json  \n",
      " extracting: /tmp/ngc-cli/botocore/data/marketplace-entitlement/2017-01-11/endpoint-rule-set-1.json.gz  \n",
      " extracting: /tmp/ngc-cli/botocore/data/marketplace-entitlement/2017-01-11/service-2.json.gz  \n",
      "  inflating: /tmp/ngc-cli/botocore/data/marketplace-entitlement/2017-01-11/examples-1.json  \n",
      "  inflating: /tmp/ngc-cli/botocore/data/emr-containers/2020-10-01/paginators-1.json  \n",
      " extracting: /tmp/ngc-cli/botocore/data/emr-containers/2020-10-01/endpoint-rule-set-1.json.gz  \n",
      " extracting: /tmp/ngc-cli/botocore/data/emr-containers/2020-10-01/service-2.json.gz  \n",
      "  inflating: /tmp/ngc-cli/botocore/data/emr-containers/2020-10-01/examples-1.json  \n",
      "  inflating: /tmp/ngc-cli/botocore/data/accessanalyzer/2019-11-01/paginators-1.json  \n",
      "  inflating: /tmp/ngc-cli/botocore/data/accessanalyzer/2019-11-01/paginators-1.sdk-extras.json  \n",
      " extracting: /tmp/ngc-cli/botocore/data/accessanalyzer/2019-11-01/endpoint-rule-set-1.json.gz  \n",
      " extracting: /tmp/ngc-cli/botocore/data/accessanalyzer/2019-11-01/service-2.json.gz  \n",
      "  inflating: /tmp/ngc-cli/botocore/data/accessanalyzer/2019-11-01/examples-1.json  \n",
      " extracting: /tmp/ngc-cli/botocore/data/iotevents/2018-07-27/paginators-1.json  \n",
      " extracting: /tmp/ngc-cli/botocore/data/iotevents/2018-07-27/endpoint-rule-set-1.json.gz  \n",
      " extracting: /tmp/ngc-cli/botocore/data/iotevents/2018-07-27/service-2.json.gz  \n",
      "  inflating: /tmp/ngc-cli/botocore/data/iotevents/2018-07-27/examples-1.json  \n",
      "  inflating: /tmp/ngc-cli/botocore/data/dms/2016-01-01/waiters-2.json  \n",
      "  inflating: /tmp/ngc-cli/botocore/data/dms/2016-01-01/paginators-1.json  \n",
      " extracting: /tmp/ngc-cli/botocore/data/dms/2016-01-01/endpoint-rule-set-1.json.gz  \n",
      "  inflating: /tmp/ngc-cli/botocore/data/dms/2016-01-01/service-2.json.gz  \n",
      "  inflating: /tmp/ngc-cli/botocore/data/dms/2016-01-01/examples-1.json  \n",
      "  inflating: /tmp/ngc-cli/botocore/data/resource-explorer-2/2022-07-28/paginators-1.json  \n",
      "  inflating: /tmp/ngc-cli/botocore/data/resource-explorer-2/2022-07-28/paginators-1.sdk-extras.json  \n",
      " extracting: /tmp/ngc-cli/botocore/data/resource-explorer-2/2022-07-28/endpoint-rule-set-1.json.gz  \n",
      " extracting: /tmp/ngc-cli/botocore/data/resource-explorer-2/2022-07-28/service-2.json.gz  \n",
      "  inflating: /tmp/ngc-cli/botocore/data/shield/2016-06-02/paginators-1.json  \n",
      " extracting: /tmp/ngc-cli/botocore/data/shield/2016-06-02/endpoint-rule-set-1.json.gz  \n",
      " extracting: /tmp/ngc-cli/botocore/data/shield/2016-06-02/service-2.json.gz  \n",
      "  inflating: /tmp/ngc-cli/botocore/data/shield/2016-06-02/examples-1.json  \n",
      "  inflating: /tmp/ngc-cli/botocore/data/freetier/2023-09-07/paginators-1.json  \n",
      " extracting: /tmp/ngc-cli/botocore/data/freetier/2023-09-07/endpoint-rule-set-1.json.gz  \n",
      " extracting: /tmp/ngc-cli/botocore/data/freetier/2023-09-07/service-2.json.gz  \n",
      "  inflating: /tmp/ngc-cli/botocore/data/stepfunctions/2016-11-23/paginators-1.json  \n",
      " extracting: /tmp/ngc-cli/botocore/data/stepfunctions/2016-11-23/endpoint-rule-set-1.json.gz  \n",
      " extracting: /tmp/ngc-cli/botocore/data/stepfunctions/2016-11-23/service-2.json.gz  \n",
      "  inflating: /tmp/ngc-cli/botocore/data/stepfunctions/2016-11-23/examples-1.json  \n",
      "  inflating: /tmp/ngc-cli/botocore/data/iotfleetwise/2021-06-17/waiters-2.json  \n",
      "  inflating: /tmp/ngc-cli/botocore/data/iotfleetwise/2021-06-17/paginators-1.json  \n",
      " extracting: /tmp/ngc-cli/botocore/data/iotfleetwise/2021-06-17/endpoint-rule-set-1.json.gz  \n",
      " extracting: /tmp/ngc-cli/botocore/data/iotfleetwise/2021-06-17/service-2.json.gz  \n",
      " extracting: /tmp/ngc-cli/botocore/data/sagemaker-featurestore-runtime/2020-07-01/paginators-1.json  \n",
      " extracting: /tmp/ngc-cli/botocore/data/sagemaker-featurestore-runtime/2020-07-01/endpoint-rule-set-1.json.gz  \n",
      " extracting: /tmp/ngc-cli/botocore/data/sagemaker-featurestore-runtime/2020-07-01/service-2.json.gz  \n",
      "  inflating: /tmp/ngc-cli/botocore/data/sagemaker-featurestore-runtime/2020-07-01/examples-1.json  \n",
      " extracting: /tmp/ngc-cli/botocore/data/connect-contact-lens/2020-08-21/paginators-1.json  \n",
      " extracting: /tmp/ngc-cli/botocore/data/connect-contact-lens/2020-08-21/endpoint-rule-set-1.json.gz  \n",
      " extracting: /tmp/ngc-cli/botocore/data/connect-contact-lens/2020-08-21/service-2.json.gz  \n",
      "  inflating: /tmp/ngc-cli/botocore/data/connect-contact-lens/2020-08-21/examples-1.json  \n",
      "  inflating: /tmp/ngc-cli/botocore/data/datazone/2018-05-10/paginators-1.json  \n",
      "  inflating: /tmp/ngc-cli/botocore/data/datazone/2018-05-10/paginators-1.sdk-extras.json  \n",
      " extracting: /tmp/ngc-cli/botocore/data/datazone/2018-05-10/endpoint-rule-set-1.json.gz  \n",
      "  inflating: /tmp/ngc-cli/botocore/data/datazone/2018-05-10/service-2.json.gz  \n",
      "  inflating: /tmp/ngc-cli/botocore/data/neptune/2014-10-31/waiters-2.json  \n",
      "  inflating: /tmp/ngc-cli/botocore/data/neptune/2014-10-31/paginators-1.json  \n",
      "  inflating: /tmp/ngc-cli/botocore/data/neptune/2014-10-31/service-2.sdk-extras.json  \n",
      " extracting: /tmp/ngc-cli/botocore/data/neptune/2014-10-31/endpoint-rule-set-1.json.gz  \n",
      "  inflating: /tmp/ngc-cli/botocore/data/neptune/2014-10-31/service-2.json.gz  \n",
      "  inflating: /tmp/ngc-cli/botocore/data/neptune/2014-10-31/examples-1.json  \n",
      "  inflating: /tmp/ngc-cli/botocore/data/sdb/2009-04-15/paginators-1.json  \n",
      " extracting: /tmp/ngc-cli/botocore/data/sdb/2009-04-15/endpoint-rule-set-1.json.gz  \n",
      " extracting: /tmp/ngc-cli/botocore/data/sdb/2009-04-15/service-2.json.gz  \n",
      "  inflating: /tmp/ngc-cli/botocore/data/dynamodb/2012-08-10/waiters-2.json  \n",
      "  inflating: /tmp/ngc-cli/botocore/data/dynamodb/2012-08-10/paginators-1.json  \n",
      " extracting: /tmp/ngc-cli/botocore/data/dynamodb/2012-08-10/endpoint-rule-set-1.json.gz  \n",
      "  inflating: /tmp/ngc-cli/botocore/data/dynamodb/2012-08-10/service-2.json.gz  \n",
      "  inflating: /tmp/ngc-cli/botocore/data/dynamodb/2012-08-10/examples-1.json  \n",
      " extracting: /tmp/ngc-cli/botocore/data/dynamodb/2011-12-05/endpoint-rule-set-1.json.gz  \n",
      "  inflating: /tmp/ngc-cli/botocore/data/dynamodb/2011-12-05/examples-1.json  \n",
      " extracting: /tmp/ngc-cli/botocore/data/sagemaker-metrics/2022-09-30/paginators-1.json  \n",
      " extracting: /tmp/ngc-cli/botocore/data/sagemaker-metrics/2022-09-30/endpoint-rule-set-1.json.gz  \n",
      " extracting: /tmp/ngc-cli/botocore/data/sagemaker-metrics/2022-09-30/service-2.json.gz  \n",
      "  inflating: /tmp/ngc-cli/botocore/data/swf/2012-01-25/paginators-1.json  \n",
      " extracting: /tmp/ngc-cli/botocore/data/swf/2012-01-25/endpoint-rule-set-1.json.gz  \n",
      "  inflating: /tmp/ngc-cli/botocore/data/swf/2012-01-25/service-2.json.gz  \n",
      "  inflating: /tmp/ngc-cli/botocore/data/swf/2012-01-25/examples-1.json  \n",
      "  inflating: /tmp/ngc-cli/botocore/data/oam/2022-06-10/paginators-1.json  \n",
      " extracting: /tmp/ngc-cli/botocore/data/oam/2022-06-10/endpoint-rule-set-1.json.gz  \n",
      " extracting: /tmp/ngc-cli/botocore/data/oam/2022-06-10/service-2.json.gz  \n",
      " extracting: /tmp/ngc-cli/botocore/data/application-insights/2018-11-25/paginators-1.json  \n",
      " extracting: /tmp/ngc-cli/botocore/data/application-insights/2018-11-25/endpoint-rule-set-1.json.gz  \n",
      " extracting: /tmp/ngc-cli/botocore/data/application-insights/2018-11-25/service-2.json.gz  \n",
      "  inflating: /tmp/ngc-cli/botocore/data/application-insights/2018-11-25/examples-1.json  \n",
      "  inflating: /tmp/ngc-cli/botocore/data/sso-admin/2020-07-20/paginators-1.json  \n",
      " extracting: /tmp/ngc-cli/botocore/data/sso-admin/2020-07-20/endpoint-rule-set-1.json.gz  \n",
      "  inflating: /tmp/ngc-cli/botocore/data/sso-admin/2020-07-20/service-2.json.gz  \n",
      "  inflating: /tmp/ngc-cli/botocore/data/sso-admin/2020-07-20/examples-1.json  \n",
      "  inflating: /tmp/ngc-cli/botocore/data/iot1click-projects/2018-05-14/paginators-1.json  \n",
      " extracting: /tmp/ngc-cli/botocore/data/iot1click-projects/2018-05-14/endpoint-rule-set-1.json.gz  \n",
      " extracting: /tmp/ngc-cli/botocore/data/iot1click-projects/2018-05-14/service-2.json.gz  \n",
      "  inflating: /tmp/ngc-cli/botocore/data/iot1click-projects/2018-05-14/examples-1.json  \n",
      "  inflating: /tmp/ngc-cli/botocore/data/mq/2017-11-27/paginators-1.json  \n",
      " extracting: /tmp/ngc-cli/botocore/data/mq/2017-11-27/endpoint-rule-set-1.json.gz  \n",
      "  inflating: /tmp/ngc-cli/botocore/data/mq/2017-11-27/service-2.json.gz  \n",
      "  inflating: /tmp/ngc-cli/botocore/data/repostspace/2022-05-13/paginators-1.json  \n",
      " extracting: /tmp/ngc-cli/botocore/data/repostspace/2022-05-13/endpoint-rule-set-1.json.gz  \n",
      " extracting: /tmp/ngc-cli/botocore/data/repostspace/2022-05-13/service-2.json.gz  \n",
      "  inflating: /tmp/ngc-cli/botocore/data/iotanalytics/2017-11-27/paginators-1.json  \n",
      " extracting: /tmp/ngc-cli/botocore/data/iotanalytics/2017-11-27/endpoint-rule-set-1.json.gz  \n",
      " extracting: /tmp/ngc-cli/botocore/data/iotanalytics/2017-11-27/service-2.json.gz  \n",
      "  inflating: /tmp/ngc-cli/botocore/data/iotanalytics/2017-11-27/examples-1.json  \n",
      "  inflating: /tmp/ngc-cli/botocore/data/connect/2017-08-08/paginators-1.json  \n",
      " extracting: /tmp/ngc-cli/botocore/data/connect/2017-08-08/endpoint-rule-set-1.json.gz  \n",
      "  inflating: /tmp/ngc-cli/botocore/data/connect/2017-08-08/service-2.json.gz  \n",
      "  inflating: /tmp/ngc-cli/botocore/data/connect/2017-08-08/examples-1.json  \n",
      "  inflating: /tmp/ngc-cli/botocore/data/marketplace-catalog/2018-09-17/paginators-1.json  \n",
      " extracting: /tmp/ngc-cli/botocore/data/marketplace-catalog/2018-09-17/endpoint-rule-set-1.json.gz  \n",
      " extracting: /tmp/ngc-cli/botocore/data/marketplace-catalog/2018-09-17/service-2.json.gz  \n",
      "  inflating: /tmp/ngc-cli/botocore/data/marketplace-catalog/2018-09-17/examples-1.json  \n",
      "  inflating: /tmp/ngc-cli/botocore/data/macie2/2020-01-01/waiters-2.json  \n",
      "  inflating: /tmp/ngc-cli/botocore/data/macie2/2020-01-01/paginators-1.json  \n",
      " extracting: /tmp/ngc-cli/botocore/data/macie2/2020-01-01/endpoint-rule-set-1.json.gz  \n",
      "  inflating: /tmp/ngc-cli/botocore/data/macie2/2020-01-01/service-2.json.gz  \n",
      "  inflating: /tmp/ngc-cli/botocore/data/sso/2019-06-10/paginators-1.json  \n",
      " extracting: /tmp/ngc-cli/botocore/data/sso/2019-06-10/endpoint-rule-set-1.json.gz  \n",
      " extracting: /tmp/ngc-cli/botocore/data/sso/2019-06-10/service-2.json.gz  \n",
      "  inflating: /tmp/ngc-cli/botocore/data/sso/2019-06-10/examples-1.json  \n",
      " extracting: /tmp/ngc-cli/botocore/data/connectparticipant/2018-09-07/paginators-1.json  \n",
      " extracting: /tmp/ngc-cli/botocore/data/connectparticipant/2018-09-07/endpoint-rule-set-1.json.gz  \n",
      " extracting: /tmp/ngc-cli/botocore/data/connectparticipant/2018-09-07/service-2.json.gz  \n",
      "  inflating: /tmp/ngc-cli/botocore/data/connectparticipant/2018-09-07/examples-1.json  \n",
      "  inflating: /tmp/ngc-cli/botocore/data/codecommit/2015-04-13/paginators-1.json  \n",
      " extracting: /tmp/ngc-cli/botocore/data/codecommit/2015-04-13/endpoint-rule-set-1.json.gz  \n",
      "  inflating: /tmp/ngc-cli/botocore/data/codecommit/2015-04-13/service-2.json.gz  \n",
      "  inflating: /tmp/ngc-cli/botocore/data/codecommit/2015-04-13/examples-1.json  \n",
      "  inflating: /tmp/ngc-cli/botocore/data/cost-optimization-hub/2022-07-26/paginators-1.json  \n",
      "  inflating: /tmp/ngc-cli/botocore/data/cost-optimization-hub/2022-07-26/paginators-1.sdk-extras.json  \n",
      " extracting: /tmp/ngc-cli/botocore/data/cost-optimization-hub/2022-07-26/endpoint-rule-set-1.json.gz  \n",
      " extracting: /tmp/ngc-cli/botocore/data/cost-optimization-hub/2022-07-26/service-2.json.gz  \n",
      "  inflating: /tmp/ngc-cli/botocore/data/waf/2015-08-24/paginators-1.json  \n",
      " extracting: /tmp/ngc-cli/botocore/data/waf/2015-08-24/endpoint-rule-set-1.json.gz  \n",
      "  inflating: /tmp/ngc-cli/botocore/data/waf/2015-08-24/service-2.json.gz  \n",
      "  inflating: /tmp/ngc-cli/botocore/data/waf/2015-08-24/examples-1.json  \n",
      "  inflating: /tmp/ngc-cli/botocore/data/codestar-notifications/2019-10-15/paginators-1.json  \n",
      " extracting: /tmp/ngc-cli/botocore/data/codestar-notifications/2019-10-15/endpoint-rule-set-1.json.gz  \n",
      " extracting: /tmp/ngc-cli/botocore/data/codestar-notifications/2019-10-15/service-2.json.gz  \n",
      "  inflating: /tmp/ngc-cli/botocore/data/codestar-notifications/2019-10-15/examples-1.json  \n",
      "  inflating: /tmp/ngc-cli/botocore/data/ds/2015-04-16/paginators-1.json  \n",
      " extracting: /tmp/ngc-cli/botocore/data/ds/2015-04-16/endpoint-rule-set-1.json.gz  \n",
      " extracting: /tmp/ngc-cli/botocore/data/ds/2015-04-16/service-2.json.gz  \n",
      "  inflating: /tmp/ngc-cli/botocore/data/ds/2015-04-16/examples-1.json  \n",
      "  inflating: /tmp/ngc-cli/botocore/data/eks/2017-11-01/waiters-2.json  \n",
      "  inflating: /tmp/ngc-cli/botocore/data/eks/2017-11-01/paginators-1.json  \n",
      "  inflating: /tmp/ngc-cli/botocore/data/eks/2017-11-01/service-2.sdk-extras.json  \n",
      " extracting: /tmp/ngc-cli/botocore/data/eks/2017-11-01/endpoint-rule-set-1.json.gz  \n",
      "  inflating: /tmp/ngc-cli/botocore/data/eks/2017-11-01/service-2.json.gz  \n",
      "  inflating: /tmp/ngc-cli/botocore/data/eks/2017-11-01/examples-1.json  \n",
      "  inflating: /tmp/ngc-cli/botocore/data/alexaforbusiness/2017-11-09/paginators-1.json  \n",
      " extracting: /tmp/ngc-cli/botocore/data/alexaforbusiness/2017-11-09/endpoint-rule-set-1.json.gz  \n",
      " extracting: /tmp/ngc-cli/botocore/data/alexaforbusiness/2017-11-09/service-2.json.gz  \n",
      "  inflating: /tmp/ngc-cli/botocore/data/alexaforbusiness/2017-11-09/examples-1.json  \n",
      "  inflating: /tmp/ngc-cli/botocore/data/amp/2020-08-01/waiters-2.json  \n",
      "  inflating: /tmp/ngc-cli/botocore/data/amp/2020-08-01/paginators-1.json  \n",
      " extracting: /tmp/ngc-cli/botocore/data/amp/2020-08-01/endpoint-rule-set-1.json.gz  \n",
      " extracting: /tmp/ngc-cli/botocore/data/amp/2020-08-01/service-2.json.gz  \n",
      "  inflating: /tmp/ngc-cli/botocore/data/amp/2020-08-01/examples-1.json  \n",
      "  inflating: /tmp/ngc-cli/botocore/data/mediastore-data/2017-09-01/paginators-1.json  \n",
      " extracting: /tmp/ngc-cli/botocore/data/mediastore-data/2017-09-01/endpoint-rule-set-1.json.gz  \n",
      " extracting: /tmp/ngc-cli/botocore/data/mediastore-data/2017-09-01/service-2.json.gz  \n",
      "  inflating: /tmp/ngc-cli/botocore/data/mediastore-data/2017-09-01/examples-1.json  \n",
      "  inflating: /tmp/ngc-cli/botocore/data/mediaconvert/2017-08-29/paginators-1.json  \n",
      " extracting: /tmp/ngc-cli/botocore/data/mediaconvert/2017-08-29/endpoint-rule-set-1.json.gz  \n",
      "  inflating: /tmp/ngc-cli/botocore/data/mediaconvert/2017-08-29/service-2.json.gz  \n",
      "  inflating: /tmp/ngc-cli/botocore/data/pca-connector-ad/2018-05-10/paginators-1.json  \n",
      " extracting: /tmp/ngc-cli/botocore/data/pca-connector-ad/2018-05-10/endpoint-rule-set-1.json.gz  \n",
      " extracting: /tmp/ngc-cli/botocore/data/pca-connector-ad/2018-05-10/service-2.json.gz  \n",
      "  inflating: /tmp/ngc-cli/botocore/data/kinesis/2013-12-02/waiters-2.json  \n",
      "  inflating: /tmp/ngc-cli/botocore/data/kinesis/2013-12-02/paginators-1.json  \n",
      "  inflating: /tmp/ngc-cli/botocore/data/kinesis/2013-12-02/endpoint-rule-set-1.json.gz  \n",
      "  inflating: /tmp/ngc-cli/botocore/data/kinesis/2013-12-02/service-2.json.gz  \n",
      "  inflating: /tmp/ngc-cli/botocore/data/kinesis/2013-12-02/examples-1.json  \n",
      "  inflating: /tmp/ngc-cli/botocore/data/endpoints.json  \n",
      "  inflating: /tmp/ngc-cli/botocore/data/fms/2018-01-01/paginators-1.json  \n",
      " extracting: /tmp/ngc-cli/botocore/data/fms/2018-01-01/endpoint-rule-set-1.json.gz  \n",
      " extracting: /tmp/ngc-cli/botocore/data/fms/2018-01-01/service-2.json.gz  \n",
      "  inflating: /tmp/ngc-cli/botocore/data/fms/2018-01-01/examples-1.json  \n",
      "  inflating: /tmp/ngc-cli/botocore/data/groundstation/2019-05-23/waiters-2.json  \n",
      "  inflating: /tmp/ngc-cli/botocore/data/groundstation/2019-05-23/paginators-1.json  \n",
      " extracting: /tmp/ngc-cli/botocore/data/groundstation/2019-05-23/endpoint-rule-set-1.json.gz  \n",
      " extracting: /tmp/ngc-cli/botocore/data/groundstation/2019-05-23/service-2.json.gz  \n",
      "  inflating: /tmp/ngc-cli/botocore/data/groundstation/2019-05-23/examples-1.json  \n",
      "  inflating: /tmp/ngc-cli/botocore/data/directconnect/2012-10-25/paginators-1.json  \n",
      " extracting: /tmp/ngc-cli/botocore/data/directconnect/2012-10-25/endpoint-rule-set-1.json.gz  \n",
      " extracting: /tmp/ngc-cli/botocore/data/directconnect/2012-10-25/service-2.json.gz  \n",
      "  inflating: /tmp/ngc-cli/botocore/data/directconnect/2012-10-25/examples-1.json  \n",
      " extracting: /tmp/ngc-cli/botocore/data/qldb-session/2019-07-11/paginators-1.json  \n",
      " extracting: /tmp/ngc-cli/botocore/data/qldb-session/2019-07-11/endpoint-rule-set-1.json.gz  \n",
      " extracting: /tmp/ngc-cli/botocore/data/qldb-session/2019-07-11/service-2.json.gz  \n",
      "  inflating: /tmp/ngc-cli/botocore/data/qldb-session/2019-07-11/examples-1.json  \n",
      "  inflating: /tmp/ngc-cli/botocore/data/lakeformation/2017-03-31/paginators-1.json  \n",
      "  inflating: /tmp/ngc-cli/botocore/data/lakeformation/2017-03-31/paginators-1.sdk-extras.json  \n",
      " extracting: /tmp/ngc-cli/botocore/data/lakeformation/2017-03-31/endpoint-rule-set-1.json.gz  \n",
      " extracting: /tmp/ngc-cli/botocore/data/lakeformation/2017-03-31/service-2.json.gz  \n",
      "  inflating: /tmp/ngc-cli/botocore/data/lakeformation/2017-03-31/examples-1.json  \n",
      " extracting: /tmp/ngc-cli/botocore/data/payment-cryptography-data/2022-02-03/paginators-1.json  \n",
      " extracting: /tmp/ngc-cli/botocore/data/payment-cryptography-data/2022-02-03/endpoint-rule-set-1.json.gz  \n",
      " extracting: /tmp/ngc-cli/botocore/data/payment-cryptography-data/2022-02-03/service-2.json.gz  \n",
      "  inflating: /tmp/ngc-cli/botocore/data/servicecatalog-appregistry/2020-06-24/paginators-1.json  \n",
      " extracting: /tmp/ngc-cli/botocore/data/servicecatalog-appregistry/2020-06-24/endpoint-rule-set-1.json.gz  \n",
      " extracting: /tmp/ngc-cli/botocore/data/servicecatalog-appregistry/2020-06-24/service-2.json.gz  \n",
      "  inflating: /tmp/ngc-cli/botocore/data/servicecatalog-appregistry/2020-06-24/examples-1.json  \n",
      "  inflating: /tmp/ngc-cli/botocore/data/codepipeline/2015-07-09/paginators-1.json  \n",
      " extracting: /tmp/ngc-cli/botocore/data/codepipeline/2015-07-09/endpoint-rule-set-1.json.gz  \n",
      " extracting: /tmp/ngc-cli/botocore/data/codepipeline/2015-07-09/service-2.json.gz  \n",
      "  inflating: /tmp/ngc-cli/botocore/data/codepipeline/2015-07-09/examples-1.json  \n",
      "  inflating: /tmp/ngc-cli/botocore/data/sdk-default-configuration.json  \n",
      "  inflating: /tmp/ngc-cli/botocore/data/launch-wizard/2018-05-10/paginators-1.json  \n",
      " extracting: /tmp/ngc-cli/botocore/data/launch-wizard/2018-05-10/endpoint-rule-set-1.json.gz  \n",
      " extracting: /tmp/ngc-cli/botocore/data/launch-wizard/2018-05-10/service-2.json.gz  \n",
      " extracting: /tmp/ngc-cli/botocore/data/meteringmarketplace/2016-01-14/paginators-1.json  \n",
      " extracting: /tmp/ngc-cli/botocore/data/meteringmarketplace/2016-01-14/endpoint-rule-set-1.json.gz  \n",
      " extracting: /tmp/ngc-cli/botocore/data/meteringmarketplace/2016-01-14/service-2.json.gz  \n",
      "  inflating: /tmp/ngc-cli/botocore/data/meteringmarketplace/2016-01-14/examples-1.json  \n",
      "  inflating: /tmp/ngc-cli/botocore/data/networkmanager/2019-07-05/paginators-1.json  \n",
      " extracting: /tmp/ngc-cli/botocore/data/networkmanager/2019-07-05/endpoint-rule-set-1.json.gz  \n",
      " extracting: /tmp/ngc-cli/botocore/data/networkmanager/2019-07-05/service-2.json.gz  \n",
      "  inflating: /tmp/ngc-cli/botocore/data/networkmanager/2019-07-05/examples-1.json  \n",
      "  inflating: /tmp/ngc-cli/botocore/data/guardduty/2017-11-28/paginators-1.json  \n",
      " extracting: /tmp/ngc-cli/botocore/data/guardduty/2017-11-28/endpoint-rule-set-1.json.gz  \n",
      "  inflating: /tmp/ngc-cli/botocore/data/guardduty/2017-11-28/service-2.json.gz  \n",
      "  inflating: /tmp/ngc-cli/botocore/data/guardduty/2017-11-28/examples-1.json  \n",
      " extracting: /tmp/ngc-cli/botocore/data/cloudsearch/2013-01-01/paginators-1.json  \n",
      " extracting: /tmp/ngc-cli/botocore/data/cloudsearch/2013-01-01/endpoint-rule-set-1.json.gz  \n",
      " extracting: /tmp/ngc-cli/botocore/data/cloudsearch/2013-01-01/service-2.json.gz  \n",
      "  inflating: /tmp/ngc-cli/botocore/data/cloudsearch/2013-01-01/examples-1.json  \n",
      " extracting: /tmp/ngc-cli/botocore/data/cloudsearch/2011-02-01/endpoint-rule-set-1.json.gz  \n",
      " extracting: /tmp/ngc-cli/botocore/data/cloudsearch/2011-02-01/service-2.json.gz  \n",
      "  inflating: /tmp/ngc-cli/botocore/data/kafkaconnect/2021-09-14/paginators-1.json  \n",
      " extracting: /tmp/ngc-cli/botocore/data/kafkaconnect/2021-09-14/endpoint-rule-set-1.json.gz  \n",
      " extracting: /tmp/ngc-cli/botocore/data/kafkaconnect/2021-09-14/service-2.json.gz  \n",
      "  inflating: /tmp/ngc-cli/botocore/data/kafkaconnect/2021-09-14/examples-1.json  \n",
      "  inflating: /tmp/ngc-cli/botocore/data/docdb/2014-10-31/waiters-2.json  \n",
      "  inflating: /tmp/ngc-cli/botocore/data/docdb/2014-10-31/paginators-1.json  \n",
      "  inflating: /tmp/ngc-cli/botocore/data/docdb/2014-10-31/service-2.sdk-extras.json  \n",
      " extracting: /tmp/ngc-cli/botocore/data/docdb/2014-10-31/endpoint-rule-set-1.json.gz  \n",
      " extracting: /tmp/ngc-cli/botocore/data/docdb/2014-10-31/service-2.json.gz  \n",
      "  inflating: /tmp/ngc-cli/botocore/data/docdb/2014-10-31/examples-1.json  \n",
      "  inflating: /tmp/ngc-cli/botocore/data/cleanrooms/2022-02-17/waiters-2.json  \n",
      "  inflating: /tmp/ngc-cli/botocore/data/cleanrooms/2022-02-17/paginators-1.json  \n",
      " extracting: /tmp/ngc-cli/botocore/data/cleanrooms/2022-02-17/endpoint-rule-set-1.json.gz  \n",
      "  inflating: /tmp/ngc-cli/botocore/data/cleanrooms/2022-02-17/service-2.json.gz  \n",
      "  inflating: /tmp/ngc-cli/botocore/data/lookoutvision/2020-11-20/paginators-1.json  \n",
      " extracting: /tmp/ngc-cli/botocore/data/lookoutvision/2020-11-20/endpoint-rule-set-1.json.gz  \n",
      " extracting: /tmp/ngc-cli/botocore/data/lookoutvision/2020-11-20/service-2.json.gz  \n",
      "  inflating: /tmp/ngc-cli/botocore/data/lookoutvision/2020-11-20/examples-1.json  \n",
      "  inflating: /tmp/ngc-cli/botocore/data/customer-profiles/2020-08-15/paginators-1.json  \n",
      " extracting: /tmp/ngc-cli/botocore/data/customer-profiles/2020-08-15/endpoint-rule-set-1.json.gz  \n",
      "  inflating: /tmp/ngc-cli/botocore/data/customer-profiles/2020-08-15/service-2.json.gz  \n",
      "  inflating: /tmp/ngc-cli/botocore/data/customer-profiles/2020-08-15/examples-1.json  \n",
      "  inflating: /tmp/ngc-cli/botocore/data/verifiedpermissions/2021-12-01/waiters-2.json  \n",
      "  inflating: /tmp/ngc-cli/botocore/data/verifiedpermissions/2021-12-01/paginators-1.json  \n",
      " extracting: /tmp/ngc-cli/botocore/data/verifiedpermissions/2021-12-01/endpoint-rule-set-1.json.gz  \n",
      " extracting: /tmp/ngc-cli/botocore/data/verifiedpermissions/2021-12-01/service-2.json.gz  \n",
      " extracting: /tmp/ngc-cli/botocore/data/apigatewaymanagementapi/2018-11-29/paginators-1.json  \n",
      " extracting: /tmp/ngc-cli/botocore/data/apigatewaymanagementapi/2018-11-29/endpoint-rule-set-1.json.gz  \n",
      " extracting: /tmp/ngc-cli/botocore/data/apigatewaymanagementapi/2018-11-29/service-2.json.gz  \n",
      " extracting: /tmp/ngc-cli/botocore/data/backupstorage/2018-04-10/paginators-1.json  \n",
      " extracting: /tmp/ngc-cli/botocore/data/backupstorage/2018-04-10/endpoint-rule-set-1.json.gz  \n",
      " extracting: /tmp/ngc-cli/botocore/data/backupstorage/2018-04-10/service-2.json.gz  \n",
      "  inflating: /tmp/ngc-cli/botocore/data/chime-sdk-voice/2022-08-03/paginators-1.json  \n",
      " extracting: /tmp/ngc-cli/botocore/data/chime-sdk-voice/2022-08-03/endpoint-rule-set-1.json.gz  \n",
      " extracting: /tmp/ngc-cli/botocore/data/chime-sdk-voice/2022-08-03/service-2.json.gz  \n",
      "  inflating: /tmp/ngc-cli/botocore/data/sms/2016-10-24/paginators-1.json  \n",
      " extracting: /tmp/ngc-cli/botocore/data/sms/2016-10-24/endpoint-rule-set-1.json.gz  \n",
      " extracting: /tmp/ngc-cli/botocore/data/sms/2016-10-24/service-2.json.gz  \n",
      "  inflating: /tmp/ngc-cli/botocore/data/sms/2016-10-24/examples-1.json  \n",
      "  inflating: /tmp/ngc-cli/botocore/data/polly/2016-06-10/paginators-1.json  \n",
      " extracting: /tmp/ngc-cli/botocore/data/polly/2016-06-10/endpoint-rule-set-1.json.gz  \n",
      " extracting: /tmp/ngc-cli/botocore/data/polly/2016-06-10/service-2.json.gz  \n",
      "  inflating: /tmp/ngc-cli/botocore/data/polly/2016-06-10/examples-1.json  \n",
      " extracting: /tmp/ngc-cli/botocore/data/opensearchserverless/2021-11-01/paginators-1.json  \n",
      " extracting: /tmp/ngc-cli/botocore/data/opensearchserverless/2021-11-01/endpoint-rule-set-1.json.gz  \n",
      " extracting: /tmp/ngc-cli/botocore/data/opensearchserverless/2021-11-01/service-2.json.gz  \n",
      " extracting: /tmp/ngc-cli/botocore/data/migrationhub-config/2019-06-30/paginators-1.json  \n",
      " extracting: /tmp/ngc-cli/botocore/data/migrationhub-config/2019-06-30/endpoint-rule-set-1.json.gz  \n",
      " extracting: /tmp/ngc-cli/botocore/data/migrationhub-config/2019-06-30/service-2.json.gz  \n",
      "  inflating: /tmp/ngc-cli/botocore/data/migrationhub-config/2019-06-30/examples-1.json  \n",
      "  inflating: /tmp/ngc-cli/botocore/data/discovery/2015-11-01/paginators-1.json  \n",
      " extracting: /tmp/ngc-cli/botocore/data/discovery/2015-11-01/endpoint-rule-set-1.json.gz  \n",
      " extracting: /tmp/ngc-cli/botocore/data/discovery/2015-11-01/service-2.json.gz  \n",
      "  inflating: /tmp/ngc-cli/botocore/data/discovery/2015-11-01/examples-1.json  \n",
      "  inflating: /tmp/ngc-cli/botocore/data/elbv2/2015-12-01/waiters-2.json  \n",
      "  inflating: /tmp/ngc-cli/botocore/data/elbv2/2015-12-01/paginators-1.json  \n",
      " extracting: /tmp/ngc-cli/botocore/data/elbv2/2015-12-01/endpoint-rule-set-1.json.gz  \n",
      " extracting: /tmp/ngc-cli/botocore/data/elbv2/2015-12-01/service-2.json.gz  \n",
      "  inflating: /tmp/ngc-cli/botocore/data/elbv2/2015-12-01/examples-1.json  \n",
      "  inflating: /tmp/ngc-cli/botocore/data/inspector2/2020-06-08/paginators-1.json  \n",
      "  inflating: /tmp/ngc-cli/botocore/data/inspector2/2020-06-08/paginators-1.sdk-extras.json  \n",
      " extracting: /tmp/ngc-cli/botocore/data/inspector2/2020-06-08/endpoint-rule-set-1.json.gz  \n",
      " extracting: /tmp/ngc-cli/botocore/data/inspector2/2020-06-08/service-2.json.gz  \n",
      "  inflating: /tmp/ngc-cli/botocore/data/inspector2/2020-06-08/examples-1.json  \n",
      " extracting: /tmp/ngc-cli/botocore/data/sms-voice/2018-09-05/endpoint-rule-set-1.json.gz  \n",
      " extracting: /tmp/ngc-cli/botocore/data/sms-voice/2018-09-05/service-2.json.gz  \n",
      "  inflating: /tmp/ngc-cli/botocore/data/outposts/2019-12-03/paginators-1.json  \n",
      "  inflating: /tmp/ngc-cli/botocore/data/outposts/2019-12-03/paginators-1.sdk-extras.json  \n",
      " extracting: /tmp/ngc-cli/botocore/data/outposts/2019-12-03/endpoint-rule-set-1.json.gz  \n",
      " extracting: /tmp/ngc-cli/botocore/data/outposts/2019-12-03/service-2.json.gz  \n",
      "  inflating: /tmp/ngc-cli/botocore/data/outposts/2019-12-03/examples-1.json  \n",
      "  inflating: /tmp/ngc-cli/botocore/data/ram/2018-01-04/paginators-1.json  \n",
      " extracting: /tmp/ngc-cli/botocore/data/ram/2018-01-04/endpoint-rule-set-1.json.gz  \n",
      " extracting: /tmp/ngc-cli/botocore/data/ram/2018-01-04/service-2.json.gz  \n",
      "  inflating: /tmp/ngc-cli/botocore/data/ram/2018-01-04/examples-1.json  \n",
      "  inflating: /tmp/ngc-cli/botocore/data/cleanroomsml/2023-09-06/paginators-1.json  \n",
      " extracting: /tmp/ngc-cli/botocore/data/cleanroomsml/2023-09-06/endpoint-rule-set-1.json.gz  \n",
      " extracting: /tmp/ngc-cli/botocore/data/cleanroomsml/2023-09-06/service-2.json.gz  \n",
      " extracting: /tmp/ngc-cli/botocore/data/dynamodbstreams/2012-08-10/paginators-1.json  \n",
      " extracting: /tmp/ngc-cli/botocore/data/dynamodbstreams/2012-08-10/endpoint-rule-set-1.json.gz  \n",
      " extracting: /tmp/ngc-cli/botocore/data/dynamodbstreams/2012-08-10/service-2.json.gz  \n",
      "  inflating: /tmp/ngc-cli/botocore/data/dynamodbstreams/2012-08-10/examples-1.json  \n",
      "  inflating: /tmp/ngc-cli/botocore/data/robomaker/2018-06-29/paginators-1.json  \n",
      " extracting: /tmp/ngc-cli/botocore/data/robomaker/2018-06-29/endpoint-rule-set-1.json.gz  \n",
      " extracting: /tmp/ngc-cli/botocore/data/robomaker/2018-06-29/service-2.json.gz  \n",
      "  inflating: /tmp/ngc-cli/botocore/data/robomaker/2018-06-29/examples-1.json  \n",
      "  inflating: /tmp/ngc-cli/botocore/data/health/2016-08-04/paginators-1.json  \n",
      " extracting: /tmp/ngc-cli/botocore/data/health/2016-08-04/endpoint-rule-set-1.json.gz  \n",
      " extracting: /tmp/ngc-cli/botocore/data/health/2016-08-04/service-2.json.gz  \n",
      "  inflating: /tmp/ngc-cli/botocore/data/health/2016-08-04/examples-1.json  \n",
      " extracting: /tmp/ngc-cli/botocore/data/ebs/2019-11-02/paginators-1.json  \n",
      " extracting: /tmp/ngc-cli/botocore/data/ebs/2019-11-02/endpoint-rule-set-1.json.gz  \n",
      " extracting: /tmp/ngc-cli/botocore/data/ebs/2019-11-02/service-2.json.gz  \n",
      "  inflating: /tmp/ngc-cli/botocore/data/ebs/2019-11-02/examples-1.json  \n",
      "  inflating: /tmp/ngc-cli/botocore/data/iot1click-devices/2018-05-14/paginators-1.json  \n",
      " extracting: /tmp/ngc-cli/botocore/data/iot1click-devices/2018-05-14/endpoint-rule-set-1.json.gz  \n",
      " extracting: /tmp/ngc-cli/botocore/data/iot1click-devices/2018-05-14/service-2.json.gz  \n",
      "  inflating: /tmp/ngc-cli/botocore/data/identitystore/2020-06-15/paginators-1.json  \n",
      " extracting: /tmp/ngc-cli/botocore/data/identitystore/2020-06-15/endpoint-rule-set-1.json.gz  \n",
      " extracting: /tmp/ngc-cli/botocore/data/identitystore/2020-06-15/service-2.json.gz  \n",
      "  inflating: /tmp/ngc-cli/botocore/data/identitystore/2020-06-15/examples-1.json  \n",
      "  inflating: /tmp/ngc-cli/botocore/data/comprehend/2017-11-27/paginators-1.json  \n",
      " extracting: /tmp/ngc-cli/botocore/data/comprehend/2017-11-27/endpoint-rule-set-1.json.gz  \n",
      "  inflating: /tmp/ngc-cli/botocore/data/comprehend/2017-11-27/service-2.json.gz  \n",
      "  inflating: /tmp/ngc-cli/botocore/data/comprehend/2017-11-27/examples-1.json  \n",
      "  inflating: /tmp/ngc-cli/botocore/data/codecatalyst/2022-09-28/waiters-2.json  \n",
      "  inflating: /tmp/ngc-cli/botocore/data/codecatalyst/2022-09-28/paginators-1.json  \n",
      " extracting: /tmp/ngc-cli/botocore/data/codecatalyst/2022-09-28/endpoint-rule-set-1.json.gz  \n",
      " extracting: /tmp/ngc-cli/botocore/data/codecatalyst/2022-09-28/service-2.json.gz  \n",
      " extracting: /tmp/ngc-cli/botocore/data/pinpoint/2016-12-01/endpoint-rule-set-1.json.gz  \n",
      "  inflating: /tmp/ngc-cli/botocore/data/pinpoint/2016-12-01/service-2.json.gz  \n",
      "  inflating: /tmp/ngc-cli/botocore/data/pinpoint/2016-12-01/examples-1.json  \n",
      "  inflating: /tmp/ngc-cli/botocore/data/codebuild/2016-10-06/paginators-1.json  \n",
      " extracting: /tmp/ngc-cli/botocore/data/codebuild/2016-10-06/endpoint-rule-set-1.json.gz  \n",
      "  inflating: /tmp/ngc-cli/botocore/data/codebuild/2016-10-06/service-2.json.gz  \n",
      "  inflating: /tmp/ngc-cli/botocore/data/codebuild/2016-10-06/examples-1.json  \n",
      "  inflating: /tmp/ngc-cli/botocore/data/amplifybackend/2020-08-11/paginators-1.json  \n",
      " extracting: /tmp/ngc-cli/botocore/data/amplifybackend/2020-08-11/endpoint-rule-set-1.json.gz  \n",
      " extracting: /tmp/ngc-cli/botocore/data/amplifybackend/2020-08-11/service-2.json.gz  \n",
      "  inflating: /tmp/ngc-cli/botocore/data/application-autoscaling/2016-02-06/paginators-1.json  \n",
      " extracting: /tmp/ngc-cli/botocore/data/application-autoscaling/2016-02-06/endpoint-rule-set-1.json.gz  \n",
      "  inflating: /tmp/ngc-cli/botocore/data/application-autoscaling/2016-02-06/service-2.json.gz  \n",
      "  inflating: /tmp/ngc-cli/botocore/data/application-autoscaling/2016-02-06/examples-1.json  \n",
      " extracting: /tmp/ngc-cli/botocore/data/cloudtrail-data/2021-08-11/paginators-1.json  \n",
      " extracting: /tmp/ngc-cli/botocore/data/cloudtrail-data/2021-08-11/endpoint-rule-set-1.json.gz  \n",
      " extracting: /tmp/ngc-cli/botocore/data/cloudtrail-data/2021-08-11/service-2.json.gz  \n",
      "  inflating: /tmp/ngc-cli/botocore/data/redshift-serverless/2021-04-21/paginators-1.json  \n",
      " extracting: /tmp/ngc-cli/botocore/data/redshift-serverless/2021-04-21/endpoint-rule-set-1.json.gz  \n",
      " extracting: /tmp/ngc-cli/botocore/data/redshift-serverless/2021-04-21/service-2.json.gz  \n",
      "  inflating: /tmp/ngc-cli/botocore/data/cloudtrail/2013-11-01/paginators-1.json  \n",
      " extracting: /tmp/ngc-cli/botocore/data/cloudtrail/2013-11-01/endpoint-rule-set-1.json.gz  \n",
      "  inflating: /tmp/ngc-cli/botocore/data/cloudtrail/2013-11-01/service-2.json.gz  \n",
      "  inflating: /tmp/ngc-cli/botocore/data/cloudtrail/2013-11-01/examples-1.json  \n",
      "  inflating: /tmp/ngc-cli/botocore/data/backup/2018-11-15/paginators-1.json  \n",
      " extracting: /tmp/ngc-cli/botocore/data/backup/2018-11-15/endpoint-rule-set-1.json.gz  \n",
      "  inflating: /tmp/ngc-cli/botocore/data/backup/2018-11-15/service-2.json.gz  \n",
      "  inflating: /tmp/ngc-cli/botocore/data/backup/2018-11-15/examples-1.json  \n",
      "  inflating: /tmp/ngc-cli/botocore/data/iotfleethub/2020-11-03/paginators-1.json  \n",
      " extracting: /tmp/ngc-cli/botocore/data/iotfleethub/2020-11-03/endpoint-rule-set-1.json.gz  \n",
      " extracting: /tmp/ngc-cli/botocore/data/iotfleethub/2020-11-03/service-2.json.gz  \n",
      "  inflating: /tmp/ngc-cli/botocore/data/iotfleethub/2020-11-03/examples-1.json  \n",
      "  inflating: /tmp/ngc-cli/botocore/data/apigateway/2015-07-09/paginators-1.json  \n",
      " extracting: /tmp/ngc-cli/botocore/data/apigateway/2015-07-09/endpoint-rule-set-1.json.gz  \n",
      "  inflating: /tmp/ngc-cli/botocore/data/apigateway/2015-07-09/service-2.json.gz  \n",
      "  inflating: /tmp/ngc-cli/botocore/data/apigateway/2015-07-09/examples-1.json  \n",
      " extracting: /tmp/ngc-cli/botocore/data/marketplacecommerceanalytics/2015-07-01/paginators-1.json  \n",
      " extracting: /tmp/ngc-cli/botocore/data/marketplacecommerceanalytics/2015-07-01/endpoint-rule-set-1.json.gz  \n",
      " extracting: /tmp/ngc-cli/botocore/data/marketplacecommerceanalytics/2015-07-01/service-2.json.gz  \n",
      "  inflating: /tmp/ngc-cli/botocore/data/marketplacecommerceanalytics/2015-07-01/examples-1.json  \n",
      "  inflating: /tmp/ngc-cli/botocore/data/mwaa/2020-07-01/paginators-1.json  \n",
      " extracting: /tmp/ngc-cli/botocore/data/mwaa/2020-07-01/endpoint-rule-set-1.json.gz  \n",
      " extracting: /tmp/ngc-cli/botocore/data/mwaa/2020-07-01/service-2.json.gz  \n",
      "  inflating: /tmp/ngc-cli/botocore/data/mwaa/2020-07-01/examples-1.json  \n",
      "  inflating: /tmp/ngc-cli/botocore/data/iot/2015-05-28/paginators-1.json  \n",
      " extracting: /tmp/ngc-cli/botocore/data/iot/2015-05-28/endpoint-rule-set-1.json.gz  \n",
      "  inflating: /tmp/ngc-cli/botocore/data/iot/2015-05-28/service-2.json.gz  \n",
      "  inflating: /tmp/ngc-cli/botocore/data/iot/2015-05-28/examples-1.json  \n",
      "  inflating: /tmp/ngc-cli/botocore/data/databrew/2017-07-25/paginators-1.json  \n",
      " extracting: /tmp/ngc-cli/botocore/data/databrew/2017-07-25/endpoint-rule-set-1.json.gz  \n",
      " extracting: /tmp/ngc-cli/botocore/data/databrew/2017-07-25/service-2.json.gz  \n",
      "  inflating: /tmp/ngc-cli/botocore/data/databrew/2017-07-25/examples-1.json  \n",
      " extracting: /tmp/ngc-cli/botocore/data/apprunner/2020-05-15/paginators-1.json  \n",
      " extracting: /tmp/ngc-cli/botocore/data/apprunner/2020-05-15/endpoint-rule-set-1.json.gz  \n",
      " extracting: /tmp/ngc-cli/botocore/data/apprunner/2020-05-15/service-2.json.gz  \n",
      "  inflating: /tmp/ngc-cli/botocore/data/apprunner/2020-05-15/examples-1.json  \n",
      "  inflating: /tmp/ngc-cli/botocore/data/entityresolution/2018-05-10/paginators-1.json  \n",
      " extracting: /tmp/ngc-cli/botocore/data/entityresolution/2018-05-10/endpoint-rule-set-1.json.gz  \n",
      " extracting: /tmp/ngc-cli/botocore/data/entityresolution/2018-05-10/service-2.json.gz  \n",
      "  inflating: /tmp/ngc-cli/botocore/data/sqs/2012-11-05/paginators-1.json  \n",
      " extracting: /tmp/ngc-cli/botocore/data/sqs/2012-11-05/endpoint-rule-set-1.json.gz  \n",
      " extracting: /tmp/ngc-cli/botocore/data/sqs/2012-11-05/service-2.json.gz  \n",
      "  inflating: /tmp/ngc-cli/botocore/data/sqs/2012-11-05/examples-1.json  \n",
      "  inflating: /tmp/ngc-cli/botocore/data/workspaces-thin-client/2023-08-22/paginators-1.json  \n",
      " extracting: /tmp/ngc-cli/botocore/data/workspaces-thin-client/2023-08-22/endpoint-rule-set-1.json.gz  \n",
      " extracting: /tmp/ngc-cli/botocore/data/workspaces-thin-client/2023-08-22/service-2.json.gz  \n",
      "  inflating: /tmp/ngc-cli/botocore/data/managedblockchain-query/2023-05-04/waiters-2.json  \n",
      "  inflating: /tmp/ngc-cli/botocore/data/managedblockchain-query/2023-05-04/paginators-1.json  \n",
      " extracting: /tmp/ngc-cli/botocore/data/managedblockchain-query/2023-05-04/endpoint-rule-set-1.json.gz  \n",
      " extracting: /tmp/ngc-cli/botocore/data/managedblockchain-query/2023-05-04/service-2.json.gz  \n",
      " extracting: /tmp/ngc-cli/botocore/data/personalize-runtime/2018-05-22/paginators-1.json  \n",
      " extracting: /tmp/ngc-cli/botocore/data/personalize-runtime/2018-05-22/endpoint-rule-set-1.json.gz  \n",
      " extracting: /tmp/ngc-cli/botocore/data/personalize-runtime/2018-05-22/service-2.json.gz  \n",
      "  inflating: /tmp/ngc-cli/botocore/data/personalize-runtime/2018-05-22/examples-1.json  \n",
      "  inflating: /tmp/ngc-cli/botocore/data/globalaccelerator/2018-08-08/paginators-1.json  \n",
      " extracting: /tmp/ngc-cli/botocore/data/globalaccelerator/2018-08-08/endpoint-rule-set-1.json.gz  \n",
      "  inflating: /tmp/ngc-cli/botocore/data/globalaccelerator/2018-08-08/service-2.json.gz  \n",
      "  inflating: /tmp/ngc-cli/botocore/data/globalaccelerator/2018-08-08/examples-1.json  \n",
      "  inflating: /tmp/ngc-cli/botocore/data/route53/2013-04-01/waiters-2.json  \n",
      "  inflating: /tmp/ngc-cli/botocore/data/route53/2013-04-01/paginators-1.json  \n",
      " extracting: /tmp/ngc-cli/botocore/data/route53/2013-04-01/endpoint-rule-set-1.json.gz  \n",
      "  inflating: /tmp/ngc-cli/botocore/data/route53/2013-04-01/service-2.json.gz  \n",
      "  inflating: /tmp/ngc-cli/botocore/data/route53/2013-04-01/examples-1.json  \n",
      "  inflating: /tmp/ngc-cli/botocore/data/kinesisvideo/2017-09-30/paginators-1.json  \n",
      " extracting: /tmp/ngc-cli/botocore/data/kinesisvideo/2017-09-30/endpoint-rule-set-1.json.gz  \n",
      " extracting: /tmp/ngc-cli/botocore/data/kinesisvideo/2017-09-30/service-2.json.gz  \n",
      "  inflating: /tmp/ngc-cli/botocore/data/kinesisvideo/2017-09-30/examples-1.json  \n",
      "  inflating: /tmp/ngc-cli/botocore/data/athena/2017-05-18/paginators-1.json  \n",
      " extracting: /tmp/ngc-cli/botocore/data/athena/2017-05-18/endpoint-rule-set-1.json.gz  \n",
      " extracting: /tmp/ngc-cli/botocore/data/athena/2017-05-18/service-2.json.gz  \n",
      "  inflating: /tmp/ngc-cli/botocore/data/athena/2017-05-18/examples-1.json  \n",
      "  inflating: /tmp/ngc-cli/botocore/data/organizations/2016-11-28/paginators-1.json  \n",
      " extracting: /tmp/ngc-cli/botocore/data/organizations/2016-11-28/endpoint-rule-set-1.json.gz  \n",
      "  inflating: /tmp/ngc-cli/botocore/data/organizations/2016-11-28/service-2.json.gz  \n",
      "  inflating: /tmp/ngc-cli/botocore/data/organizations/2016-11-28/examples-1.json  \n",
      "  inflating: /tmp/ngc-cli/botocore/data/dax/2017-04-19/paginators-1.json  \n",
      " extracting: /tmp/ngc-cli/botocore/data/dax/2017-04-19/endpoint-rule-set-1.json.gz  \n",
      " extracting: /tmp/ngc-cli/botocore/data/dax/2017-04-19/service-2.json.gz  \n",
      "  inflating: /tmp/ngc-cli/botocore/data/dax/2017-04-19/examples-1.json  \n",
      "  inflating: /tmp/ngc-cli/botocore/data/codeguruprofiler/2019-07-18/paginators-1.json  \n",
      " extracting: /tmp/ngc-cli/botocore/data/codeguruprofiler/2019-07-18/endpoint-rule-set-1.json.gz  \n",
      " extracting: /tmp/ngc-cli/botocore/data/codeguruprofiler/2019-07-18/service-2.json.gz  \n",
      "  inflating: /tmp/ngc-cli/botocore/data/codeguruprofiler/2019-07-18/examples-1.json  \n",
      "  inflating: /tmp/ngc-cli/botocore/data/wisdom/2020-10-19/paginators-1.json  \n",
      " extracting: /tmp/ngc-cli/botocore/data/wisdom/2020-10-19/endpoint-rule-set-1.json.gz  \n",
      " extracting: /tmp/ngc-cli/botocore/data/wisdom/2020-10-19/service-2.json.gz  \n",
      "  inflating: /tmp/ngc-cli/botocore/data/wisdom/2020-10-19/examples-1.json  \n",
      "  inflating: /tmp/ngc-cli/botocore/data/elasticbeanstalk/2010-12-01/waiters-2.json  \n",
      "  inflating: /tmp/ngc-cli/botocore/data/elasticbeanstalk/2010-12-01/paginators-1.json  \n",
      " extracting: /tmp/ngc-cli/botocore/data/elasticbeanstalk/2010-12-01/endpoint-rule-set-1.json.gz  \n",
      " extracting: /tmp/ngc-cli/botocore/data/elasticbeanstalk/2010-12-01/service-2.json.gz  \n",
      "  inflating: /tmp/ngc-cli/botocore/data/elasticbeanstalk/2010-12-01/examples-1.json  \n",
      "  inflating: /tmp/ngc-cli/botocore/data/opsworks/2013-02-18/waiters-2.json  \n",
      "  inflating: /tmp/ngc-cli/botocore/data/opsworks/2013-02-18/paginators-1.json  \n",
      " extracting: /tmp/ngc-cli/botocore/data/opsworks/2013-02-18/endpoint-rule-set-1.json.gz  \n",
      "  inflating: /tmp/ngc-cli/botocore/data/opsworks/2013-02-18/service-2.json.gz  \n",
      "  inflating: /tmp/ngc-cli/botocore/data/opsworks/2013-02-18/examples-1.json  \n",
      "  inflating: /tmp/ngc-cli/botocore/data/rum/2018-05-10/paginators-1.json  \n",
      " extracting: /tmp/ngc-cli/botocore/data/rum/2018-05-10/endpoint-rule-set-1.json.gz  \n",
      " extracting: /tmp/ngc-cli/botocore/data/rum/2018-05-10/service-2.json.gz  \n",
      "  inflating: /tmp/ngc-cli/botocore/data/rum/2018-05-10/examples-1.json  \n",
      " extracting: /tmp/ngc-cli/botocore/data/ivschat/2020-07-14/paginators-1.json  \n",
      " extracting: /tmp/ngc-cli/botocore/data/ivschat/2020-07-14/endpoint-rule-set-1.json.gz  \n",
      " extracting: /tmp/ngc-cli/botocore/data/ivschat/2020-07-14/service-2.json.gz  \n",
      "  inflating: /tmp/ngc-cli/botocore/data/ivschat/2020-07-14/examples-1.json  \n",
      "  inflating: /tmp/ngc-cli/botocore/data/xray/2016-04-12/paginators-1.json  \n",
      " extracting: /tmp/ngc-cli/botocore/data/xray/2016-04-12/endpoint-rule-set-1.json.gz  \n",
      " extracting: /tmp/ngc-cli/botocore/data/xray/2016-04-12/service-2.json.gz  \n",
      "  inflating: /tmp/ngc-cli/botocore/data/xray/2016-04-12/examples-1.json  \n",
      " extracting: /tmp/ngc-cli/botocore/data/personalize-events/2018-03-22/paginators-1.json  \n",
      " extracting: /tmp/ngc-cli/botocore/data/personalize-events/2018-03-22/endpoint-rule-set-1.json.gz  \n",
      " extracting: /tmp/ngc-cli/botocore/data/personalize-events/2018-03-22/service-2.json.gz  \n",
      "  inflating: /tmp/ngc-cli/botocore/data/personalize-events/2018-03-22/examples-1.json  \n",
      "  inflating: /tmp/ngc-cli/botocore/data/pipes/2015-10-07/paginators-1.json  \n",
      " extracting: /tmp/ngc-cli/botocore/data/pipes/2015-10-07/endpoint-rule-set-1.json.gz  \n",
      " extracting: /tmp/ngc-cli/botocore/data/pipes/2015-10-07/service-2.json.gz  \n",
      "  inflating: /tmp/ngc-cli/botocore/data/elasticache/2014-09-30/waiters-2.json  \n",
      "  inflating: /tmp/ngc-cli/botocore/data/elasticache/2014-09-30/paginators-1.json  \n",
      " extracting: /tmp/ngc-cli/botocore/data/elasticache/2014-09-30/endpoint-rule-set-1.json.gz  \n",
      " extracting: /tmp/ngc-cli/botocore/data/elasticache/2014-09-30/service-2.json.gz  \n",
      "  inflating: /tmp/ngc-cli/botocore/data/elasticache/2015-02-02/waiters-2.json  \n",
      "  inflating: /tmp/ngc-cli/botocore/data/elasticache/2015-02-02/paginators-1.json  \n",
      " extracting: /tmp/ngc-cli/botocore/data/elasticache/2015-02-02/endpoint-rule-set-1.json.gz  \n",
      "  inflating: /tmp/ngc-cli/botocore/data/elasticache/2015-02-02/service-2.json.gz  \n",
      "  inflating: /tmp/ngc-cli/botocore/data/elasticache/2015-02-02/examples-1.json  \n",
      "  inflating: /tmp/ngc-cli/botocore/data/sagemaker-geospatial/2020-05-27/paginators-1.json  \n",
      " extracting: /tmp/ngc-cli/botocore/data/sagemaker-geospatial/2020-05-27/endpoint-rule-set-1.json.gz  \n",
      " extracting: /tmp/ngc-cli/botocore/data/sagemaker-geospatial/2020-05-27/service-2.json.gz  \n",
      "  inflating: /tmp/ngc-cli/botocore/data/route53-recovery-cluster/2019-12-02/paginators-1.json  \n",
      " extracting: /tmp/ngc-cli/botocore/data/route53-recovery-cluster/2019-12-02/endpoint-rule-set-1.json.gz  \n",
      " extracting: /tmp/ngc-cli/botocore/data/route53-recovery-cluster/2019-12-02/service-2.json.gz  \n",
      "  inflating: /tmp/ngc-cli/botocore/data/route53-recovery-cluster/2019-12-02/examples-1.json  \n",
      "  inflating: /tmp/ngc-cli/botocore/data/s3control/2018-08-20/paginators-1.json  \n",
      "  inflating: /tmp/ngc-cli/botocore/data/s3control/2018-08-20/endpoint-rule-set-1.json.gz  \n",
      "  inflating: /tmp/ngc-cli/botocore/data/s3control/2018-08-20/service-2.json.gz  \n",
      "  inflating: /tmp/ngc-cli/botocore/data/s3control/2018-08-20/examples-1.json  \n",
      "  inflating: /tmp/ngc-cli/botocore/data/payment-cryptography/2021-09-14/paginators-1.json  \n",
      " extracting: /tmp/ngc-cli/botocore/data/payment-cryptography/2021-09-14/endpoint-rule-set-1.json.gz  \n",
      " extracting: /tmp/ngc-cli/botocore/data/payment-cryptography/2021-09-14/service-2.json.gz  \n",
      " extracting: /tmp/ngc-cli/botocore/data/lookoutmetrics/2017-07-25/paginators-1.json  \n",
      " extracting: /tmp/ngc-cli/botocore/data/lookoutmetrics/2017-07-25/endpoint-rule-set-1.json.gz  \n",
      " extracting: /tmp/ngc-cli/botocore/data/lookoutmetrics/2017-07-25/service-2.json.gz  \n",
      "  inflating: /tmp/ngc-cli/botocore/data/lookoutmetrics/2017-07-25/examples-1.json  \n",
      " extracting: /tmp/ngc-cli/botocore/data/ivs-realtime/2020-07-14/paginators-1.json  \n",
      " extracting: /tmp/ngc-cli/botocore/data/ivs-realtime/2020-07-14/endpoint-rule-set-1.json.gz  \n",
      " extracting: /tmp/ngc-cli/botocore/data/ivs-realtime/2020-07-14/service-2.json.gz  \n",
      "  inflating: /tmp/ngc-cli/botocore/data/honeycode/2020-03-01/paginators-1.json  \n",
      "  inflating: /tmp/ngc-cli/botocore/data/honeycode/2020-03-01/paginators-1.sdk-extras.json  \n",
      " extracting: /tmp/ngc-cli/botocore/data/honeycode/2020-03-01/endpoint-rule-set-1.json.gz  \n",
      " extracting: /tmp/ngc-cli/botocore/data/honeycode/2020-03-01/service-2.json.gz  \n",
      "  inflating: /tmp/ngc-cli/botocore/data/honeycode/2020-03-01/examples-1.json  \n",
      "  inflating: /tmp/ngc-cli/botocore/data/trustedadvisor/2022-09-15/paginators-1.json  \n",
      " extracting: /tmp/ngc-cli/botocore/data/trustedadvisor/2022-09-15/endpoint-rule-set-1.json.gz  \n",
      " extracting: /tmp/ngc-cli/botocore/data/trustedadvisor/2022-09-15/service-2.json.gz  \n",
      "  inflating: /tmp/ngc-cli/botocore/data/appfabric/2023-05-19/waiters-2.json  \n",
      "  inflating: /tmp/ngc-cli/botocore/data/appfabric/2023-05-19/paginators-1.json  \n",
      " extracting: /tmp/ngc-cli/botocore/data/appfabric/2023-05-19/endpoint-rule-set-1.json.gz  \n",
      " extracting: /tmp/ngc-cli/botocore/data/appfabric/2023-05-19/service-2.json.gz  \n",
      "  inflating: /tmp/ngc-cli/botocore/data/backup-gateway/2021-01-01/paginators-1.json  \n",
      " extracting: /tmp/ngc-cli/botocore/data/backup-gateway/2021-01-01/endpoint-rule-set-1.json.gz  \n",
      " extracting: /tmp/ngc-cli/botocore/data/backup-gateway/2021-01-01/service-2.json.gz  \n",
      "  inflating: /tmp/ngc-cli/botocore/data/backup-gateway/2021-01-01/examples-1.json  \n",
      "  inflating: /tmp/ngc-cli/botocore/data/codedeploy/2014-10-06/waiters-2.json  \n",
      "  inflating: /tmp/ngc-cli/botocore/data/codedeploy/2014-10-06/paginators-1.json  \n",
      " extracting: /tmp/ngc-cli/botocore/data/codedeploy/2014-10-06/endpoint-rule-set-1.json.gz  \n",
      " extracting: /tmp/ngc-cli/botocore/data/codedeploy/2014-10-06/service-2.json.gz  \n",
      "  inflating: /tmp/ngc-cli/botocore/data/codedeploy/2014-10-06/examples-1.json  \n",
      "  inflating: /tmp/ngc-cli/botocore/data/medical-imaging/2023-07-19/waiters-2.json  \n",
      "  inflating: /tmp/ngc-cli/botocore/data/medical-imaging/2023-07-19/paginators-1.json  \n",
      " extracting: /tmp/ngc-cli/botocore/data/medical-imaging/2023-07-19/endpoint-rule-set-1.json.gz  \n",
      " extracting: /tmp/ngc-cli/botocore/data/medical-imaging/2023-07-19/service-2.json.gz  \n",
      " extracting: /tmp/ngc-cli/botocore/data/kinesis-video-webrtc-storage/2018-05-10/paginators-1.json  \n",
      " extracting: /tmp/ngc-cli/botocore/data/kinesis-video-webrtc-storage/2018-05-10/endpoint-rule-set-1.json.gz  \n",
      " extracting: /tmp/ngc-cli/botocore/data/kinesis-video-webrtc-storage/2018-05-10/service-2.json.gz  \n",
      " extracting: /tmp/ngc-cli/botocore/data/wafv2/2019-07-29/paginators-1.json  \n",
      " extracting: /tmp/ngc-cli/botocore/data/wafv2/2019-07-29/endpoint-rule-set-1.json.gz  \n",
      "  inflating: /tmp/ngc-cli/botocore/data/wafv2/2019-07-29/service-2.json.gz  \n",
      "  inflating: /tmp/ngc-cli/botocore/data/wafv2/2019-07-29/examples-1.json  \n",
      "  inflating: /tmp/ngc-cli/botocore/data/schemas/2019-12-02/waiters-2.json  \n",
      "  inflating: /tmp/ngc-cli/botocore/data/schemas/2019-12-02/paginators-1.json  \n",
      " extracting: /tmp/ngc-cli/botocore/data/schemas/2019-12-02/endpoint-rule-set-1.json.gz  \n",
      " extracting: /tmp/ngc-cli/botocore/data/schemas/2019-12-02/service-2.json.gz  \n",
      "  inflating: /tmp/ngc-cli/botocore/data/iot-roborunner/2018-05-10/paginators-1.json  \n",
      " extracting: /tmp/ngc-cli/botocore/data/iot-roborunner/2018-05-10/endpoint-rule-set-1.json.gz  \n",
      " extracting: /tmp/ngc-cli/botocore/data/iot-roborunner/2018-05-10/service-2.json.gz  \n",
      "  inflating: /tmp/ngc-cli/botocore/data/pinpoint-email/2018-07-26/paginators-1.json  \n",
      " extracting: /tmp/ngc-cli/botocore/data/pinpoint-email/2018-07-26/endpoint-rule-set-1.json.gz  \n",
      " extracting: /tmp/ngc-cli/botocore/data/pinpoint-email/2018-07-26/service-2.json.gz  \n",
      "  inflating: /tmp/ngc-cli/botocore/data/pinpoint-email/2018-07-26/examples-1.json  \n",
      " extracting: /tmp/ngc-cli/botocore/data/kinesis-video-signaling/2019-12-04/paginators-1.json  \n",
      " extracting: /tmp/ngc-cli/botocore/data/kinesis-video-signaling/2019-12-04/endpoint-rule-set-1.json.gz  \n",
      " extracting: /tmp/ngc-cli/botocore/data/kinesis-video-signaling/2019-12-04/service-2.json.gz  \n",
      "  inflating: /tmp/ngc-cli/botocore/data/kinesis-video-signaling/2019-12-04/examples-1.json  \n",
      " extracting: /tmp/ngc-cli/botocore/data/codestar-connections/2019-12-01/paginators-1.json  \n",
      " extracting: /tmp/ngc-cli/botocore/data/codestar-connections/2019-12-01/endpoint-rule-set-1.json.gz  \n",
      " extracting: /tmp/ngc-cli/botocore/data/codestar-connections/2019-12-01/service-2.json.gz  \n",
      "  inflating: /tmp/ngc-cli/botocore/data/codestar-connections/2019-12-01/examples-1.json  \n",
      "  inflating: /tmp/ngc-cli/botocore/data/mediapackage/2017-10-12/paginators-1.json  \n",
      " extracting: /tmp/ngc-cli/botocore/data/mediapackage/2017-10-12/endpoint-rule-set-1.json.gz  \n",
      " extracting: /tmp/ngc-cli/botocore/data/mediapackage/2017-10-12/service-2.json.gz  \n",
      "  inflating: /tmp/ngc-cli/botocore/data/securityhub/2018-10-26/paginators-1.json  \n",
      " extracting: /tmp/ngc-cli/botocore/data/securityhub/2018-10-26/endpoint-rule-set-1.json.gz  \n",
      "  inflating: /tmp/ngc-cli/botocore/data/securityhub/2018-10-26/service-2.json.gz  \n",
      "  inflating: /tmp/ngc-cli/botocore/data/securityhub/2018-10-26/examples-1.json  \n",
      "  inflating: /tmp/ngc-cli/botocore/data/fsx/2018-03-01/paginators-1.json  \n",
      " extracting: /tmp/ngc-cli/botocore/data/fsx/2018-03-01/endpoint-rule-set-1.json.gz  \n",
      "  inflating: /tmp/ngc-cli/botocore/data/fsx/2018-03-01/service-2.json.gz  \n",
      "  inflating: /tmp/ngc-cli/botocore/data/fsx/2018-03-01/examples-1.json  \n",
      "  inflating: /tmp/ngc-cli/botocore/data/iam/2010-05-08/waiters-2.json  \n",
      "  inflating: /tmp/ngc-cli/botocore/data/iam/2010-05-08/paginators-1.json  \n",
      " extracting: /tmp/ngc-cli/botocore/data/iam/2010-05-08/endpoint-rule-set-1.json.gz  \n",
      "  inflating: /tmp/ngc-cli/botocore/data/iam/2010-05-08/service-2.json.gz  \n",
      "  inflating: /tmp/ngc-cli/botocore/data/iam/2010-05-08/examples-1.json  \n",
      "  inflating: /tmp/ngc-cli/botocore/data/greengrass/2017-06-07/paginators-1.json  \n",
      " extracting: /tmp/ngc-cli/botocore/data/greengrass/2017-06-07/endpoint-rule-set-1.json.gz  \n",
      " extracting: /tmp/ngc-cli/botocore/data/greengrass/2017-06-07/service-2.json.gz  \n",
      "  inflating: /tmp/ngc-cli/botocore/data/network-firewall/2020-11-12/paginators-1.json  \n",
      " extracting: /tmp/ngc-cli/botocore/data/network-firewall/2020-11-12/endpoint-rule-set-1.json.gz  \n",
      "  inflating: /tmp/ngc-cli/botocore/data/network-firewall/2020-11-12/service-2.json.gz  \n",
      "  inflating: /tmp/ngc-cli/botocore/data/network-firewall/2020-11-12/examples-1.json  \n",
      "  inflating: /tmp/ngc-cli/botocore/data/workdocs/2016-05-01/paginators-1.json  \n",
      " extracting: /tmp/ngc-cli/botocore/data/workdocs/2016-05-01/endpoint-rule-set-1.json.gz  \n",
      " extracting: /tmp/ngc-cli/botocore/data/workdocs/2016-05-01/service-2.json.gz  \n",
      "  inflating: /tmp/ngc-cli/botocore/data/workdocs/2016-05-01/examples-1.json  \n",
      "  inflating: /tmp/ngc-cli/botocore/data/elastic-inference/2017-07-25/paginators-1.json  \n",
      " extracting: /tmp/ngc-cli/botocore/data/elastic-inference/2017-07-25/endpoint-rule-set-1.json.gz  \n",
      " extracting: /tmp/ngc-cli/botocore/data/elastic-inference/2017-07-25/service-2.json.gz  \n",
      "  inflating: /tmp/ngc-cli/botocore/data/elastic-inference/2017-07-25/examples-1.json  \n",
      " extracting: /tmp/ngc-cli/botocore/data/supplychain/2024-01-01/paginators-1.json  \n",
      " extracting: /tmp/ngc-cli/botocore/data/supplychain/2024-01-01/endpoint-rule-set-1.json.gz  \n",
      " extracting: /tmp/ngc-cli/botocore/data/supplychain/2024-01-01/service-2.json.gz  \n",
      " extracting: /tmp/ngc-cli/botocore/data/panorama/2019-07-24/paginators-1.json  \n",
      " extracting: /tmp/ngc-cli/botocore/data/panorama/2019-07-24/endpoint-rule-set-1.json.gz  \n",
      " extracting: /tmp/ngc-cli/botocore/data/panorama/2019-07-24/service-2.json.gz  \n",
      "  inflating: /tmp/ngc-cli/botocore/data/panorama/2019-07-24/examples-1.json  \n",
      " extracting: /tmp/ngc-cli/botocore/data/chime-sdk-meetings/2021-07-15/paginators-1.json  \n",
      " extracting: /tmp/ngc-cli/botocore/data/chime-sdk-meetings/2021-07-15/endpoint-rule-set-1.json.gz  \n",
      " extracting: /tmp/ngc-cli/botocore/data/chime-sdk-meetings/2021-07-15/service-2.json.gz  \n",
      "  inflating: /tmp/ngc-cli/botocore/data/chime-sdk-meetings/2021-07-15/examples-1.json  \n",
      " extracting: /tmp/ngc-cli/botocore/data/pinpoint-sms-voice/2018-09-05/endpoint-rule-set-1.json.gz  \n",
      " extracting: /tmp/ngc-cli/botocore/data/pinpoint-sms-voice/2018-09-05/service-2.json.gz  \n",
      "  inflating: /tmp/ngc-cli/botocore/data/iottwinmaker/2021-11-29/waiters-2.json  \n",
      " extracting: /tmp/ngc-cli/botocore/data/iottwinmaker/2021-11-29/paginators-1.json  \n",
      " extracting: /tmp/ngc-cli/botocore/data/iottwinmaker/2021-11-29/endpoint-rule-set-1.json.gz  \n",
      " extracting: /tmp/ngc-cli/botocore/data/iottwinmaker/2021-11-29/service-2.json.gz  \n",
      "  inflating: /tmp/ngc-cli/botocore/data/iottwinmaker/2021-11-29/examples-1.json  \n",
      " extracting: /tmp/ngc-cli/botocore/data/workspaces-web/2020-07-08/paginators-1.json  \n",
      " extracting: /tmp/ngc-cli/botocore/data/workspaces-web/2020-07-08/endpoint-rule-set-1.json.gz  \n",
      " extracting: /tmp/ngc-cli/botocore/data/workspaces-web/2020-07-08/service-2.json.gz  \n",
      "  inflating: /tmp/ngc-cli/botocore/data/workspaces-web/2020-07-08/examples-1.json  \n",
      "  inflating: /tmp/ngc-cli/botocore/data/bcm-data-exports/2023-11-26/paginators-1.json  \n",
      " extracting: /tmp/ngc-cli/botocore/data/bcm-data-exports/2023-11-26/endpoint-rule-set-1.json.gz  \n",
      " extracting: /tmp/ngc-cli/botocore/data/bcm-data-exports/2023-11-26/service-2.json.gz  \n",
      "  inflating: /tmp/ngc-cli/botocore/data/mediapackage-vod/2018-11-07/paginators-1.json  \n",
      " extracting: /tmp/ngc-cli/botocore/data/mediapackage-vod/2018-11-07/endpoint-rule-set-1.json.gz  \n",
      " extracting: /tmp/ngc-cli/botocore/data/mediapackage-vod/2018-11-07/service-2.json.gz  \n",
      "  inflating: /tmp/ngc-cli/botocore/data/ec2/2014-10-01/waiters-2.json  \n",
      "  inflating: /tmp/ngc-cli/botocore/data/ec2/2014-10-01/paginators-1.json  \n",
      " extracting: /tmp/ngc-cli/botocore/data/ec2/2014-10-01/endpoint-rule-set-1.json.gz  \n",
      "  inflating: /tmp/ngc-cli/botocore/data/ec2/2014-10-01/service-2.json.gz  \n",
      "  inflating: /tmp/ngc-cli/botocore/data/ec2/2015-10-01/waiters-2.json  \n",
      "  inflating: /tmp/ngc-cli/botocore/data/ec2/2015-10-01/paginators-1.json  \n",
      " extracting: /tmp/ngc-cli/botocore/data/ec2/2015-10-01/endpoint-rule-set-1.json.gz  \n",
      "  inflating: /tmp/ngc-cli/botocore/data/ec2/2015-10-01/service-2.json.gz  \n",
      "  inflating: /tmp/ngc-cli/botocore/data/ec2/2015-10-01/examples-1.json  \n",
      "  inflating: /tmp/ngc-cli/botocore/data/ec2/2015-03-01/waiters-2.json  \n",
      "  inflating: /tmp/ngc-cli/botocore/data/ec2/2015-03-01/paginators-1.json  \n",
      " extracting: /tmp/ngc-cli/botocore/data/ec2/2015-03-01/endpoint-rule-set-1.json.gz  \n",
      "  inflating: /tmp/ngc-cli/botocore/data/ec2/2015-03-01/service-2.json.gz  \n",
      "  inflating: /tmp/ngc-cli/botocore/data/ec2/2016-09-15/waiters-2.json  \n",
      "  inflating: /tmp/ngc-cli/botocore/data/ec2/2016-09-15/paginators-1.json  \n",
      " extracting: /tmp/ngc-cli/botocore/data/ec2/2016-09-15/endpoint-rule-set-1.json.gz  \n",
      "  inflating: /tmp/ngc-cli/botocore/data/ec2/2016-09-15/service-2.json.gz  \n",
      "  inflating: /tmp/ngc-cli/botocore/data/ec2/2016-09-15/examples-1.json  \n",
      "  inflating: /tmp/ngc-cli/botocore/data/ec2/2016-04-01/waiters-2.json  \n",
      "  inflating: /tmp/ngc-cli/botocore/data/ec2/2016-04-01/paginators-1.json  \n",
      " extracting: /tmp/ngc-cli/botocore/data/ec2/2016-04-01/endpoint-rule-set-1.json.gz  \n",
      "  inflating: /tmp/ngc-cli/botocore/data/ec2/2016-04-01/service-2.json.gz  \n",
      "  inflating: /tmp/ngc-cli/botocore/data/ec2/2016-04-01/examples-1.json  \n",
      "  inflating: /tmp/ngc-cli/botocore/data/ec2/2014-09-01/waiters-2.json  \n",
      "  inflating: /tmp/ngc-cli/botocore/data/ec2/2014-09-01/paginators-1.json  \n",
      " extracting: /tmp/ngc-cli/botocore/data/ec2/2014-09-01/endpoint-rule-set-1.json.gz  \n",
      "  inflating: /tmp/ngc-cli/botocore/data/ec2/2014-09-01/service-2.json.gz  \n",
      "  inflating: /tmp/ngc-cli/botocore/data/ec2/2015-04-15/waiters-2.json  \n",
      "  inflating: /tmp/ngc-cli/botocore/data/ec2/2015-04-15/paginators-1.json  \n",
      " extracting: /tmp/ngc-cli/botocore/data/ec2/2015-04-15/endpoint-rule-set-1.json.gz  \n",
      "  inflating: /tmp/ngc-cli/botocore/data/ec2/2015-04-15/service-2.json.gz  \n",
      "  inflating: /tmp/ngc-cli/botocore/data/ec2/2016-11-15/waiters-2.json  \n",
      "  inflating: /tmp/ngc-cli/botocore/data/ec2/2016-11-15/paginators-1.json  \n",
      "  inflating: /tmp/ngc-cli/botocore/data/ec2/2016-11-15/paginators-1.sdk-extras.json  \n",
      " extracting: /tmp/ngc-cli/botocore/data/ec2/2016-11-15/endpoint-rule-set-1.json.gz  \n",
      "  inflating: /tmp/ngc-cli/botocore/data/ec2/2016-11-15/service-2.json.gz  \n",
      "  inflating: /tmp/ngc-cli/botocore/data/ec2/2016-11-15/examples-1.json  \n",
      "  inflating: /tmp/ngc-cli/botocore/data/snow-device-management/2021-08-04/paginators-1.json  \n",
      " extracting: /tmp/ngc-cli/botocore/data/snow-device-management/2021-08-04/endpoint-rule-set-1.json.gz  \n",
      " extracting: /tmp/ngc-cli/botocore/data/snow-device-management/2021-08-04/service-2.json.gz  \n",
      "  inflating: /tmp/ngc-cli/botocore/data/snow-device-management/2021-08-04/examples-1.json  \n",
      " extracting: /tmp/ngc-cli/botocore/data/marketplace-deployment/2023-01-25/paginators-1.json  \n",
      " extracting: /tmp/ngc-cli/botocore/data/marketplace-deployment/2023-01-25/endpoint-rule-set-1.json.gz  \n",
      " extracting: /tmp/ngc-cli/botocore/data/marketplace-deployment/2023-01-25/service-2.json.gz  \n",
      "  inflating: /tmp/ngc-cli/botocore/data/ecr/2015-09-21/waiters-2.json  \n",
      "  inflating: /tmp/ngc-cli/botocore/data/ecr/2015-09-21/paginators-1.json  \n",
      " extracting: /tmp/ngc-cli/botocore/data/ecr/2015-09-21/endpoint-rule-set-1.json.gz  \n",
      " extracting: /tmp/ngc-cli/botocore/data/ecr/2015-09-21/service-2.json.gz  \n",
      "  inflating: /tmp/ngc-cli/botocore/data/ecr/2015-09-21/examples-1.json  \n",
      "  inflating: /tmp/ngc-cli/botocore/data/mobile/2017-07-01/paginators-1.json  \n",
      " extracting: /tmp/ngc-cli/botocore/data/mobile/2017-07-01/endpoint-rule-set-1.json.gz  \n",
      " extracting: /tmp/ngc-cli/botocore/data/mobile/2017-07-01/service-2.json.gz  \n",
      "  inflating: /tmp/ngc-cli/botocore/data/mobile/2017-07-01/examples-1.json  \n",
      "  inflating: /tmp/ngc-cli/botocore/data/emr/2009-03-31/waiters-2.json  \n",
      "  inflating: /tmp/ngc-cli/botocore/data/emr/2009-03-31/paginators-1.json  \n",
      " extracting: /tmp/ngc-cli/botocore/data/emr/2009-03-31/endpoint-rule-set-1.json.gz  \n",
      "  inflating: /tmp/ngc-cli/botocore/data/emr/2009-03-31/service-2.json.gz  \n",
      "  inflating: /tmp/ngc-cli/botocore/data/emr/2009-03-31/examples-1.json  \n",
      "  inflating: /tmp/ngc-cli/botocore/data/omics/2022-11-28/waiters-2.json  \n",
      "  inflating: /tmp/ngc-cli/botocore/data/omics/2022-11-28/paginators-1.json  \n",
      " extracting: /tmp/ngc-cli/botocore/data/omics/2022-11-28/endpoint-rule-set-1.json.gz  \n",
      " extracting: /tmp/ngc-cli/botocore/data/omics/2022-11-28/service-2.json.gz  \n",
      "  inflating: /tmp/ngc-cli/botocore/data/efs/2015-02-01/paginators-1.json  \n",
      " extracting: /tmp/ngc-cli/botocore/data/efs/2015-02-01/endpoint-rule-set-1.json.gz  \n",
      " extracting: /tmp/ngc-cli/botocore/data/efs/2015-02-01/service-2.json.gz  \n",
      "  inflating: /tmp/ngc-cli/botocore/data/efs/2015-02-01/examples-1.json  \n",
      "  inflating: /tmp/ngc-cli/botocore/data/rbin/2021-06-15/paginators-1.json  \n",
      " extracting: /tmp/ngc-cli/botocore/data/rbin/2021-06-15/endpoint-rule-set-1.json.gz  \n",
      " extracting: /tmp/ngc-cli/botocore/data/rbin/2021-06-15/service-2.json.gz  \n",
      "  inflating: /tmp/ngc-cli/botocore/data/rbin/2021-06-15/examples-1.json  \n",
      "  inflating: /tmp/ngc-cli/botocore/data/route53-recovery-control-config/2020-11-02/waiters-2.json  \n",
      "  inflating: /tmp/ngc-cli/botocore/data/route53-recovery-control-config/2020-11-02/paginators-1.json  \n",
      " extracting: /tmp/ngc-cli/botocore/data/route53-recovery-control-config/2020-11-02/endpoint-rule-set-1.json.gz  \n",
      " extracting: /tmp/ngc-cli/botocore/data/route53-recovery-control-config/2020-11-02/service-2.json.gz  \n",
      "  inflating: /tmp/ngc-cli/botocore/data/pricing/2017-10-15/waiters-2.json  \n",
      "  inflating: /tmp/ngc-cli/botocore/data/pricing/2017-10-15/paginators-1.json  \n",
      " extracting: /tmp/ngc-cli/botocore/data/pricing/2017-10-15/endpoint-rule-set-1.json.gz  \n",
      " extracting: /tmp/ngc-cli/botocore/data/pricing/2017-10-15/service-2.json.gz  \n",
      "  inflating: /tmp/ngc-cli/botocore/data/pricing/2017-10-15/examples-1.json  \n",
      "  inflating: /tmp/ngc-cli/botocore/data/kinesis-video-archived-media/2017-09-30/paginators-1.json  \n",
      " extracting: /tmp/ngc-cli/botocore/data/kinesis-video-archived-media/2017-09-30/endpoint-rule-set-1.json.gz  \n",
      " extracting: /tmp/ngc-cli/botocore/data/kinesis-video-archived-media/2017-09-30/service-2.json.gz  \n",
      "  inflating: /tmp/ngc-cli/botocore/data/kinesis-video-archived-media/2017-09-30/examples-1.json  \n",
      "  inflating: /tmp/ngc-cli/botocore/data/mediastore/2017-09-01/paginators-1.json  \n",
      " extracting: /tmp/ngc-cli/botocore/data/mediastore/2017-09-01/endpoint-rule-set-1.json.gz  \n",
      " extracting: /tmp/ngc-cli/botocore/data/mediastore/2017-09-01/service-2.json.gz  \n",
      "  inflating: /tmp/ngc-cli/botocore/data/mediastore/2017-09-01/examples-1.json  \n",
      "  inflating: /tmp/ngc-cli/botocore/data/mediatailor/2018-04-23/paginators-1.json  \n",
      " extracting: /tmp/ngc-cli/botocore/data/mediatailor/2018-04-23/endpoint-rule-set-1.json.gz  \n",
      " extracting: /tmp/ngc-cli/botocore/data/mediatailor/2018-04-23/service-2.json.gz  \n",
      "  inflating: /tmp/ngc-cli/botocore/data/acm/2015-12-08/waiters-2.json  \n",
      "  inflating: /tmp/ngc-cli/botocore/data/acm/2015-12-08/paginators-1.json  \n",
      " extracting: /tmp/ngc-cli/botocore/data/acm/2015-12-08/endpoint-rule-set-1.json.gz  \n",
      " extracting: /tmp/ngc-cli/botocore/data/acm/2015-12-08/service-2.json.gz  \n",
      "  inflating: /tmp/ngc-cli/botocore/data/acm/2015-12-08/examples-1.json  \n",
      "  inflating: /tmp/ngc-cli/botocore/data/mediaconnect/2018-11-14/waiters-2.json  \n",
      "  inflating: /tmp/ngc-cli/botocore/data/mediaconnect/2018-11-14/paginators-1.json  \n",
      " extracting: /tmp/ngc-cli/botocore/data/mediaconnect/2018-11-14/endpoint-rule-set-1.json.gz  \n",
      " extracting: /tmp/ngc-cli/botocore/data/mediaconnect/2018-11-14/service-2.json.gz  \n",
      "  inflating: /tmp/ngc-cli/botocore/data/migrationhuborchestrator/2021-08-28/waiters-2.json  \n",
      "  inflating: /tmp/ngc-cli/botocore/data/migrationhuborchestrator/2021-08-28/paginators-1.json  \n",
      " extracting: /tmp/ngc-cli/botocore/data/migrationhuborchestrator/2021-08-28/endpoint-rule-set-1.json.gz  \n",
      " extracting: /tmp/ngc-cli/botocore/data/migrationhuborchestrator/2021-08-28/service-2.json.gz  \n",
      "  inflating: /tmp/ngc-cli/botocore/data/internetmonitor/2021-06-03/waiters-2.json  \n",
      "  inflating: /tmp/ngc-cli/botocore/data/internetmonitor/2021-06-03/paginators-1.json  \n",
      " extracting: /tmp/ngc-cli/botocore/data/internetmonitor/2021-06-03/endpoint-rule-set-1.json.gz  \n",
      " extracting: /tmp/ngc-cli/botocore/data/internetmonitor/2021-06-03/service-2.json.gz  \n",
      "  inflating: /tmp/ngc-cli/botocore/data/connectcases/2022-10-03/paginators-1.json  \n",
      " extracting: /tmp/ngc-cli/botocore/data/connectcases/2022-10-03/endpoint-rule-set-1.json.gz  \n",
      " extracting: /tmp/ngc-cli/botocore/data/connectcases/2022-10-03/service-2.json.gz  \n",
      "  inflating: /tmp/ngc-cli/botocore/data/redshift-data/2019-12-20/paginators-1.json  \n",
      "  inflating: /tmp/ngc-cli/botocore/data/redshift-data/2019-12-20/paginators-1.sdk-extras.json  \n",
      " extracting: /tmp/ngc-cli/botocore/data/redshift-data/2019-12-20/endpoint-rule-set-1.json.gz  \n",
      " extracting: /tmp/ngc-cli/botocore/data/redshift-data/2019-12-20/service-2.json.gz  \n",
      "  inflating: /tmp/ngc-cli/botocore/data/redshift-data/2019-12-20/examples-1.json  \n",
      "  inflating: /tmp/ngc-cli/botocore/data/route53-recovery-readiness/2019-12-02/paginators-1.json  \n",
      " extracting: /tmp/ngc-cli/botocore/data/route53-recovery-readiness/2019-12-02/endpoint-rule-set-1.json.gz  \n",
      " extracting: /tmp/ngc-cli/botocore/data/route53-recovery-readiness/2019-12-02/service-2.json.gz  \n",
      "  inflating: /tmp/ngc-cli/botocore/data/ssm-contacts/2021-05-03/paginators-1.json  \n",
      " extracting: /tmp/ngc-cli/botocore/data/ssm-contacts/2021-05-03/endpoint-rule-set-1.json.gz  \n",
      " extracting: /tmp/ngc-cli/botocore/data/ssm-contacts/2021-05-03/service-2.json.gz  \n",
      "  inflating: /tmp/ngc-cli/botocore/data/ssm-contacts/2021-05-03/examples-1.json  \n",
      "  inflating: /tmp/ngc-cli/botocore/data/appstream/2016-12-01/waiters-2.json  \n",
      "  inflating: /tmp/ngc-cli/botocore/data/appstream/2016-12-01/paginators-1.json  \n",
      " extracting: /tmp/ngc-cli/botocore/data/appstream/2016-12-01/endpoint-rule-set-1.json.gz  \n",
      "  inflating: /tmp/ngc-cli/botocore/data/appstream/2016-12-01/service-2.json.gz  \n",
      "  inflating: /tmp/ngc-cli/botocore/data/appstream/2016-12-01/examples-1.json  \n",
      "  inflating: /tmp/ngc-cli/botocore/data/kms/2014-11-01/paginators-1.json  \n",
      " extracting: /tmp/ngc-cli/botocore/data/kms/2014-11-01/endpoint-rule-set-1.json.gz  \n",
      "  inflating: /tmp/ngc-cli/botocore/data/kms/2014-11-01/service-2.json.gz  \n",
      "  inflating: /tmp/ngc-cli/botocore/data/kms/2014-11-01/examples-1.json  \n",
      "  inflating: /tmp/ngc-cli/botocore/data/resource-groups/2017-11-27/paginators-1.json  \n",
      " extracting: /tmp/ngc-cli/botocore/data/resource-groups/2017-11-27/endpoint-rule-set-1.json.gz  \n",
      " extracting: /tmp/ngc-cli/botocore/data/resource-groups/2017-11-27/service-2.json.gz  \n",
      "  inflating: /tmp/ngc-cli/botocore/data/resource-groups/2017-11-27/examples-1.json  \n",
      "  inflating: /tmp/ngc-cli/botocore/data/rds/2014-10-31/waiters-2.json  \n",
      "  inflating: /tmp/ngc-cli/botocore/data/rds/2014-10-31/paginators-1.json  \n",
      "  inflating: /tmp/ngc-cli/botocore/data/rds/2014-10-31/paginators-1.sdk-extras.json  \n",
      "  inflating: /tmp/ngc-cli/botocore/data/rds/2014-10-31/service-2.sdk-extras.json  \n",
      " extracting: /tmp/ngc-cli/botocore/data/rds/2014-10-31/endpoint-rule-set-1.json.gz  \n",
      "  inflating: /tmp/ngc-cli/botocore/data/rds/2014-10-31/service-2.json.gz  \n",
      "  inflating: /tmp/ngc-cli/botocore/data/rds/2014-10-31/examples-1.json  \n",
      "  inflating: /tmp/ngc-cli/botocore/data/rds/2014-09-01/waiters-2.json  \n",
      "  inflating: /tmp/ngc-cli/botocore/data/rds/2014-09-01/paginators-1.json  \n",
      " extracting: /tmp/ngc-cli/botocore/data/rds/2014-09-01/endpoint-rule-set-1.json.gz  \n",
      "  inflating: /tmp/ngc-cli/botocore/data/rds/2014-09-01/service-2.json.gz  \n",
      "  inflating: /tmp/ngc-cli/botocore/data/networkmonitor/2023-08-01/waiters-2.json  \n",
      "  inflating: /tmp/ngc-cli/botocore/data/networkmonitor/2023-08-01/paginators-1.json  \n",
      " extracting: /tmp/ngc-cli/botocore/data/networkmonitor/2023-08-01/endpoint-rule-set-1.json.gz  \n",
      " extracting: /tmp/ngc-cli/botocore/data/networkmonitor/2023-08-01/service-2.json.gz  \n",
      "  inflating: /tmp/ngc-cli/botocore/data/s3/2006-03-01/waiters-2.json  \n",
      "  inflating: /tmp/ngc-cli/botocore/data/s3/2006-03-01/paginators-1.json  \n",
      "  inflating: /tmp/ngc-cli/botocore/data/s3/2006-03-01/paginators-1.sdk-extras.json  \n",
      "  inflating: /tmp/ngc-cli/botocore/data/s3/2006-03-01/endpoint-rule-set-1.json.gz  \n",
      "  inflating: /tmp/ngc-cli/botocore/data/s3/2006-03-01/service-2.json.gz  \n",
      "  inflating: /tmp/ngc-cli/botocore/data/s3/2006-03-01/examples-1.json  \n",
      "  inflating: /tmp/ngc-cli/botocore/data/appintegrations/2020-07-29/paginators-1.json  \n",
      " extracting: /tmp/ngc-cli/botocore/data/appintegrations/2020-07-29/endpoint-rule-set-1.json.gz  \n",
      " extracting: /tmp/ngc-cli/botocore/data/appintegrations/2020-07-29/service-2.json.gz  \n",
      "  inflating: /tmp/ngc-cli/botocore/data/appintegrations/2020-07-29/examples-1.json  \n",
      "  inflating: /tmp/ngc-cli/botocore/data/snowball/2016-06-30/paginators-1.json  \n",
      " extracting: /tmp/ngc-cli/botocore/data/snowball/2016-06-30/endpoint-rule-set-1.json.gz  \n",
      " extracting: /tmp/ngc-cli/botocore/data/snowball/2016-06-30/service-2.json.gz  \n",
      "  inflating: /tmp/ngc-cli/botocore/data/snowball/2016-06-30/examples-1.json  \n",
      " extracting: /tmp/ngc-cli/botocore/data/sagemaker-runtime/2017-05-13/paginators-1.json  \n",
      " extracting: /tmp/ngc-cli/botocore/data/sagemaker-runtime/2017-05-13/endpoint-rule-set-1.json.gz  \n",
      " extracting: /tmp/ngc-cli/botocore/data/sagemaker-runtime/2017-05-13/service-2.json.gz  \n",
      "  inflating: /tmp/ngc-cli/botocore/data/sagemaker-runtime/2017-05-13/examples-1.json  \n",
      " extracting: /tmp/ngc-cli/botocore/data/simspaceweaver/2022-10-28/paginators-1.json  \n",
      " extracting: /tmp/ngc-cli/botocore/data/simspaceweaver/2022-10-28/endpoint-rule-set-1.json.gz  \n",
      " extracting: /tmp/ngc-cli/botocore/data/simspaceweaver/2022-10-28/service-2.json.gz  \n",
      "  inflating: /tmp/ngc-cli/botocore/data/ssm/2014-11-06/waiters-2.json  \n",
      "  inflating: /tmp/ngc-cli/botocore/data/ssm/2014-11-06/paginators-1.json  \n",
      " extracting: /tmp/ngc-cli/botocore/data/ssm/2014-11-06/endpoint-rule-set-1.json.gz  \n",
      "  inflating: /tmp/ngc-cli/botocore/data/ssm/2014-11-06/service-2.json.gz  \n",
      "  inflating: /tmp/ngc-cli/botocore/data/ssm/2014-11-06/examples-1.json  \n",
      " extracting: /tmp/ngc-cli/botocore/data/comprehendmedical/2018-10-30/paginators-1.json  \n",
      " extracting: /tmp/ngc-cli/botocore/data/comprehendmedical/2018-10-30/endpoint-rule-set-1.json.gz  \n",
      " extracting: /tmp/ngc-cli/botocore/data/comprehendmedical/2018-10-30/service-2.json.gz  \n",
      "  inflating: /tmp/ngc-cli/botocore/data/comprehendmedical/2018-10-30/examples-1.json  \n",
      " extracting: /tmp/ngc-cli/botocore/data/support-app/2021-08-20/paginators-1.json  \n",
      " extracting: /tmp/ngc-cli/botocore/data/support-app/2021-08-20/endpoint-rule-set-1.json.gz  \n",
      " extracting: /tmp/ngc-cli/botocore/data/support-app/2021-08-20/service-2.json.gz  \n",
      " extracting: /tmp/ngc-cli/botocore/data/lexv2-runtime/2020-08-07/paginators-1.json  \n",
      " extracting: /tmp/ngc-cli/botocore/data/lexv2-runtime/2020-08-07/endpoint-rule-set-1.json.gz  \n",
      " extracting: /tmp/ngc-cli/botocore/data/lexv2-runtime/2020-08-07/service-2.json.gz  \n",
      "  inflating: /tmp/ngc-cli/botocore/data/lexv2-runtime/2020-08-07/examples-1.json  \n",
      " extracting: /tmp/ngc-cli/botocore/data/transcribe/2017-10-26/paginators-1.json  \n",
      " extracting: /tmp/ngc-cli/botocore/data/transcribe/2017-10-26/endpoint-rule-set-1.json.gz  \n",
      "  inflating: /tmp/ngc-cli/botocore/data/transcribe/2017-10-26/service-2.json.gz  \n",
      "  inflating: /tmp/ngc-cli/botocore/data/transcribe/2017-10-26/examples-1.json  \n",
      "  inflating: /tmp/ngc-cli/botocore/data/forecast/2018-06-26/paginators-1.json  \n",
      " extracting: /tmp/ngc-cli/botocore/data/forecast/2018-06-26/endpoint-rule-set-1.json.gz  \n",
      "  inflating: /tmp/ngc-cli/botocore/data/forecast/2018-06-26/service-2.json.gz  \n",
      "  inflating: /tmp/ngc-cli/botocore/data/forecast/2018-06-26/examples-1.json  \n",
      "  inflating: /tmp/ngc-cli/botocore/data/sagemaker-a2i-runtime/2019-11-07/paginators-1.json  \n",
      " extracting: /tmp/ngc-cli/botocore/data/sagemaker-a2i-runtime/2019-11-07/endpoint-rule-set-1.json.gz  \n",
      " extracting: /tmp/ngc-cli/botocore/data/sagemaker-a2i-runtime/2019-11-07/service-2.json.gz  \n",
      "  inflating: /tmp/ngc-cli/botocore/data/sagemaker-a2i-runtime/2019-11-07/examples-1.json  \n",
      "  inflating: /tmp/ngc-cli/botocore/data/service-quotas/2019-06-24/paginators-1.json  \n",
      " extracting: /tmp/ngc-cli/botocore/data/service-quotas/2019-06-24/endpoint-rule-set-1.json.gz  \n",
      " extracting: /tmp/ngc-cli/botocore/data/service-quotas/2019-06-24/service-2.json.gz  \n",
      "  inflating: /tmp/ngc-cli/botocore/data/service-quotas/2019-06-24/examples-1.json  \n",
      " extracting: /tmp/ngc-cli/botocore/data/sesv2/2019-09-27/paginators-1.json  \n",
      " extracting: /tmp/ngc-cli/botocore/data/sesv2/2019-09-27/endpoint-rule-set-1.json.gz  \n",
      "  inflating: /tmp/ngc-cli/botocore/data/sesv2/2019-09-27/service-2.json.gz  \n",
      "  inflating: /tmp/ngc-cli/botocore/data/sesv2/2019-09-27/examples-1.json  \n",
      "  inflating: /tmp/ngc-cli/botocore/data/codeguru-reviewer/2019-09-19/waiters-2.json  \n",
      "  inflating: /tmp/ngc-cli/botocore/data/codeguru-reviewer/2019-09-19/paginators-1.json  \n",
      " extracting: /tmp/ngc-cli/botocore/data/codeguru-reviewer/2019-09-19/endpoint-rule-set-1.json.gz  \n",
      " extracting: /tmp/ngc-cli/botocore/data/codeguru-reviewer/2019-09-19/service-2.json.gz  \n",
      "  inflating: /tmp/ngc-cli/botocore/data/codeguru-reviewer/2019-09-19/examples-1.json  \n",
      " extracting: /tmp/ngc-cli/botocore/data/iotwireless/2020-11-22/paginators-1.json  \n",
      " extracting: /tmp/ngc-cli/botocore/data/iotwireless/2020-11-22/endpoint-rule-set-1.json.gz  \n",
      "  inflating: /tmp/ngc-cli/botocore/data/iotwireless/2020-11-22/service-2.json.gz  \n",
      "  inflating: /tmp/ngc-cli/botocore/data/iotwireless/2020-11-22/examples-1.json  \n",
      " extracting: /tmp/ngc-cli/botocore/data/lex-runtime/2016-11-28/paginators-1.json  \n",
      " extracting: /tmp/ngc-cli/botocore/data/lex-runtime/2016-11-28/endpoint-rule-set-1.json.gz  \n",
      " extracting: /tmp/ngc-cli/botocore/data/lex-runtime/2016-11-28/service-2.json.gz  \n",
      "  inflating: /tmp/ngc-cli/botocore/data/lex-runtime/2016-11-28/examples-1.json  \n",
      " extracting: /tmp/ngc-cli/botocore/data/dlm/2018-01-12/paginators-1.json  \n",
      " extracting: /tmp/ngc-cli/botocore/data/dlm/2018-01-12/endpoint-rule-set-1.json.gz  \n",
      " extracting: /tmp/ngc-cli/botocore/data/dlm/2018-01-12/service-2.json.gz  \n",
      "  inflating: /tmp/ngc-cli/botocore/data/dlm/2018-01-12/examples-1.json  \n",
      " extracting: /tmp/ngc-cli/botocore/data/inspector/2015-08-18/endpoint-rule-set-1.json.gz  \n",
      " extracting: /tmp/ngc-cli/botocore/data/inspector/2015-08-18/service-2.json.gz  \n",
      "  inflating: /tmp/ngc-cli/botocore/data/inspector/2016-02-16/paginators-1.json  \n",
      " extracting: /tmp/ngc-cli/botocore/data/inspector/2016-02-16/endpoint-rule-set-1.json.gz  \n",
      " extracting: /tmp/ngc-cli/botocore/data/inspector/2016-02-16/service-2.json.gz  \n",
      "  inflating: /tmp/ngc-cli/botocore/data/inspector/2016-02-16/examples-1.json  \n",
      "  inflating: /tmp/ngc-cli/botocore/data/partitions.json  \n",
      "  inflating: /tmp/ngc-cli/botocore/data/nimble/2020-08-01/waiters-2.json  \n",
      "  inflating: /tmp/ngc-cli/botocore/data/nimble/2020-08-01/paginators-1.json  \n",
      " extracting: /tmp/ngc-cli/botocore/data/nimble/2020-08-01/endpoint-rule-set-1.json.gz  \n",
      " extracting: /tmp/ngc-cli/botocore/data/nimble/2020-08-01/service-2.json.gz  \n",
      "  inflating: /tmp/ngc-cli/botocore/data/nimble/2020-08-01/examples-1.json  \n",
      "  inflating: /tmp/ngc-cli/botocore/data/lex-models/2017-04-19/paginators-1.json  \n",
      " extracting: /tmp/ngc-cli/botocore/data/lex-models/2017-04-19/endpoint-rule-set-1.json.gz  \n",
      " extracting: /tmp/ngc-cli/botocore/data/lex-models/2017-04-19/service-2.json.gz  \n",
      "  inflating: /tmp/ngc-cli/botocore/data/lex-models/2017-04-19/examples-1.json  \n",
      "  inflating: /tmp/ngc-cli/botocore/data/budgets/2016-10-20/paginators-1.json  \n",
      " extracting: /tmp/ngc-cli/botocore/data/budgets/2016-10-20/endpoint-rule-set-1.json.gz  \n",
      " extracting: /tmp/ngc-cli/botocore/data/budgets/2016-10-20/service-2.json.gz  \n",
      "  inflating: /tmp/ngc-cli/botocore/data/budgets/2016-10-20/examples-1.json  \n",
      "  inflating: /tmp/ngc-cli/botocore/data/glue/2017-03-31/paginators-1.json  \n",
      " extracting: /tmp/ngc-cli/botocore/data/glue/2017-03-31/endpoint-rule-set-1.json.gz  \n",
      "  inflating: /tmp/ngc-cli/botocore/data/glue/2017-03-31/service-2.json.gz  \n",
      "  inflating: /tmp/ngc-cli/botocore/data/glue/2017-03-31/examples-1.json  \n",
      "  inflating: /tmp/ngc-cli/botocore/data/voice-id/2021-09-27/paginators-1.json  \n",
      " extracting: /tmp/ngc-cli/botocore/data/voice-id/2021-09-27/endpoint-rule-set-1.json.gz  \n",
      " extracting: /tmp/ngc-cli/botocore/data/voice-id/2021-09-27/service-2.json.gz  \n",
      "  inflating: /tmp/ngc-cli/botocore/data/voice-id/2021-09-27/examples-1.json  \n",
      "  inflating: /tmp/ngc-cli/botocore/data/securitylake/2018-05-10/paginators-1.json  \n",
      "  inflating: /tmp/ngc-cli/botocore/data/securitylake/2018-05-10/paginators-1.sdk-extras.json  \n",
      " extracting: /tmp/ngc-cli/botocore/data/securitylake/2018-05-10/endpoint-rule-set-1.json.gz  \n",
      " extracting: /tmp/ngc-cli/botocore/data/securitylake/2018-05-10/service-2.json.gz  \n",
      "  inflating: /tmp/ngc-cli/botocore/data/translate/2017-07-01/paginators-1.json  \n",
      " extracting: /tmp/ngc-cli/botocore/data/translate/2017-07-01/endpoint-rule-set-1.json.gz  \n",
      " extracting: /tmp/ngc-cli/botocore/data/translate/2017-07-01/service-2.json.gz  \n",
      "  inflating: /tmp/ngc-cli/botocore/data/translate/2017-07-01/examples-1.json  \n",
      "  inflating: /tmp/ngc-cli/botocore/data/license-manager/2018-08-01/paginators-1.json  \n",
      " extracting: /tmp/ngc-cli/botocore/data/license-manager/2018-08-01/endpoint-rule-set-1.json.gz  \n",
      " extracting: /tmp/ngc-cli/botocore/data/license-manager/2018-08-01/service-2.json.gz  \n",
      "  inflating: /tmp/ngc-cli/botocore/data/license-manager/2018-08-01/examples-1.json  \n",
      "  inflating: /tmp/ngc-cli/botocore/data/finspace/2021-03-12/paginators-1.json  \n",
      " extracting: /tmp/ngc-cli/botocore/data/finspace/2021-03-12/endpoint-rule-set-1.json.gz  \n",
      "  inflating: /tmp/ngc-cli/botocore/data/finspace/2021-03-12/service-2.json.gz  \n",
      "  inflating: /tmp/ngc-cli/botocore/data/finspace/2021-03-12/examples-1.json  \n",
      "  inflating: /tmp/ngc-cli/botocore/data/sns/2010-03-31/paginators-1.json  \n",
      " extracting: /tmp/ngc-cli/botocore/data/sns/2010-03-31/endpoint-rule-set-1.json.gz  \n",
      " extracting: /tmp/ngc-cli/botocore/data/sns/2010-03-31/service-2.json.gz  \n",
      "  inflating: /tmp/ngc-cli/botocore/data/sns/2010-03-31/examples-1.json  \n",
      "  inflating: /tmp/ngc-cli/botocore/data/cloudformation/2010-05-15/waiters-2.json  \n",
      "  inflating: /tmp/ngc-cli/botocore/data/cloudformation/2010-05-15/paginators-1.json  \n",
      " extracting: /tmp/ngc-cli/botocore/data/cloudformation/2010-05-15/endpoint-rule-set-1.json.gz  \n",
      "  inflating: /tmp/ngc-cli/botocore/data/cloudformation/2010-05-15/service-2.json.gz  \n",
      "  inflating: /tmp/ngc-cli/botocore/data/cloudformation/2010-05-15/examples-1.json  \n",
      "  inflating: /tmp/ngc-cli/botocore/data/amplifyuibuilder/2021-08-11/waiters-2.json  \n",
      "  inflating: /tmp/ngc-cli/botocore/data/amplifyuibuilder/2021-08-11/paginators-1.json  \n",
      " extracting: /tmp/ngc-cli/botocore/data/amplifyuibuilder/2021-08-11/endpoint-rule-set-1.json.gz  \n",
      " extracting: /tmp/ngc-cli/botocore/data/amplifyuibuilder/2021-08-11/service-2.json.gz  \n",
      "  inflating: /tmp/ngc-cli/botocore/data/amplifyuibuilder/2021-08-11/examples-1.json  \n",
      "  inflating: /tmp/ngc-cli/botocore/data/machinelearning/2014-12-12/waiters-2.json  \n",
      "  inflating: /tmp/ngc-cli/botocore/data/machinelearning/2014-12-12/paginators-1.json  \n",
      " extracting: /tmp/ngc-cli/botocore/data/machinelearning/2014-12-12/endpoint-rule-set-1.json.gz  \n",
      "  inflating: /tmp/ngc-cli/botocore/data/machinelearning/2014-12-12/service-2.json.gz  \n",
      "  inflating: /tmp/ngc-cli/botocore/data/machinelearning/2014-12-12/examples-1.json  \n",
      "  inflating: /tmp/ngc-cli/botocore/data/datapipeline/2012-10-29/paginators-1.json  \n",
      " extracting: /tmp/ngc-cli/botocore/data/datapipeline/2012-10-29/endpoint-rule-set-1.json.gz  \n",
      " extracting: /tmp/ngc-cli/botocore/data/datapipeline/2012-10-29/service-2.json.gz  \n",
      "  inflating: /tmp/ngc-cli/botocore/data/datapipeline/2012-10-29/examples-1.json  \n",
      " extracting: /tmp/ngc-cli/botocore/data/qldb/2019-01-02/paginators-1.json  \n",
      " extracting: /tmp/ngc-cli/botocore/data/qldb/2019-01-02/endpoint-rule-set-1.json.gz  \n",
      " extracting: /tmp/ngc-cli/botocore/data/qldb/2019-01-02/service-2.json.gz  \n",
      "  inflating: /tmp/ngc-cli/botocore/data/qldb/2019-01-02/examples-1.json  \n",
      " extracting: /tmp/ngc-cli/botocore/data/osis/2022-01-01/paginators-1.json  \n",
      " extracting: /tmp/ngc-cli/botocore/data/osis/2022-01-01/endpoint-rule-set-1.json.gz  \n",
      " extracting: /tmp/ngc-cli/botocore/data/osis/2022-01-01/service-2.json.gz  \n",
      " extracting: /tmp/ngc-cli/botocore/data/detective/2018-10-26/paginators-1.json  \n",
      " extracting: /tmp/ngc-cli/botocore/data/detective/2018-10-26/endpoint-rule-set-1.json.gz  \n",
      " extracting: /tmp/ngc-cli/botocore/data/detective/2018-10-26/service-2.json.gz  \n",
      "  inflating: /tmp/ngc-cli/botocore/data/detective/2018-10-26/examples-1.json  \n",
      "  inflating: /tmp/ngc-cli/botocore/data/neptune-graph/2023-11-29/waiters-2.json  \n",
      "  inflating: /tmp/ngc-cli/botocore/data/neptune-graph/2023-11-29/paginators-1.json  \n",
      " extracting: /tmp/ngc-cli/botocore/data/neptune-graph/2023-11-29/endpoint-rule-set-1.json.gz  \n",
      " extracting: /tmp/ngc-cli/botocore/data/neptune-graph/2023-11-29/service-2.json.gz  \n",
      "  inflating: /tmp/ngc-cli/botocore/data/cloudwatch/2010-08-01/waiters-2.json  \n",
      "  inflating: /tmp/ngc-cli/botocore/data/cloudwatch/2010-08-01/paginators-1.json  \n",
      " extracting: /tmp/ngc-cli/botocore/data/cloudwatch/2010-08-01/endpoint-rule-set-1.json.gz  \n",
      "  inflating: /tmp/ngc-cli/botocore/data/cloudwatch/2010-08-01/service-2.json.gz  \n",
      "  inflating: /tmp/ngc-cli/botocore/data/cloudwatch/2010-08-01/examples-1.json  \n",
      "  inflating: /tmp/ngc-cli/botocore/data/workmail/2017-10-01/paginators-1.json  \n",
      " extracting: /tmp/ngc-cli/botocore/data/workmail/2017-10-01/endpoint-rule-set-1.json.gz  \n",
      "  inflating: /tmp/ngc-cli/botocore/data/workmail/2017-10-01/service-2.json.gz  \n",
      "  inflating: /tmp/ngc-cli/botocore/data/workmail/2017-10-01/examples-1.json  \n",
      " extracting: /tmp/ngc-cli/botocore/data/chime-sdk-identity/2021-04-20/paginators-1.json  \n",
      " extracting: /tmp/ngc-cli/botocore/data/chime-sdk-identity/2021-04-20/endpoint-rule-set-1.json.gz  \n",
      " extracting: /tmp/ngc-cli/botocore/data/chime-sdk-identity/2021-04-20/service-2.json.gz  \n",
      "  inflating: /tmp/ngc-cli/botocore/data/chime-sdk-identity/2021-04-20/examples-1.json  \n",
      "  inflating: /tmp/ngc-cli/botocore/data/acm-pca/2017-08-22/waiters-2.json  \n",
      "  inflating: /tmp/ngc-cli/botocore/data/acm-pca/2017-08-22/paginators-1.json  \n",
      " extracting: /tmp/ngc-cli/botocore/data/acm-pca/2017-08-22/endpoint-rule-set-1.json.gz  \n",
      " extracting: /tmp/ngc-cli/botocore/data/acm-pca/2017-08-22/service-2.json.gz  \n",
      "  inflating: /tmp/ngc-cli/botocore/data/acm-pca/2017-08-22/examples-1.json  \n",
      "  inflating: /tmp/ngc-cli/botocore/data/personalize/2018-05-22/paginators-1.json  \n",
      " extracting: /tmp/ngc-cli/botocore/data/personalize/2018-05-22/endpoint-rule-set-1.json.gz  \n",
      " extracting: /tmp/ngc-cli/botocore/data/personalize/2018-05-22/service-2.json.gz  \n",
      "  inflating: /tmp/ngc-cli/botocore/data/personalize/2018-05-22/examples-1.json  \n",
      "  inflating: /tmp/ngc-cli/botocore/data/chime/2018-05-01/paginators-1.json  \n",
      " extracting: /tmp/ngc-cli/botocore/data/chime/2018-05-01/endpoint-rule-set-1.json.gz  \n",
      "  inflating: /tmp/ngc-cli/botocore/data/chime/2018-05-01/service-2.json.gz  \n",
      "  inflating: /tmp/ngc-cli/botocore/data/chime/2018-05-01/examples-1.json  \n",
      "  inflating: /tmp/ngc-cli/botocore/data/appmesh/2019-01-25/paginators-1.json  \n",
      " extracting: /tmp/ngc-cli/botocore/data/appmesh/2019-01-25/endpoint-rule-set-1.json.gz  \n",
      " extracting: /tmp/ngc-cli/botocore/data/appmesh/2019-01-25/service-2.json.gz  \n",
      "  inflating: /tmp/ngc-cli/botocore/data/appmesh/2019-01-25/examples-1.json  \n",
      "  inflating: /tmp/ngc-cli/botocore/data/appmesh/2018-10-01/paginators-1.json  \n",
      " extracting: /tmp/ngc-cli/botocore/data/appmesh/2018-10-01/endpoint-rule-set-1.json.gz  \n",
      " extracting: /tmp/ngc-cli/botocore/data/appmesh/2018-10-01/service-2.json.gz  \n",
      "  inflating: /tmp/ngc-cli/botocore/data/appmesh/2018-10-01/examples-1.json  \n",
      " extracting: /tmp/ngc-cli/botocore/data/kinesisanalytics/2015-08-14/paginators-1.json  \n",
      " extracting: /tmp/ngc-cli/botocore/data/kinesisanalytics/2015-08-14/endpoint-rule-set-1.json.gz  \n",
      " extracting: /tmp/ngc-cli/botocore/data/kinesisanalytics/2015-08-14/service-2.json.gz  \n",
      "  inflating: /tmp/ngc-cli/botocore/data/kinesisanalytics/2015-08-14/examples-1.json  \n",
      "  inflating: /tmp/ngc-cli/botocore/data/kinesisanalyticsv2/2018-05-23/paginators-1.json  \n",
      " extracting: /tmp/ngc-cli/botocore/data/kinesisanalyticsv2/2018-05-23/endpoint-rule-set-1.json.gz  \n",
      " extracting: /tmp/ngc-cli/botocore/data/kinesisanalyticsv2/2018-05-23/service-2.json.gz  \n",
      "  inflating: /tmp/ngc-cli/botocore/data/kinesisanalyticsv2/2018-05-23/examples-1.json  \n",
      "  inflating: /tmp/ngc-cli/botocore/data/iotsitewise/2019-12-02/waiters-2.json  \n",
      "  inflating: /tmp/ngc-cli/botocore/data/iotsitewise/2019-12-02/paginators-1.json  \n",
      "  inflating: /tmp/ngc-cli/botocore/data/iotsitewise/2019-12-02/paginators-1.sdk-extras.json  \n",
      " extracting: /tmp/ngc-cli/botocore/data/iotsitewise/2019-12-02/endpoint-rule-set-1.json.gz  \n",
      "  inflating: /tmp/ngc-cli/botocore/data/iotsitewise/2019-12-02/service-2.json.gz  \n",
      "  inflating: /tmp/ngc-cli/botocore/data/iotsitewise/2019-12-02/examples-1.json  \n",
      "  inflating: /tmp/ngc-cli/botocore/data/glacier/2012-06-01/waiters-2.json  \n",
      "  inflating: /tmp/ngc-cli/botocore/data/glacier/2012-06-01/paginators-1.json  \n",
      " extracting: /tmp/ngc-cli/botocore/data/glacier/2012-06-01/endpoint-rule-set-1.json.gz  \n",
      " extracting: /tmp/ngc-cli/botocore/data/glacier/2012-06-01/service-2.json.gz  \n",
      "  inflating: /tmp/ngc-cli/botocore/data/glacier/2012-06-01/examples-1.json  \n",
      "  inflating: /tmp/ngc-cli/botocore/data/docdb-elastic/2022-11-28/paginators-1.json  \n",
      " extracting: /tmp/ngc-cli/botocore/data/docdb-elastic/2022-11-28/endpoint-rule-set-1.json.gz  \n",
      " extracting: /tmp/ngc-cli/botocore/data/docdb-elastic/2022-11-28/service-2.json.gz  \n",
      "  inflating: /tmp/ngc-cli/botocore/data/serverlessrepo/2017-09-08/paginators-1.json  \n",
      " extracting: /tmp/ngc-cli/botocore/data/serverlessrepo/2017-09-08/endpoint-rule-set-1.json.gz  \n",
      "  inflating: /tmp/ngc-cli/botocore/data/serverlessrepo/2017-09-08/service-2.json.gz  \n",
      "  inflating: /tmp/ngc-cli/botocore/data/compute-optimizer/2019-11-01/paginators-1.json  \n",
      " extracting: /tmp/ngc-cli/botocore/data/compute-optimizer/2019-11-01/endpoint-rule-set-1.json.gz  \n",
      "  inflating: /tmp/ngc-cli/botocore/data/compute-optimizer/2019-11-01/service-2.json.gz  \n",
      "  inflating: /tmp/ngc-cli/botocore/data/compute-optimizer/2019-11-01/examples-1.json  \n",
      "  inflating: /tmp/ngc-cli/botocore/data/cloudcontrol/2021-09-30/waiters-2.json  \n",
      "  inflating: /tmp/ngc-cli/botocore/data/cloudcontrol/2021-09-30/paginators-1.json  \n",
      "  inflating: /tmp/ngc-cli/botocore/data/cloudcontrol/2021-09-30/paginators-1.sdk-extras.json  \n",
      " extracting: /tmp/ngc-cli/botocore/data/cloudcontrol/2021-09-30/endpoint-rule-set-1.json.gz  \n",
      " extracting: /tmp/ngc-cli/botocore/data/cloudcontrol/2021-09-30/service-2.json.gz  \n",
      "  inflating: /tmp/ngc-cli/botocore/data/cloudcontrol/2021-09-30/examples-1.json  \n",
      "  inflating: /tmp/ngc-cli/botocore/data/batch/2016-08-10/paginators-1.json  \n",
      " extracting: /tmp/ngc-cli/botocore/data/batch/2016-08-10/endpoint-rule-set-1.json.gz  \n",
      "  inflating: /tmp/ngc-cli/botocore/data/batch/2016-08-10/service-2.json.gz  \n",
      "  inflating: /tmp/ngc-cli/botocore/data/batch/2016-08-10/examples-1.json  \n",
      "  inflating: /tmp/ngc-cli/botocore/data/controltower/2018-05-10/paginators-1.json  \n",
      " extracting: /tmp/ngc-cli/botocore/data/controltower/2018-05-10/endpoint-rule-set-1.json.gz  \n",
      " extracting: /tmp/ngc-cli/botocore/data/controltower/2018-05-10/service-2.json.gz  \n",
      "  inflating: /tmp/ngc-cli/botocore/data/cognito-idp/2016-04-18/paginators-1.json  \n",
      " extracting: /tmp/ngc-cli/botocore/data/cognito-idp/2016-04-18/endpoint-rule-set-1.json.gz  \n",
      "  inflating: /tmp/ngc-cli/botocore/data/cognito-idp/2016-04-18/service-2.json.gz  \n",
      "  inflating: /tmp/ngc-cli/botocore/data/cognito-idp/2016-04-18/examples-1.json  \n",
      "  inflating: /tmp/ngc-cli/botocore/data/importexport/2010-06-01/paginators-1.json  \n",
      " extracting: /tmp/ngc-cli/botocore/data/importexport/2010-06-01/endpoint-rule-set-1.json.gz  \n",
      " extracting: /tmp/ngc-cli/botocore/data/importexport/2010-06-01/service-2.json.gz  \n",
      "  inflating: /tmp/ngc-cli/botocore/data/dataexchange/2017-07-25/waiters-2.json  \n",
      "  inflating: /tmp/ngc-cli/botocore/data/dataexchange/2017-07-25/paginators-1.json  \n",
      " extracting: /tmp/ngc-cli/botocore/data/dataexchange/2017-07-25/endpoint-rule-set-1.json.gz  \n",
      " extracting: /tmp/ngc-cli/botocore/data/dataexchange/2017-07-25/service-2.json.gz  \n",
      " extracting: /tmp/ngc-cli/botocore/data/resiliencehub/2020-04-30/paginators-1.json  \n",
      " extracting: /tmp/ngc-cli/botocore/data/resiliencehub/2020-04-30/endpoint-rule-set-1.json.gz  \n",
      "  inflating: /tmp/ngc-cli/botocore/data/resiliencehub/2020-04-30/service-2.json.gz  \n",
      "  inflating: /tmp/ngc-cli/botocore/data/resiliencehub/2020-04-30/examples-1.json  \n",
      "  inflating: /tmp/ngc-cli/botocore/data/memorydb/2021-01-01/paginators-1.json  \n",
      " extracting: /tmp/ngc-cli/botocore/data/memorydb/2021-01-01/endpoint-rule-set-1.json.gz  \n",
      " extracting: /tmp/ngc-cli/botocore/data/memorydb/2021-01-01/service-2.json.gz  \n",
      "  inflating: /tmp/ngc-cli/botocore/data/memorydb/2021-01-01/examples-1.json  \n",
      "  inflating: /tmp/ngc-cli/botocore/data/cloudfront/2016-01-13/waiters-2.json  \n",
      "  inflating: /tmp/ngc-cli/botocore/data/cloudfront/2016-01-13/paginators-1.json  \n",
      " extracting: /tmp/ngc-cli/botocore/data/cloudfront/2016-01-13/endpoint-rule-set-1.json.gz  \n",
      " extracting: /tmp/ngc-cli/botocore/data/cloudfront/2016-01-13/service-2.json.gz  \n",
      "  inflating: /tmp/ngc-cli/botocore/data/cloudfront/2016-08-20/waiters-2.json  \n",
      "  inflating: /tmp/ngc-cli/botocore/data/cloudfront/2016-08-20/paginators-1.json  \n",
      " extracting: /tmp/ngc-cli/botocore/data/cloudfront/2016-08-20/endpoint-rule-set-1.json.gz  \n",
      "  inflating: /tmp/ngc-cli/botocore/data/cloudfront/2016-08-20/service-2.json.gz  \n",
      "  inflating: /tmp/ngc-cli/botocore/data/cloudfront/2020-05-31/waiters-2.json  \n",
      "  inflating: /tmp/ngc-cli/botocore/data/cloudfront/2020-05-31/paginators-1.json  \n",
      " extracting: /tmp/ngc-cli/botocore/data/cloudfront/2020-05-31/endpoint-rule-set-1.json.gz  \n",
      "  inflating: /tmp/ngc-cli/botocore/data/cloudfront/2020-05-31/service-2.json.gz  \n",
      "  inflating: /tmp/ngc-cli/botocore/data/cloudfront/2020-05-31/examples-1.json  \n",
      "  inflating: /tmp/ngc-cli/botocore/data/cloudfront/2016-09-29/waiters-2.json  \n",
      "  inflating: /tmp/ngc-cli/botocore/data/cloudfront/2016-09-29/paginators-1.json  \n",
      " extracting: /tmp/ngc-cli/botocore/data/cloudfront/2016-09-29/endpoint-rule-set-1.json.gz  \n",
      " extracting: /tmp/ngc-cli/botocore/data/cloudfront/2016-09-29/service-2.json.gz  \n",
      "  inflating: /tmp/ngc-cli/botocore/data/cloudfront/2016-09-29/examples-1.json  \n",
      "  inflating: /tmp/ngc-cli/botocore/data/cloudfront/2015-04-17/waiters-2.json  \n",
      "  inflating: /tmp/ngc-cli/botocore/data/cloudfront/2015-04-17/paginators-1.json  \n",
      " extracting: /tmp/ngc-cli/botocore/data/cloudfront/2015-04-17/endpoint-rule-set-1.json.gz  \n",
      "  inflating: /tmp/ngc-cli/botocore/data/cloudfront/2015-04-17/service-2.json.gz  \n",
      "  inflating: /tmp/ngc-cli/botocore/data/cloudfront/2014-05-31/waiters-2.json  \n",
      "  inflating: /tmp/ngc-cli/botocore/data/cloudfront/2014-05-31/paginators-1.json  \n",
      " extracting: /tmp/ngc-cli/botocore/data/cloudfront/2014-05-31/endpoint-rule-set-1.json.gz  \n",
      " extracting: /tmp/ngc-cli/botocore/data/cloudfront/2014-05-31/service-2.json.gz  \n",
      "  inflating: /tmp/ngc-cli/botocore/data/cloudfront/2014-10-21/waiters-2.json  \n",
      "  inflating: /tmp/ngc-cli/botocore/data/cloudfront/2014-10-21/paginators-1.json  \n",
      " extracting: /tmp/ngc-cli/botocore/data/cloudfront/2014-10-21/endpoint-rule-set-1.json.gz  \n",
      "  inflating: /tmp/ngc-cli/botocore/data/cloudfront/2014-10-21/service-2.json.gz  \n",
      "  inflating: /tmp/ngc-cli/botocore/data/cloudfront/2017-10-30/waiters-2.json  \n",
      "  inflating: /tmp/ngc-cli/botocore/data/cloudfront/2017-10-30/paginators-1.json  \n",
      " extracting: /tmp/ngc-cli/botocore/data/cloudfront/2017-10-30/endpoint-rule-set-1.json.gz  \n",
      "  inflating: /tmp/ngc-cli/botocore/data/cloudfront/2017-10-30/service-2.json.gz  \n",
      "  inflating: /tmp/ngc-cli/botocore/data/cloudfront/2017-10-30/examples-1.json  \n",
      "  inflating: /tmp/ngc-cli/botocore/data/cloudfront/2017-03-25/waiters-2.json  \n",
      "  inflating: /tmp/ngc-cli/botocore/data/cloudfront/2017-03-25/paginators-1.json  \n",
      " extracting: /tmp/ngc-cli/botocore/data/cloudfront/2017-03-25/endpoint-rule-set-1.json.gz  \n",
      " extracting: /tmp/ngc-cli/botocore/data/cloudfront/2017-03-25/service-2.json.gz  \n",
      "  inflating: /tmp/ngc-cli/botocore/data/cloudfront/2016-08-01/waiters-2.json  \n",
      "  inflating: /tmp/ngc-cli/botocore/data/cloudfront/2016-08-01/paginators-1.json  \n",
      " extracting: /tmp/ngc-cli/botocore/data/cloudfront/2016-08-01/endpoint-rule-set-1.json.gz  \n",
      " extracting: /tmp/ngc-cli/botocore/data/cloudfront/2016-08-01/service-2.json.gz  \n",
      "  inflating: /tmp/ngc-cli/botocore/data/cloudfront/2016-08-01/examples-1.json  \n",
      "  inflating: /tmp/ngc-cli/botocore/data/cloudfront/2016-09-07/waiters-2.json  \n",
      "  inflating: /tmp/ngc-cli/botocore/data/cloudfront/2016-09-07/paginators-1.json  \n",
      " extracting: /tmp/ngc-cli/botocore/data/cloudfront/2016-09-07/endpoint-rule-set-1.json.gz  \n",
      "  inflating: /tmp/ngc-cli/botocore/data/cloudfront/2016-09-07/service-2.json.gz  \n",
      "  inflating: /tmp/ngc-cli/botocore/data/cloudfront/2016-09-07/examples-1.json  \n",
      "  inflating: /tmp/ngc-cli/botocore/data/cloudfront/2018-06-18/waiters-2.json  \n",
      "  inflating: /tmp/ngc-cli/botocore/data/cloudfront/2018-06-18/paginators-1.json  \n",
      " extracting: /tmp/ngc-cli/botocore/data/cloudfront/2018-06-18/endpoint-rule-set-1.json.gz  \n",
      "  inflating: /tmp/ngc-cli/botocore/data/cloudfront/2018-06-18/service-2.json.gz  \n",
      "  inflating: /tmp/ngc-cli/botocore/data/cloudfront/2018-06-18/examples-1.json  \n",
      "  inflating: /tmp/ngc-cli/botocore/data/cloudfront/2018-11-05/waiters-2.json  \n",
      "  inflating: /tmp/ngc-cli/botocore/data/cloudfront/2018-11-05/paginators-1.json  \n",
      " extracting: /tmp/ngc-cli/botocore/data/cloudfront/2018-11-05/endpoint-rule-set-1.json.gz  \n",
      "  inflating: /tmp/ngc-cli/botocore/data/cloudfront/2018-11-05/service-2.json.gz  \n",
      "  inflating: /tmp/ngc-cli/botocore/data/cloudfront/2018-11-05/examples-1.json  \n",
      "  inflating: /tmp/ngc-cli/botocore/data/cloudfront/2016-01-28/waiters-2.json  \n",
      "  inflating: /tmp/ngc-cli/botocore/data/cloudfront/2016-01-28/paginators-1.json  \n",
      " extracting: /tmp/ngc-cli/botocore/data/cloudfront/2016-01-28/endpoint-rule-set-1.json.gz  \n",
      " extracting: /tmp/ngc-cli/botocore/data/cloudfront/2016-01-28/service-2.json.gz  \n",
      "  inflating: /tmp/ngc-cli/botocore/data/cloudfront/2016-01-28/examples-1.json  \n",
      "  inflating: /tmp/ngc-cli/botocore/data/cloudfront/2019-03-26/waiters-2.json  \n",
      "  inflating: /tmp/ngc-cli/botocore/data/cloudfront/2019-03-26/paginators-1.json  \n",
      " extracting: /tmp/ngc-cli/botocore/data/cloudfront/2019-03-26/endpoint-rule-set-1.json.gz  \n",
      "  inflating: /tmp/ngc-cli/botocore/data/cloudfront/2019-03-26/service-2.json.gz  \n",
      "  inflating: /tmp/ngc-cli/botocore/data/cloudfront/2019-03-26/examples-1.json  \n",
      "  inflating: /tmp/ngc-cli/botocore/data/cloudfront/2015-09-17/waiters-2.json  \n",
      "  inflating: /tmp/ngc-cli/botocore/data/cloudfront/2015-09-17/paginators-1.json  \n",
      " extracting: /tmp/ngc-cli/botocore/data/cloudfront/2015-09-17/endpoint-rule-set-1.json.gz  \n",
      "  inflating: /tmp/ngc-cli/botocore/data/cloudfront/2015-09-17/service-2.json.gz  \n",
      "  inflating: /tmp/ngc-cli/botocore/data/cloudfront/2014-11-06/waiters-2.json  \n",
      "  inflating: /tmp/ngc-cli/botocore/data/cloudfront/2014-11-06/paginators-1.json  \n",
      " extracting: /tmp/ngc-cli/botocore/data/cloudfront/2014-11-06/endpoint-rule-set-1.json.gz  \n",
      " extracting: /tmp/ngc-cli/botocore/data/cloudfront/2014-11-06/service-2.json.gz  \n",
      "  inflating: /tmp/ngc-cli/botocore/data/cloudfront/2016-11-25/waiters-2.json  \n",
      "  inflating: /tmp/ngc-cli/botocore/data/cloudfront/2016-11-25/paginators-1.json  \n",
      " extracting: /tmp/ngc-cli/botocore/data/cloudfront/2016-11-25/endpoint-rule-set-1.json.gz  \n",
      " extracting: /tmp/ngc-cli/botocore/data/cloudfront/2016-11-25/service-2.json.gz  \n",
      "  inflating: /tmp/ngc-cli/botocore/data/cloudfront/2016-11-25/examples-1.json  \n",
      "  inflating: /tmp/ngc-cli/botocore/data/cloudfront/2015-07-27/waiters-2.json  \n",
      "  inflating: /tmp/ngc-cli/botocore/data/cloudfront/2015-07-27/paginators-1.json  \n",
      " extracting: /tmp/ngc-cli/botocore/data/cloudfront/2015-07-27/endpoint-rule-set-1.json.gz  \n",
      " extracting: /tmp/ngc-cli/botocore/data/cloudfront/2015-07-27/service-2.json.gz  \n",
      "  inflating: /tmp/ngc-cli/botocore/data/mgn/2020-02-26/paginators-1.json  \n",
      " extracting: /tmp/ngc-cli/botocore/data/mgn/2020-02-26/endpoint-rule-set-1.json.gz  \n",
      " extracting: /tmp/ngc-cli/botocore/data/mgn/2020-02-26/service-2.json.gz  \n",
      "  inflating: /tmp/ngc-cli/botocore/data/mgn/2020-02-26/examples-1.json  \n",
      "  inflating: /tmp/ngc-cli/botocore/data/bedrock-runtime/2023-09-30/waiters-2.json  \n",
      " extracting: /tmp/ngc-cli/botocore/data/bedrock-runtime/2023-09-30/paginators-1.json  \n",
      " extracting: /tmp/ngc-cli/botocore/data/bedrock-runtime/2023-09-30/endpoint-rule-set-1.json.gz  \n",
      " extracting: /tmp/ngc-cli/botocore/data/bedrock-runtime/2023-09-30/service-2.json.gz  \n",
      "  inflating: /tmp/ngc-cli/botocore/data/codestar/2017-04-19/paginators-1.json  \n",
      " extracting: /tmp/ngc-cli/botocore/data/codestar/2017-04-19/endpoint-rule-set-1.json.gz  \n",
      " extracting: /tmp/ngc-cli/botocore/data/codestar/2017-04-19/service-2.json.gz  \n",
      "  inflating: /tmp/ngc-cli/botocore/data/codestar/2017-04-19/examples-1.json  \n",
      " extracting: /tmp/ngc-cli/botocore/data/imagebuilder/2019-12-02/paginators-1.json  \n",
      " extracting: /tmp/ngc-cli/botocore/data/imagebuilder/2019-12-02/endpoint-rule-set-1.json.gz  \n",
      "  inflating: /tmp/ngc-cli/botocore/data/imagebuilder/2019-12-02/service-2.json.gz  \n",
      "  inflating: /tmp/ngc-cli/botocore/data/imagebuilder/2019-12-02/examples-1.json  \n",
      " extracting: /tmp/ngc-cli/botocore/data/timestream-write/2018-11-01/paginators-1.json  \n",
      " extracting: /tmp/ngc-cli/botocore/data/timestream-write/2018-11-01/endpoint-rule-set-1.json.gz  \n",
      " extracting: /tmp/ngc-cli/botocore/data/timestream-write/2018-11-01/service-2.json.gz  \n",
      "  inflating: /tmp/ngc-cli/botocore/data/timestream-write/2018-11-01/examples-1.json  \n",
      "  inflating: /tmp/ngc-cli/botocore/data/arc-zonal-shift/2022-10-30/paginators-1.json  \n",
      " extracting: /tmp/ngc-cli/botocore/data/arc-zonal-shift/2022-10-30/endpoint-rule-set-1.json.gz  \n",
      " extracting: /tmp/ngc-cli/botocore/data/arc-zonal-shift/2022-10-30/service-2.json.gz  \n",
      "  inflating: /tmp/ngc-cli/botocore/data/rekognition/2016-06-27/waiters-2.json  \n",
      "  inflating: /tmp/ngc-cli/botocore/data/rekognition/2016-06-27/paginators-1.json  \n",
      " extracting: /tmp/ngc-cli/botocore/data/rekognition/2016-06-27/endpoint-rule-set-1.json.gz  \n",
      "  inflating: /tmp/ngc-cli/botocore/data/rekognition/2016-06-27/service-2.json.gz  \n",
      "  inflating: /tmp/ngc-cli/botocore/data/rekognition/2016-06-27/examples-1.json  \n",
      "  inflating: /tmp/ngc-cli/botocore/data/braket/2019-09-01/paginators-1.json  \n",
      " extracting: /tmp/ngc-cli/botocore/data/braket/2019-09-01/endpoint-rule-set-1.json.gz  \n",
      " extracting: /tmp/ngc-cli/botocore/data/braket/2019-09-01/service-2.json.gz  \n",
      "  inflating: /tmp/ngc-cli/botocore/data/braket/2019-09-01/examples-1.json  \n",
      "  inflating: /tmp/ngc-cli/botocore/cacert.pem  \n",
      "  inflating: /tmp/ngc-cli/prettytable-2.0.0.dist-info/RECORD  \n",
      "  inflating: /tmp/ngc-cli/prettytable-2.0.0.dist-info/COPYING  \n",
      "  inflating: /tmp/ngc-cli/prettytable-2.0.0.dist-info/METADATA  \n",
      " extracting: /tmp/ngc-cli/prettytable-2.0.0.dist-info/WHEEL  \n",
      " extracting: /tmp/ngc-cli/prettytable-2.0.0.dist-info/INSTALLER  \n",
      " extracting: /tmp/ngc-cli/prettytable-2.0.0.dist-info/top_level.txt  \n",
      "  inflating: /tmp/ngc-cli/aiohttp/_http_writer.cpython-39-x86_64-linux-gnu.so  \n",
      "  inflating: /tmp/ngc-cli/aiohttp/_http_parser.cpython-39-x86_64-linux-gnu.so  \n",
      "  inflating: /tmp/ngc-cli/aiohttp/_helpers.cpython-39-x86_64-linux-gnu.so  \n",
      "  inflating: /tmp/ngc-cli/aiohttp/_websocket.cpython-39-x86_64-linux-gnu.so  \n",
      "  inflating: /tmp/ngc-cli/libkeyutils.so.1  \n",
      "  inflating: /tmp/ngc-cli/typing_extensions-4.9.0.dist-info/RECORD  \n",
      "  inflating: /tmp/ngc-cli/typing_extensions-4.9.0.dist-info/LICENSE  \n",
      "  inflating: /tmp/ngc-cli/typing_extensions-4.9.0.dist-info/METADATA  \n",
      " extracting: /tmp/ngc-cli/typing_extensions-4.9.0.dist-info/WHEEL  \n",
      " extracting: /tmp/ngc-cli/typing_extensions-4.9.0.dist-info/INSTALLER  \n",
      "  inflating: /tmp/ngc-cli/_cffi_backend.cpython-39-x86_64-linux-gnu.so  \n",
      "  inflating: /tmp/ngc-cli/psutil/_psutil_linux.abi3.so  \n",
      "  inflating: /tmp/ngc-cli/psutil/_psutil_posix.abi3.so  \n",
      "  inflating: /tmp/ngc-cli/libffi.so.6  \n",
      "  inflating: /tmp/ngc-cli/setuptools-49.6.0.dist-info/RECORD  \n",
      "  inflating: /tmp/ngc-cli/setuptools-49.6.0.dist-info/entry_points.txt  \n",
      "  inflating: /tmp/ngc-cli/setuptools-49.6.0.dist-info/LICENSE  \n",
      "  inflating: /tmp/ngc-cli/setuptools-49.6.0.dist-info/dependency_links.txt  \n",
      "  inflating: /tmp/ngc-cli/setuptools-49.6.0.dist-info/METADATA  \n",
      " extracting: /tmp/ngc-cli/setuptools-49.6.0.dist-info/WHEEL  \n",
      " extracting: /tmp/ngc-cli/setuptools-49.6.0.dist-info/zip-safe  \n",
      " extracting: /tmp/ngc-cli/setuptools-49.6.0.dist-info/INSTALLER  \n",
      "  inflating: /tmp/ngc-cli/setuptools-49.6.0.dist-info/top_level.txt  \n",
      "  inflating: /tmp/ngc-cli/markupsafe/_speedups.cpython-39-x86_64-linux-gnu.so  \n",
      "  inflating: /tmp/ngc-cli/Deprecated-1.2.14.dist-info/RECORD  \n",
      "  inflating: /tmp/ngc-cli/Deprecated-1.2.14.dist-info/METADATA  \n",
      "  inflating: /tmp/ngc-cli/Deprecated-1.2.14.dist-info/LICENSE.rst  \n",
      "  inflating: /tmp/ngc-cli/Deprecated-1.2.14.dist-info/WHEEL  \n",
      " extracting: /tmp/ngc-cli/Deprecated-1.2.14.dist-info/INSTALLER  \n",
      " extracting: /tmp/ngc-cli/Deprecated-1.2.14.dist-info/top_level.txt  \n",
      " extracting: /tmp/ngc-cli.md5        \n"
     ]
    }
   ],
   "source": [
    "!wget -q -O /tmp/ngccli_linux.zip --content-disposition https://api.ngc.nvidia.com/v2/resources/nvidia/ngc-apps/ngc_cli/versions/3.38.0/files/ngccli_linux.zip && unzip -o /tmp/ngccli_linux.zip -d /tmp && chmod u+x /tmp/ngc-cli/ngc && rm /tmp/ngccli_linux.zip"
   ]
  },
  {
   "cell_type": "markdown",
   "id": "67851ebf-79fe-4b96-a24f-d9be76d9c5e7",
   "metadata": {},
   "source": [
    "そして、ターミナルを開いて、下記のコマンドを入力して、 ngc config set をしてください。"
   ]
  },
  {
   "cell_type": "markdown",
   "id": "5ef7d63b-649c-4d00-ba01-be0e494bcb13",
   "metadata": {
    "tags": []
   },
   "source": [
    "/tmp/ngc-cli/ngc config set\n",
    "\n",
    "<順番にAPI キー、CLI output format, org, team, aceを入力してください。API キーはNGCのAPIキーを入力してください。Org は ’no-org’ 以外のものを選択して、その他は「Enter」でデフォルト値を入力すれば大丈夫です>"
   ]
  },
  {
   "cell_type": "markdown",
   "id": "a05a9f2a-286b-497c-80a9-067783873943",
   "metadata": {
    "tags": []
   },
   "source": [
    "最後に、下記のコマンドを入力すれば、モデルをダウンロードできます。"
   ]
  },
  {
   "cell_type": "code",
   "execution_count": 4,
   "id": "19e23e3a-3681-4b33-8a06-570cf6f54fbe",
   "metadata": {
    "tags": []
   },
   "outputs": [
    {
     "name": "stdout",
     "output_type": "stream",
     "text": [
      "/workspace/bionemo\n"
     ]
    }
   ],
   "source": [
    "cd /workspace/bionemo "
   ]
  },
  {
   "cell_type": "code",
   "execution_count": 5,
   "id": "7fd3e809-f04d-477d-9c28-9348bb55f670",
   "metadata": {
    "scrolled": true,
    "tags": []
   },
   "outputs": [
    {
     "name": "stdout",
     "output_type": "stream",
     "text": [
      "Running command: ngc --version\n",
      "\n",
      "NGC CLI 3.42.0\n",
      "\n",
      "Done.\n",
      "Running command: mkdir -p /workspace/bionemo/models && ngc registry model download-version nvidia/clara/molmim:1.3 --dest /workspace/bionemo/models && mv /workspace/bionemo/models/molmim_v1.3/* /workspace/bionemo/models/ && rm -d /workspace/bionemo/models/molmim_v1.3\n",
      "\n",
      "\n",
      "Done.\n",
      "Running command: mkdir -p /workspace/bionemo/models/molecule/molmim && ln -sf ../../molmim_70m_24_3.nemo /workspace/bionemo/models/molecule/molmim/molmim_70m_24_3.nemo\n",
      "\n",
      "\n",
      "Done.\n"
     ]
    }
   ],
   "source": [
    "!python download_models.py --download_dir /workspace/bionemo/models molmim_70m_24_3"
   ]
  },
  {
   "cell_type": "markdown",
   "id": "daa10a66-bd4a-40bc-8875-caae41de836a",
   "metadata": {},
   "source": [
    "## チェックポイントをmolmim推論ラッパーにロード"
   ]
  },
  {
   "cell_type": "code",
   "execution_count": 6,
   "id": "9fd6716e-f862-41b1-a823-d4ee55024314",
   "metadata": {
    "scrolled": true,
    "tags": []
   },
   "outputs": [
    {
     "name": "stdout",
     "output_type": "stream",
     "text": [
      "[NeMo I 2024-05-29 03:17:07 megatron_hiddens:110] Registered hidden transform sampled_var_cond_gaussian at bionemo.model.core.hiddens_support.SampledVarGaussianHiddenTransform\n",
      "[NeMo I 2024-05-29 03:17:07 megatron_hiddens:110] Registered hidden transform interp_var_cond_gaussian at bionemo.model.core.hiddens_support.InterpVarGaussianHiddenTransform\n",
      "[NeMo I 2024-05-29 03:17:07 utils:334] Restoring model from /workspace/bionemo/models/molecule/molmim/molmim_70m_24_3.nemo\n",
      "[NeMo I 2024-05-29 03:17:07 utils:338] Loading model class: bionemo.model.molecule.molmim.molmim_model.MolMIMModel\n",
      "Interactive mode selected, using strategy='auto'\n"
     ]
    },
    {
     "name": "stderr",
     "output_type": "stream",
     "text": [
      "INFO: GPU available: True (cuda), used: True\n",
      "WARNING: Logging before flag parsing goes to stderr.\n",
      "I0529 03:17:07.679289 131172322451456 rank_zero.py:53] GPU available: True (cuda), used: True\n",
      "INFO: TPU available: False, using: 0 TPU cores\n",
      "I0529 03:17:07.680823 131172322451456 rank_zero.py:53] TPU available: False, using: 0 TPU cores\n",
      "INFO: IPU available: False, using: 0 IPUs\n",
      "I0529 03:17:07.681936 131172322451456 rank_zero.py:53] IPU available: False, using: 0 IPUs\n",
      "INFO: HPU available: False, using: 0 HPUs\n",
      "I0529 03:17:07.683910 131172322451456 rank_zero.py:53] HPU available: False, using: 0 HPUs\n"
     ]
    },
    {
     "name": "stdout",
     "output_type": "stream",
     "text": [
      "[NeMo I 2024-05-29 03:17:07 exp_manager:394] Experiments will be logged at /workspace/bionemo/test_results/nemo_experiments/molmim_infer/MolMIM_Inference/2024-05-29_03-17-07\n",
      "[NeMo I 2024-05-29 03:17:07 utils:307] \n",
      "    \n",
      "    ************** Trainer configuration ***********\n",
      "[NeMo I 2024-05-29 03:17:07 utils:308] \n",
      "    name: MolMIM_Inference\n",
      "    desc: Minimum configuration for initializing a MolMIM model for inference.\n",
      "    trainer:\n",
      "      precision: 16-mixed\n",
      "      devices: 1\n",
      "      num_nodes: 1\n",
      "      accelerator: gpu\n",
      "      logger: false\n",
      "      accumulate_grad_batches: 1\n",
      "    exp_manager:\n",
      "      explicit_log_dir: null\n",
      "      exp_dir: ${oc.env:BIONEMO_HOME}/test_results/nemo_experiments/molmim_infer\n",
      "      name: ${name}\n",
      "      create_checkpoint_callback: false\n",
      "      create_wandb_logger: false\n",
      "      create_tensorboard_logger: false\n",
      "      wandb_logger_kwargs:\n",
      "        offline: true\n",
      "    model:\n",
      "      encoder:\n",
      "        num_layers: 6\n",
      "        hidden_size: 512\n",
      "        ffn_hidden_size: 2048\n",
      "        num_attention_heads: 8\n",
      "        init_method_std: 0.02\n",
      "        hidden_dropout: 0.1\n",
      "        attention_dropout: 0.1\n",
      "        ffn_dropout: 0.0\n",
      "        position_embedding_type: learned_absolute\n",
      "        relative_attention_num_buckets: 32\n",
      "        relative_attention_max_distance: 128\n",
      "        relative_position_bias_self_attention_only: true\n",
      "        kv_channels: null\n",
      "        apply_query_key_layer_scaling: false\n",
      "        layernorm_epsilon: 1.0e-05\n",
      "        persist_layer_norm: true\n",
      "        bias_activation_fusion: true\n",
      "        grad_div_ar_fusion: true\n",
      "        masked_softmax_fusion: true\n",
      "        bias_dropout_add_fusion: true\n",
      "        bias: true\n",
      "        normalization: layernorm\n",
      "        arch: perceiver\n",
      "        activation: gelu\n",
      "        headscale: false\n",
      "        transformer_block_type: pre_ln\n",
      "        hidden_steps: 1\n",
      "        num_self_attention_per_cross_attention: 1\n",
      "        openai_gelu: false\n",
      "        onnx_safe: false\n",
      "        fp32_residual_connection: false\n",
      "        activations_checkpoint_method: null\n",
      "        activations_checkpoint_num_layers: 1\n",
      "        activations_checkpoint_granularity: null\n",
      "        megatron_legacy: false\n",
      "        normalize_attention_scores: true\n",
      "        num_moe_experts: 1\n",
      "        moe_frequency: 1\n",
      "        moe_dropout: 0.0\n",
      "        use_flash_attention: false\n",
      "      decoder:\n",
      "        num_layers: 6\n",
      "        hidden_size: 512\n",
      "        ffn_hidden_size: 2048\n",
      "        num_attention_heads: 8\n",
      "        init_method_std: 0.02\n",
      "        hidden_dropout: 0.1\n",
      "        attention_dropout: 0.1\n",
      "        ffn_dropout: 0.0\n",
      "        position_embedding_type: learned_absolute\n",
      "        relative_attention_num_buckets: 32\n",
      "        relative_attention_max_distance: 128\n",
      "        relative_position_bias_self_attention_only: true\n",
      "        kv_channels: null\n",
      "        apply_query_key_layer_scaling: false\n",
      "        layernorm_epsilon: 1.0e-05\n",
      "        persist_layer_norm: true\n",
      "        bias_activation_fusion: true\n",
      "        grad_div_ar_fusion: true\n",
      "        masked_softmax_fusion: true\n",
      "        bias_dropout_add_fusion: true\n",
      "        bias: true\n",
      "        normalization: layernorm\n",
      "        arch: transformer\n",
      "        activation: gelu\n",
      "        headscale: false\n",
      "        transformer_block_type: pre_ln\n",
      "        hidden_steps: 32\n",
      "        num_self_attention_per_cross_attention: 1\n",
      "        openai_gelu: false\n",
      "        onnx_safe: false\n",
      "        fp32_residual_connection: false\n",
      "        activations_checkpoint_method: null\n",
      "        activations_checkpoint_num_layers: 1\n",
      "        activations_checkpoint_granularity: null\n",
      "        megatron_legacy: false\n",
      "        normalize_attention_scores: true\n",
      "        num_moe_experts: 1\n",
      "        moe_frequency: 1\n",
      "        moe_dropout: 0.0\n",
      "        use_flash_attention: false\n",
      "      name: MolMIM-small\n",
      "      micro_batch_size: ${model.data.batch_size}\n",
      "      global_batch_size: 128\n",
      "      tensor_model_parallel_size: 1\n",
      "      pipeline_model_parallel_size: 1\n",
      "      resume_from_checkpoint: null\n",
      "      pipeline_model_parallel_split_rank: 0\n",
      "      make_vocab_size_divisible_by: 128\n",
      "      pre_process: true\n",
      "      post_process: true\n",
      "      megatron_amp_O2: false\n",
      "      seq_length: 128\n",
      "      max_position_embeddings: 128\n",
      "      gradient_as_bucket_view: true\n",
      "      bias_gelu_fusion: true\n",
      "      share_token_embeddings: true\n",
      "      share_decoder_tokens_head_embeddings: false\n",
      "      hidden_size: 512\n",
      "      training_callbacks: []\n",
      "      hiddens:\n",
      "        enc_output_name: z\n",
      "        enc_inference_output_name: z_mean\n",
      "        token_aggregation_method: mean\n",
      "        hidden_aggregation_method: mean\n",
      "        transform:\n",
      "          q_z_given_x:\n",
      "            cls_name: sampled_var_cond_gaussian\n",
      "            hidden_size: 512\n",
      "            min_logvar: -6.0\n",
      "            max_logvar: 0.0\n",
      "            map_var_to_hiddens: false\n",
      "        loss:\n",
      "          mim:\n",
      "            cls_name: a_mim\n",
      "            loss_weight: 1.0\n",
      "      tokenizer:\n",
      "        library: regex\n",
      "        type: null\n",
      "        model: nemo:048c1f797f464dd5b6a90f60f9405827_molmim.model\n",
      "        vocab_file: nemo:dd344353154640acbbaea1d4536fa7d0_molmim.vocab\n",
      "        merge_file: null\n",
      "        vocab_path: ${oc.env:BIONEMO_HOME}/tokenizers/molecule/molmim/vocab/molmim.vocab\n",
      "        model_path: ${oc.env:BIONEMO_HOME}/tokenizers/molecule/molmim/vocab/molmim.model\n",
      "      data:\n",
      "        links_file: /workspace/bionemo/examples/molecule/megamolbart/dataset/ZINC-downloader.txt\n",
      "        dataset_path: ${oc.env:BIONEMO_HOME}/examples/tests/test_data/molecule/physchem/SAMPL/test/x000\n",
      "        dataset:\n",
      "          train: x_OP_000..175_CL_\n",
      "          test: x_OP_000..175_CL_\n",
      "          val: x_OP_000..004_CL_\n",
      "        canonicalize_target_smile: true\n",
      "        canonicalize_encoder_input: true\n",
      "        canonicalize_decoder_output: true\n",
      "        encoder_augment: false\n",
      "        decoder_independent_augment: false\n",
      "        encoder_mask: false\n",
      "        decoder_mask: false\n",
      "        mask_prob: 0.0\n",
      "        span_lambda: 3.0\n",
      "        micro_batch_size: 2048\n",
      "        num_workers: 4\n",
      "        dataloader_type: single\n",
      "        max_seq_length: 128\n",
      "        seed: 42\n",
      "        skip_lines: 0\n",
      "        drop_last: false\n",
      "        pin_memory: false\n",
      "        data_impl: ''\n",
      "        index_mapping_type: online\n",
      "        data_impl_kwargs:\n",
      "          csv_mmap:\n",
      "            newline_int: 10\n",
      "            header_lines: 1\n",
      "            workers: 10\n",
      "            sort_dataset_paths: true\n",
      "            data_sep: ','\n",
      "            data_col: 1\n",
      "          csv_fields_mmap:\n",
      "            newline_int: 10\n",
      "            header_lines: 1\n",
      "            workers: null\n",
      "            sort_dataset_paths: false\n",
      "            data_sep: ','\n",
      "            data_fields:\n",
      "              id: 0\n",
      "              sequence: 1\n",
      "          fasta_fields_mmap:\n",
      "            data_fields:\n",
      "              id: 0\n",
      "              sequence: 1\n",
      "        use_upsampling: true\n",
      "        index_mapping_dir: null\n",
      "        batch_size: 128\n",
      "        output_fname: ${oc.env:BIONEMO_HOME}/test_results/nemo_experiments/molmim_infer/x000.pkl\n",
      "        data_fields_map:\n",
      "          sequence: smiles\n",
      "          id: iupac\n",
      "      optim:\n",
      "        name: fused_adam\n",
      "        lr: 0.0005\n",
      "        weight_decay: 0.001\n",
      "        betas:\n",
      "        - 0.9\n",
      "        - 0.999\n",
      "        sched:\n",
      "          name: CosineAnnealing\n",
      "          warmup_steps: 10000.0\n",
      "          constant_steps: 50000.0\n",
      "          max_steps: 1000000\n",
      "          min_lr: 5.0e-05\n",
      "      dwnstr_task_validation:\n",
      "        enabled: false\n",
      "        dataset:\n",
      "          class: bionemo.model.core.dwnstr_task_callbacks.SingleValuePredictionCallback\n",
      "          task_type: regression\n",
      "          infer_target: bionemo.model.molecule.molmim.infer.MolMIMInference\n",
      "          max_seq_length: 128\n",
      "          emb_batch_size: 128\n",
      "          batch_size: 128\n",
      "          num_epochs: 10\n",
      "          shuffle: true\n",
      "          num_workers: 8\n",
      "          dataset_path: /data/physchem/\n",
      "          task_name: SAMPL\n",
      "          dataset:\n",
      "            train: x000\n",
      "            test: x000\n",
      "          sequence_column: smiles\n",
      "          target_column: expt\n",
      "          random_seed: 1234\n",
      "          optim:\n",
      "            name: adam\n",
      "            lr: 0.0001\n",
      "            betas:\n",
      "            - 0.9\n",
      "            - 0.999\n",
      "            eps: 1.0e-08\n",
      "            weight_decay: 0.01\n",
      "            sched:\n",
      "              name: WarmupAnnealing\n",
      "              min_lr: 1.0e-05\n",
      "              last_epoch: -1\n",
      "              warmup_ratio: 0.01\n",
      "              max_steps: 1000\n",
      "      precision: 32\n",
      "      target: bionemo.model.molecule.molmim.molmim_model.MolMIMModel\n",
      "      nemo_version: 1.22.0\n",
      "      downstream_task:\n",
      "        restore_from_path: /workspace/bionemo/models/molecule/molmim/molmim_70m_24_3.nemo\n",
      "        outputs:\n",
      "        - embeddings\n",
      "    target: bionemo.model.molecule.molmim.molmim_model.MolMIMModel\n",
      "    infer_target: bionemo.model.molecule.molmim.infer.MolMIMInference\n",
      "    formatters:\n",
      "      simple:\n",
      "        format: '[%(asctime)s][%(name)s][%(levelname)s] - %(message)s'\n",
      "    handlers:\n",
      "      console:\n",
      "        class: logging.StreamHandler\n",
      "        formatter: simple\n",
      "        stream: ext://sys.stdout\n",
      "      file:\n",
      "        class: logging.FileHandler\n",
      "        formatter: simple\n",
      "        filename: /logs/inference.log\n",
      "    root:\n",
      "      level: INFO\n",
      "      handlers:\n",
      "      - console\n",
      "    disable_existing_loggers: false\n",
      "    infer_config:\n",
      "      name: MolMIM_Inference\n",
      "      desc: Store the infer config in this block so we can pull the model path from it\n",
      "        later.\n",
      "      trainer:\n",
      "        precision: 16-mixed\n",
      "        devices: 1\n",
      "        num_nodes: 1\n",
      "        accelerator: gpu\n",
      "        logger: false\n",
      "      exp_manager:\n",
      "        explicit_log_dir: null\n",
      "        exp_dir: null\n",
      "        name: ${name}\n",
      "        create_checkpoint_callback: false\n",
      "      model:\n",
      "        micro_batch_size: ${model.data.batch_size}\n",
      "        downstream_task:\n",
      "          restore_from_path: ${oc.env:BIONEMO_HOME}/models/molecule/molmim/molmim_70m_24_3.nemo\n",
      "          outputs:\n",
      "          - embeddings\n",
      "        data:\n",
      "          num_workers: 4\n",
      "          batch_size: 128\n",
      "          dataset_path: ${oc.env:BIONEMO_HOME}/examples/tests/test_data/molecule/physchem/SAMPL/test/x000\n",
      "          output_fname: ''\n",
      "          index_mapping_dir: null\n",
      "          data_fields_map:\n",
      "            sequence: smiles\n",
      "            id: iupac\n",
      "          data_impl: ''\n",
      "          data_impl_kwargs:\n",
      "            csv_fields_mmap:\n",
      "              newline_int: 10\n",
      "              header_lines: 1\n",
      "              workers: null\n",
      "              sort_dataset_paths: false\n",
      "              data_sep: ','\n",
      "              data_fields:\n",
      "                id: 0\n",
      "                sequence: 1\n",
      "            fasta_fields_mmap:\n",
      "              data_fields:\n",
      "                id: 0\n",
      "                sequence: 1\n",
      "        training_callbacks: []\n",
      "        tokenizer:\n",
      "          vocab_path: ${oc.env:BIONEMO_HOME}/tokenizers/molecule/molmim/vocab/molmim.vocab\n",
      "          model_path: ${oc.env:BIONEMO_HOME}/tokenizers/molecule/molmim/vocab/molmim.model\n",
      "      target: bionemo.model.molecule.molmim.molmim_model.MolMIMModel\n",
      "      infer_target: bionemo.model.molecule.molmim.infer.MolMIMInference\n",
      "      formatters:\n",
      "        simple:\n",
      "          format: '[%(asctime)s][%(name)s][%(levelname)s] - %(message)s'\n",
      "      handlers:\n",
      "        console:\n",
      "          class: logging.StreamHandler\n",
      "          formatter: simple\n",
      "          stream: ext://sys.stdout\n",
      "        file:\n",
      "          class: logging.FileHandler\n",
      "          formatter: simple\n",
      "          filename: /logs/inference.log\n",
      "      root:\n",
      "        level: INFO\n",
      "        handlers:\n",
      "        - console\n",
      "      disable_existing_loggers: false\n",
      "      hydra:\n",
      "        searchpath:\n",
      "        - file://${oc.env:BIONEMO_HOME}/examples/conf/\n",
      "    \n"
     ]
    },
    {
     "name": "stderr",
     "output_type": "stream",
     "text": [
      "[NeMo W 2024-05-29 03:17:08 megatron_base_model:821] The model: MolMIMModel() does not have field.name: context_parallel_size in its cfg. Add this key to cfg or config_mapping to make to make it configurable.\n",
      "[NeMo W 2024-05-29 03:17:08 megatron_base_model:821] The model: MolMIMModel() does not have field.name: virtual_pipeline_model_parallel_size in its cfg. Add this key to cfg or config_mapping to make to make it configurable.\n",
      "[NeMo W 2024-05-29 03:17:08 megatron_base_model:821] The model: MolMIMModel() does not have field.name: sequence_parallel in its cfg. Add this key to cfg or config_mapping to make to make it configurable.\n",
      "[NeMo W 2024-05-29 03:17:08 megatron_base_model:821] The model: MolMIMModel() does not have field.name: expert_model_parallel_size in its cfg. Add this key to cfg or config_mapping to make to make it configurable.\n",
      "[NeMo W 2024-05-29 03:17:08 megatron_base_model:821] The model: MolMIMModel() does not have field.name: use_cpu_initialization in its cfg. Add this key to cfg or config_mapping to make to make it configurable.\n",
      "[NeMo W 2024-05-29 03:17:08 megatron_base_model:821] The model: MolMIMModel() does not have field.name: gradient_accumulation_fusion in its cfg. Add this key to cfg or config_mapping to make to make it configurable.\n",
      "[NeMo W 2024-05-29 03:17:08 megatron_base_model:821] The model: MolMIMModel() does not have field.name: tp_comm_overlap in its cfg. Add this key to cfg or config_mapping to make to make it configurable.\n",
      "[NeMo W 2024-05-29 03:17:08 megatron_base_model:821] The model: MolMIMModel() does not have field.name: tp_comm_split_ag in its cfg. Add this key to cfg or config_mapping to make to make it configurable.\n",
      "[NeMo W 2024-05-29 03:17:08 megatron_base_model:821] The model: MolMIMModel() does not have field.name: tp_comm_split_rs in its cfg. Add this key to cfg or config_mapping to make to make it configurable.\n",
      "[NeMo W 2024-05-29 03:17:08 megatron_base_model:821] The model: MolMIMModel() does not have field.name: tp_comm_bulk_wgrad in its cfg. Add this key to cfg or config_mapping to make to make it configurable.\n",
      "[NeMo W 2024-05-29 03:17:08 megatron_base_model:821] The model: MolMIMModel() does not have field.name: tp_comm_bulk_dgrad in its cfg. Add this key to cfg or config_mapping to make to make it configurable.\n",
      "[NeMo W 2024-05-29 03:17:08 megatron_base_model:821] The model: MolMIMModel() does not have field.name: finalize_model_grads_func in its cfg. Add this key to cfg or config_mapping to make to make it configurable.\n",
      "[NeMo W 2024-05-29 03:17:08 megatron_base_model:821] The model: MolMIMModel() does not have field.name: overlap_p2p_comm in its cfg. Add this key to cfg or config_mapping to make to make it configurable.\n",
      "[NeMo W 2024-05-29 03:17:08 megatron_base_model:821] The model: MolMIMModel() does not have field.name: batch_p2p_comm in its cfg. Add this key to cfg or config_mapping to make to make it configurable.\n",
      "[NeMo W 2024-05-29 03:17:08 megatron_base_model:821] The model: MolMIMModel() does not have field.name: barrier_with_L1_time in its cfg. Add this key to cfg or config_mapping to make to make it configurable.\n"
     ]
    },
    {
     "name": "stdout",
     "output_type": "stream",
     "text": [
      "[NeMo I 2024-05-29 03:17:08 megatron_init:234] Rank 0 has data parallel group: [0]\n",
      "[NeMo I 2024-05-29 03:17:08 megatron_init:237] All data parallel group ranks: [[0]]\n",
      "[NeMo I 2024-05-29 03:17:08 megatron_init:238] Ranks 0 has data parallel rank: 0\n",
      "[NeMo I 2024-05-29 03:17:08 megatron_init:246] Rank 0 has model parallel group: [0]\n",
      "[NeMo I 2024-05-29 03:17:08 megatron_init:247] All model parallel group ranks: [[0]]\n",
      "[NeMo I 2024-05-29 03:17:08 megatron_init:257] Rank 0 has tensor model parallel group: [0]\n",
      "[NeMo I 2024-05-29 03:17:08 megatron_init:261] All tensor model parallel group ranks: [[0]]\n",
      "[NeMo I 2024-05-29 03:17:08 megatron_init:262] Rank 0 has tensor model parallel rank: 0\n",
      "[NeMo I 2024-05-29 03:17:08 megatron_init:276] Rank 0 has pipeline model parallel group: [0]\n",
      "[NeMo I 2024-05-29 03:17:08 megatron_init:288] Rank 0 has embedding group: [0]\n",
      "[NeMo I 2024-05-29 03:17:08 megatron_init:294] All pipeline model parallel group ranks: [[0]]\n",
      "[NeMo I 2024-05-29 03:17:08 megatron_init:295] Rank 0 has pipeline model parallel rank 0\n",
      "[NeMo I 2024-05-29 03:17:08 megatron_init:296] All embedding group ranks: [[0]]\n",
      "[NeMo I 2024-05-29 03:17:08 megatron_init:297] Rank 0 has embedding rank: 0\n"
     ]
    },
    {
     "name": "stderr",
     "output_type": "stream",
     "text": [
      "[NeMo W 2024-05-29 03:17:08 megatron_base_model:821] The model: MolMIMModel() does not have field.name: context_parallel_size in its cfg. Add this key to cfg or config_mapping to make to make it configurable.\n",
      "[NeMo W 2024-05-29 03:17:08 megatron_base_model:821] The model: MolMIMModel() does not have field.name: virtual_pipeline_model_parallel_size in its cfg. Add this key to cfg or config_mapping to make to make it configurable.\n",
      "[NeMo W 2024-05-29 03:17:08 megatron_base_model:821] The model: MolMIMModel() does not have field.name: sequence_parallel in its cfg. Add this key to cfg or config_mapping to make to make it configurable.\n",
      "[NeMo W 2024-05-29 03:17:08 megatron_base_model:821] The model: MolMIMModel() does not have field.name: expert_model_parallel_size in its cfg. Add this key to cfg or config_mapping to make to make it configurable.\n",
      "[NeMo W 2024-05-29 03:17:08 megatron_base_model:821] The model: MolMIMModel() does not have field.name: use_cpu_initialization in its cfg. Add this key to cfg or config_mapping to make to make it configurable.\n",
      "[NeMo W 2024-05-29 03:17:08 megatron_base_model:821] The model: MolMIMModel() does not have field.name: gradient_accumulation_fusion in its cfg. Add this key to cfg or config_mapping to make to make it configurable.\n",
      "[NeMo W 2024-05-29 03:17:08 megatron_base_model:821] The model: MolMIMModel() does not have field.name: tp_comm_overlap in its cfg. Add this key to cfg or config_mapping to make to make it configurable.\n",
      "[NeMo W 2024-05-29 03:17:08 megatron_base_model:821] The model: MolMIMModel() does not have field.name: tp_comm_split_ag in its cfg. Add this key to cfg or config_mapping to make to make it configurable.\n",
      "[NeMo W 2024-05-29 03:17:08 megatron_base_model:821] The model: MolMIMModel() does not have field.name: tp_comm_split_rs in its cfg. Add this key to cfg or config_mapping to make to make it configurable.\n",
      "[NeMo W 2024-05-29 03:17:08 megatron_base_model:821] The model: MolMIMModel() does not have field.name: tp_comm_bulk_wgrad in its cfg. Add this key to cfg or config_mapping to make to make it configurable.\n",
      "[NeMo W 2024-05-29 03:17:08 megatron_base_model:821] The model: MolMIMModel() does not have field.name: tp_comm_bulk_dgrad in its cfg. Add this key to cfg or config_mapping to make to make it configurable.\n",
      "[NeMo W 2024-05-29 03:17:08 megatron_base_model:821] The model: MolMIMModel() does not have field.name: finalize_model_grads_func in its cfg. Add this key to cfg or config_mapping to make to make it configurable.\n",
      "[NeMo W 2024-05-29 03:17:08 megatron_base_model:821] The model: MolMIMModel() does not have field.name: overlap_p2p_comm in its cfg. Add this key to cfg or config_mapping to make to make it configurable.\n",
      "[NeMo W 2024-05-29 03:17:08 megatron_base_model:821] The model: MolMIMModel() does not have field.name: batch_p2p_comm in its cfg. Add this key to cfg or config_mapping to make to make it configurable.\n",
      "[NeMo W 2024-05-29 03:17:08 megatron_base_model:821] The model: MolMIMModel() does not have field.name: barrier_with_L1_time in its cfg. Add this key to cfg or config_mapping to make to make it configurable.\n",
      "[NeMo W 2024-05-29 03:17:08 modelPT:251] You tried to register an artifact under config key=tokenizer.vocab_file but an artifact for it has already been registered.\n"
     ]
    },
    {
     "name": "stdout",
     "output_type": "stream",
     "text": [
      "[NeMo I 2024-05-29 03:17:08 tokenizer_utils:199] Using regex tokenization\n",
      "[NeMo I 2024-05-29 03:17:08 regex_tokenizer:240] Loading vocabulary from file = /tmp/tmp1nligw47/dd344353154640acbbaea1d4536fa7d0_molmim.vocab\n",
      "[NeMo I 2024-05-29 03:17:08 regex_tokenizer:254] Loading regex from file = /tmp/tmp1nligw47/048c1f797f464dd5b6a90f60f9405827_molmim.model\n",
      "[NeMo I 2024-05-29 03:17:08 megatron_base_model:315] Padded vocab_size: 640, original vocab_size: 523, dummy tokens: 117.\n",
      "[NeMo I 2024-05-29 03:17:08 megatron_hiddens:121] NOTE: Adding hiddens transforms and losses\n",
      "[NeMo I 2024-05-29 03:17:08 megatron_hiddens:149] Added transform q_z_given_x with cfg={'cls_name': 'sampled_var_cond_gaussian', 'hidden_size': 512, 'min_logvar': -6.0, 'max_logvar': 0.0, 'map_var_to_hiddens': False}\n",
      "[NeMo I 2024-05-29 03:17:08 megatron_hiddens:177] Added loss mim with cfg={'cls_name': 'a_mim', 'loss_weight': 1.0}\n",
      "[NeMo I 2024-05-29 03:17:08 nlp_overrides:752] Model MolMIMModel was successfully restored from /workspace/bionemo/models/molecule/molmim/molmim_70m_24_3.nemo.\n"
     ]
    },
    {
     "name": "stderr",
     "output_type": "stream",
     "text": [
      "INFO: You are using a CUDA device ('NVIDIA A100 80GB PCIe') that has Tensor Cores. To properly utilize them, you should set `torch.set_float32_matmul_precision('medium' | 'high')` which will trade-off precision for performance. For more details, read https://pytorch.org/docs/stable/generated/torch.set_float32_matmul_precision.html#torch.set_float32_matmul_precision\n",
      "I0529 03:17:08.514678 131172322451456 rank_zero.py:53] You are using a CUDA device ('NVIDIA A100 80GB PCIe') that has Tensor Cores. To properly utilize them, you should set `torch.set_float32_matmul_precision('medium' | 'high')` which will trade-off precision for performance. For more details, read https://pytorch.org/docs/stable/generated/torch.set_float32_matmul_precision.html#torch.set_float32_matmul_precision\n"
     ]
    },
    {
     "name": "stdout",
     "output_type": "stream",
     "text": [
      "[NeMo I 2024-05-29 03:17:09 megatron_lm_encoder_decoder_model:1195] Decoding using the greedy-search method...\n"
     ]
    }
   ],
   "source": [
    "from bionemo.utils.hydra import load_model_config\n",
    "import os\n",
    "from bionemo.model.molecule.molmim.infer import MolMIMInference\n",
    "bionemo_home=f\"/workspace/bionemo\"\n",
    "os.environ['BIONEMO_HOME'] = bionemo_home\n",
    "checkpoint_path = f\"{bionemo_home}/models/molecule/molmim/molmim_70m_24_3.nemo\"\n",
    "cfg = load_model_config(config_name=\"molmim_infer.yaml\", config_path=f\"{bionemo_home}/examples/tests/conf/\") # reasonable starting config for molmim inference\n",
    "# This is the field of the config that we need to set to our desired checkpoint path.\n",
    "cfg.model.downstream_task.restore_from_path = checkpoint_path\n",
    "model = MolMIMInference(cfg, interactive=True)"
   ]
  },
  {
   "cell_type": "markdown",
   "id": "2f08d939-b9fe-43a3-ab4b-b4035508b9e8",
   "metadata": {},
   "source": [
    "## ユーザー定義の分子スコアリング機能の設定\n",
    "このセクションでは、最適化したい独自のスコアリング機能をユーザーが取り込むことができます。この例では、入力分子とのタニモト類似度と定量的薬剤性評価（QED）の組み合わせを最適化します。これは、最初の[MolMIMの論文](https://arxiv.org/abs/2208.09016)からの例に従います：\n",
    "<h3><center>score=min (QED/0.9, 1) + min (Tanimoto/0.4, 1)</center></h3>\n",
    "この場合、モデルは最大でQED 0.9とタニモト類似度 0.4までを最適化することを許可します。これらの最大値が達成されたら、それ以上の最適化は行いません。"
   ]
  },
  {
   "cell_type": "code",
   "execution_count": 7,
   "id": "49488d3f-147a-4639-8548-9421abcf0881",
   "metadata": {
    "scrolled": true,
    "tags": []
   },
   "outputs": [],
   "source": [
    "from typing import List, Optional\n",
    "\n",
    "import numpy as np\n",
    "\n",
    "from guided_molecule_gen.oracles import qed, tanimoto_similarity\n",
    "\n",
    "def score_mixing_function(qeds, similarities):\n",
    "    # We want to maximize QED and tanimoto similarity up to 0.9 and 0.4, respectively.\n",
    "    return np.clip(qeds / 0.9, a_min=0.0, a_max=1.0) + np.clip(similarities / 0.4, a_min=0.0, a_max=1.0)\n",
    "\n",
    "def try_canon(smiles:str) -> Optional[str]:\n",
    "    try:\n",
    "        return Chem.MolToSmiles(Chem.MolFromSmiles(smiles), canonical=True)\n",
    "    except:\n",
    "        return None\n",
    "\n",
    "def canonicalize(smiles: List[str]) -> List[str]:\n",
    "    return [try_canon(s) for s in smiles]\n",
    "\n",
    "\n",
    "def scoring_function(smiles: List[str], reference:str, **kwargs) -> np.ndarray:\n",
    "    \"\"\"Takes a list of SMILES strings and returns an array of scores.\n",
    "\n",
    "    Args:\n",
    "        smiles (List[str]): Smiles strings to generate a score for (one each)\n",
    "        reference (str): Reference molecule (SMILES string) is also used for this scoring function.\n",
    "\n",
    "    Returns:\n",
    "        np.ndarray: Array of scores, one for each input SMILES string.\n",
    "    \"\"\"\n",
    "    #csmiles = canonicalize(smiles)\n",
    "    scores: np.ndarray = score_mixing_function(qed(smiles), tanimoto_similarity(smiles, reference))\n",
    "    return -1 * scores"
   ]
  },
  {
   "cell_type": "markdown",
   "id": "9dc390e2-0cdc-46cf-a689-f7359284b58b",
   "metadata": {},
   "source": [
    "## 開始分子の定義\n",
    "このセクションでは、最適化プロセスのための開始分子を定義します。例として、イマチニブ、エルロチニブ、ギフィチニブを使用します。これらの分子を表すSMILES文字列がRDKitを用いて正準化されていることを確認します。MolMIMはRDKitで正準化されたSMILES文字列のコーパス上で訓練されているため、入力および出力もRDKitで正準化されるべきです。これにより最高のパフォーマンスが得られます。"
   ]
  },
  {
   "cell_type": "code",
   "execution_count": 8,
   "id": "7324d7bd-b0f5-4f8a-9792-185eb80c5418",
   "metadata": {
    "tags": []
   },
   "outputs": [
    {
     "name": "stderr",
     "output_type": "stream",
     "text": [
      "\u001b[34m\u001b[1mwandb\u001b[0m: Currently logged in as: \u001b[33mkeisuke-kamata\u001b[0m (\u001b[33mwandb-healthcare\u001b[0m). Use \u001b[1m`wandb login --relogin`\u001b[0m to force relogin\n"
     ]
    },
    {
     "data": {
      "text/html": [
       "Tracking run with wandb version 0.17.0"
      ],
      "text/plain": [
       "<IPython.core.display.HTML object>"
      ]
     },
     "metadata": {},
     "output_type": "display_data"
    },
    {
     "data": {
      "text/html": [
       "Run data is saved locally in <code>/workspace/bionemo/wandb/run-20240529_031720-k4mwytrc</code>"
      ],
      "text/plain": [
       "<IPython.core.display.HTML object>"
      ]
     },
     "metadata": {},
     "output_type": "display_data"
    },
    {
     "data": {
      "text/html": [
       "Syncing run <strong><a href='https://wandb.ai/wandb-healthcare/BioNeMo_Molecure_optimization/runs/k4mwytrc' target=\"_blank\">simple-EDA</a></strong> to <a href='https://wandb.ai/wandb-healthcare/BioNeMo_Molecure_optimization' target=\"_blank\">Weights & Biases</a> (<a href='https://wandb.me/run' target=\"_blank\">docs</a>)<br/>"
      ],
      "text/plain": [
       "<IPython.core.display.HTML object>"
      ]
     },
     "metadata": {},
     "output_type": "display_data"
    },
    {
     "data": {
      "text/html": [
       " View project at <a href='https://wandb.ai/wandb-healthcare/BioNeMo_Molecure_optimization' target=\"_blank\">https://wandb.ai/wandb-healthcare/BioNeMo_Molecure_optimization</a>"
      ],
      "text/plain": [
       "<IPython.core.display.HTML object>"
      ]
     },
     "metadata": {},
     "output_type": "display_data"
    },
    {
     "data": {
      "text/html": [
       " View run at <a href='https://wandb.ai/wandb-healthcare/BioNeMo_Molecure_optimization/runs/k4mwytrc' target=\"_blank\">https://wandb.ai/wandb-healthcare/BioNeMo_Molecure_optimization/runs/k4mwytrc</a>"
      ],
      "text/plain": [
       "<IPython.core.display.HTML object>"
      ]
     },
     "metadata": {},
     "output_type": "display_data"
    },
    {
     "data": {
      "application/vnd.jupyter.widget-view+json": {
       "model_id": "",
       "version_major": 2,
       "version_minor": 0
      },
      "text/plain": [
       "VBox(children=(Label(value='0.031 MB of 0.031 MB uploaded\\r'), FloatProgress(value=0.9846013390139988, max=1.0…"
      ]
     },
     "metadata": {},
     "output_type": "display_data"
    },
    {
     "data": {
      "text/html": [
       " View run <strong style=\"color:#cdcd00\">simple-EDA</strong> at: <a href='https://wandb.ai/wandb-healthcare/BioNeMo_Molecure_optimization/runs/k4mwytrc' target=\"_blank\">https://wandb.ai/wandb-healthcare/BioNeMo_Molecure_optimization/runs/k4mwytrc</a><br/> View project at: <a href='https://wandb.ai/wandb-healthcare/BioNeMo_Molecure_optimization' target=\"_blank\">https://wandb.ai/wandb-healthcare/BioNeMo_Molecure_optimization</a><br/>Synced 4 W&B file(s), 1 media file(s), 4 artifact file(s) and 1 other file(s)"
      ],
      "text/plain": [
       "<IPython.core.display.HTML object>"
      ]
     },
     "metadata": {},
     "output_type": "display_data"
    },
    {
     "data": {
      "text/html": [
       "Find logs at: <code>./wandb/run-20240529_031720-k4mwytrc/logs</code>"
      ],
      "text/plain": [
       "<IPython.core.display.HTML object>"
      ]
     },
     "metadata": {},
     "output_type": "display_data"
    }
   ],
   "source": [
    "import wandb\n",
    "from rdkit import Chem\n",
    "from rdkit.Chem.QED import qed as rdkit_qed\n",
    "\n",
    "# SMILES strings and compound names\n",
    "compound_names = [\"Imatinib\", \"Erlotinib\", \"Gifitinib\"]\n",
    "starting_smiles = [\n",
    "    \"CC1=C(C=C(C=C1)NC(=O)C2=CC=C(C=C2)CN3CCN(CC3)C)NC4=NC=CC(=N4)C5=CN=CC=C5\", # Imatinib\n",
    "    \"COCCOC1=C(C=C2C(=C1)C(=NC=N2)NC3=CC=CC(=C3)C#C)OCCOC\", # Erlotinib\n",
    "    \"C1COCCN1CCCOc2c(OC)cc3ncnc(c3c2)Nc4cc(Cl)c(F)cc4\", # Gifitinib\n",
    "]\n",
    "\n",
    "# Generate RDKit molecules from SMILES\n",
    "molecules = [Chem.MolFromSmiles(smile) for smile in starting_smiles]\n",
    "\n",
    "# Calculate QED scores\n",
    "starting_qed = [rdkit_qed(mol) for mol in molecules]\n",
    "\n",
    "# Generate canonical SMILES\n",
    "canonicalized_smiles = [Chem.MolToSmiles(mol, canonical=True) for mol in molecules]\n",
    "\n",
    "# Initialize a W&B run\n",
    "with wandb.init(name=\"simple-EDA\") as run:\n",
    "\n",
    "    # Create a W&B Table\n",
    "    table = wandb.Table(columns=[\"Compound Name\", \"SMILES\", \"Canonical SMILES\", \"Structure\"])\n",
    "\n",
    "    # Add data to the table\n",
    "    for name, smiles, canonical, mol in zip(compound_names, starting_smiles, canonicalized_smiles, molecules):\n",
    "        wandb_molecule = wandb.Molecule.from_rdkit(mol)\n",
    "        table.add_data(name, smiles, canonical, wandb_molecule)\n",
    "\n",
    "    # Log the table to W&B\n",
    "    run.log({\"Chemical Structures\": table})"
   ]
  },
  {
   "cell_type": "markdown",
   "id": "8cbe62c1-9d00-410b-bed3-af3424559f27",
   "metadata": {},
   "source": [
    "## オプティマイザの設定とCMA-ESのための推論APIのラッピング\n",
    "CMA-ESライブラリは、推論モデルの入力/出力が特定の形式であることを期待しています。そのため、これをラップするものを提供し、以下に最適化の設定方法を示します。"
   ]
  },
  {
   "cell_type": "code",
   "execution_count": 9,
   "id": "33aeb45f-6bd9-431a-b6c1-6cb83a3524b1",
   "metadata": {
    "tags": []
   },
   "outputs": [],
   "source": [
    "from bionemo.model.core.controlled_generation import ControlledGenerationPerceiverEncoderInferenceWrapper\n",
    "\n",
    "controlled_gen_kwargs = {\n",
    "    \"sampling_method\": \"beam-search\",\n",
    "    \"sampling_kwarg_overrides\": {\"beam_size\": 3, \"keep_only_best_tokens\": True, \"return_scores\": False},\n",
    "}\n",
    "\n",
    "model_wrapped = ControlledGenerationPerceiverEncoderInferenceWrapper(\n",
    "    model, enforce_perceiver=True, hidden_steps=1, **controlled_gen_kwargs\n",
    ")  # just flatten the position for this."
   ]
  },
  {
   "cell_type": "markdown",
   "id": "b2da0023-3bd6-40f1-baff-f1729047a832",
   "metadata": {},
   "source": [
    "## CMA-ESのチューニング\n",
    "異なるモデルでは、CMA-ESの最適な設定が異なります。ここでは、シグマの可能な値に対してグリッド検索を行い、最も良い設定でさらに最適化ステップを実行します。このシグマのハイパーパラメータに対する最適化を行うために、Optunaライブラリを使用します。このプロセスはハイパーパラメータ最適化（HPO）と呼ばれます。\n",
    "wandbでOptunaによるHPOのプロセスと見つかったシグマの最適な値をみていきましょう。"
   ]
  },
  {
   "cell_type": "code",
   "execution_count": 10,
   "id": "010497b9-57fa-475e-8eeb-990561a32089",
   "metadata": {
    "scrolled": true,
    "tags": []
   },
   "outputs": [
    {
     "data": {
      "text/html": [
       "Tracking run with wandb version 0.17.0"
      ],
      "text/plain": [
       "<IPython.core.display.HTML object>"
      ]
     },
     "metadata": {},
     "output_type": "display_data"
    },
    {
     "data": {
      "text/html": [
       "Run data is saved locally in <code>/workspace/bionemo/wandb/run-20240529_031728-4y9vkhf2</code>"
      ],
      "text/plain": [
       "<IPython.core.display.HTML object>"
      ]
     },
     "metadata": {},
     "output_type": "display_data"
    },
    {
     "data": {
      "text/html": [
       "Syncing run <strong><a href='https://wandb.ai/wandb-healthcare/BioNeMo_Molecure_optimization/runs/4y9vkhf2' target=\"_blank\">Basic_Optuna_20240529_031728</a></strong> to <a href='https://wandb.ai/wandb-healthcare/BioNeMo_Molecure_optimization' target=\"_blank\">Weights & Biases</a> (<a href='https://wandb.me/run' target=\"_blank\">docs</a>)<br/>"
      ],
      "text/plain": [
       "<IPython.core.display.HTML object>"
      ]
     },
     "metadata": {},
     "output_type": "display_data"
    },
    {
     "data": {
      "text/html": [
       " View project at <a href='https://wandb.ai/wandb-healthcare/BioNeMo_Molecure_optimization' target=\"_blank\">https://wandb.ai/wandb-healthcare/BioNeMo_Molecure_optimization</a>"
      ],
      "text/plain": [
       "<IPython.core.display.HTML object>"
      ]
     },
     "metadata": {},
     "output_type": "display_data"
    },
    {
     "data": {
      "text/html": [
       " View run at <a href='https://wandb.ai/wandb-healthcare/BioNeMo_Molecure_optimization/runs/4y9vkhf2' target=\"_blank\">https://wandb.ai/wandb-healthcare/BioNeMo_Molecure_optimization/runs/4y9vkhf2</a>"
      ],
      "text/plain": [
       "<IPython.core.display.HTML object>"
      ]
     },
     "metadata": {},
     "output_type": "display_data"
    },
    {
     "name": "stderr",
     "output_type": "stream",
     "text": [
      "[I 2024-05-29 03:17:29,867] A new study created in memory with name: no-name-73dff18f-516a-41a5-8828-7554474d07c4\n"
     ]
    },
    {
     "name": "stdout",
     "output_type": "stream",
     "text": [
      "(5_w,10)-aCMA-ES (mu_w=3.2,w_1=45%) in dimension 512 (seed=1096591, Wed May 29 03:17:29 2024)\n",
      "(5_w,10)-aCMA-ES (mu_w=3.2,w_1=45%) in dimension 512 (seed=1065345, Wed May 29 03:17:29 2024)\n",
      "(5_w,10)-aCMA-ES (mu_w=3.2,w_1=45%) in dimension 512 (seed=1073797, Wed May 29 03:17:29 2024)\n",
      "[NeMo I 2024-05-29 03:17:29 megatron_lm_encoder_decoder_model:1192] Decoding using the beam search method with beam size=3...\n",
      "[NeMo I 2024-05-29 03:17:31 megatron_lm_encoder_decoder_model:1192] Decoding using the beam search method with beam size=3...\n",
      "[NeMo I 2024-05-29 03:17:33 megatron_lm_encoder_decoder_model:1192] Decoding using the beam search method with beam size=3...\n",
      "[NeMo I 2024-05-29 03:17:35 megatron_lm_encoder_decoder_model:1192] Decoding using the beam search method with beam size=3...\n",
      "[NeMo I 2024-05-29 03:17:37 megatron_lm_encoder_decoder_model:1192] Decoding using the beam search method with beam size=3...\n",
      "[NeMo I 2024-05-29 03:17:39 megatron_lm_encoder_decoder_model:1192] Decoding using the beam search method with beam size=3...\n",
      "[NeMo I 2024-05-29 03:17:41 megatron_lm_encoder_decoder_model:1192] Decoding using the beam search method with beam size=3...\n",
      "[NeMo I 2024-05-29 03:17:43 megatron_lm_encoder_decoder_model:1192] Decoding using the beam search method with beam size=3...\n",
      "[NeMo I 2024-05-29 03:17:45 megatron_lm_encoder_decoder_model:1192] Decoding using the beam search method with beam size=3...\n",
      "[NeMo I 2024-05-29 03:17:46 megatron_lm_encoder_decoder_model:1192] Decoding using the beam search method with beam size=3...\n"
     ]
    },
    {
     "name": "stderr",
     "output_type": "stream",
     "text": [
      "[I 2024-05-29 03:17:48,880] Trial 0 finished with value: -1.4021734589427437 and parameters: {'sigma': 1.38481944168076}. Best is trial 0 with value: -1.4021734589427437.\n"
     ]
    },
    {
     "name": "stdout",
     "output_type": "stream",
     "text": [
      "(5_w,10)-aCMA-ES (mu_w=3.2,w_1=45%) in dimension 512 (seed=1053856, Wed May 29 03:17:48 2024)\n",
      "(5_w,10)-aCMA-ES (mu_w=3.2,w_1=45%) in dimension 512 (seed=1108527, Wed May 29 03:17:48 2024)\n",
      "(5_w,10)-aCMA-ES (mu_w=3.2,w_1=45%) in dimension 512 (seed=1071724, Wed May 29 03:17:48 2024)\n",
      "[NeMo I 2024-05-29 03:17:48 megatron_lm_encoder_decoder_model:1192] Decoding using the beam search method with beam size=3...\n",
      "[NeMo I 2024-05-29 03:17:50 megatron_lm_encoder_decoder_model:1192] Decoding using the beam search method with beam size=3...\n",
      "[NeMo I 2024-05-29 03:17:52 megatron_lm_encoder_decoder_model:1192] Decoding using the beam search method with beam size=3...\n",
      "[NeMo I 2024-05-29 03:17:54 megatron_lm_encoder_decoder_model:1192] Decoding using the beam search method with beam size=3...\n",
      "[NeMo I 2024-05-29 03:17:56 megatron_lm_encoder_decoder_model:1192] Decoding using the beam search method with beam size=3...\n",
      "[NeMo I 2024-05-29 03:17:58 megatron_lm_encoder_decoder_model:1192] Decoding using the beam search method with beam size=3...\n",
      "[NeMo I 2024-05-29 03:18:00 megatron_lm_encoder_decoder_model:1192] Decoding using the beam search method with beam size=3...\n",
      "[NeMo I 2024-05-29 03:18:02 megatron_lm_encoder_decoder_model:1192] Decoding using the beam search method with beam size=3...\n",
      "[NeMo I 2024-05-29 03:18:04 megatron_lm_encoder_decoder_model:1192] Decoding using the beam search method with beam size=3...\n",
      "[NeMo I 2024-05-29 03:18:05 megatron_lm_encoder_decoder_model:1192] Decoding using the beam search method with beam size=3...\n"
     ]
    },
    {
     "name": "stderr",
     "output_type": "stream",
     "text": [
      "[I 2024-05-29 03:18:07,834] Trial 1 finished with value: -1.65634061291495 and parameters: {'sigma': 0.11132045170082883}. Best is trial 1 with value: -1.65634061291495.\n"
     ]
    },
    {
     "name": "stdout",
     "output_type": "stream",
     "text": [
      "(5_w,10)-aCMA-ES (mu_w=3.2,w_1=45%) in dimension 512 (seed=1089949, Wed May 29 03:18:07 2024)\n",
      "(5_w,10)-aCMA-ES (mu_w=3.2,w_1=45%) in dimension 512 (seed=1091705, Wed May 29 03:18:07 2024)\n",
      "(5_w,10)-aCMA-ES (mu_w=3.2,w_1=45%) in dimension 512 (seed=1078406, Wed May 29 03:18:07 2024)\n",
      "[NeMo I 2024-05-29 03:18:07 megatron_lm_encoder_decoder_model:1192] Decoding using the beam search method with beam size=3...\n",
      "[NeMo I 2024-05-29 03:18:09 megatron_lm_encoder_decoder_model:1192] Decoding using the beam search method with beam size=3...\n",
      "[NeMo I 2024-05-29 03:18:11 megatron_lm_encoder_decoder_model:1192] Decoding using the beam search method with beam size=3...\n",
      "[NeMo I 2024-05-29 03:18:13 megatron_lm_encoder_decoder_model:1192] Decoding using the beam search method with beam size=3...\n",
      "[NeMo I 2024-05-29 03:18:15 megatron_lm_encoder_decoder_model:1192] Decoding using the beam search method with beam size=3...\n",
      "[NeMo I 2024-05-29 03:18:17 megatron_lm_encoder_decoder_model:1192] Decoding using the beam search method with beam size=3...\n",
      "[NeMo I 2024-05-29 03:18:19 megatron_lm_encoder_decoder_model:1192] Decoding using the beam search method with beam size=3...\n",
      "[NeMo I 2024-05-29 03:18:21 megatron_lm_encoder_decoder_model:1192] Decoding using the beam search method with beam size=3...\n",
      "[NeMo I 2024-05-29 03:18:22 megatron_lm_encoder_decoder_model:1192] Decoding using the beam search method with beam size=3...\n",
      "[NeMo I 2024-05-29 03:18:24 megatron_lm_encoder_decoder_model:1192] Decoding using the beam search method with beam size=3...\n"
     ]
    },
    {
     "name": "stderr",
     "output_type": "stream",
     "text": [
      "[I 2024-05-29 03:18:26,784] Trial 2 finished with value: -1.6684353595945254 and parameters: {'sigma': 0.2766031532171431}. Best is trial 2 with value: -1.6684353595945254.\n"
     ]
    },
    {
     "name": "stdout",
     "output_type": "stream",
     "text": [
      "(5_w,10)-aCMA-ES (mu_w=3.2,w_1=45%) in dimension 512 (seed=1121794, Wed May 29 03:18:26 2024)\n",
      "(5_w,10)-aCMA-ES (mu_w=3.2,w_1=45%) in dimension 512 (seed=1109275, Wed May 29 03:18:26 2024)\n",
      "(5_w,10)-aCMA-ES (mu_w=3.2,w_1=45%) in dimension 512 (seed=1048746, Wed May 29 03:18:26 2024)\n",
      "[NeMo I 2024-05-29 03:18:26 megatron_lm_encoder_decoder_model:1192] Decoding using the beam search method with beam size=3...\n",
      "[NeMo I 2024-05-29 03:18:28 megatron_lm_encoder_decoder_model:1192] Decoding using the beam search method with beam size=3...\n",
      "[NeMo I 2024-05-29 03:18:30 megatron_lm_encoder_decoder_model:1192] Decoding using the beam search method with beam size=3...\n",
      "[NeMo I 2024-05-29 03:18:32 megatron_lm_encoder_decoder_model:1192] Decoding using the beam search method with beam size=3...\n",
      "[NeMo I 2024-05-29 03:18:34 megatron_lm_encoder_decoder_model:1192] Decoding using the beam search method with beam size=3...\n",
      "[NeMo I 2024-05-29 03:18:36 megatron_lm_encoder_decoder_model:1192] Decoding using the beam search method with beam size=3...\n",
      "[NeMo I 2024-05-29 03:18:38 megatron_lm_encoder_decoder_model:1192] Decoding using the beam search method with beam size=3...\n",
      "[NeMo I 2024-05-29 03:18:40 megatron_lm_encoder_decoder_model:1192] Decoding using the beam search method with beam size=3...\n",
      "[NeMo I 2024-05-29 03:18:41 megatron_lm_encoder_decoder_model:1192] Decoding using the beam search method with beam size=3...\n",
      "[NeMo I 2024-05-29 03:18:43 megatron_lm_encoder_decoder_model:1192] Decoding using the beam search method with beam size=3...\n"
     ]
    },
    {
     "name": "stderr",
     "output_type": "stream",
     "text": [
      "[I 2024-05-29 03:18:45,713] Trial 3 finished with value: -1.881808480552677 and parameters: {'sigma': 0.44306597677209325}. Best is trial 3 with value: -1.881808480552677.\n"
     ]
    },
    {
     "name": "stdout",
     "output_type": "stream",
     "text": [
      "(5_w,10)-aCMA-ES (mu_w=3.2,w_1=45%) in dimension 512 (seed=1125890, Wed May 29 03:18:45 2024)\n",
      "(5_w,10)-aCMA-ES (mu_w=3.2,w_1=45%) in dimension 512 (seed=1097940, Wed May 29 03:18:45 2024)\n",
      "(5_w,10)-aCMA-ES (mu_w=3.2,w_1=45%) in dimension 512 (seed=1115223, Wed May 29 03:18:45 2024)\n",
      "[NeMo I 2024-05-29 03:18:45 megatron_lm_encoder_decoder_model:1192] Decoding using the beam search method with beam size=3...\n",
      "[NeMo I 2024-05-29 03:18:47 megatron_lm_encoder_decoder_model:1192] Decoding using the beam search method with beam size=3...\n",
      "[NeMo I 2024-05-29 03:18:49 megatron_lm_encoder_decoder_model:1192] Decoding using the beam search method with beam size=3...\n",
      "[NeMo I 2024-05-29 03:18:51 megatron_lm_encoder_decoder_model:1192] Decoding using the beam search method with beam size=3...\n",
      "[NeMo I 2024-05-29 03:18:53 megatron_lm_encoder_decoder_model:1192] Decoding using the beam search method with beam size=3...\n",
      "[NeMo I 2024-05-29 03:18:55 megatron_lm_encoder_decoder_model:1192] Decoding using the beam search method with beam size=3...\n",
      "[NeMo I 2024-05-29 03:18:56 megatron_lm_encoder_decoder_model:1192] Decoding using the beam search method with beam size=3...\n",
      "[NeMo I 2024-05-29 03:18:58 megatron_lm_encoder_decoder_model:1192] Decoding using the beam search method with beam size=3...\n",
      "[NeMo I 2024-05-29 03:19:00 megatron_lm_encoder_decoder_model:1192] Decoding using the beam search method with beam size=3...\n",
      "[NeMo I 2024-05-29 03:19:02 megatron_lm_encoder_decoder_model:1192] Decoding using the beam search method with beam size=3...\n"
     ]
    },
    {
     "name": "stderr",
     "output_type": "stream",
     "text": [
      "[I 2024-05-29 03:19:04,371] Trial 4 finished with value: -0.13688699536679594 and parameters: {'sigma': 1.9374847726677813}. Best is trial 3 with value: -1.881808480552677.\n"
     ]
    },
    {
     "name": "stdout",
     "output_type": "stream",
     "text": [
      "(5_w,10)-aCMA-ES (mu_w=3.2,w_1=45%) in dimension 512 (seed=994886, Wed May 29 03:19:04 2024)\n",
      "(5_w,10)-aCMA-ES (mu_w=3.2,w_1=45%) in dimension 512 (seed=1015339, Wed May 29 03:19:04 2024)\n",
      "(5_w,10)-aCMA-ES (mu_w=3.2,w_1=45%) in dimension 512 (seed=1053528, Wed May 29 03:19:04 2024)\n",
      "[NeMo I 2024-05-29 03:19:04 megatron_lm_encoder_decoder_model:1192] Decoding using the beam search method with beam size=3...\n",
      "[NeMo I 2024-05-29 03:19:06 megatron_lm_encoder_decoder_model:1192] Decoding using the beam search method with beam size=3...\n",
      "[NeMo I 2024-05-29 03:19:08 megatron_lm_encoder_decoder_model:1192] Decoding using the beam search method with beam size=3...\n",
      "[NeMo I 2024-05-29 03:19:10 megatron_lm_encoder_decoder_model:1192] Decoding using the beam search method with beam size=3...\n",
      "[NeMo I 2024-05-29 03:19:11 megatron_lm_encoder_decoder_model:1192] Decoding using the beam search method with beam size=3...\n",
      "[NeMo I 2024-05-29 03:19:13 megatron_lm_encoder_decoder_model:1192] Decoding using the beam search method with beam size=3...\n",
      "[NeMo I 2024-05-29 03:19:15 megatron_lm_encoder_decoder_model:1192] Decoding using the beam search method with beam size=3...\n",
      "[NeMo I 2024-05-29 03:19:17 megatron_lm_encoder_decoder_model:1192] Decoding using the beam search method with beam size=3...\n",
      "[NeMo I 2024-05-29 03:19:19 megatron_lm_encoder_decoder_model:1192] Decoding using the beam search method with beam size=3...\n",
      "[NeMo I 2024-05-29 03:19:21 megatron_lm_encoder_decoder_model:1192] Decoding using the beam search method with beam size=3...\n"
     ]
    },
    {
     "name": "stderr",
     "output_type": "stream",
     "text": [
      "[I 2024-05-29 03:19:23,306] Trial 5 finished with value: -1.6666490543092618 and parameters: {'sigma': 0.21463073874235317}. Best is trial 3 with value: -1.881808480552677.\n"
     ]
    },
    {
     "name": "stdout",
     "output_type": "stream",
     "text": [
      "(5_w,10)-aCMA-ES (mu_w=3.2,w_1=45%) in dimension 512 (seed=1057806, Wed May 29 03:19:23 2024)\n",
      "(5_w,10)-aCMA-ES (mu_w=3.2,w_1=45%) in dimension 512 (seed=1068440, Wed May 29 03:19:23 2024)\n",
      "(5_w,10)-aCMA-ES (mu_w=3.2,w_1=45%) in dimension 512 (seed=1020541, Wed May 29 03:19:23 2024)\n",
      "[NeMo I 2024-05-29 03:19:23 megatron_lm_encoder_decoder_model:1192] Decoding using the beam search method with beam size=3...\n",
      "[NeMo I 2024-05-29 03:19:25 megatron_lm_encoder_decoder_model:1192] Decoding using the beam search method with beam size=3...\n",
      "[NeMo I 2024-05-29 03:19:27 megatron_lm_encoder_decoder_model:1192] Decoding using the beam search method with beam size=3...\n",
      "[NeMo I 2024-05-29 03:19:28 megatron_lm_encoder_decoder_model:1192] Decoding using the beam search method with beam size=3...\n",
      "[NeMo I 2024-05-29 03:19:30 megatron_lm_encoder_decoder_model:1192] Decoding using the beam search method with beam size=3...\n",
      "[NeMo I 2024-05-29 03:19:32 megatron_lm_encoder_decoder_model:1192] Decoding using the beam search method with beam size=3...\n",
      "[NeMo I 2024-05-29 03:19:34 megatron_lm_encoder_decoder_model:1192] Decoding using the beam search method with beam size=3...\n",
      "[NeMo I 2024-05-29 03:19:36 megatron_lm_encoder_decoder_model:1192] Decoding using the beam search method with beam size=3...\n",
      "[NeMo I 2024-05-29 03:19:38 megatron_lm_encoder_decoder_model:1192] Decoding using the beam search method with beam size=3...\n",
      "[NeMo I 2024-05-29 03:19:40 megatron_lm_encoder_decoder_model:1192] Decoding using the beam search method with beam size=3...\n"
     ]
    },
    {
     "name": "stderr",
     "output_type": "stream",
     "text": [
      "[I 2024-05-29 03:19:42,166] Trial 6 finished with value: -1.6852486813680903 and parameters: {'sigma': 1.3962274007178552}. Best is trial 3 with value: -1.881808480552677.\n"
     ]
    },
    {
     "name": "stdout",
     "output_type": "stream",
     "text": [
      "(5_w,10)-aCMA-ES (mu_w=3.2,w_1=45%) in dimension 512 (seed=988520, Wed May 29 03:19:42 2024)\n",
      "(5_w,10)-aCMA-ES (mu_w=3.2,w_1=45%) in dimension 512 (seed=973218, Wed May 29 03:19:42 2024)\n",
      "(5_w,10)-aCMA-ES (mu_w=3.2,w_1=45%) in dimension 512 (seed=1010846, Wed May 29 03:19:42 2024)\n",
      "[NeMo I 2024-05-29 03:19:42 megatron_lm_encoder_decoder_model:1192] Decoding using the beam search method with beam size=3...\n",
      "[NeMo I 2024-05-29 03:19:44 megatron_lm_encoder_decoder_model:1192] Decoding using the beam search method with beam size=3...\n",
      "[NeMo I 2024-05-29 03:19:45 megatron_lm_encoder_decoder_model:1192] Decoding using the beam search method with beam size=3...\n",
      "[NeMo I 2024-05-29 03:19:47 megatron_lm_encoder_decoder_model:1192] Decoding using the beam search method with beam size=3...\n",
      "[NeMo I 2024-05-29 03:19:49 megatron_lm_encoder_decoder_model:1192] Decoding using the beam search method with beam size=3...\n",
      "[NeMo I 2024-05-29 03:19:51 megatron_lm_encoder_decoder_model:1192] Decoding using the beam search method with beam size=3...\n",
      "[NeMo I 2024-05-29 03:19:53 megatron_lm_encoder_decoder_model:1192] Decoding using the beam search method with beam size=3...\n",
      "[NeMo I 2024-05-29 03:19:55 megatron_lm_encoder_decoder_model:1192] Decoding using the beam search method with beam size=3...\n",
      "[NeMo I 2024-05-29 03:19:57 megatron_lm_encoder_decoder_model:1192] Decoding using the beam search method with beam size=3...\n",
      "[NeMo I 2024-05-29 03:19:59 megatron_lm_encoder_decoder_model:1192] Decoding using the beam search method with beam size=3...\n"
     ]
    },
    {
     "name": "stderr",
     "output_type": "stream",
     "text": [
      "[I 2024-05-29 03:20:01,125] Trial 7 finished with value: -1.65634061291495 and parameters: {'sigma': 0.0658002976668901}. Best is trial 3 with value: -1.881808480552677.\n"
     ]
    },
    {
     "name": "stdout",
     "output_type": "stream",
     "text": [
      "(5_w,10)-aCMA-ES (mu_w=3.2,w_1=45%) in dimension 512 (seed=979575, Wed May 29 03:20:01 2024)\n",
      "(5_w,10)-aCMA-ES (mu_w=3.2,w_1=45%) in dimension 512 (seed=1007875, Wed May 29 03:20:01 2024)\n",
      "(5_w,10)-aCMA-ES (mu_w=3.2,w_1=45%) in dimension 512 (seed=1058267, Wed May 29 03:20:01 2024)\n",
      "[NeMo I 2024-05-29 03:20:01 megatron_lm_encoder_decoder_model:1192] Decoding using the beam search method with beam size=3...\n",
      "[NeMo I 2024-05-29 03:20:03 megatron_lm_encoder_decoder_model:1192] Decoding using the beam search method with beam size=3...\n",
      "[NeMo I 2024-05-29 03:20:04 megatron_lm_encoder_decoder_model:1192] Decoding using the beam search method with beam size=3...\n",
      "[NeMo I 2024-05-29 03:20:06 megatron_lm_encoder_decoder_model:1192] Decoding using the beam search method with beam size=3...\n",
      "[NeMo I 2024-05-29 03:20:08 megatron_lm_encoder_decoder_model:1192] Decoding using the beam search method with beam size=3...\n",
      "[NeMo I 2024-05-29 03:20:10 megatron_lm_encoder_decoder_model:1192] Decoding using the beam search method with beam size=3...\n",
      "[NeMo I 2024-05-29 03:20:12 megatron_lm_encoder_decoder_model:1192] Decoding using the beam search method with beam size=3...\n",
      "[NeMo I 2024-05-29 03:20:14 megatron_lm_encoder_decoder_model:1192] Decoding using the beam search method with beam size=3...\n",
      "[NeMo I 2024-05-29 03:20:16 megatron_lm_encoder_decoder_model:1192] Decoding using the beam search method with beam size=3...\n",
      "[NeMo I 2024-05-29 03:20:18 megatron_lm_encoder_decoder_model:1192] Decoding using the beam search method with beam size=3...\n"
     ]
    },
    {
     "name": "stderr",
     "output_type": "stream",
     "text": [
      "[I 2024-05-29 03:20:20,011] Trial 8 finished with value: -1.7890490082348622 and parameters: {'sigma': 1.1564382153203538}. Best is trial 3 with value: -1.881808480552677.\n"
     ]
    },
    {
     "name": "stdout",
     "output_type": "stream",
     "text": [
      "(5_w,10)-aCMA-ES (mu_w=3.2,w_1=45%) in dimension 512 (seed=1022266, Wed May 29 03:20:20 2024)\n",
      "(5_w,10)-aCMA-ES (mu_w=3.2,w_1=45%) in dimension 512 (seed=1036139, Wed May 29 03:20:20 2024)\n",
      "(5_w,10)-aCMA-ES (mu_w=3.2,w_1=45%) in dimension 512 (seed=1057571, Wed May 29 03:20:20 2024)\n",
      "[NeMo I 2024-05-29 03:20:20 megatron_lm_encoder_decoder_model:1192] Decoding using the beam search method with beam size=3...\n",
      "[NeMo I 2024-05-29 03:20:21 megatron_lm_encoder_decoder_model:1192] Decoding using the beam search method with beam size=3...\n",
      "[NeMo I 2024-05-29 03:20:23 megatron_lm_encoder_decoder_model:1192] Decoding using the beam search method with beam size=3...\n",
      "[NeMo I 2024-05-29 03:20:25 megatron_lm_encoder_decoder_model:1192] Decoding using the beam search method with beam size=3...\n",
      "[NeMo I 2024-05-29 03:20:27 megatron_lm_encoder_decoder_model:1192] Decoding using the beam search method with beam size=3...\n",
      "[NeMo I 2024-05-29 03:20:29 megatron_lm_encoder_decoder_model:1192] Decoding using the beam search method with beam size=3...\n",
      "[NeMo I 2024-05-29 03:20:31 megatron_lm_encoder_decoder_model:1192] Decoding using the beam search method with beam size=3...\n",
      "[NeMo I 2024-05-29 03:20:33 megatron_lm_encoder_decoder_model:1192] Decoding using the beam search method with beam size=3...\n",
      "[NeMo I 2024-05-29 03:20:35 megatron_lm_encoder_decoder_model:1192] Decoding using the beam search method with beam size=3...\n",
      "[NeMo I 2024-05-29 03:20:36 megatron_lm_encoder_decoder_model:1192] Decoding using the beam search method with beam size=3...\n"
     ]
    },
    {
     "name": "stderr",
     "output_type": "stream",
     "text": [
      "[I 2024-05-29 03:20:38,743] Trial 9 finished with value: -0.9704426022392362 and parameters: {'sigma': 1.78323602624177}. Best is trial 3 with value: -1.881808480552677.\n"
     ]
    },
    {
     "name": "stdout",
     "output_type": "stream",
     "text": [
      "(5_w,10)-aCMA-ES (mu_w=3.2,w_1=45%) in dimension 512 (seed=1114796, Wed May 29 03:20:38 2024)\n",
      "(5_w,10)-aCMA-ES (mu_w=3.2,w_1=45%) in dimension 512 (seed=1084349, Wed May 29 03:20:38 2024)\n",
      "(5_w,10)-aCMA-ES (mu_w=3.2,w_1=45%) in dimension 512 (seed=1078086, Wed May 29 03:20:38 2024)\n",
      "[NeMo I 2024-05-29 03:20:38 megatron_lm_encoder_decoder_model:1192] Decoding using the beam search method with beam size=3...\n",
      "[NeMo I 2024-05-29 03:20:40 megatron_lm_encoder_decoder_model:1192] Decoding using the beam search method with beam size=3...\n",
      "[NeMo I 2024-05-29 03:20:42 megatron_lm_encoder_decoder_model:1192] Decoding using the beam search method with beam size=3...\n",
      "[NeMo I 2024-05-29 03:20:44 megatron_lm_encoder_decoder_model:1192] Decoding using the beam search method with beam size=3...\n",
      "[NeMo I 2024-05-29 03:20:46 megatron_lm_encoder_decoder_model:1192] Decoding using the beam search method with beam size=3...\n",
      "[NeMo I 2024-05-29 03:20:48 megatron_lm_encoder_decoder_model:1192] Decoding using the beam search method with beam size=3...\n",
      "[NeMo I 2024-05-29 03:20:49 megatron_lm_encoder_decoder_model:1192] Decoding using the beam search method with beam size=3...\n",
      "[NeMo I 2024-05-29 03:20:51 megatron_lm_encoder_decoder_model:1192] Decoding using the beam search method with beam size=3...\n",
      "[NeMo I 2024-05-29 03:20:53 megatron_lm_encoder_decoder_model:1192] Decoding using the beam search method with beam size=3...\n",
      "[NeMo I 2024-05-29 03:20:55 megatron_lm_encoder_decoder_model:1192] Decoding using the beam search method with beam size=3...\n"
     ]
    },
    {
     "name": "stderr",
     "output_type": "stream",
     "text": [
      "[I 2024-05-29 03:20:57,486] Trial 10 finished with value: -1.914324961304941 and parameters: {'sigma': 0.6619182465771355}. Best is trial 10 with value: -1.914324961304941.\n"
     ]
    },
    {
     "name": "stdout",
     "output_type": "stream",
     "text": [
      "(5_w,10)-aCMA-ES (mu_w=3.2,w_1=45%) in dimension 512 (seed=1032376, Wed May 29 03:20:57 2024)\n",
      "(5_w,10)-aCMA-ES (mu_w=3.2,w_1=45%) in dimension 512 (seed=1069524, Wed May 29 03:20:57 2024)\n",
      "(5_w,10)-aCMA-ES (mu_w=3.2,w_1=45%) in dimension 512 (seed=1023686, Wed May 29 03:20:57 2024)\n",
      "[NeMo I 2024-05-29 03:20:57 megatron_lm_encoder_decoder_model:1192] Decoding using the beam search method with beam size=3...\n",
      "[NeMo I 2024-05-29 03:20:59 megatron_lm_encoder_decoder_model:1192] Decoding using the beam search method with beam size=3...\n",
      "[NeMo I 2024-05-29 03:21:01 megatron_lm_encoder_decoder_model:1192] Decoding using the beam search method with beam size=3...\n",
      "[NeMo I 2024-05-29 03:21:03 megatron_lm_encoder_decoder_model:1192] Decoding using the beam search method with beam size=3...\n",
      "[NeMo I 2024-05-29 03:21:05 megatron_lm_encoder_decoder_model:1192] Decoding using the beam search method with beam size=3...\n",
      "[NeMo I 2024-05-29 03:21:06 megatron_lm_encoder_decoder_model:1192] Decoding using the beam search method with beam size=3...\n",
      "[NeMo I 2024-05-29 03:21:08 megatron_lm_encoder_decoder_model:1192] Decoding using the beam search method with beam size=3...\n",
      "[NeMo I 2024-05-29 03:21:10 megatron_lm_encoder_decoder_model:1192] Decoding using the beam search method with beam size=3...\n",
      "[NeMo I 2024-05-29 03:21:12 megatron_lm_encoder_decoder_model:1192] Decoding using the beam search method with beam size=3...\n",
      "[NeMo I 2024-05-29 03:21:14 megatron_lm_encoder_decoder_model:1192] Decoding using the beam search method with beam size=3...\n"
     ]
    },
    {
     "name": "stderr",
     "output_type": "stream",
     "text": [
      "[I 2024-05-29 03:21:16,338] Trial 11 finished with value: -1.8901902305982075 and parameters: {'sigma': 0.6546269230628151}. Best is trial 10 with value: -1.914324961304941.\n"
     ]
    },
    {
     "name": "stdout",
     "output_type": "stream",
     "text": [
      "(5_w,10)-aCMA-ES (mu_w=3.2,w_1=45%) in dimension 512 (seed=1065299, Wed May 29 03:21:16 2024)\n",
      "(5_w,10)-aCMA-ES (mu_w=3.2,w_1=45%) in dimension 512 (seed=1020325, Wed May 29 03:21:16 2024)\n",
      "(5_w,10)-aCMA-ES (mu_w=3.2,w_1=45%) in dimension 512 (seed=1043894, Wed May 29 03:21:16 2024)\n",
      "[NeMo I 2024-05-29 03:21:16 megatron_lm_encoder_decoder_model:1192] Decoding using the beam search method with beam size=3...\n",
      "[NeMo I 2024-05-29 03:21:18 megatron_lm_encoder_decoder_model:1192] Decoding using the beam search method with beam size=3...\n",
      "[NeMo I 2024-05-29 03:21:20 megatron_lm_encoder_decoder_model:1192] Decoding using the beam search method with beam size=3...\n",
      "[NeMo I 2024-05-29 03:21:22 megatron_lm_encoder_decoder_model:1192] Decoding using the beam search method with beam size=3...\n",
      "[NeMo I 2024-05-29 03:21:23 megatron_lm_encoder_decoder_model:1192] Decoding using the beam search method with beam size=3...\n",
      "[NeMo I 2024-05-29 03:21:25 megatron_lm_encoder_decoder_model:1192] Decoding using the beam search method with beam size=3...\n",
      "[NeMo I 2024-05-29 03:21:27 megatron_lm_encoder_decoder_model:1192] Decoding using the beam search method with beam size=3...\n",
      "[NeMo I 2024-05-29 03:21:29 megatron_lm_encoder_decoder_model:1192] Decoding using the beam search method with beam size=3...\n",
      "[NeMo I 2024-05-29 03:21:31 megatron_lm_encoder_decoder_model:1192] Decoding using the beam search method with beam size=3...\n",
      "[NeMo I 2024-05-29 03:21:33 megatron_lm_encoder_decoder_model:1192] Decoding using the beam search method with beam size=3...\n"
     ]
    },
    {
     "name": "stderr",
     "output_type": "stream",
     "text": [
      "[I 2024-05-29 03:21:35,145] Trial 12 finished with value: -1.9169958720704507 and parameters: {'sigma': 0.7035905313901276}. Best is trial 12 with value: -1.9169958720704507.\n"
     ]
    },
    {
     "name": "stdout",
     "output_type": "stream",
     "text": [
      "(5_w,10)-aCMA-ES (mu_w=3.2,w_1=45%) in dimension 512 (seed=1060669, Wed May 29 03:21:35 2024)\n",
      "(5_w,10)-aCMA-ES (mu_w=3.2,w_1=45%) in dimension 512 (seed=1013752, Wed May 29 03:21:35 2024)\n",
      "(5_w,10)-aCMA-ES (mu_w=3.2,w_1=45%) in dimension 512 (seed=990205, Wed May 29 03:21:35 2024)\n",
      "[NeMo I 2024-05-29 03:21:35 megatron_lm_encoder_decoder_model:1192] Decoding using the beam search method with beam size=3...\n",
      "[NeMo I 2024-05-29 03:21:37 megatron_lm_encoder_decoder_model:1192] Decoding using the beam search method with beam size=3...\n",
      "[NeMo I 2024-05-29 03:21:38 megatron_lm_encoder_decoder_model:1192] Decoding using the beam search method with beam size=3...\n",
      "[NeMo I 2024-05-29 03:21:40 megatron_lm_encoder_decoder_model:1192] Decoding using the beam search method with beam size=3...\n",
      "[NeMo I 2024-05-29 03:21:42 megatron_lm_encoder_decoder_model:1192] Decoding using the beam search method with beam size=3...\n",
      "[NeMo I 2024-05-29 03:21:44 megatron_lm_encoder_decoder_model:1192] Decoding using the beam search method with beam size=3...\n",
      "[NeMo I 2024-05-29 03:21:46 megatron_lm_encoder_decoder_model:1192] Decoding using the beam search method with beam size=3...\n",
      "[NeMo I 2024-05-29 03:21:48 megatron_lm_encoder_decoder_model:1192] Decoding using the beam search method with beam size=3...\n",
      "[NeMo I 2024-05-29 03:21:50 megatron_lm_encoder_decoder_model:1192] Decoding using the beam search method with beam size=3...\n",
      "[NeMo I 2024-05-29 03:21:52 megatron_lm_encoder_decoder_model:1192] Decoding using the beam search method with beam size=3...\n"
     ]
    },
    {
     "name": "stderr",
     "output_type": "stream",
     "text": [
      "[I 2024-05-29 03:21:53,946] Trial 13 finished with value: -1.814446600089709 and parameters: {'sigma': 0.7840470243948978}. Best is trial 12 with value: -1.9169958720704507.\n"
     ]
    },
    {
     "name": "stdout",
     "output_type": "stream",
     "text": [
      "(5_w,10)-aCMA-ES (mu_w=3.2,w_1=45%) in dimension 512 (seed=1091738, Wed May 29 03:21:53 2024)\n",
      "(5_w,10)-aCMA-ES (mu_w=3.2,w_1=45%) in dimension 512 (seed=1060683, Wed May 29 03:21:53 2024)\n",
      "(5_w,10)-aCMA-ES (mu_w=3.2,w_1=45%) in dimension 512 (seed=1057333, Wed May 29 03:21:53 2024)\n",
      "[NeMo I 2024-05-29 03:21:54 megatron_lm_encoder_decoder_model:1192] Decoding using the beam search method with beam size=3...\n",
      "[NeMo I 2024-05-29 03:21:55 megatron_lm_encoder_decoder_model:1192] Decoding using the beam search method with beam size=3...\n",
      "[NeMo I 2024-05-29 03:21:57 megatron_lm_encoder_decoder_model:1192] Decoding using the beam search method with beam size=3...\n",
      "[NeMo I 2024-05-29 03:21:59 megatron_lm_encoder_decoder_model:1192] Decoding using the beam search method with beam size=3...\n",
      "[NeMo I 2024-05-29 03:22:01 megatron_lm_encoder_decoder_model:1192] Decoding using the beam search method with beam size=3...\n",
      "[NeMo I 2024-05-29 03:22:03 megatron_lm_encoder_decoder_model:1192] Decoding using the beam search method with beam size=3...\n",
      "[NeMo I 2024-05-29 03:22:05 megatron_lm_encoder_decoder_model:1192] Decoding using the beam search method with beam size=3...\n",
      "[NeMo I 2024-05-29 03:22:07 megatron_lm_encoder_decoder_model:1192] Decoding using the beam search method with beam size=3...\n",
      "[NeMo I 2024-05-29 03:22:09 megatron_lm_encoder_decoder_model:1192] Decoding using the beam search method with beam size=3...\n",
      "[NeMo I 2024-05-29 03:22:10 megatron_lm_encoder_decoder_model:1192] Decoding using the beam search method with beam size=3...\n"
     ]
    },
    {
     "name": "stderr",
     "output_type": "stream",
     "text": [
      "[I 2024-05-29 03:22:12,791] Trial 14 finished with value: -1.920562355129236 and parameters: {'sigma': 0.8802132662001727}. Best is trial 14 with value: -1.920562355129236.\n"
     ]
    },
    {
     "name": "stdout",
     "output_type": "stream",
     "text": [
      "(5_w,10)-aCMA-ES (mu_w=3.2,w_1=45%) in dimension 512 (seed=1048193, Wed May 29 03:22:12 2024)\n",
      "(5_w,10)-aCMA-ES (mu_w=3.2,w_1=45%) in dimension 512 (seed=1101057, Wed May 29 03:22:12 2024)\n",
      "(5_w,10)-aCMA-ES (mu_w=3.2,w_1=45%) in dimension 512 (seed=1054829, Wed May 29 03:22:12 2024)\n",
      "[NeMo I 2024-05-29 03:22:12 megatron_lm_encoder_decoder_model:1192] Decoding using the beam search method with beam size=3...\n",
      "[NeMo I 2024-05-29 03:22:14 megatron_lm_encoder_decoder_model:1192] Decoding using the beam search method with beam size=3...\n",
      "[NeMo I 2024-05-29 03:22:16 megatron_lm_encoder_decoder_model:1192] Decoding using the beam search method with beam size=3...\n",
      "[NeMo I 2024-05-29 03:22:18 megatron_lm_encoder_decoder_model:1192] Decoding using the beam search method with beam size=3...\n",
      "[NeMo I 2024-05-29 03:22:20 megatron_lm_encoder_decoder_model:1192] Decoding using the beam search method with beam size=3...\n",
      "[NeMo I 2024-05-29 03:22:22 megatron_lm_encoder_decoder_model:1192] Decoding using the beam search method with beam size=3...\n",
      "[NeMo I 2024-05-29 03:22:24 megatron_lm_encoder_decoder_model:1192] Decoding using the beam search method with beam size=3...\n",
      "[NeMo I 2024-05-29 03:22:25 megatron_lm_encoder_decoder_model:1192] Decoding using the beam search method with beam size=3...\n",
      "[NeMo I 2024-05-29 03:22:27 megatron_lm_encoder_decoder_model:1192] Decoding using the beam search method with beam size=3...\n",
      "[NeMo I 2024-05-29 03:22:29 megatron_lm_encoder_decoder_model:1192] Decoding using the beam search method with beam size=3...\n"
     ]
    },
    {
     "name": "stderr",
     "output_type": "stream",
     "text": [
      "[I 2024-05-29 03:22:31,612] Trial 15 finished with value: -1.8093201766539229 and parameters: {'sigma': 1.0109363013981436}. Best is trial 14 with value: -1.920562355129236.\n"
     ]
    },
    {
     "name": "stdout",
     "output_type": "stream",
     "text": [
      "(5_w,10)-aCMA-ES (mu_w=3.2,w_1=45%) in dimension 512 (seed=1094962, Wed May 29 03:22:31 2024)\n",
      "(5_w,10)-aCMA-ES (mu_w=3.2,w_1=45%) in dimension 512 (seed=1081331, Wed May 29 03:22:31 2024)\n",
      "(5_w,10)-aCMA-ES (mu_w=3.2,w_1=45%) in dimension 512 (seed=1060575, Wed May 29 03:22:31 2024)\n",
      "[NeMo I 2024-05-29 03:22:31 megatron_lm_encoder_decoder_model:1192] Decoding using the beam search method with beam size=3...\n",
      "[NeMo I 2024-05-29 03:22:33 megatron_lm_encoder_decoder_model:1192] Decoding using the beam search method with beam size=3...\n",
      "[NeMo I 2024-05-29 03:22:35 megatron_lm_encoder_decoder_model:1192] Decoding using the beam search method with beam size=3...\n",
      "[NeMo I 2024-05-29 03:22:37 megatron_lm_encoder_decoder_model:1192] Decoding using the beam search method with beam size=3...\n",
      "[NeMo I 2024-05-29 03:22:39 megatron_lm_encoder_decoder_model:1192] Decoding using the beam search method with beam size=3...\n",
      "[NeMo I 2024-05-29 03:22:41 megatron_lm_encoder_decoder_model:1192] Decoding using the beam search method with beam size=3...\n",
      "[NeMo I 2024-05-29 03:22:42 megatron_lm_encoder_decoder_model:1192] Decoding using the beam search method with beam size=3...\n",
      "[NeMo I 2024-05-29 03:22:44 megatron_lm_encoder_decoder_model:1192] Decoding using the beam search method with beam size=3...\n",
      "[NeMo I 2024-05-29 03:22:46 megatron_lm_encoder_decoder_model:1192] Decoding using the beam search method with beam size=3...\n",
      "[NeMo I 2024-05-29 03:22:48 megatron_lm_encoder_decoder_model:1192] Decoding using the beam search method with beam size=3...\n"
     ]
    },
    {
     "name": "stderr",
     "output_type": "stream",
     "text": [
      "[I 2024-05-29 03:22:50,461] Trial 16 finished with value: -1.9118333074763623 and parameters: {'sigma': 0.82869606196719}. Best is trial 14 with value: -1.920562355129236.\n"
     ]
    },
    {
     "name": "stdout",
     "output_type": "stream",
     "text": [
      "(5_w,10)-aCMA-ES (mu_w=3.2,w_1=45%) in dimension 512 (seed=1055845, Wed May 29 03:22:50 2024)\n",
      "(5_w,10)-aCMA-ES (mu_w=3.2,w_1=45%) in dimension 512 (seed=1031527, Wed May 29 03:22:50 2024)\n",
      "(5_w,10)-aCMA-ES (mu_w=3.2,w_1=45%) in dimension 512 (seed=1090945, Wed May 29 03:22:50 2024)\n",
      "[NeMo I 2024-05-29 03:22:50 megatron_lm_encoder_decoder_model:1192] Decoding using the beam search method with beam size=3...\n",
      "[NeMo I 2024-05-29 03:22:52 megatron_lm_encoder_decoder_model:1192] Decoding using the beam search method with beam size=3...\n",
      "[NeMo I 2024-05-29 03:22:54 megatron_lm_encoder_decoder_model:1192] Decoding using the beam search method with beam size=3...\n",
      "[NeMo I 2024-05-29 03:22:56 megatron_lm_encoder_decoder_model:1192] Decoding using the beam search method with beam size=3...\n",
      "[NeMo I 2024-05-29 03:22:58 megatron_lm_encoder_decoder_model:1192] Decoding using the beam search method with beam size=3...\n",
      "[NeMo I 2024-05-29 03:22:59 megatron_lm_encoder_decoder_model:1192] Decoding using the beam search method with beam size=3...\n",
      "[NeMo I 2024-05-29 03:23:01 megatron_lm_encoder_decoder_model:1192] Decoding using the beam search method with beam size=3...\n",
      "[NeMo I 2024-05-29 03:23:03 megatron_lm_encoder_decoder_model:1192] Decoding using the beam search method with beam size=3...\n",
      "[NeMo I 2024-05-29 03:23:05 megatron_lm_encoder_decoder_model:1192] Decoding using the beam search method with beam size=3...\n",
      "[NeMo I 2024-05-29 03:23:07 megatron_lm_encoder_decoder_model:1192] Decoding using the beam search method with beam size=3...\n"
     ]
    },
    {
     "name": "stderr",
     "output_type": "stream",
     "text": [
      "[I 2024-05-29 03:23:09,315] Trial 17 finished with value: -1.9159485338138111 and parameters: {'sigma': 0.46593556047610707}. Best is trial 14 with value: -1.920562355129236.\n"
     ]
    },
    {
     "name": "stdout",
     "output_type": "stream",
     "text": [
      "(5_w,10)-aCMA-ES (mu_w=3.2,w_1=45%) in dimension 512 (seed=1003608, Wed May 29 03:23:09 2024)\n",
      "(5_w,10)-aCMA-ES (mu_w=3.2,w_1=45%) in dimension 512 (seed=1073704, Wed May 29 03:23:09 2024)\n",
      "(5_w,10)-aCMA-ES (mu_w=3.2,w_1=45%) in dimension 512 (seed=997000, Wed May 29 03:23:09 2024)\n",
      "[NeMo I 2024-05-29 03:23:09 megatron_lm_encoder_decoder_model:1192] Decoding using the beam search method with beam size=3...\n",
      "[NeMo I 2024-05-29 03:23:11 megatron_lm_encoder_decoder_model:1192] Decoding using the beam search method with beam size=3...\n",
      "[NeMo I 2024-05-29 03:23:13 megatron_lm_encoder_decoder_model:1192] Decoding using the beam search method with beam size=3...\n",
      "[NeMo I 2024-05-29 03:23:14 megatron_lm_encoder_decoder_model:1192] Decoding using the beam search method with beam size=3...\n",
      "[NeMo I 2024-05-29 03:23:16 megatron_lm_encoder_decoder_model:1192] Decoding using the beam search method with beam size=3...\n",
      "[NeMo I 2024-05-29 03:23:18 megatron_lm_encoder_decoder_model:1192] Decoding using the beam search method with beam size=3...\n",
      "[NeMo I 2024-05-29 03:23:20 megatron_lm_encoder_decoder_model:1192] Decoding using the beam search method with beam size=3...\n",
      "[NeMo I 2024-05-29 03:23:22 megatron_lm_encoder_decoder_model:1192] Decoding using the beam search method with beam size=3...\n",
      "[NeMo I 2024-05-29 03:23:24 megatron_lm_encoder_decoder_model:1192] Decoding using the beam search method with beam size=3...\n",
      "[NeMo I 2024-05-29 03:23:26 megatron_lm_encoder_decoder_model:1192] Decoding using the beam search method with beam size=3...\n"
     ]
    },
    {
     "name": "stderr",
     "output_type": "stream",
     "text": [
      "[I 2024-05-29 03:23:28,117] Trial 18 finished with value: -1.7552039410854423 and parameters: {'sigma': 1.256347871483469}. Best is trial 14 with value: -1.920562355129236.\n"
     ]
    },
    {
     "name": "stdout",
     "output_type": "stream",
     "text": [
      "(5_w,10)-aCMA-ES (mu_w=3.2,w_1=45%) in dimension 512 (seed=1010752, Wed May 29 03:23:28 2024)\n",
      "(5_w,10)-aCMA-ES (mu_w=3.2,w_1=45%) in dimension 512 (seed=980566, Wed May 29 03:23:28 2024)\n",
      "(5_w,10)-aCMA-ES (mu_w=3.2,w_1=45%) in dimension 512 (seed=1043170, Wed May 29 03:23:28 2024)\n",
      "[NeMo I 2024-05-29 03:23:28 megatron_lm_encoder_decoder_model:1192] Decoding using the beam search method with beam size=3...\n",
      "[NeMo I 2024-05-29 03:23:30 megatron_lm_encoder_decoder_model:1192] Decoding using the beam search method with beam size=3...\n",
      "[NeMo I 2024-05-29 03:23:31 megatron_lm_encoder_decoder_model:1192] Decoding using the beam search method with beam size=3...\n",
      "[NeMo I 2024-05-29 03:23:33 megatron_lm_encoder_decoder_model:1192] Decoding using the beam search method with beam size=3...\n",
      "[NeMo I 2024-05-29 03:23:35 megatron_lm_encoder_decoder_model:1192] Decoding using the beam search method with beam size=3...\n",
      "[NeMo I 2024-05-29 03:23:37 megatron_lm_encoder_decoder_model:1192] Decoding using the beam search method with beam size=3...\n",
      "[NeMo I 2024-05-29 03:23:39 megatron_lm_encoder_decoder_model:1192] Decoding using the beam search method with beam size=3...\n",
      "[NeMo I 2024-05-29 03:23:41 megatron_lm_encoder_decoder_model:1192] Decoding using the beam search method with beam size=3...\n",
      "[NeMo I 2024-05-29 03:23:43 megatron_lm_encoder_decoder_model:1192] Decoding using the beam search method with beam size=3...\n",
      "[NeMo I 2024-05-29 03:23:44 megatron_lm_encoder_decoder_model:1192] Decoding using the beam search method with beam size=3...\n"
     ]
    },
    {
     "name": "stderr",
     "output_type": "stream",
     "text": [
      "[I 2024-05-29 03:23:46,895] Trial 19 finished with value: -1.8944589704163073 and parameters: {'sigma': 0.9862065106710766}. Best is trial 14 with value: -1.920562355129236.\n"
     ]
    },
    {
     "name": "stdout",
     "output_type": "stream",
     "text": [
      "(5_w,10)-aCMA-ES (mu_w=3.2,w_1=45%) in dimension 512 (seed=1051453, Wed May 29 03:23:46 2024)\n",
      "(5_w,10)-aCMA-ES (mu_w=3.2,w_1=45%) in dimension 512 (seed=1141510, Wed May 29 03:23:46 2024)\n",
      "(5_w,10)-aCMA-ES (mu_w=3.2,w_1=45%) in dimension 512 (seed=1069683, Wed May 29 03:23:46 2024)\n",
      "[NeMo I 2024-05-29 03:23:46 megatron_lm_encoder_decoder_model:1192] Decoding using the beam search method with beam size=3...\n",
      "[NeMo I 2024-05-29 03:23:48 megatron_lm_encoder_decoder_model:1192] Decoding using the beam search method with beam size=3...\n",
      "[NeMo I 2024-05-29 03:23:50 megatron_lm_encoder_decoder_model:1192] Decoding using the beam search method with beam size=3...\n",
      "[NeMo I 2024-05-29 03:23:52 megatron_lm_encoder_decoder_model:1192] Decoding using the beam search method with beam size=3...\n",
      "[NeMo I 2024-05-29 03:23:54 megatron_lm_encoder_decoder_model:1192] Decoding using the beam search method with beam size=3...\n",
      "[NeMo I 2024-05-29 03:23:56 megatron_lm_encoder_decoder_model:1192] Decoding using the beam search method with beam size=3...\n",
      "[NeMo I 2024-05-29 03:23:58 megatron_lm_encoder_decoder_model:1192] Decoding using the beam search method with beam size=3...\n",
      "[NeMo I 2024-05-29 03:23:59 megatron_lm_encoder_decoder_model:1192] Decoding using the beam search method with beam size=3...\n",
      "[NeMo I 2024-05-29 03:24:01 megatron_lm_encoder_decoder_model:1192] Decoding using the beam search method with beam size=3...\n",
      "[NeMo I 2024-05-29 03:24:03 megatron_lm_encoder_decoder_model:1192] Decoding using the beam search method with beam size=3...\n"
     ]
    },
    {
     "name": "stderr",
     "output_type": "stream",
     "text": [
      "[I 2024-05-29 03:24:05,563] Trial 20 finished with value: -1.3767594962240095 and parameters: {'sigma': 1.581017264709227}. Best is trial 14 with value: -1.920562355129236.\n"
     ]
    },
    {
     "name": "stdout",
     "output_type": "stream",
     "text": [
      "(5_w,10)-aCMA-ES (mu_w=3.2,w_1=45%) in dimension 512 (seed=1037002, Wed May 29 03:24:05 2024)\n",
      "(5_w,10)-aCMA-ES (mu_w=3.2,w_1=45%) in dimension 512 (seed=1085099, Wed May 29 03:24:05 2024)\n",
      "(5_w,10)-aCMA-ES (mu_w=3.2,w_1=45%) in dimension 512 (seed=1015592, Wed May 29 03:24:05 2024)\n",
      "[NeMo I 2024-05-29 03:24:05 megatron_lm_encoder_decoder_model:1192] Decoding using the beam search method with beam size=3...\n",
      "[NeMo I 2024-05-29 03:24:07 megatron_lm_encoder_decoder_model:1192] Decoding using the beam search method with beam size=3...\n",
      "[NeMo I 2024-05-29 03:24:09 megatron_lm_encoder_decoder_model:1192] Decoding using the beam search method with beam size=3...\n",
      "[NeMo I 2024-05-29 03:24:11 megatron_lm_encoder_decoder_model:1192] Decoding using the beam search method with beam size=3...\n",
      "[NeMo I 2024-05-29 03:24:13 megatron_lm_encoder_decoder_model:1192] Decoding using the beam search method with beam size=3...\n",
      "[NeMo I 2024-05-29 03:24:14 megatron_lm_encoder_decoder_model:1192] Decoding using the beam search method with beam size=3...\n",
      "[NeMo I 2024-05-29 03:24:16 megatron_lm_encoder_decoder_model:1192] Decoding using the beam search method with beam size=3...\n",
      "[NeMo I 2024-05-29 03:24:18 megatron_lm_encoder_decoder_model:1192] Decoding using the beam search method with beam size=3...\n",
      "[NeMo I 2024-05-29 03:24:20 megatron_lm_encoder_decoder_model:1192] Decoding using the beam search method with beam size=3...\n",
      "[NeMo I 2024-05-29 03:24:22 megatron_lm_encoder_decoder_model:1192] Decoding using the beam search method with beam size=3...\n"
     ]
    },
    {
     "name": "stderr",
     "output_type": "stream",
     "text": [
      "[I 2024-05-29 03:24:24,411] Trial 21 finished with value: -1.887318454213626 and parameters: {'sigma': 0.418313644441339}. Best is trial 14 with value: -1.920562355129236.\n"
     ]
    },
    {
     "name": "stdout",
     "output_type": "stream",
     "text": [
      "(5_w,10)-aCMA-ES (mu_w=3.2,w_1=45%) in dimension 512 (seed=999522, Wed May 29 03:24:24 2024)\n",
      "(5_w,10)-aCMA-ES (mu_w=3.2,w_1=45%) in dimension 512 (seed=1048258, Wed May 29 03:24:24 2024)\n",
      "(5_w,10)-aCMA-ES (mu_w=3.2,w_1=45%) in dimension 512 (seed=1091592, Wed May 29 03:24:24 2024)\n",
      "[NeMo I 2024-05-29 03:24:24 megatron_lm_encoder_decoder_model:1192] Decoding using the beam search method with beam size=3...\n",
      "[NeMo I 2024-05-29 03:24:26 megatron_lm_encoder_decoder_model:1192] Decoding using the beam search method with beam size=3...\n",
      "[NeMo I 2024-05-29 03:24:28 megatron_lm_encoder_decoder_model:1192] Decoding using the beam search method with beam size=3...\n",
      "[NeMo I 2024-05-29 03:24:30 megatron_lm_encoder_decoder_model:1192] Decoding using the beam search method with beam size=3...\n",
      "[NeMo I 2024-05-29 03:24:31 megatron_lm_encoder_decoder_model:1192] Decoding using the beam search method with beam size=3...\n",
      "[NeMo I 2024-05-29 03:24:33 megatron_lm_encoder_decoder_model:1192] Decoding using the beam search method with beam size=3...\n",
      "[NeMo I 2024-05-29 03:24:35 megatron_lm_encoder_decoder_model:1192] Decoding using the beam search method with beam size=3...\n",
      "[NeMo I 2024-05-29 03:24:37 megatron_lm_encoder_decoder_model:1192] Decoding using the beam search method with beam size=3...\n",
      "[NeMo I 2024-05-29 03:24:39 megatron_lm_encoder_decoder_model:1192] Decoding using the beam search method with beam size=3...\n",
      "[NeMo I 2024-05-29 03:24:41 megatron_lm_encoder_decoder_model:1192] Decoding using the beam search method with beam size=3...\n"
     ]
    },
    {
     "name": "stderr",
     "output_type": "stream",
     "text": [
      "[I 2024-05-29 03:24:43,209] Trial 22 finished with value: -1.8719357110922725 and parameters: {'sigma': 0.6697950926981727}. Best is trial 14 with value: -1.920562355129236.\n"
     ]
    },
    {
     "name": "stdout",
     "output_type": "stream",
     "text": [
      "(5_w,10)-aCMA-ES (mu_w=3.2,w_1=45%) in dimension 512 (seed=1060073, Wed May 29 03:24:43 2024)\n",
      "(5_w,10)-aCMA-ES (mu_w=3.2,w_1=45%) in dimension 512 (seed=1028461, Wed May 29 03:24:43 2024)\n",
      "(5_w,10)-aCMA-ES (mu_w=3.2,w_1=45%) in dimension 512 (seed=994531, Wed May 29 03:24:43 2024)\n",
      "[NeMo I 2024-05-29 03:24:43 megatron_lm_encoder_decoder_model:1192] Decoding using the beam search method with beam size=3...\n",
      "[NeMo I 2024-05-29 03:24:45 megatron_lm_encoder_decoder_model:1192] Decoding using the beam search method with beam size=3...\n",
      "[NeMo I 2024-05-29 03:24:47 megatron_lm_encoder_decoder_model:1192] Decoding using the beam search method with beam size=3...\n",
      "[NeMo I 2024-05-29 03:24:48 megatron_lm_encoder_decoder_model:1192] Decoding using the beam search method with beam size=3...\n",
      "[NeMo I 2024-05-29 03:24:50 megatron_lm_encoder_decoder_model:1192] Decoding using the beam search method with beam size=3...\n",
      "[NeMo I 2024-05-29 03:24:52 megatron_lm_encoder_decoder_model:1192] Decoding using the beam search method with beam size=3...\n",
      "[NeMo I 2024-05-29 03:24:54 megatron_lm_encoder_decoder_model:1192] Decoding using the beam search method with beam size=3...\n",
      "[NeMo I 2024-05-29 03:24:56 megatron_lm_encoder_decoder_model:1192] Decoding using the beam search method with beam size=3...\n",
      "[NeMo I 2024-05-29 03:24:58 megatron_lm_encoder_decoder_model:1192] Decoding using the beam search method with beam size=3...\n",
      "[NeMo I 2024-05-29 03:25:00 megatron_lm_encoder_decoder_model:1192] Decoding using the beam search method with beam size=3...\n"
     ]
    },
    {
     "name": "stderr",
     "output_type": "stream",
     "text": [
      "[I 2024-05-29 03:25:02,039] Trial 23 finished with value: -1.8963760110895127 and parameters: {'sigma': 0.49583250690239183}. Best is trial 14 with value: -1.920562355129236.\n"
     ]
    },
    {
     "name": "stdout",
     "output_type": "stream",
     "text": [
      "(5_w,10)-aCMA-ES (mu_w=3.2,w_1=45%) in dimension 512 (seed=1013285, Wed May 29 03:25:02 2024)\n",
      "(5_w,10)-aCMA-ES (mu_w=3.2,w_1=45%) in dimension 512 (seed=987075, Wed May 29 03:25:02 2024)\n",
      "(5_w,10)-aCMA-ES (mu_w=3.2,w_1=45%) in dimension 512 (seed=998003, Wed May 29 03:25:02 2024)\n",
      "[NeMo I 2024-05-29 03:25:02 megatron_lm_encoder_decoder_model:1192] Decoding using the beam search method with beam size=3...\n",
      "[NeMo I 2024-05-29 03:25:03 megatron_lm_encoder_decoder_model:1192] Decoding using the beam search method with beam size=3...\n",
      "[NeMo I 2024-05-29 03:25:05 megatron_lm_encoder_decoder_model:1192] Decoding using the beam search method with beam size=3...\n",
      "[NeMo I 2024-05-29 03:25:07 megatron_lm_encoder_decoder_model:1192] Decoding using the beam search method with beam size=3...\n",
      "[NeMo I 2024-05-29 03:25:09 megatron_lm_encoder_decoder_model:1192] Decoding using the beam search method with beam size=3...\n",
      "[NeMo I 2024-05-29 03:25:11 megatron_lm_encoder_decoder_model:1192] Decoding using the beam search method with beam size=3...\n",
      "[NeMo I 2024-05-29 03:25:13 megatron_lm_encoder_decoder_model:1192] Decoding using the beam search method with beam size=3...\n",
      "[NeMo I 2024-05-29 03:25:15 megatron_lm_encoder_decoder_model:1192] Decoding using the beam search method with beam size=3...\n",
      "[NeMo I 2024-05-29 03:25:17 megatron_lm_encoder_decoder_model:1192] Decoding using the beam search method with beam size=3...\n",
      "[NeMo I 2024-05-29 03:25:18 megatron_lm_encoder_decoder_model:1192] Decoding using the beam search method with beam size=3...\n"
     ]
    },
    {
     "name": "stderr",
     "output_type": "stream",
     "text": [
      "[I 2024-05-29 03:25:20,851] Trial 24 finished with value: -1.8002118726266758 and parameters: {'sigma': 0.9105462095196625}. Best is trial 14 with value: -1.920562355129236.\n"
     ]
    },
    {
     "name": "stdout",
     "output_type": "stream",
     "text": [
      "(5_w,10)-aCMA-ES (mu_w=3.2,w_1=45%) in dimension 512 (seed=1056820, Wed May 29 03:25:20 2024)\n",
      "(5_w,10)-aCMA-ES (mu_w=3.2,w_1=45%) in dimension 512 (seed=1069313, Wed May 29 03:25:20 2024)\n",
      "(5_w,10)-aCMA-ES (mu_w=3.2,w_1=45%) in dimension 512 (seed=1129100, Wed May 29 03:25:20 2024)\n",
      "[NeMo I 2024-05-29 03:25:20 megatron_lm_encoder_decoder_model:1192] Decoding using the beam search method with beam size=3...\n",
      "[NeMo I 2024-05-29 03:25:22 megatron_lm_encoder_decoder_model:1192] Decoding using the beam search method with beam size=3...\n",
      "[NeMo I 2024-05-29 03:25:24 megatron_lm_encoder_decoder_model:1192] Decoding using the beam search method with beam size=3...\n",
      "[NeMo I 2024-05-29 03:25:26 megatron_lm_encoder_decoder_model:1192] Decoding using the beam search method with beam size=3...\n",
      "[NeMo I 2024-05-29 03:25:28 megatron_lm_encoder_decoder_model:1192] Decoding using the beam search method with beam size=3...\n",
      "[NeMo I 2024-05-29 03:25:30 megatron_lm_encoder_decoder_model:1192] Decoding using the beam search method with beam size=3...\n",
      "[NeMo I 2024-05-29 03:25:32 megatron_lm_encoder_decoder_model:1192] Decoding using the beam search method with beam size=3...\n",
      "[NeMo I 2024-05-29 03:25:34 megatron_lm_encoder_decoder_model:1192] Decoding using the beam search method with beam size=3...\n",
      "[NeMo I 2024-05-29 03:25:35 megatron_lm_encoder_decoder_model:1192] Decoding using the beam search method with beam size=3...\n",
      "[NeMo I 2024-05-29 03:25:37 megatron_lm_encoder_decoder_model:1192] Decoding using the beam search method with beam size=3...\n"
     ]
    },
    {
     "name": "stderr",
     "output_type": "stream",
     "text": [
      "[I 2024-05-29 03:25:39,692] Trial 25 finished with value: -1.8795102727263056 and parameters: {'sigma': 0.5481559162858757}. Best is trial 14 with value: -1.920562355129236.\n"
     ]
    },
    {
     "name": "stdout",
     "output_type": "stream",
     "text": [
      "(5_w,10)-aCMA-ES (mu_w=3.2,w_1=45%) in dimension 512 (seed=1032598, Wed May 29 03:25:39 2024)\n",
      "(5_w,10)-aCMA-ES (mu_w=3.2,w_1=45%) in dimension 512 (seed=1085569, Wed May 29 03:25:39 2024)\n",
      "(5_w,10)-aCMA-ES (mu_w=3.2,w_1=45%) in dimension 512 (seed=1083315, Wed May 29 03:25:39 2024)\n",
      "[NeMo I 2024-05-29 03:25:39 megatron_lm_encoder_decoder_model:1192] Decoding using the beam search method with beam size=3...\n",
      "[NeMo I 2024-05-29 03:25:41 megatron_lm_encoder_decoder_model:1192] Decoding using the beam search method with beam size=3...\n",
      "[NeMo I 2024-05-29 03:25:43 megatron_lm_encoder_decoder_model:1192] Decoding using the beam search method with beam size=3...\n",
      "[NeMo I 2024-05-29 03:25:45 megatron_lm_encoder_decoder_model:1192] Decoding using the beam search method with beam size=3...\n",
      "[NeMo I 2024-05-29 03:25:47 megatron_lm_encoder_decoder_model:1192] Decoding using the beam search method with beam size=3...\n",
      "[NeMo I 2024-05-29 03:25:49 megatron_lm_encoder_decoder_model:1192] Decoding using the beam search method with beam size=3...\n",
      "[NeMo I 2024-05-29 03:25:51 megatron_lm_encoder_decoder_model:1192] Decoding using the beam search method with beam size=3...\n",
      "[NeMo I 2024-05-29 03:25:52 megatron_lm_encoder_decoder_model:1192] Decoding using the beam search method with beam size=3...\n",
      "[NeMo I 2024-05-29 03:25:54 megatron_lm_encoder_decoder_model:1192] Decoding using the beam search method with beam size=3...\n",
      "[NeMo I 2024-05-29 03:25:56 megatron_lm_encoder_decoder_model:1192] Decoding using the beam search method with beam size=3...\n"
     ]
    },
    {
     "name": "stderr",
     "output_type": "stream",
     "text": [
      "[I 2024-05-29 03:25:58,557] Trial 26 finished with value: -1.7490418961359844 and parameters: {'sigma': 0.29789275702324985}. Best is trial 14 with value: -1.920562355129236.\n"
     ]
    },
    {
     "name": "stdout",
     "output_type": "stream",
     "text": [
      "(5_w,10)-aCMA-ES (mu_w=3.2,w_1=45%) in dimension 512 (seed=1037312, Wed May 29 03:25:58 2024)\n",
      "(5_w,10)-aCMA-ES (mu_w=3.2,w_1=45%) in dimension 512 (seed=1099110, Wed May 29 03:25:58 2024)\n",
      "(5_w,10)-aCMA-ES (mu_w=3.2,w_1=45%) in dimension 512 (seed=1061664, Wed May 29 03:25:58 2024)\n",
      "[NeMo I 2024-05-29 03:25:58 megatron_lm_encoder_decoder_model:1192] Decoding using the beam search method with beam size=3...\n",
      "[NeMo I 2024-05-29 03:26:00 megatron_lm_encoder_decoder_model:1192] Decoding using the beam search method with beam size=3...\n",
      "[NeMo I 2024-05-29 03:26:02 megatron_lm_encoder_decoder_model:1192] Decoding using the beam search method with beam size=3...\n",
      "[NeMo I 2024-05-29 03:26:04 megatron_lm_encoder_decoder_model:1192] Decoding using the beam search method with beam size=3...\n",
      "[NeMo I 2024-05-29 03:26:06 megatron_lm_encoder_decoder_model:1192] Decoding using the beam search method with beam size=3...\n",
      "[NeMo I 2024-05-29 03:26:07 megatron_lm_encoder_decoder_model:1192] Decoding using the beam search method with beam size=3...\n",
      "[NeMo I 2024-05-29 03:26:09 megatron_lm_encoder_decoder_model:1192] Decoding using the beam search method with beam size=3...\n",
      "[NeMo I 2024-05-29 03:26:11 megatron_lm_encoder_decoder_model:1192] Decoding using the beam search method with beam size=3...\n",
      "[NeMo I 2024-05-29 03:26:13 megatron_lm_encoder_decoder_model:1192] Decoding using the beam search method with beam size=3...\n",
      "[NeMo I 2024-05-29 03:26:15 megatron_lm_encoder_decoder_model:1192] Decoding using the beam search method with beam size=3...\n"
     ]
    },
    {
     "name": "stderr",
     "output_type": "stream",
     "text": [
      "[I 2024-05-29 03:26:17,368] Trial 27 finished with value: -1.8341997510000425 and parameters: {'sigma': 1.0594045597274606}. Best is trial 14 with value: -1.920562355129236.\n"
     ]
    },
    {
     "name": "stdout",
     "output_type": "stream",
     "text": [
      "(5_w,10)-aCMA-ES (mu_w=3.2,w_1=45%) in dimension 512 (seed=1055922, Wed May 29 03:26:17 2024)\n",
      "(5_w,10)-aCMA-ES (mu_w=3.2,w_1=45%) in dimension 512 (seed=1000837, Wed May 29 03:26:17 2024)\n",
      "(5_w,10)-aCMA-ES (mu_w=3.2,w_1=45%) in dimension 512 (seed=1041154, Wed May 29 03:26:17 2024)\n",
      "[NeMo I 2024-05-29 03:26:17 megatron_lm_encoder_decoder_model:1192] Decoding using the beam search method with beam size=3...\n",
      "[NeMo I 2024-05-29 03:26:19 megatron_lm_encoder_decoder_model:1192] Decoding using the beam search method with beam size=3...\n",
      "[NeMo I 2024-05-29 03:26:21 megatron_lm_encoder_decoder_model:1192] Decoding using the beam search method with beam size=3...\n",
      "[NeMo I 2024-05-29 03:26:23 megatron_lm_encoder_decoder_model:1192] Decoding using the beam search method with beam size=3...\n",
      "[NeMo I 2024-05-29 03:26:24 megatron_lm_encoder_decoder_model:1192] Decoding using the beam search method with beam size=3...\n",
      "[NeMo I 2024-05-29 03:26:26 megatron_lm_encoder_decoder_model:1192] Decoding using the beam search method with beam size=3...\n",
      "[NeMo I 2024-05-29 03:26:28 megatron_lm_encoder_decoder_model:1192] Decoding using the beam search method with beam size=3...\n",
      "[NeMo I 2024-05-29 03:26:30 megatron_lm_encoder_decoder_model:1192] Decoding using the beam search method with beam size=3...\n",
      "[NeMo I 2024-05-29 03:26:32 megatron_lm_encoder_decoder_model:1192] Decoding using the beam search method with beam size=3...\n",
      "[NeMo I 2024-05-29 03:26:34 megatron_lm_encoder_decoder_model:1192] Decoding using the beam search method with beam size=3...\n"
     ]
    },
    {
     "name": "stderr",
     "output_type": "stream",
     "text": [
      "[I 2024-05-29 03:26:36,173] Trial 28 finished with value: -1.893224732045563 and parameters: {'sigma': 0.864628254509093}. Best is trial 14 with value: -1.920562355129236.\n"
     ]
    },
    {
     "name": "stdout",
     "output_type": "stream",
     "text": [
      "(5_w,10)-aCMA-ES (mu_w=3.2,w_1=45%) in dimension 512 (seed=1026615, Wed May 29 03:26:36 2024)\n",
      "(5_w,10)-aCMA-ES (mu_w=3.2,w_1=45%) in dimension 512 (seed=1038937, Wed May 29 03:26:36 2024)\n",
      "(5_w,10)-aCMA-ES (mu_w=3.2,w_1=45%) in dimension 512 (seed=1008681, Wed May 29 03:26:36 2024)\n",
      "[NeMo I 2024-05-29 03:26:36 megatron_lm_encoder_decoder_model:1192] Decoding using the beam search method with beam size=3...\n",
      "[NeMo I 2024-05-29 03:26:38 megatron_lm_encoder_decoder_model:1192] Decoding using the beam search method with beam size=3...\n",
      "[NeMo I 2024-05-29 03:26:39 megatron_lm_encoder_decoder_model:1192] Decoding using the beam search method with beam size=3...\n",
      "[NeMo I 2024-05-29 03:26:41 megatron_lm_encoder_decoder_model:1192] Decoding using the beam search method with beam size=3...\n",
      "[NeMo I 2024-05-29 03:26:43 megatron_lm_encoder_decoder_model:1192] Decoding using the beam search method with beam size=3...\n",
      "[NeMo I 2024-05-29 03:26:45 megatron_lm_encoder_decoder_model:1192] Decoding using the beam search method with beam size=3...\n",
      "[NeMo I 2024-05-29 03:26:47 megatron_lm_encoder_decoder_model:1192] Decoding using the beam search method with beam size=3...\n",
      "[NeMo I 2024-05-29 03:26:49 megatron_lm_encoder_decoder_model:1192] Decoding using the beam search method with beam size=3...\n",
      "[NeMo I 2024-05-29 03:26:51 megatron_lm_encoder_decoder_model:1192] Decoding using the beam search method with beam size=3...\n",
      "[NeMo I 2024-05-29 03:26:53 megatron_lm_encoder_decoder_model:1192] Decoding using the beam search method with beam size=3...\n"
     ]
    },
    {
     "name": "stderr",
     "output_type": "stream",
     "text": [
      "[I 2024-05-29 03:26:54,994] Trial 29 finished with value: -1.9068589401757166 and parameters: {'sigma': 0.733548934050398}. Best is trial 14 with value: -1.920562355129236.\n"
     ]
    },
    {
     "name": "stdout",
     "output_type": "stream",
     "text": [
      "(5_w,10)-aCMA-ES (mu_w=3.2,w_1=45%) in dimension 512 (seed=1040079, Wed May 29 03:26:55 2024)\n",
      "(5_w,10)-aCMA-ES (mu_w=3.2,w_1=45%) in dimension 512 (seed=1012430, Wed May 29 03:26:55 2024)\n",
      "(5_w,10)-aCMA-ES (mu_w=3.2,w_1=45%) in dimension 512 (seed=963225, Wed May 29 03:26:55 2024)\n",
      "[NeMo I 2024-05-29 03:26:55 megatron_lm_encoder_decoder_model:1192] Decoding using the beam search method with beam size=3...\n",
      "[NeMo I 2024-05-29 03:26:56 megatron_lm_encoder_decoder_model:1192] Decoding using the beam search method with beam size=3...\n",
      "[NeMo I 2024-05-29 03:26:58 megatron_lm_encoder_decoder_model:1192] Decoding using the beam search method with beam size=3...\n",
      "[NeMo I 2024-05-29 03:27:00 megatron_lm_encoder_decoder_model:1192] Decoding using the beam search method with beam size=3...\n",
      "[NeMo I 2024-05-29 03:27:02 megatron_lm_encoder_decoder_model:1192] Decoding using the beam search method with beam size=3...\n",
      "[NeMo I 2024-05-29 03:27:04 megatron_lm_encoder_decoder_model:1192] Decoding using the beam search method with beam size=3...\n",
      "[NeMo I 2024-05-29 03:27:06 megatron_lm_encoder_decoder_model:1192] Decoding using the beam search method with beam size=3...\n",
      "[NeMo I 2024-05-29 03:27:08 megatron_lm_encoder_decoder_model:1192] Decoding using the beam search method with beam size=3...\n",
      "[NeMo I 2024-05-29 03:27:10 megatron_lm_encoder_decoder_model:1192] Decoding using the beam search method with beam size=3...\n",
      "[NeMo I 2024-05-29 03:27:11 megatron_lm_encoder_decoder_model:1192] Decoding using the beam search method with beam size=3...\n"
     ]
    },
    {
     "name": "stderr",
     "output_type": "stream",
     "text": [
      "[I 2024-05-29 03:27:13,829] Trial 30 finished with value: -1.7487570907617984 and parameters: {'sigma': 1.2011617881285455}. Best is trial 14 with value: -1.920562355129236.\n"
     ]
    },
    {
     "name": "stdout",
     "output_type": "stream",
     "text": [
      "(5_w,10)-aCMA-ES (mu_w=3.2,w_1=45%) in dimension 512 (seed=1122343, Wed May 29 03:27:13 2024)\n",
      "(5_w,10)-aCMA-ES (mu_w=3.2,w_1=45%) in dimension 512 (seed=1078283, Wed May 29 03:27:13 2024)\n",
      "(5_w,10)-aCMA-ES (mu_w=3.2,w_1=45%) in dimension 512 (seed=1109193, Wed May 29 03:27:13 2024)\n",
      "[NeMo I 2024-05-29 03:27:13 megatron_lm_encoder_decoder_model:1192] Decoding using the beam search method with beam size=3...\n",
      "[NeMo I 2024-05-29 03:27:15 megatron_lm_encoder_decoder_model:1192] Decoding using the beam search method with beam size=3...\n",
      "[NeMo I 2024-05-29 03:27:17 megatron_lm_encoder_decoder_model:1192] Decoding using the beam search method with beam size=3...\n",
      "[NeMo I 2024-05-29 03:27:19 megatron_lm_encoder_decoder_model:1192] Decoding using the beam search method with beam size=3...\n",
      "[NeMo I 2024-05-29 03:27:21 megatron_lm_encoder_decoder_model:1192] Decoding using the beam search method with beam size=3...\n",
      "[NeMo I 2024-05-29 03:27:23 megatron_lm_encoder_decoder_model:1192] Decoding using the beam search method with beam size=3...\n",
      "[NeMo I 2024-05-29 03:27:25 megatron_lm_encoder_decoder_model:1192] Decoding using the beam search method with beam size=3...\n",
      "[NeMo I 2024-05-29 03:27:26 megatron_lm_encoder_decoder_model:1192] Decoding using the beam search method with beam size=3...\n",
      "[NeMo I 2024-05-29 03:27:28 megatron_lm_encoder_decoder_model:1192] Decoding using the beam search method with beam size=3...\n",
      "[NeMo I 2024-05-29 03:27:30 megatron_lm_encoder_decoder_model:1192] Decoding using the beam search method with beam size=3...\n"
     ]
    },
    {
     "name": "stderr",
     "output_type": "stream",
     "text": [
      "[I 2024-05-29 03:27:32,627] Trial 31 finished with value: -1.904726286325639 and parameters: {'sigma': 0.5774751353189321}. Best is trial 14 with value: -1.920562355129236.\n"
     ]
    },
    {
     "name": "stdout",
     "output_type": "stream",
     "text": [
      "(5_w,10)-aCMA-ES (mu_w=3.2,w_1=45%) in dimension 512 (seed=1033290, Wed May 29 03:27:32 2024)\n",
      "(5_w,10)-aCMA-ES (mu_w=3.2,w_1=45%) in dimension 512 (seed=1096790, Wed May 29 03:27:32 2024)\n",
      "(5_w,10)-aCMA-ES (mu_w=3.2,w_1=45%) in dimension 512 (seed=1026335, Wed May 29 03:27:32 2024)\n",
      "[NeMo I 2024-05-29 03:27:32 megatron_lm_encoder_decoder_model:1192] Decoding using the beam search method with beam size=3...\n",
      "[NeMo I 2024-05-29 03:27:34 megatron_lm_encoder_decoder_model:1192] Decoding using the beam search method with beam size=3...\n",
      "[NeMo I 2024-05-29 03:27:36 megatron_lm_encoder_decoder_model:1192] Decoding using the beam search method with beam size=3...\n",
      "[NeMo I 2024-05-29 03:27:38 megatron_lm_encoder_decoder_model:1192] Decoding using the beam search method with beam size=3...\n",
      "[NeMo I 2024-05-29 03:27:40 megatron_lm_encoder_decoder_model:1192] Decoding using the beam search method with beam size=3...\n",
      "[NeMo I 2024-05-29 03:27:42 megatron_lm_encoder_decoder_model:1192] Decoding using the beam search method with beam size=3...\n",
      "[NeMo I 2024-05-29 03:27:43 megatron_lm_encoder_decoder_model:1192] Decoding using the beam search method with beam size=3...\n",
      "[NeMo I 2024-05-29 03:27:45 megatron_lm_encoder_decoder_model:1192] Decoding using the beam search method with beam size=3...\n",
      "[NeMo I 2024-05-29 03:27:47 megatron_lm_encoder_decoder_model:1192] Decoding using the beam search method with beam size=3...\n",
      "[NeMo I 2024-05-29 03:27:49 megatron_lm_encoder_decoder_model:1192] Decoding using the beam search method with beam size=3...\n"
     ]
    },
    {
     "name": "stderr",
     "output_type": "stream",
     "text": [
      "[I 2024-05-29 03:27:51,479] Trial 32 finished with value: -1.8847775724291498 and parameters: {'sigma': 0.37285354816151206}. Best is trial 14 with value: -1.920562355129236.\n"
     ]
    },
    {
     "name": "stdout",
     "output_type": "stream",
     "text": [
      "(5_w,10)-aCMA-ES (mu_w=3.2,w_1=45%) in dimension 512 (seed=1098175, Wed May 29 03:27:51 2024)\n",
      "(5_w,10)-aCMA-ES (mu_w=3.2,w_1=45%) in dimension 512 (seed=1042309, Wed May 29 03:27:51 2024)\n",
      "(5_w,10)-aCMA-ES (mu_w=3.2,w_1=45%) in dimension 512 (seed=1033693, Wed May 29 03:27:51 2024)\n",
      "[NeMo I 2024-05-29 03:27:51 megatron_lm_encoder_decoder_model:1192] Decoding using the beam search method with beam size=3...\n",
      "[NeMo I 2024-05-29 03:27:53 megatron_lm_encoder_decoder_model:1192] Decoding using the beam search method with beam size=3...\n",
      "[NeMo I 2024-05-29 03:27:55 megatron_lm_encoder_decoder_model:1192] Decoding using the beam search method with beam size=3...\n",
      "[NeMo I 2024-05-29 03:27:57 megatron_lm_encoder_decoder_model:1192] Decoding using the beam search method with beam size=3...\n",
      "[NeMo I 2024-05-29 03:27:59 megatron_lm_encoder_decoder_model:1192] Decoding using the beam search method with beam size=3...\n",
      "[NeMo I 2024-05-29 03:28:00 megatron_lm_encoder_decoder_model:1192] Decoding using the beam search method with beam size=3...\n",
      "[NeMo I 2024-05-29 03:28:02 megatron_lm_encoder_decoder_model:1192] Decoding using the beam search method with beam size=3...\n",
      "[NeMo I 2024-05-29 03:28:04 megatron_lm_encoder_decoder_model:1192] Decoding using the beam search method with beam size=3...\n",
      "[NeMo I 2024-05-29 03:28:06 megatron_lm_encoder_decoder_model:1192] Decoding using the beam search method with beam size=3...\n",
      "[NeMo I 2024-05-29 03:28:08 megatron_lm_encoder_decoder_model:1192] Decoding using the beam search method with beam size=3...\n"
     ]
    },
    {
     "name": "stderr",
     "output_type": "stream",
     "text": [
      "[I 2024-05-29 03:28:10,268] Trial 33 finished with value: -1.90431593351381 and parameters: {'sigma': 0.6706404560249281}. Best is trial 14 with value: -1.920562355129236.\n"
     ]
    },
    {
     "name": "stdout",
     "output_type": "stream",
     "text": [
      "(5_w,10)-aCMA-ES (mu_w=3.2,w_1=45%) in dimension 512 (seed=1043574, Wed May 29 03:28:10 2024)\n",
      "(5_w,10)-aCMA-ES (mu_w=3.2,w_1=45%) in dimension 512 (seed=1041436, Wed May 29 03:28:10 2024)\n",
      "(5_w,10)-aCMA-ES (mu_w=3.2,w_1=45%) in dimension 512 (seed=1034691, Wed May 29 03:28:10 2024)\n",
      "[NeMo I 2024-05-29 03:28:10 megatron_lm_encoder_decoder_model:1192] Decoding using the beam search method with beam size=3...\n",
      "[NeMo I 2024-05-29 03:28:12 megatron_lm_encoder_decoder_model:1192] Decoding using the beam search method with beam size=3...\n",
      "[NeMo I 2024-05-29 03:28:14 megatron_lm_encoder_decoder_model:1192] Decoding using the beam search method with beam size=3...\n",
      "[NeMo I 2024-05-29 03:28:15 megatron_lm_encoder_decoder_model:1192] Decoding using the beam search method with beam size=3...\n",
      "[NeMo I 2024-05-29 03:28:17 megatron_lm_encoder_decoder_model:1192] Decoding using the beam search method with beam size=3...\n",
      "[NeMo I 2024-05-29 03:28:19 megatron_lm_encoder_decoder_model:1192] Decoding using the beam search method with beam size=3...\n",
      "[NeMo I 2024-05-29 03:28:21 megatron_lm_encoder_decoder_model:1192] Decoding using the beam search method with beam size=3...\n",
      "[NeMo I 2024-05-29 03:28:23 megatron_lm_encoder_decoder_model:1192] Decoding using the beam search method with beam size=3...\n",
      "[NeMo I 2024-05-29 03:28:25 megatron_lm_encoder_decoder_model:1192] Decoding using the beam search method with beam size=3...\n",
      "[NeMo I 2024-05-29 03:28:27 megatron_lm_encoder_decoder_model:1192] Decoding using the beam search method with beam size=3...\n"
     ]
    },
    {
     "name": "stderr",
     "output_type": "stream",
     "text": [
      "[I 2024-05-29 03:28:29,144] Trial 34 finished with value: -1.65634061291495 and parameters: {'sigma': 0.1500065649730642}. Best is trial 14 with value: -1.920562355129236.\n"
     ]
    },
    {
     "name": "stdout",
     "output_type": "stream",
     "text": [
      "(5_w,10)-aCMA-ES (mu_w=3.2,w_1=45%) in dimension 512 (seed=1020674, Wed May 29 03:28:29 2024)\n",
      "(5_w,10)-aCMA-ES (mu_w=3.2,w_1=45%) in dimension 512 (seed=1043833, Wed May 29 03:28:29 2024)\n",
      "(5_w,10)-aCMA-ES (mu_w=3.2,w_1=45%) in dimension 512 (seed=1051169, Wed May 29 03:28:29 2024)\n",
      "[NeMo I 2024-05-29 03:28:29 megatron_lm_encoder_decoder_model:1192] Decoding using the beam search method with beam size=3...\n",
      "[NeMo I 2024-05-29 03:28:31 megatron_lm_encoder_decoder_model:1192] Decoding using the beam search method with beam size=3...\n",
      "[NeMo I 2024-05-29 03:28:32 megatron_lm_encoder_decoder_model:1192] Decoding using the beam search method with beam size=3...\n",
      "[NeMo I 2024-05-29 03:28:34 megatron_lm_encoder_decoder_model:1192] Decoding using the beam search method with beam size=3...\n",
      "[NeMo I 2024-05-29 03:28:36 megatron_lm_encoder_decoder_model:1192] Decoding using the beam search method with beam size=3...\n",
      "[NeMo I 2024-05-29 03:28:38 megatron_lm_encoder_decoder_model:1192] Decoding using the beam search method with beam size=3...\n",
      "[NeMo I 2024-05-29 03:28:40 megatron_lm_encoder_decoder_model:1192] Decoding using the beam search method with beam size=3...\n",
      "[NeMo I 2024-05-29 03:28:42 megatron_lm_encoder_decoder_model:1192] Decoding using the beam search method with beam size=3...\n",
      "[NeMo I 2024-05-29 03:28:44 megatron_lm_encoder_decoder_model:1192] Decoding using the beam search method with beam size=3...\n",
      "[NeMo I 2024-05-29 03:28:46 megatron_lm_encoder_decoder_model:1192] Decoding using the beam search method with beam size=3...\n"
     ]
    },
    {
     "name": "stderr",
     "output_type": "stream",
     "text": [
      "[I 2024-05-29 03:28:47,941] Trial 35 finished with value: -1.8974384858461342 and parameters: {'sigma': 0.5707373430454225}. Best is trial 14 with value: -1.920562355129236.\n"
     ]
    },
    {
     "name": "stdout",
     "output_type": "stream",
     "text": [
      "(5_w,10)-aCMA-ES (mu_w=3.2,w_1=45%) in dimension 512 (seed=1095871, Wed May 29 03:28:47 2024)\n",
      "(5_w,10)-aCMA-ES (mu_w=3.2,w_1=45%) in dimension 512 (seed=1054151, Wed May 29 03:28:47 2024)\n",
      "(5_w,10)-aCMA-ES (mu_w=3.2,w_1=45%) in dimension 512 (seed=1091863, Wed May 29 03:28:47 2024)\n",
      "[NeMo I 2024-05-29 03:28:47 megatron_lm_encoder_decoder_model:1192] Decoding using the beam search method with beam size=3...\n",
      "[NeMo I 2024-05-29 03:28:49 megatron_lm_encoder_decoder_model:1192] Decoding using the beam search method with beam size=3...\n",
      "[NeMo I 2024-05-29 03:28:51 megatron_lm_encoder_decoder_model:1192] Decoding using the beam search method with beam size=3...\n",
      "[NeMo I 2024-05-29 03:28:53 megatron_lm_encoder_decoder_model:1192] Decoding using the beam search method with beam size=3...\n",
      "[NeMo I 2024-05-29 03:28:55 megatron_lm_encoder_decoder_model:1192] Decoding using the beam search method with beam size=3...\n",
      "[NeMo I 2024-05-29 03:28:57 megatron_lm_encoder_decoder_model:1192] Decoding using the beam search method with beam size=3...\n",
      "[NeMo I 2024-05-29 03:28:59 megatron_lm_encoder_decoder_model:1192] Decoding using the beam search method with beam size=3...\n",
      "[NeMo I 2024-05-29 03:29:01 megatron_lm_encoder_decoder_model:1192] Decoding using the beam search method with beam size=3...\n",
      "[NeMo I 2024-05-29 03:29:03 megatron_lm_encoder_decoder_model:1192] Decoding using the beam search method with beam size=3...\n",
      "[NeMo I 2024-05-29 03:29:04 megatron_lm_encoder_decoder_model:1192] Decoding using the beam search method with beam size=3...\n"
     ]
    },
    {
     "name": "stderr",
     "output_type": "stream",
     "text": [
      "[I 2024-05-29 03:29:06,816] Trial 36 finished with value: -1.7663583097985314 and parameters: {'sigma': 0.33400478880355267}. Best is trial 14 with value: -1.920562355129236.\n"
     ]
    },
    {
     "name": "stdout",
     "output_type": "stream",
     "text": [
      "(5_w,10)-aCMA-ES (mu_w=3.2,w_1=45%) in dimension 512 (seed=1052623, Wed May 29 03:29:06 2024)\n",
      "(5_w,10)-aCMA-ES (mu_w=3.2,w_1=45%) in dimension 512 (seed=1130277, Wed May 29 03:29:06 2024)\n",
      "(5_w,10)-aCMA-ES (mu_w=3.2,w_1=45%) in dimension 512 (seed=1113995, Wed May 29 03:29:06 2024)\n",
      "[NeMo I 2024-05-29 03:29:06 megatron_lm_encoder_decoder_model:1192] Decoding using the beam search method with beam size=3...\n",
      "[NeMo I 2024-05-29 03:29:08 megatron_lm_encoder_decoder_model:1192] Decoding using the beam search method with beam size=3...\n",
      "[NeMo I 2024-05-29 03:29:10 megatron_lm_encoder_decoder_model:1192] Decoding using the beam search method with beam size=3...\n",
      "[NeMo I 2024-05-29 03:29:12 megatron_lm_encoder_decoder_model:1192] Decoding using the beam search method with beam size=3...\n",
      "[NeMo I 2024-05-29 03:29:14 megatron_lm_encoder_decoder_model:1192] Decoding using the beam search method with beam size=3...\n",
      "[NeMo I 2024-05-29 03:29:16 megatron_lm_encoder_decoder_model:1192] Decoding using the beam search method with beam size=3...\n",
      "[NeMo I 2024-05-29 03:29:18 megatron_lm_encoder_decoder_model:1192] Decoding using the beam search method with beam size=3...\n",
      "[NeMo I 2024-05-29 03:29:19 megatron_lm_encoder_decoder_model:1192] Decoding using the beam search method with beam size=3...\n",
      "[NeMo I 2024-05-29 03:29:21 megatron_lm_encoder_decoder_model:1192] Decoding using the beam search method with beam size=3...\n",
      "[NeMo I 2024-05-29 03:29:23 megatron_lm_encoder_decoder_model:1192] Decoding using the beam search method with beam size=3...\n"
     ]
    },
    {
     "name": "stderr",
     "output_type": "stream",
     "text": [
      "[I 2024-05-29 03:29:25,615] Trial 37 finished with value: -1.9290416689130323 and parameters: {'sigma': 0.9250319058274918}. Best is trial 37 with value: -1.9290416689130323.\n"
     ]
    },
    {
     "name": "stdout",
     "output_type": "stream",
     "text": [
      "(5_w,10)-aCMA-ES (mu_w=3.2,w_1=45%) in dimension 512 (seed=1018666, Wed May 29 03:29:25 2024)\n",
      "(5_w,10)-aCMA-ES (mu_w=3.2,w_1=45%) in dimension 512 (seed=1065885, Wed May 29 03:29:25 2024)\n",
      "(5_w,10)-aCMA-ES (mu_w=3.2,w_1=45%) in dimension 512 (seed=1029396, Wed May 29 03:29:25 2024)\n",
      "[NeMo I 2024-05-29 03:29:25 megatron_lm_encoder_decoder_model:1192] Decoding using the beam search method with beam size=3...\n",
      "[NeMo I 2024-05-29 03:29:27 megatron_lm_encoder_decoder_model:1192] Decoding using the beam search method with beam size=3...\n",
      "[NeMo I 2024-05-29 03:29:29 megatron_lm_encoder_decoder_model:1192] Decoding using the beam search method with beam size=3...\n",
      "[NeMo I 2024-05-29 03:29:31 megatron_lm_encoder_decoder_model:1192] Decoding using the beam search method with beam size=3...\n",
      "[NeMo I 2024-05-29 03:29:33 megatron_lm_encoder_decoder_model:1192] Decoding using the beam search method with beam size=3...\n",
      "[NeMo I 2024-05-29 03:29:35 megatron_lm_encoder_decoder_model:1192] Decoding using the beam search method with beam size=3...\n",
      "[NeMo I 2024-05-29 03:29:36 megatron_lm_encoder_decoder_model:1192] Decoding using the beam search method with beam size=3...\n",
      "[NeMo I 2024-05-29 03:29:38 megatron_lm_encoder_decoder_model:1192] Decoding using the beam search method with beam size=3...\n",
      "[NeMo I 2024-05-29 03:29:40 megatron_lm_encoder_decoder_model:1192] Decoding using the beam search method with beam size=3...\n",
      "[NeMo I 2024-05-29 03:29:42 megatron_lm_encoder_decoder_model:1192] Decoding using the beam search method with beam size=3...\n"
     ]
    },
    {
     "name": "stderr",
     "output_type": "stream",
     "text": [
      "[I 2024-05-29 03:29:44,442] Trial 38 finished with value: -1.5043663217198417 and parameters: {'sigma': 1.4200708597800387}. Best is trial 37 with value: -1.9290416689130323.\n"
     ]
    },
    {
     "name": "stdout",
     "output_type": "stream",
     "text": [
      "(5_w,10)-aCMA-ES (mu_w=3.2,w_1=45%) in dimension 512 (seed=1061770, Wed May 29 03:29:44 2024)\n",
      "(5_w,10)-aCMA-ES (mu_w=3.2,w_1=45%) in dimension 512 (seed=1047061, Wed May 29 03:29:44 2024)\n",
      "(5_w,10)-aCMA-ES (mu_w=3.2,w_1=45%) in dimension 512 (seed=1059914, Wed May 29 03:29:44 2024)\n",
      "[NeMo I 2024-05-29 03:29:44 megatron_lm_encoder_decoder_model:1192] Decoding using the beam search method with beam size=3...\n",
      "[NeMo I 2024-05-29 03:29:46 megatron_lm_encoder_decoder_model:1192] Decoding using the beam search method with beam size=3...\n",
      "[NeMo I 2024-05-29 03:29:48 megatron_lm_encoder_decoder_model:1192] Decoding using the beam search method with beam size=3...\n",
      "[NeMo I 2024-05-29 03:29:50 megatron_lm_encoder_decoder_model:1192] Decoding using the beam search method with beam size=3...\n",
      "[NeMo I 2024-05-29 03:29:52 megatron_lm_encoder_decoder_model:1192] Decoding using the beam search method with beam size=3...\n",
      "[NeMo I 2024-05-29 03:29:53 megatron_lm_encoder_decoder_model:1192] Decoding using the beam search method with beam size=3...\n",
      "[NeMo I 2024-05-29 03:29:55 megatron_lm_encoder_decoder_model:1192] Decoding using the beam search method with beam size=3...\n",
      "[NeMo I 2024-05-29 03:29:57 megatron_lm_encoder_decoder_model:1192] Decoding using the beam search method with beam size=3...\n",
      "[NeMo I 2024-05-29 03:29:59 megatron_lm_encoder_decoder_model:1192] Decoding using the beam search method with beam size=3...\n",
      "[NeMo I 2024-05-29 03:30:01 megatron_lm_encoder_decoder_model:1192] Decoding using the beam search method with beam size=3...\n"
     ]
    },
    {
     "name": "stderr",
     "output_type": "stream",
     "text": [
      "[I 2024-05-29 03:30:03,355] Trial 39 finished with value: -1.8935959080300797 and parameters: {'sigma': 0.9175762174397296}. Best is trial 37 with value: -1.9290416689130323.\n"
     ]
    },
    {
     "name": "stdout",
     "output_type": "stream",
     "text": [
      "(5_w,10)-aCMA-ES (mu_w=3.2,w_1=45%) in dimension 512 (seed=1063540, Wed May 29 03:30:03 2024)\n",
      "(5_w,10)-aCMA-ES (mu_w=3.2,w_1=45%) in dimension 512 (seed=1025258, Wed May 29 03:30:03 2024)\n",
      "(5_w,10)-aCMA-ES (mu_w=3.2,w_1=45%) in dimension 512 (seed=1038708, Wed May 29 03:30:03 2024)\n",
      "[NeMo I 2024-05-29 03:30:03 megatron_lm_encoder_decoder_model:1192] Decoding using the beam search method with beam size=3...\n",
      "[NeMo I 2024-05-29 03:30:05 megatron_lm_encoder_decoder_model:1192] Decoding using the beam search method with beam size=3...\n",
      "[NeMo I 2024-05-29 03:30:07 megatron_lm_encoder_decoder_model:1192] Decoding using the beam search method with beam size=3...\n",
      "[NeMo I 2024-05-29 03:30:09 megatron_lm_encoder_decoder_model:1192] Decoding using the beam search method with beam size=3...\n",
      "[NeMo I 2024-05-29 03:30:10 megatron_lm_encoder_decoder_model:1192] Decoding using the beam search method with beam size=3...\n",
      "[NeMo I 2024-05-29 03:30:12 megatron_lm_encoder_decoder_model:1192] Decoding using the beam search method with beam size=3...\n",
      "[NeMo I 2024-05-29 03:30:14 megatron_lm_encoder_decoder_model:1192] Decoding using the beam search method with beam size=3...\n",
      "[NeMo I 2024-05-29 03:30:16 megatron_lm_encoder_decoder_model:1192] Decoding using the beam search method with beam size=3...\n",
      "[NeMo I 2024-05-29 03:30:18 megatron_lm_encoder_decoder_model:1192] Decoding using the beam search method with beam size=3...\n",
      "[NeMo I 2024-05-29 03:30:20 megatron_lm_encoder_decoder_model:1192] Decoding using the beam search method with beam size=3...\n"
     ]
    },
    {
     "name": "stderr",
     "output_type": "stream",
     "text": [
      "[I 2024-05-29 03:30:22,356] Trial 40 finished with value: -1.5085159203262488 and parameters: {'sigma': 0.005056464267959138}. Best is trial 37 with value: -1.9290416689130323.\n"
     ]
    },
    {
     "name": "stdout",
     "output_type": "stream",
     "text": [
      "(5_w,10)-aCMA-ES (mu_w=3.2,w_1=45%) in dimension 512 (seed=1019011, Wed May 29 03:30:22 2024)\n",
      "(5_w,10)-aCMA-ES (mu_w=3.2,w_1=45%) in dimension 512 (seed=1091643, Wed May 29 03:30:22 2024)\n",
      "(5_w,10)-aCMA-ES (mu_w=3.2,w_1=45%) in dimension 512 (seed=1081361, Wed May 29 03:30:22 2024)\n",
      "[NeMo I 2024-05-29 03:30:22 megatron_lm_encoder_decoder_model:1192] Decoding using the beam search method with beam size=3...\n",
      "[NeMo I 2024-05-29 03:30:24 megatron_lm_encoder_decoder_model:1192] Decoding using the beam search method with beam size=3...\n",
      "[NeMo I 2024-05-29 03:30:26 megatron_lm_encoder_decoder_model:1192] Decoding using the beam search method with beam size=3...\n",
      "[NeMo I 2024-05-29 03:30:28 megatron_lm_encoder_decoder_model:1192] Decoding using the beam search method with beam size=3...\n",
      "[NeMo I 2024-05-29 03:30:29 megatron_lm_encoder_decoder_model:1192] Decoding using the beam search method with beam size=3...\n",
      "[NeMo I 2024-05-29 03:30:31 megatron_lm_encoder_decoder_model:1192] Decoding using the beam search method with beam size=3...\n",
      "[NeMo I 2024-05-29 03:30:33 megatron_lm_encoder_decoder_model:1192] Decoding using the beam search method with beam size=3...\n",
      "[NeMo I 2024-05-29 03:30:35 megatron_lm_encoder_decoder_model:1192] Decoding using the beam search method with beam size=3...\n",
      "[NeMo I 2024-05-29 03:30:37 megatron_lm_encoder_decoder_model:1192] Decoding using the beam search method with beam size=3...\n",
      "[NeMo I 2024-05-29 03:30:39 megatron_lm_encoder_decoder_model:1192] Decoding using the beam search method with beam size=3...\n"
     ]
    },
    {
     "name": "stderr",
     "output_type": "stream",
     "text": [
      "[I 2024-05-29 03:30:41,225] Trial 41 finished with value: -1.9153486677653255 and parameters: {'sigma': 0.7695955811240597}. Best is trial 37 with value: -1.9290416689130323.\n"
     ]
    },
    {
     "name": "stdout",
     "output_type": "stream",
     "text": [
      "(5_w,10)-aCMA-ES (mu_w=3.2,w_1=45%) in dimension 512 (seed=1072134, Wed May 29 03:30:41 2024)\n",
      "(5_w,10)-aCMA-ES (mu_w=3.2,w_1=45%) in dimension 512 (seed=1055277, Wed May 29 03:30:41 2024)\n",
      "(5_w,10)-aCMA-ES (mu_w=3.2,w_1=45%) in dimension 512 (seed=1063124, Wed May 29 03:30:41 2024)\n",
      "[NeMo I 2024-05-29 03:30:41 megatron_lm_encoder_decoder_model:1192] Decoding using the beam search method with beam size=3...\n",
      "[NeMo I 2024-05-29 03:30:43 megatron_lm_encoder_decoder_model:1192] Decoding using the beam search method with beam size=3...\n",
      "[NeMo I 2024-05-29 03:30:45 megatron_lm_encoder_decoder_model:1192] Decoding using the beam search method with beam size=3...\n",
      "[NeMo I 2024-05-29 03:30:46 megatron_lm_encoder_decoder_model:1192] Decoding using the beam search method with beam size=3...\n",
      "[NeMo I 2024-05-29 03:30:48 megatron_lm_encoder_decoder_model:1192] Decoding using the beam search method with beam size=3...\n",
      "[NeMo I 2024-05-29 03:30:50 megatron_lm_encoder_decoder_model:1192] Decoding using the beam search method with beam size=3...\n",
      "[NeMo I 2024-05-29 03:30:52 megatron_lm_encoder_decoder_model:1192] Decoding using the beam search method with beam size=3...\n",
      "[NeMo I 2024-05-29 03:30:54 megatron_lm_encoder_decoder_model:1192] Decoding using the beam search method with beam size=3...\n",
      "[NeMo I 2024-05-29 03:30:56 megatron_lm_encoder_decoder_model:1192] Decoding using the beam search method with beam size=3...\n",
      "[NeMo I 2024-05-29 03:30:58 megatron_lm_encoder_decoder_model:1192] Decoding using the beam search method with beam size=3...\n"
     ]
    },
    {
     "name": "stderr",
     "output_type": "stream",
     "text": [
      "[I 2024-05-29 03:31:00,123] Trial 42 finished with value: -1.896466729933877 and parameters: {'sigma': 0.7676222131645032}. Best is trial 37 with value: -1.9290416689130323.\n"
     ]
    },
    {
     "name": "stdout",
     "output_type": "stream",
     "text": [
      "(5_w,10)-aCMA-ES (mu_w=3.2,w_1=45%) in dimension 512 (seed=992537, Wed May 29 03:31:00 2024)\n",
      "(5_w,10)-aCMA-ES (mu_w=3.2,w_1=45%) in dimension 512 (seed=1058601, Wed May 29 03:31:00 2024)\n",
      "(5_w,10)-aCMA-ES (mu_w=3.2,w_1=45%) in dimension 512 (seed=1004559, Wed May 29 03:31:00 2024)\n",
      "[NeMo I 2024-05-29 03:31:00 megatron_lm_encoder_decoder_model:1192] Decoding using the beam search method with beam size=3...\n",
      "[NeMo I 2024-05-29 03:31:02 megatron_lm_encoder_decoder_model:1192] Decoding using the beam search method with beam size=3...\n",
      "[NeMo I 2024-05-29 03:31:03 megatron_lm_encoder_decoder_model:1192] Decoding using the beam search method with beam size=3...\n",
      "[NeMo I 2024-05-29 03:31:05 megatron_lm_encoder_decoder_model:1192] Decoding using the beam search method with beam size=3...\n",
      "[NeMo I 2024-05-29 03:31:07 megatron_lm_encoder_decoder_model:1192] Decoding using the beam search method with beam size=3...\n",
      "[NeMo I 2024-05-29 03:31:09 megatron_lm_encoder_decoder_model:1192] Decoding using the beam search method with beam size=3...\n",
      "[NeMo I 2024-05-29 03:31:11 megatron_lm_encoder_decoder_model:1192] Decoding using the beam search method with beam size=3...\n",
      "[NeMo I 2024-05-29 03:31:13 megatron_lm_encoder_decoder_model:1192] Decoding using the beam search method with beam size=3...\n",
      "[NeMo I 2024-05-29 03:31:15 megatron_lm_encoder_decoder_model:1192] Decoding using the beam search method with beam size=3...\n",
      "[NeMo I 2024-05-29 03:31:17 megatron_lm_encoder_decoder_model:1192] Decoding using the beam search method with beam size=3...\n"
     ]
    },
    {
     "name": "stderr",
     "output_type": "stream",
     "text": [
      "[I 2024-05-29 03:31:19,037] Trial 43 finished with value: -1.8460449098262217 and parameters: {'sigma': 1.0787699505280925}. Best is trial 37 with value: -1.9290416689130323.\n"
     ]
    },
    {
     "name": "stdout",
     "output_type": "stream",
     "text": [
      "(5_w,10)-aCMA-ES (mu_w=3.2,w_1=45%) in dimension 512 (seed=1042084, Wed May 29 03:31:19 2024)\n",
      "(5_w,10)-aCMA-ES (mu_w=3.2,w_1=45%) in dimension 512 (seed=1020145, Wed May 29 03:31:19 2024)\n",
      "(5_w,10)-aCMA-ES (mu_w=3.2,w_1=45%) in dimension 512 (seed=1028952, Wed May 29 03:31:19 2024)\n",
      "[NeMo I 2024-05-29 03:31:19 megatron_lm_encoder_decoder_model:1192] Decoding using the beam search method with beam size=3...\n",
      "[NeMo I 2024-05-29 03:31:20 megatron_lm_encoder_decoder_model:1192] Decoding using the beam search method with beam size=3...\n",
      "[NeMo I 2024-05-29 03:31:22 megatron_lm_encoder_decoder_model:1192] Decoding using the beam search method with beam size=3...\n",
      "[NeMo I 2024-05-29 03:31:24 megatron_lm_encoder_decoder_model:1192] Decoding using the beam search method with beam size=3...\n",
      "[NeMo I 2024-05-29 03:31:26 megatron_lm_encoder_decoder_model:1192] Decoding using the beam search method with beam size=3...\n",
      "[NeMo I 2024-05-29 03:31:28 megatron_lm_encoder_decoder_model:1192] Decoding using the beam search method with beam size=3...\n",
      "[NeMo I 2024-05-29 03:31:30 megatron_lm_encoder_decoder_model:1192] Decoding using the beam search method with beam size=3...\n",
      "[NeMo I 2024-05-29 03:31:32 megatron_lm_encoder_decoder_model:1192] Decoding using the beam search method with beam size=3...\n",
      "[NeMo I 2024-05-29 03:31:34 megatron_lm_encoder_decoder_model:1192] Decoding using the beam search method with beam size=3...\n",
      "[NeMo I 2024-05-29 03:31:36 megatron_lm_encoder_decoder_model:1192] Decoding using the beam search method with beam size=3...\n"
     ]
    },
    {
     "name": "stderr",
     "output_type": "stream",
     "text": [
      "[I 2024-05-29 03:31:37,949] Trial 44 finished with value: -1.914358061952279 and parameters: {'sigma': 1.3268641211754644}. Best is trial 37 with value: -1.9290416689130323.\n"
     ]
    },
    {
     "name": "stdout",
     "output_type": "stream",
     "text": [
      "(5_w,10)-aCMA-ES (mu_w=3.2,w_1=45%) in dimension 512 (seed=1126214, Wed May 29 03:31:37 2024)\n",
      "(5_w,10)-aCMA-ES (mu_w=3.2,w_1=45%) in dimension 512 (seed=1057434, Wed May 29 03:31:37 2024)\n",
      "(5_w,10)-aCMA-ES (mu_w=3.2,w_1=45%) in dimension 512 (seed=1121954, Wed May 29 03:31:37 2024)\n",
      "[NeMo I 2024-05-29 03:31:38 megatron_lm_encoder_decoder_model:1192] Decoding using the beam search method with beam size=3...\n",
      "[NeMo I 2024-05-29 03:31:39 megatron_lm_encoder_decoder_model:1192] Decoding using the beam search method with beam size=3...\n",
      "[NeMo I 2024-05-29 03:31:41 megatron_lm_encoder_decoder_model:1192] Decoding using the beam search method with beam size=3...\n",
      "[NeMo I 2024-05-29 03:31:43 megatron_lm_encoder_decoder_model:1192] Decoding using the beam search method with beam size=3...\n",
      "[NeMo I 2024-05-29 03:31:45 megatron_lm_encoder_decoder_model:1192] Decoding using the beam search method with beam size=3...\n",
      "[NeMo I 2024-05-29 03:31:47 megatron_lm_encoder_decoder_model:1192] Decoding using the beam search method with beam size=3...\n",
      "[NeMo I 2024-05-29 03:31:49 megatron_lm_encoder_decoder_model:1192] Decoding using the beam search method with beam size=3...\n",
      "[NeMo I 2024-05-29 03:31:51 megatron_lm_encoder_decoder_model:1192] Decoding using the beam search method with beam size=3...\n",
      "[NeMo I 2024-05-29 03:31:53 megatron_lm_encoder_decoder_model:1192] Decoding using the beam search method with beam size=3...\n",
      "[NeMo I 2024-05-29 03:31:54 megatron_lm_encoder_decoder_model:1192] Decoding using the beam search method with beam size=3...\n"
     ]
    },
    {
     "name": "stderr",
     "output_type": "stream",
     "text": [
      "[I 2024-05-29 03:31:56,860] Trial 45 finished with value: -1.9153486677653255 and parameters: {'sigma': 0.936217128705644}. Best is trial 37 with value: -1.9290416689130323.\n"
     ]
    },
    {
     "name": "stdout",
     "output_type": "stream",
     "text": [
      "(5_w,10)-aCMA-ES (mu_w=3.2,w_1=45%) in dimension 512 (seed=1093684, Wed May 29 03:31:56 2024)\n",
      "(5_w,10)-aCMA-ES (mu_w=3.2,w_1=45%) in dimension 512 (seed=1063018, Wed May 29 03:31:56 2024)\n",
      "(5_w,10)-aCMA-ES (mu_w=3.2,w_1=45%) in dimension 512 (seed=1098891, Wed May 29 03:31:56 2024)\n",
      "[NeMo I 2024-05-29 03:31:56 megatron_lm_encoder_decoder_model:1192] Decoding using the beam search method with beam size=3...\n",
      "[NeMo I 2024-05-29 03:31:58 megatron_lm_encoder_decoder_model:1192] Decoding using the beam search method with beam size=3...\n",
      "[NeMo I 2024-05-29 03:32:00 megatron_lm_encoder_decoder_model:1192] Decoding using the beam search method with beam size=3...\n",
      "[NeMo I 2024-05-29 03:32:02 megatron_lm_encoder_decoder_model:1192] Decoding using the beam search method with beam size=3...\n",
      "[NeMo I 2024-05-29 03:32:04 megatron_lm_encoder_decoder_model:1192] Decoding using the beam search method with beam size=3...\n",
      "[NeMo I 2024-05-29 03:32:06 megatron_lm_encoder_decoder_model:1192] Decoding using the beam search method with beam size=3...\n",
      "[NeMo I 2024-05-29 03:32:08 megatron_lm_encoder_decoder_model:1192] Decoding using the beam search method with beam size=3...\n",
      "[NeMo I 2024-05-29 03:32:10 megatron_lm_encoder_decoder_model:1192] Decoding using the beam search method with beam size=3...\n",
      "[NeMo I 2024-05-29 03:32:11 megatron_lm_encoder_decoder_model:1192] Decoding using the beam search method with beam size=3...\n",
      "[NeMo I 2024-05-29 03:32:13 megatron_lm_encoder_decoder_model:1192] Decoding using the beam search method with beam size=3...\n"
     ]
    },
    {
     "name": "stderr",
     "output_type": "stream",
     "text": [
      "[I 2024-05-29 03:32:15,732] Trial 46 finished with value: -1.8256166949601227 and parameters: {'sigma': 1.1258876206912782}. Best is trial 37 with value: -1.9290416689130323.\n"
     ]
    },
    {
     "name": "stdout",
     "output_type": "stream",
     "text": [
      "(5_w,10)-aCMA-ES (mu_w=3.2,w_1=45%) in dimension 512 (seed=1095477, Wed May 29 03:32:15 2024)\n",
      "(5_w,10)-aCMA-ES (mu_w=3.2,w_1=45%) in dimension 512 (seed=1035894, Wed May 29 03:32:15 2024)\n",
      "(5_w,10)-aCMA-ES (mu_w=3.2,w_1=45%) in dimension 512 (seed=1099727, Wed May 29 03:32:15 2024)\n",
      "[NeMo I 2024-05-29 03:32:15 megatron_lm_encoder_decoder_model:1192] Decoding using the beam search method with beam size=3...\n",
      "[NeMo I 2024-05-29 03:32:17 megatron_lm_encoder_decoder_model:1192] Decoding using the beam search method with beam size=3...\n",
      "[NeMo I 2024-05-29 03:32:19 megatron_lm_encoder_decoder_model:1192] Decoding using the beam search method with beam size=3...\n",
      "[NeMo I 2024-05-29 03:32:21 megatron_lm_encoder_decoder_model:1192] Decoding using the beam search method with beam size=3...\n",
      "[NeMo I 2024-05-29 03:32:23 megatron_lm_encoder_decoder_model:1192] Decoding using the beam search method with beam size=3...\n",
      "[NeMo I 2024-05-29 03:32:25 megatron_lm_encoder_decoder_model:1192] Decoding using the beam search method with beam size=3...\n",
      "[NeMo I 2024-05-29 03:32:27 megatron_lm_encoder_decoder_model:1192] Decoding using the beam search method with beam size=3...\n",
      "[NeMo I 2024-05-29 03:32:28 megatron_lm_encoder_decoder_model:1192] Decoding using the beam search method with beam size=3...\n",
      "[NeMo I 2024-05-29 03:32:30 megatron_lm_encoder_decoder_model:1192] Decoding using the beam search method with beam size=3...\n",
      "[NeMo I 2024-05-29 03:32:32 megatron_lm_encoder_decoder_model:1192] Decoding using the beam search method with beam size=3...\n"
     ]
    },
    {
     "name": "stderr",
     "output_type": "stream",
     "text": [
      "[I 2024-05-29 03:32:34,673] Trial 47 finished with value: -1.9619712717833078 and parameters: {'sigma': 0.48125272512915757}. Best is trial 47 with value: -1.9619712717833078.\n"
     ]
    },
    {
     "name": "stdout",
     "output_type": "stream",
     "text": [
      "(5_w,10)-aCMA-ES (mu_w=3.2,w_1=45%) in dimension 512 (seed=1036105, Wed May 29 03:32:34 2024)\n",
      "(5_w,10)-aCMA-ES (mu_w=3.2,w_1=45%) in dimension 512 (seed=1064005, Wed May 29 03:32:34 2024)\n",
      "(5_w,10)-aCMA-ES (mu_w=3.2,w_1=45%) in dimension 512 (seed=1112645, Wed May 29 03:32:34 2024)\n",
      "[NeMo I 2024-05-29 03:32:34 megatron_lm_encoder_decoder_model:1192] Decoding using the beam search method with beam size=3...\n",
      "[NeMo I 2024-05-29 03:32:36 megatron_lm_encoder_decoder_model:1192] Decoding using the beam search method with beam size=3...\n",
      "[NeMo I 2024-05-29 03:32:38 megatron_lm_encoder_decoder_model:1192] Decoding using the beam search method with beam size=3...\n",
      "[NeMo I 2024-05-29 03:32:40 megatron_lm_encoder_decoder_model:1192] Decoding using the beam search method with beam size=3...\n",
      "[NeMo I 2024-05-29 03:32:42 megatron_lm_encoder_decoder_model:1192] Decoding using the beam search method with beam size=3...\n",
      "[NeMo I 2024-05-29 03:32:44 megatron_lm_encoder_decoder_model:1192] Decoding using the beam search method with beam size=3...\n",
      "[NeMo I 2024-05-29 03:32:46 megatron_lm_encoder_decoder_model:1192] Decoding using the beam search method with beam size=3...\n",
      "[NeMo I 2024-05-29 03:32:47 megatron_lm_encoder_decoder_model:1192] Decoding using the beam search method with beam size=3...\n",
      "[NeMo I 2024-05-29 03:32:49 megatron_lm_encoder_decoder_model:1192] Decoding using the beam search method with beam size=3...\n",
      "[NeMo I 2024-05-29 03:32:51 megatron_lm_encoder_decoder_model:1192] Decoding using the beam search method with beam size=3...\n"
     ]
    },
    {
     "name": "stderr",
     "output_type": "stream",
     "text": [
      "[I 2024-05-29 03:32:53,640] Trial 48 finished with value: -1.6708456377350098 and parameters: {'sigma': 0.1887708542168376}. Best is trial 47 with value: -1.9619712717833078.\n"
     ]
    },
    {
     "name": "stdout",
     "output_type": "stream",
     "text": [
      "(5_w,10)-aCMA-ES (mu_w=3.2,w_1=45%) in dimension 512 (seed=1038482, Wed May 29 03:32:53 2024)\n",
      "(5_w,10)-aCMA-ES (mu_w=3.2,w_1=45%) in dimension 512 (seed=1045116, Wed May 29 03:32:53 2024)\n",
      "(5_w,10)-aCMA-ES (mu_w=3.2,w_1=45%) in dimension 512 (seed=1069404, Wed May 29 03:32:53 2024)\n",
      "[NeMo I 2024-05-29 03:32:53 megatron_lm_encoder_decoder_model:1192] Decoding using the beam search method with beam size=3...\n",
      "[NeMo I 2024-05-29 03:32:55 megatron_lm_encoder_decoder_model:1192] Decoding using the beam search method with beam size=3...\n",
      "[NeMo I 2024-05-29 03:32:57 megatron_lm_encoder_decoder_model:1192] Decoding using the beam search method with beam size=3...\n",
      "[NeMo I 2024-05-29 03:32:59 megatron_lm_encoder_decoder_model:1192] Decoding using the beam search method with beam size=3...\n",
      "[NeMo I 2024-05-29 03:33:01 megatron_lm_encoder_decoder_model:1192] Decoding using the beam search method with beam size=3...\n",
      "[NeMo I 2024-05-29 03:33:03 megatron_lm_encoder_decoder_model:1192] Decoding using the beam search method with beam size=3...\n",
      "[NeMo I 2024-05-29 03:33:04 megatron_lm_encoder_decoder_model:1192] Decoding using the beam search method with beam size=3...\n",
      "[NeMo I 2024-05-29 03:33:06 megatron_lm_encoder_decoder_model:1192] Decoding using the beam search method with beam size=3...\n",
      "[NeMo I 2024-05-29 03:33:08 megatron_lm_encoder_decoder_model:1192] Decoding using the beam search method with beam size=3...\n",
      "[NeMo I 2024-05-29 03:33:10 megatron_lm_encoder_decoder_model:1192] Decoding using the beam search method with beam size=3...\n"
     ]
    },
    {
     "name": "stderr",
     "output_type": "stream",
     "text": [
      "[I 2024-05-29 03:33:12,503] Trial 49 finished with value: -1.8270995395282086 and parameters: {'sigma': 0.4755569562400255}. Best is trial 47 with value: -1.9619712717833078.\n"
     ]
    },
    {
     "data": {
      "application/vnd.jupyter.widget-view+json": {
       "model_id": "c954800b7a844a8ea938ef3dc7b92b6a",
       "version_major": 2,
       "version_minor": 0
      },
      "text/plain": [
       "VBox(children=(Label(value='0.020 MB of 0.026 MB uploaded\\r'), FloatProgress(value=0.7834492558522175, max=1.0…"
      ]
     },
     "metadata": {},
     "output_type": "display_data"
    },
    {
     "data": {
      "text/html": [
       "<style>\n",
       "    table.wandb td:nth-child(1) { padding: 0 10px; text-align: left ; width: auto;} td:nth-child(2) {text-align: left ; width: 100%}\n",
       "    .wandb-row { display: flex; flex-direction: row; flex-wrap: wrap; justify-content: flex-start; width: 100% }\n",
       "    .wandb-col { display: flex; flex-direction: column; flex-basis: 100%; flex: 1; padding: 10px; }\n",
       "    </style>\n",
       "<div class=\"wandb-row\"><div class=\"wandb-col\"><h3>Run history:</h3><br/><table class=\"wandb\"><tr><td>score</td><td>█▅▅▂▅▄▅▃▂▂▂▃▃▂▂▃█▂▂▂▂▄▃▂▄▂▂▂▂▃▁▆▆▂▂▂▂▃▁▃</td></tr><tr><td>sigma</td><td>▇▁▂▃▂▇▁▆▄▄▄▄▅▅▃▇█▃▄▃▃▂▆▅▆▄▃▄▄▂▅▇▁▄▄▆▅▆▃▃</td></tr></table><br/></div><div class=\"wandb-col\"><h3>Run summary:</h3><br/><table class=\"wandb\"><tr><td>score</td><td>-1.8271</td></tr><tr><td>sigma</td><td>0.47556</td></tr></table><br/></div></div>"
      ],
      "text/plain": [
       "<IPython.core.display.HTML object>"
      ]
     },
     "metadata": {},
     "output_type": "display_data"
    },
    {
     "data": {
      "text/html": [
       " View run <strong style=\"color:#cdcd00\">Basic_Optuna_20240529_031728</strong> at: <a href='https://wandb.ai/wandb-healthcare/BioNeMo_Molecure_optimization/runs/4y9vkhf2' target=\"_blank\">https://wandb.ai/wandb-healthcare/BioNeMo_Molecure_optimization/runs/4y9vkhf2</a><br/> View project at: <a href='https://wandb.ai/wandb-healthcare/BioNeMo_Molecure_optimization' target=\"_blank\">https://wandb.ai/wandb-healthcare/BioNeMo_Molecure_optimization</a><br/>Synced 5 W&B file(s), 1 media file(s), 1 artifact file(s) and 1 other file(s)"
      ],
      "text/plain": [
       "<IPython.core.display.HTML object>"
      ]
     },
     "metadata": {},
     "output_type": "display_data"
    },
    {
     "data": {
      "text/html": [
       "Find logs at: <code>./wandb/run-20240529_031728-4y9vkhf2/logs</code>"
      ],
      "text/plain": [
       "<IPython.core.display.HTML object>"
      ]
     },
     "metadata": {},
     "output_type": "display_data"
    }
   ],
   "source": [
    "import wandb\n",
    "from guided_molecule_gen.optimizer import MoleculeGenerationOptimizer\n",
    "import optuna\n",
    "from datetime import datetime\n",
    "\n",
    "\n",
    "def objective(trial, n_steps:int=10):\n",
    "    sigma = trial.suggest_float('sigma', 0, 2)\n",
    "    optimizer = MoleculeGenerationOptimizer(\n",
    "        model_wrapped,\n",
    "        scoring_function,\n",
    "        canonicalized_smiles,\n",
    "        popsize=10,  # larger values will be slower but more thorough\n",
    "        optimizer_args={\"sigma\": sigma},\n",
    "    )\n",
    "\n",
    "    optimizer.optimize(n_steps)\n",
    "    final_smiles = optimizer.generated_smis\n",
    "    final_score = np.mean([np.min(scoring_function(smis_population, reference_smis)) for smis_population,reference_smis in zip(final_smiles, canonicalized_smiles)])\n",
    "    wandb.log({\"score\": final_score, \"sigma\": sigma})\n",
    "    return final_score\n",
    "\n",
    "with wandb.init(name=f\"Basic_Optuna_{datetime.now().strftime('%Y%m%d_%H%M%S')}\") as run:\n",
    "    study = optuna.create_study()\n",
    "    study.optimize(objective, n_trials=50)\n",
    "    # After the study, log the best parameters and the DataFrame\n",
    "    best_params = study.best_params\n",
    "    wandb.log({\"best_params\": best_params})\n",
    "\n",
    "    # Get a DataFrame of all trials and save it as a W&B Table\n",
    "    df = study.trials_dataframe()\n",
    "    wandb_table = wandb.Table(dataframe=df)\n",
    "    wandb.log({\"optuna_history_table\": wandb_table})"
   ]
  },
  {
   "cell_type": "markdown",
   "id": "07400851-d470-4877-8eda-2bf805a457d0",
   "metadata": {},
   "source": [
    "上記の値はHPOプロセスで得られた最適値ですが、有効な値の範囲を考慮し、よりロバストであろう最小値を選択します。HPOプロセスは確率的なため、高性能な値と低性能な値が近接して存在することがあります。オプティマイザが一般的に良好に機能するシグマ値の適切な範囲を特定したいと考えています。滑らかにした最適な選択と、最も良い名目上の選択をwandb上で比較しましょう"
   ]
  },
  {
   "cell_type": "code",
   "execution_count": 11,
   "id": "3327ed8c-65e8-49c4-809d-2461bd227e11",
   "metadata": {
    "tags": []
   },
   "outputs": [
    {
     "data": {
      "text/html": [
       "Tracking run with wandb version 0.17.0"
      ],
      "text/plain": [
       "<IPython.core.display.HTML object>"
      ]
     },
     "metadata": {},
     "output_type": "display_data"
    },
    {
     "data": {
      "text/html": [
       "Run data is saved locally in <code>/workspace/bionemo/wandb/run-20240529_033319-lx2idftc</code>"
      ],
      "text/plain": [
       "<IPython.core.display.HTML object>"
      ]
     },
     "metadata": {},
     "output_type": "display_data"
    },
    {
     "data": {
      "text/html": [
       "Syncing run <strong><a href='https://wandb.ai/wandb-healthcare/BioNeMo_Molecure_optimization/runs/lx2idftc' target=\"_blank\">HPO_visualization_20240529_033319</a></strong> to <a href='https://wandb.ai/wandb-healthcare/BioNeMo_Molecure_optimization' target=\"_blank\">Weights & Biases</a> (<a href='https://wandb.me/run' target=\"_blank\">docs</a>)<br/>"
      ],
      "text/plain": [
       "<IPython.core.display.HTML object>"
      ]
     },
     "metadata": {},
     "output_type": "display_data"
    },
    {
     "data": {
      "text/html": [
       " View project at <a href='https://wandb.ai/wandb-healthcare/BioNeMo_Molecure_optimization' target=\"_blank\">https://wandb.ai/wandb-healthcare/BioNeMo_Molecure_optimization</a>"
      ],
      "text/plain": [
       "<IPython.core.display.HTML object>"
      ]
     },
     "metadata": {},
     "output_type": "display_data"
    },
    {
     "data": {
      "text/html": [
       " View run at <a href='https://wandb.ai/wandb-healthcare/BioNeMo_Molecure_optimization/runs/lx2idftc' target=\"_blank\">https://wandb.ai/wandb-healthcare/BioNeMo_Molecure_optimization/runs/lx2idftc</a>"
      ],
      "text/plain": [
       "<IPython.core.display.HTML object>"
      ]
     },
     "metadata": {},
     "output_type": "display_data"
    },
    {
     "name": "stdout",
     "output_type": "stream",
     "text": [
      "smooth_best: {'sigma': 0.7839195979899498} simple_best_param: {'sigma': 0.48125272512915757}\n"
     ]
    },
    {
     "data": {
      "application/vnd.jupyter.widget-view+json": {
       "model_id": "",
       "version_major": 2,
       "version_minor": 0
      },
      "text/plain": [
       "VBox(children=(Label(value='0.057 MB of 0.057 MB uploaded\\r'), FloatProgress(value=1.0, max=1.0)))"
      ]
     },
     "metadata": {},
     "output_type": "display_data"
    },
    {
     "data": {
      "text/html": [
       "<style>\n",
       "    table.wandb td:nth-child(1) { padding: 0 10px; text-align: left ; width: auto;} td:nth-child(2) {text-align: left ; width: 100%}\n",
       "    .wandb-row { display: flex; flex-direction: row; flex-wrap: wrap; justify-content: flex-start; width: 100% }\n",
       "    .wandb-col { display: flex; flex-direction: column; flex-basis: 100%; flex: 1; padding: 10px; }\n",
       "    </style>\n",
       "<div class=\"wandb-row\"><div class=\"wandb-col\"><h3>Run history:</h3><br/><table class=\"wandb\"><tr><td>smoothed_best_sigma</td><td>▁</td></tr></table><br/></div><div class=\"wandb-col\"><h3>Run summary:</h3><br/><table class=\"wandb\"><tr><td>smoothed_best_sigma</td><td>0.78392</td></tr></table><br/></div></div>"
      ],
      "text/plain": [
       "<IPython.core.display.HTML object>"
      ]
     },
     "metadata": {},
     "output_type": "display_data"
    },
    {
     "data": {
      "text/html": [
       " View run <strong style=\"color:#cdcd00\">HPO_visualization_20240529_033319</strong> at: <a href='https://wandb.ai/wandb-healthcare/BioNeMo_Molecure_optimization/runs/lx2idftc' target=\"_blank\">https://wandb.ai/wandb-healthcare/BioNeMo_Molecure_optimization/runs/lx2idftc</a><br/> View project at: <a href='https://wandb.ai/wandb-healthcare/BioNeMo_Molecure_optimization' target=\"_blank\">https://wandb.ai/wandb-healthcare/BioNeMo_Molecure_optimization</a><br/>Synced 5 W&B file(s), 1 media file(s), 0 artifact file(s) and 1 other file(s)"
      ],
      "text/plain": [
       "<IPython.core.display.HTML object>"
      ]
     },
     "metadata": {},
     "output_type": "display_data"
    },
    {
     "data": {
      "text/html": [
       "Find logs at: <code>./wandb/run-20240529_033319-lx2idftc/logs</code>"
      ],
      "text/plain": [
       "<IPython.core.display.HTML object>"
      ]
     },
     "metadata": {},
     "output_type": "display_data"
    },
    {
     "data": {
      "image/png": "[encoded data removed]",
      "text/plain": [
       "<Figure size 640x480 with 1 Axes>"
      ]
     },
     "metadata": {},
     "output_type": "display_data"
    }
   ],
   "source": [
    "import wandb\n",
    "import numpy as np\n",
    "import statsmodels.api as sm\n",
    "import pandas as pd\n",
    "import matplotlib.pyplot as plt\n",
    "import optuna\n",
    "from guided_molecule_gen.optimizer import MoleculeGenerationOptimizer\n",
    "from datetime import datetime\n",
    "\n",
    "\n",
    "def lowess_with_confidence_bounds(x, y, eval_x, N=200, conf_interval=0.95, lowess_kw=None):\n",
    "    \"\"\"\n",
    "    Perform Lowess regression and determine a confidence interval by bootstrap resampling.\n",
    "    \"\"\"\n",
    "    # Lowess smoothing\n",
    "    smoothed = sm.nonparametric.lowess(exog=x, endog=y, xvals=eval_x, **lowess_kw)\n",
    "\n",
    "    # Bootstrap resampling for confidence intervals\n",
    "    smoothed_values = np.empty((N, len(eval_x)))\n",
    "    for i in range(N):\n",
    "        sample = np.random.choice(len(x), len(x), replace=True)\n",
    "        sampled_x = x[sample]\n",
    "        sampled_y = y[sample]\n",
    "        smoothed_values[i, :] = sm.nonparametric.lowess(exog=sampled_x, endog=sampled_y, xvals=eval_x, **lowess_kw)\n",
    "        \n",
    "\n",
    "    # Confidence intervals\n",
    "    sorted_values = np.sort(smoothed_values, axis=0)\n",
    "    bound = int(N * (1 - conf_interval) / 2)\n",
    "    bottom = sorted_values[bound - 1]\n",
    "    top = sorted_values[-bound]\n",
    "\n",
    "    return smoothed, bottom, top\n",
    "\n",
    "\n",
    "# Initialize a W&B run\n",
    "with wandb.init(name=f\"HPO_visualization_{datetime.now().strftime('%Y%m%d_%H%M%S')}\") as run:\n",
    "    # Generate data, fit and plot\n",
    "    completed_trials = [trial for trial in study.trials if trial.state == optuna.trial.TrialState.COMPLETE]\n",
    "    trials_data = [{\"sigma\": trial.params[\"sigma\"], \"loss\": trial.value, \"trial_id\": tid} for tid,trial in enumerate(completed_trials)]\n",
    "    data = pd.DataFrame(trials_data)\n",
    "    data = pd.DataFrame(trials_data)\n",
    "    eval_x = np.linspace(0, 2, 200)\n",
    "    smoothed, bottom, top = lowess_with_confidence_bounds(data.sigma, data.loss, eval_x, lowess_kw={\"frac\": 0.33})\n",
    "\n",
    "    # Create plot\n",
    "\n",
    "    fig, ax = plt.subplots()\n",
    "    ax.scatter(data[\"sigma\"], data[\"loss\"], label=\"Observed Points\")\n",
    "    ax.plot(eval_x, smoothed, 'k', label=\"LOWESS Smoothed\")\n",
    "    ax.fill_between(eval_x, bottom, top, color='blue', alpha=0.5, label=\"95% Confidence Interval\")\n",
    "    ax.legend()\n",
    "    ax.set_title(\"Loss vs Sigma with LOWESS Fit\")\n",
    "    \n",
    "    # Log the plot to W&B\n",
    "    run.log({\"LOWESS Plot\": wandb.Image(fig)})\n",
    "\n",
    "    # Additional data to log\n",
    "    smoothed_best_sigma = eval_x[np.argmin(smoothed)]  # Use the smoothed minimum\n",
    "    run.log({\"best_params\": study.best_params, \"smoothed_best_sigma\": smoothed_best_sigma})\n",
    "    smooth_best = {\"sigma\": smoothed_best_sigma}\n",
    "    print(\"smooth_best:\", smooth_best, \"simple_best_param:\",study.best_params)"
   ]
  },
  {
   "cell_type": "markdown",
   "id": "e4b75b92-bca1-4c1f-9484-cce2ef63f22b",
   "metadata": {},
   "source": [
    "## CMA-ES最適化\n",
    "### 発見されたパラメータを用いて、より大規模なCMA-ES最適化を実行する\n",
    "HPOで見つかったシグマの値が効果的であることが確認できたため、分子集団のサイズとステップ数を増やし、最後により大規模な最適化を実行します。\n",
    "\n",
    "### 結果の探索\n",
    "最適化のパフォーマンスを評価するために、生成された無効なサンプルの数を定量化することができます。「無効」とは、化学的に有効な分子を表さないSMILES文字列を指します。\n",
    "実行後、ターゲット（QEDおよびタニモト類似度）の成分が各イテレーションでどのように変化したかを示すグラフを作成します。ターゲットの定義により、タニモト類似度が0.4以上の値が最適とされるため、その値の周囲にノイズが発生することが予想されます。同様に、QEDにおいても0.9以上の値が最適とされるため、その閾値を超える分子がある場合にはその値の周囲にノイズが発生することが予想されます。\n",
    "WandBで結果を確認しましょう。\n",
    "\n",
    "### 最適化のパフォーマンスはどれほど良かったのか？\n",
    "最適化のパフォーマンスを評価するために、生成された無効なサンプルの数を定量化することができます。「無効」とは、化学的に有効な分子を表さないSMILES文字列を指します。\n",
    "\n",
    "-> wandb内の`num_of_bad_samples`を確認しましょう\n",
    "\n",
    "最終的に、ベースライン値に対するQEDの改善度と、望ましいタニモト類似度の閾値0.4以上を維持した最適化された分子の割合を定量化することができます。\n",
    "\n",
    "-> wandb内の`mean_qed_improvement`、`tanimoto_above_04`を確認しましょう。"
   ]
  },
  {
   "cell_type": "code",
   "execution_count": 12,
   "id": "6c21eccc-198e-4e53-977b-df0ec5eb66ca",
   "metadata": {
    "tags": []
   },
   "outputs": [
    {
     "data": {
      "text/html": [
       "Tracking run with wandb version 0.17.0"
      ],
      "text/plain": [
       "<IPython.core.display.HTML object>"
      ]
     },
     "metadata": {},
     "output_type": "display_data"
    },
    {
     "data": {
      "text/html": [
       "Run data is saved locally in <code>/workspace/bionemo/wandb/run-20240529_033326-6net2wje</code>"
      ],
      "text/plain": [
       "<IPython.core.display.HTML object>"
      ]
     },
     "metadata": {},
     "output_type": "display_data"
    },
    {
     "data": {
      "text/html": [
       "Syncing run <strong><a href='https://wandb.ai/wandb-healthcare/BioNeMo_Molecure_optimization/runs/6net2wje' target=\"_blank\">CMS_EA_Optimization_20240529_033326</a></strong> to <a href='https://wandb.ai/wandb-healthcare/BioNeMo_Molecure_optimization' target=\"_blank\">Weights & Biases</a> (<a href='https://wandb.me/run' target=\"_blank\">docs</a>)<br/>"
      ],
      "text/plain": [
       "<IPython.core.display.HTML object>"
      ]
     },
     "metadata": {},
     "output_type": "display_data"
    },
    {
     "data": {
      "text/html": [
       " View project at <a href='https://wandb.ai/wandb-healthcare/BioNeMo_Molecure_optimization' target=\"_blank\">https://wandb.ai/wandb-healthcare/BioNeMo_Molecure_optimization</a>"
      ],
      "text/plain": [
       "<IPython.core.display.HTML object>"
      ]
     },
     "metadata": {},
     "output_type": "display_data"
    },
    {
     "data": {
      "text/html": [
       " View run at <a href='https://wandb.ai/wandb-healthcare/BioNeMo_Molecure_optimization/runs/6net2wje' target=\"_blank\">https://wandb.ai/wandb-healthcare/BioNeMo_Molecure_optimization/runs/6net2wje</a>"
      ],
      "text/plain": [
       "<IPython.core.display.HTML object>"
      ]
     },
     "metadata": {},
     "output_type": "display_data"
    },
    {
     "name": "stdout",
     "output_type": "stream",
     "text": [
      "(25_w,50)-aCMA-ES (mu_w=14.0,w_1=14%) in dimension 512 (seed=1023655, Wed May 29 03:33:28 2024)\n",
      "(25_w,50)-aCMA-ES (mu_w=14.0,w_1=14%) in dimension 512 (seed=1005616, Wed May 29 03:33:28 2024)\n",
      "(25_w,50)-aCMA-ES (mu_w=14.0,w_1=14%) in dimension 512 (seed=1050686, Wed May 29 03:33:28 2024)\n"
     ]
    },
    {
     "name": "stderr",
     "output_type": "stream",
     "text": [
      "  0%|                                                                                             | 0/30 [00:00<?, ?it/s]"
     ]
    },
    {
     "name": "stdout",
     "output_type": "stream",
     "text": [
      "[NeMo I 2024-05-29 03:33:28 megatron_lm_encoder_decoder_model:1192] Decoding using the beam search method with beam size=3...\n"
     ]
    },
    {
     "name": "stderr",
     "output_type": "stream",
     "text": [
      "  3%|██▊                                                                                  | 1/30 [00:04<02:14,  4.64s/it]"
     ]
    },
    {
     "name": "stdout",
     "output_type": "stream",
     "text": [
      "[NeMo I 2024-05-29 03:33:32 megatron_lm_encoder_decoder_model:1192] Decoding using the beam search method with beam size=3...\n"
     ]
    },
    {
     "name": "stderr",
     "output_type": "stream",
     "text": [
      "  7%|█████▋                                                                               | 2/30 [00:09<02:08,  4.60s/it]"
     ]
    },
    {
     "name": "stdout",
     "output_type": "stream",
     "text": [
      "[NeMo I 2024-05-29 03:33:37 megatron_lm_encoder_decoder_model:1192] Decoding using the beam search method with beam size=3...\n"
     ]
    },
    {
     "name": "stderr",
     "output_type": "stream",
     "text": [
      " 10%|████████▌                                                                            | 3/30 [00:14<02:06,  4.69s/it]"
     ]
    },
    {
     "name": "stdout",
     "output_type": "stream",
     "text": [
      "[NeMo I 2024-05-29 03:33:42 megatron_lm_encoder_decoder_model:1192] Decoding using the beam search method with beam size=3...\n"
     ]
    },
    {
     "name": "stderr",
     "output_type": "stream",
     "text": [
      " 13%|███████████▎                                                                         | 4/30 [00:18<02:01,  4.66s/it]"
     ]
    },
    {
     "name": "stdout",
     "output_type": "stream",
     "text": [
      "[NeMo I 2024-05-29 03:33:47 megatron_lm_encoder_decoder_model:1192] Decoding using the beam search method with beam size=3...\n"
     ]
    },
    {
     "name": "stderr",
     "output_type": "stream",
     "text": [
      " 17%|██████████████▏                                                                      | 5/30 [00:23<01:57,  4.70s/it]"
     ]
    },
    {
     "name": "stdout",
     "output_type": "stream",
     "text": [
      "[NeMo I 2024-05-29 03:33:51 megatron_lm_encoder_decoder_model:1192] Decoding using the beam search method with beam size=3...\n"
     ]
    },
    {
     "name": "stderr",
     "output_type": "stream",
     "text": [
      " 20%|█████████████████                                                                    | 6/30 [00:27<01:51,  4.66s/it]"
     ]
    },
    {
     "name": "stdout",
     "output_type": "stream",
     "text": [
      "[NeMo I 2024-05-29 03:33:56 megatron_lm_encoder_decoder_model:1192] Decoding using the beam search method with beam size=3...\n"
     ]
    },
    {
     "name": "stderr",
     "output_type": "stream",
     "text": [
      " 23%|███████████████████▊                                                                 | 7/30 [00:32<01:47,  4.69s/it]"
     ]
    },
    {
     "name": "stdout",
     "output_type": "stream",
     "text": [
      "[NeMo I 2024-05-29 03:34:01 megatron_lm_encoder_decoder_model:1192] Decoding using the beam search method with beam size=3...\n"
     ]
    },
    {
     "name": "stderr",
     "output_type": "stream",
     "text": [
      " 27%|██████████████████████▋                                                              | 8/30 [00:37<01:42,  4.65s/it]"
     ]
    },
    {
     "name": "stdout",
     "output_type": "stream",
     "text": [
      "[NeMo I 2024-05-29 03:34:05 megatron_lm_encoder_decoder_model:1192] Decoding using the beam search method with beam size=3...\n"
     ]
    },
    {
     "name": "stderr",
     "output_type": "stream",
     "text": [
      " 30%|█████████████████████████▌                                                           | 9/30 [00:42<01:38,  4.67s/it]"
     ]
    },
    {
     "name": "stdout",
     "output_type": "stream",
     "text": [
      "[NeMo I 2024-05-29 03:34:10 megatron_lm_encoder_decoder_model:1192] Decoding using the beam search method with beam size=3...\n"
     ]
    },
    {
     "name": "stderr",
     "output_type": "stream",
     "text": [
      " 33%|████████████████████████████                                                        | 10/30 [00:46<01:32,  4.64s/it]"
     ]
    },
    {
     "name": "stdout",
     "output_type": "stream",
     "text": [
      "[NeMo I 2024-05-29 03:34:15 megatron_lm_encoder_decoder_model:1192] Decoding using the beam search method with beam size=3...\n"
     ]
    },
    {
     "name": "stderr",
     "output_type": "stream",
     "text": [
      " 37%|██████████████████████████████▊                                                     | 11/30 [00:51<01:28,  4.68s/it]"
     ]
    },
    {
     "name": "stdout",
     "output_type": "stream",
     "text": [
      "[NeMo I 2024-05-29 03:34:19 megatron_lm_encoder_decoder_model:1192] Decoding using the beam search method with beam size=3...\n"
     ]
    },
    {
     "name": "stderr",
     "output_type": "stream",
     "text": [
      " 40%|█████████████████████████████████▌                                                  | 12/30 [00:55<01:23,  4.65s/it]"
     ]
    },
    {
     "name": "stdout",
     "output_type": "stream",
     "text": [
      "[NeMo I 2024-05-29 03:34:24 megatron_lm_encoder_decoder_model:1192] Decoding using the beam search method with beam size=3...\n"
     ]
    },
    {
     "name": "stderr",
     "output_type": "stream",
     "text": [
      " 43%|████████████████████████████████████▍                                               | 13/30 [01:00<01:19,  4.68s/it]"
     ]
    },
    {
     "name": "stdout",
     "output_type": "stream",
     "text": [
      "[NeMo I 2024-05-29 03:34:28 megatron_lm_encoder_decoder_model:1192] Decoding using the beam search method with beam size=3...\n"
     ]
    },
    {
     "name": "stderr",
     "output_type": "stream",
     "text": [
      " 47%|███████████████████████████████████████▏                                            | 14/30 [01:05<01:14,  4.65s/it]"
     ]
    },
    {
     "name": "stdout",
     "output_type": "stream",
     "text": [
      "[NeMo I 2024-05-29 03:34:33 megatron_lm_encoder_decoder_model:1192] Decoding using the beam search method with beam size=3...\n"
     ]
    },
    {
     "name": "stderr",
     "output_type": "stream",
     "text": [
      " 50%|██████████████████████████████████████████                                          | 15/30 [01:10<01:10,  4.71s/it]"
     ]
    },
    {
     "name": "stdout",
     "output_type": "stream",
     "text": [
      "[NeMo I 2024-05-29 03:34:38 megatron_lm_encoder_decoder_model:1192] Decoding using the beam search method with beam size=3...\n"
     ]
    },
    {
     "name": "stderr",
     "output_type": "stream",
     "text": [
      " 53%|████████████████████████████████████████████▊                                       | 16/30 [01:14<01:05,  4.66s/it]"
     ]
    },
    {
     "name": "stdout",
     "output_type": "stream",
     "text": [
      "[NeMo I 2024-05-29 03:34:43 megatron_lm_encoder_decoder_model:1192] Decoding using the beam search method with beam size=3...\n"
     ]
    },
    {
     "name": "stderr",
     "output_type": "stream",
     "text": [
      " 57%|███████████████████████████████████████████████▌                                    | 17/30 [01:19<01:00,  4.69s/it]"
     ]
    },
    {
     "name": "stdout",
     "output_type": "stream",
     "text": [
      "[NeMo I 2024-05-29 03:34:47 megatron_lm_encoder_decoder_model:1192] Decoding using the beam search method with beam size=3...\n"
     ]
    },
    {
     "name": "stderr",
     "output_type": "stream",
     "text": [
      " 60%|██████████████████████████████████████████████████▍                                 | 18/30 [01:23<00:55,  4.65s/it]"
     ]
    },
    {
     "name": "stdout",
     "output_type": "stream",
     "text": [
      "[NeMo I 2024-05-29 03:34:52 megatron_lm_encoder_decoder_model:1192] Decoding using the beam search method with beam size=3...\n"
     ]
    },
    {
     "name": "stderr",
     "output_type": "stream",
     "text": [
      " 63%|█████████████████████████████████████████████████████▏                              | 19/30 [01:28<00:51,  4.67s/it]"
     ]
    },
    {
     "name": "stdout",
     "output_type": "stream",
     "text": [
      "[NeMo I 2024-05-29 03:34:56 megatron_lm_encoder_decoder_model:1192] Decoding using the beam search method with beam size=3...\n"
     ]
    },
    {
     "name": "stderr",
     "output_type": "stream",
     "text": [
      " 67%|████████████████████████████████████████████████████████                            | 20/30 [01:33<00:46,  4.65s/it]"
     ]
    },
    {
     "name": "stdout",
     "output_type": "stream",
     "text": [
      "[NeMo I 2024-05-29 03:35:01 megatron_lm_encoder_decoder_model:1192] Decoding using the beam search method with beam size=3...\n"
     ]
    },
    {
     "name": "stderr",
     "output_type": "stream",
     "text": [
      " 70%|██████████████████████████████████████████████████████████▊                         | 21/30 [01:38<00:42,  4.68s/it]"
     ]
    },
    {
     "name": "stdout",
     "output_type": "stream",
     "text": [
      "[NeMo I 2024-05-29 03:35:06 megatron_lm_encoder_decoder_model:1192] Decoding using the beam search method with beam size=3...\n"
     ]
    },
    {
     "name": "stderr",
     "output_type": "stream",
     "text": [
      " 73%|█████████████████████████████████████████████████████████████▌                      | 22/30 [01:42<00:37,  4.64s/it]"
     ]
    },
    {
     "name": "stdout",
     "output_type": "stream",
     "text": [
      "[NeMo I 2024-05-29 03:35:11 megatron_lm_encoder_decoder_model:1192] Decoding using the beam search method with beam size=3...\n"
     ]
    },
    {
     "name": "stderr",
     "output_type": "stream",
     "text": [
      " 77%|████████████████████████████████████████████████████████████████▍                   | 23/30 [01:47<00:32,  4.67s/it]"
     ]
    },
    {
     "name": "stdout",
     "output_type": "stream",
     "text": [
      "[NeMo I 2024-05-29 03:35:15 megatron_lm_encoder_decoder_model:1192] Decoding using the beam search method with beam size=3...\n"
     ]
    },
    {
     "name": "stderr",
     "output_type": "stream",
     "text": [
      " 80%|███████████████████████████████████████████████████████████████████▏                | 24/30 [01:51<00:27,  4.63s/it]"
     ]
    },
    {
     "name": "stdout",
     "output_type": "stream",
     "text": [
      "[NeMo I 2024-05-29 03:35:20 megatron_lm_encoder_decoder_model:1192] Decoding using the beam search method with beam size=3...\n"
     ]
    },
    {
     "name": "stderr",
     "output_type": "stream",
     "text": [
      " 83%|██████████████████████████████████████████████████████████████████████              | 25/30 [01:56<00:23,  4.68s/it]"
     ]
    },
    {
     "name": "stdout",
     "output_type": "stream",
     "text": [
      "[NeMo I 2024-05-29 03:35:24 megatron_lm_encoder_decoder_model:1192] Decoding using the beam search method with beam size=3...\n"
     ]
    },
    {
     "name": "stderr",
     "output_type": "stream",
     "text": [
      " 87%|████████████████████████████████████████████████████████████████████████▊           | 26/30 [02:01<00:18,  4.64s/it]"
     ]
    },
    {
     "name": "stdout",
     "output_type": "stream",
     "text": [
      "[NeMo I 2024-05-29 03:35:29 megatron_lm_encoder_decoder_model:1192] Decoding using the beam search method with beam size=3...\n"
     ]
    },
    {
     "name": "stderr",
     "output_type": "stream",
     "text": [
      " 90%|███████████████████████████████████████████████████████████████████████████▌        | 27/30 [02:05<00:14,  4.68s/it]"
     ]
    },
    {
     "name": "stdout",
     "output_type": "stream",
     "text": [
      "[NeMo I 2024-05-29 03:35:34 megatron_lm_encoder_decoder_model:1192] Decoding using the beam search method with beam size=3...\n"
     ]
    },
    {
     "name": "stderr",
     "output_type": "stream",
     "text": [
      " 93%|██████████████████████████████████████████████████████████████████████████████▍     | 28/30 [02:10<00:09,  4.64s/it]"
     ]
    },
    {
     "name": "stdout",
     "output_type": "stream",
     "text": [
      "[NeMo I 2024-05-29 03:35:39 megatron_lm_encoder_decoder_model:1192] Decoding using the beam search method with beam size=3...\n"
     ]
    },
    {
     "name": "stderr",
     "output_type": "stream",
     "text": [
      " 97%|█████████████████████████████████████████████████████████████████████████████████▏  | 29/30 [02:15<00:04,  4.68s/it]"
     ]
    },
    {
     "name": "stdout",
     "output_type": "stream",
     "text": [
      "[NeMo I 2024-05-29 03:35:43 megatron_lm_encoder_decoder_model:1192] Decoding using the beam search method with beam size=3...\n"
     ]
    },
    {
     "name": "stderr",
     "output_type": "stream",
     "text": [
      "100%|████████████████████████████████████████████████████████████████████████████████████| 30/30 [02:19<00:00,  4.66s/it]\n"
     ]
    },
    {
     "name": "stdout",
     "output_type": "stream",
     "text": [
      "num_of_bad_samples: 0.0030107526881720434 mean_qed_improvement: 0.4224499582828221 tanimoto_above_04: 0.6666666666666666\n"
     ]
    },
    {
     "data": {
      "application/vnd.jupyter.widget-view+json": {
       "model_id": "d36f96d3c49943f295193352b7e03df9",
       "version_major": 2,
       "version_minor": 0
      },
      "text/plain": [
       "VBox(children=(Label(value='0.418 MB of 0.428 MB uploaded\\r'), FloatProgress(value=0.9769299518361761, max=1.0…"
      ]
     },
     "metadata": {},
     "output_type": "display_data"
    },
    {
     "data": {
      "text/html": [
       "<style>\n",
       "    table.wandb td:nth-child(1) { padding: 0 10px; text-align: left ; width: auto;} td:nth-child(2) {text-align: left ; width: 100%}\n",
       "    .wandb-row { display: flex; flex-direction: row; flex-wrap: wrap; justify-content: flex-start; width: 100% }\n",
       "    .wandb-col { display: flex; flex-direction: column; flex-basis: 100%; flex: 1; padding: 10px; }\n",
       "    </style>\n",
       "<div class=\"wandb-row\"><div class=\"wandb-col\"><h3>Run history:</h3><br/><table class=\"wandb\"><tr><td>mean_qed_improvement</td><td>▁</td></tr><tr><td>num_of_bad_samples</td><td>▁</td></tr><tr><td>tanimoto_above_04</td><td>▁</td></tr></table><br/></div><div class=\"wandb-col\"><h3>Run summary:</h3><br/><table class=\"wandb\"><tr><td>mean_qed_improvement</td><td>0.42245</td></tr><tr><td>num_of_bad_samples</td><td>0.00301</td></tr><tr><td>tanimoto_above_04</td><td>0.66667</td></tr></table><br/></div></div>"
      ],
      "text/plain": [
       "<IPython.core.display.HTML object>"
      ]
     },
     "metadata": {},
     "output_type": "display_data"
    },
    {
     "data": {
      "text/html": [
       " View run <strong style=\"color:#cdcd00\">CMS_EA_Optimization_20240529_033326</strong> at: <a href='https://wandb.ai/wandb-healthcare/BioNeMo_Molecure_optimization/runs/6net2wje' target=\"_blank\">https://wandb.ai/wandb-healthcare/BioNeMo_Molecure_optimization/runs/6net2wje</a><br/> View project at: <a href='https://wandb.ai/wandb-healthcare/BioNeMo_Molecure_optimization' target=\"_blank\">https://wandb.ai/wandb-healthcare/BioNeMo_Molecure_optimization</a><br/>Synced 5 W&B file(s), 2 media file(s), 91 artifact file(s) and 1 other file(s)"
      ],
      "text/plain": [
       "<IPython.core.display.HTML object>"
      ]
     },
     "metadata": {},
     "output_type": "display_data"
    },
    {
     "data": {
      "text/html": [
       "Find logs at: <code>./wandb/run-20240529_033326-6net2wje/logs</code>"
      ],
      "text/plain": [
       "<IPython.core.display.HTML object>"
      ]
     },
     "metadata": {},
     "output_type": "display_data"
    },
    {
     "data": {
      "image/png": "[encoded data removed]",
      "text/plain": [
       "<Figure size 640x480 with 1 Axes>"
      ]
     },
     "metadata": {},
     "output_type": "display_data"
    }
   ],
   "source": [
    "import wandb\n",
    "import numpy as np\n",
    "import statsmodels.api as sm\n",
    "import pandas as pd\n",
    "import matplotlib.pyplot as plt\n",
    "import optuna\n",
    "from guided_molecule_gen.optimizer import MoleculeGenerationOptimizer\n",
    "from tqdm import trange\n",
    "from datetime import datetime\n",
    "\n",
    "# Initialize a W&B run\n",
    "with wandb.init(name=f\"CMS_EA_Optimization_{datetime.now().strftime('%Y%m%d_%H%M%S')}\") as run:\n",
    "    # Assuming model_wrapped and scoring_function are defined elsewhere\n",
    "    optimizer = MoleculeGenerationOptimizer(\n",
    "        model_wrapped,\n",
    "        scoring_function,\n",
    "        canonicalized_smiles,\n",
    "        popsize=50,  # larger values will be slower but more thorough\n",
    "        optimizer_args=smooth_best,  # Vals from HPO\n",
    "    )\n",
    "    \n",
    "    columns = [\"iteration\", \"idx\",\"molecure\", \"smiles\", \"structure\", \"qud_score\", \"tanimoto_score\"]\n",
    "    optimization_results = wandb.Table(columns=columns)\n",
    "\n",
    "    # Starting state for idx 0\n",
    "    qed_scores = [qed(canonicalized_smiles)]\n",
    "    tanimoto_scores = [[tanimoto_similarity([canonicalized_smiles[idx]], canonicalized_smiles[idx])[0] for idx in range(len(canonicalized_smiles))]]\n",
    "    best_molecules = [canonicalized_smiles]\n",
    "    fraction_bad_samples = [[0] * len(canonicalized_smiles)]\n",
    "\n",
    "    for i in trange(30):\n",
    "        optimizer.step()\n",
    "        final_smiles = optimizer.generated_smis\n",
    "        # Population of molecules is returned, but we only want the best one.\n",
    "        _qed_scores = []\n",
    "        _tanimoto_scores = []\n",
    "        _best_molecules = []\n",
    "        _fraction_bad = []\n",
    "        ca_id = 0\n",
    "        for smis_population, reference_smis in zip(final_smiles, canonicalized_smiles):\n",
    "            idx = np.argmin(scoring_function(smis_population, reference_smis))\n",
    "            _fraction_bad.append(np.mean(qed(smis_population) == 0))\n",
    "            _best_molecules.append(smis_population[idx])\n",
    "            _qed_scores.append(qed([smis_population[idx]])[0])\n",
    "            _tanimoto_scores.append(tanimoto_similarity([smis_population[idx]], reference_smis)[0])\n",
    "            \n",
    "            \n",
    "            mol = Chem.MolFromSmiles(smis_population[idx])\n",
    "            wandb_molecule = wandb.Molecule.from_rdkit(mol)\n",
    "            \n",
    "            optimization_results.add_data(i, idx,[\"imatinib\", \"erlotinib\", \"gifitinib\"][ca_id], smis_population[idx], wandb_molecule, qed([smis_population[idx]])[0], tanimoto_similarity([smis_population[idx]], reference_smis)[0])\n",
    "            ca_id=+1\n",
    "\n",
    "        qed_scores.append(_qed_scores)\n",
    "        tanimoto_scores.append(_tanimoto_scores)\n",
    "        best_molecules.append(_best_molecules)\n",
    "        fraction_bad_samples.append(_fraction_bad)\n",
    "\n",
    "    run.log({\"optimization_results\":optimization_results})\n",
    "\n",
    "    # Plotting results\n",
    "    fig, ax = plt.subplots()\n",
    "    for i, molecule in enumerate([\"imatinib\", \"erlotinib\", \"gifitinib\"]):\n",
    "        line, = plt.plot(np.arange(len(qed_scores)), [q[i] for q in qed_scores], label=f\"{molecule} QED\")\n",
    "        color = line.get_color()\n",
    "        plt.plot(np.arange(len(tanimoto_scores)), [t[i] for t in tanimoto_scores], label=f\"{molecule} Tanimoto\", linestyle=\"--\", color=color)\n",
    "    plt.axhline(y=0.9, color='r', linestyle='-', label=\"QED target\")\n",
    "    plt.axhline(y=0.4, color='r', linestyle='--', label=\"Tanimoto target\")\n",
    "    plt.legend(loc='center left', bbox_to_anchor=(1, 0.5))\n",
    "    plt.xlabel(\"Iteration\")\n",
    "    plt.ylabel(\"QED or Tanimoto similarity\")\n",
    "    plt.title(\"Targets over time for MolMIM model\")\n",
    "    plt.tight_layout()\n",
    "\n",
    "    # Log the plot to W&B\n",
    "    run.log({\"LOWESS Plot\": wandb.Image(fig)})\n",
    "\n",
    "    # Additional calculations and logs\n",
    "    qed_improvements = []\n",
    "    tanimoto_above_04 = []\n",
    "    for i in range(len(starting_qed)):\n",
    "        tanimoto_above_04.append(tanimoto_scores[-1][i] >= 0.4)\n",
    "        qed_improvements.append(qed_scores[-1][i] - starting_qed[i])\n",
    "    \n",
    "    metrics = {\n",
    "        \"num_of_bad_samples\": np.mean(fraction_bad_samples),\n",
    "        \"mean_qed_improvement\": np.mean(qed_improvements),\n",
    "        \"tanimoto_above_04\": np.mean(tanimoto_above_04),\n",
    "    }\n",
    "    \n",
    "    run.log(metrics)\n",
    "    \n",
    "    # Print metrics\n",
    "    print(\"num_of_bad_samples:\", np.mean(fraction_bad_samples),\"mean_qed_improvement:\", metrics[\"mean_qed_improvement\"], \"tanimoto_above_04:\", metrics[\"tanimoto_above_04\"])\n"
   ]
  },
  {
   "cell_type": "code",
   "execution_count": null,
   "id": "b34751fe-8d70-4044-a4e8-ee0b81d0a501",
   "metadata": {},
   "outputs": [],
   "source": []
  }
 ],
 "metadata": {
  "kernelspec": {
   "display_name": "Python 3 (ipykernel)",
   "language": "python",
   "name": "python3"
  },
  "language_info": {
   "codemirror_mode": {
    "name": "ipython",
    "version": 3
   },
   "file_extension": ".py",
   "mimetype": "text/x-python",
   "name": "python",
   "nbconvert_exporter": "python",
   "pygments_lexer": "ipython3",
   "version": "3.10.12"
  },
  "vscode": {
   "interpreter": {
    "hash": "767d51c1340bd893661ea55ea3124f6de3c7a262a8b4abca0554b478b1e2ff90"
   }
  }
 },
 "nbformat": 4,
 "nbformat_minor": 5
}
